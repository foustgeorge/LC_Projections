{
 "cells": [
  {
   "cell_type": "code",
   "outputs": [
    {
     "name": "stderr",
     "output_type": "stream",
     "text": [
      "[2024-06-21 11:30:05,972][INFO]: Connecting root@130.223.197.5:3305\n",
      "[2024-06-21 11:30:06,031][INFO]: Connected root@130.223.197.5:3305\n"
     ]
    }
   ],
   "source": [
    "import datajoint as dj\n",
    "\n",
    "import numpy as np\n",
    "dj.config[\"enable_python_native_blobs\"] = True\n",
    "dj.config['database.host'] = '130.223.197.5:3305' \n",
    "dj.config['database.user'] = 'root'\n",
    "dj.config['database.password'] = 'dbD9pzum@RifRaf'\n",
    "ConnMessage=dj.conn()\n",
    "\n",
    "import matplotlib.pyplot as plt\n",
    "from scipy import stats\n",
    "from Schema import lcProj\n",
    "from Schema.mouse_inject_lc_proj import inject_mice_csv_batch, inject_sessions\n",
    "from Schema.baseline import baseline\n",
    "all_schemas=dj.list_schemas()\n",
    "\n",
    "import pandas as pd\n",
    "import os"
   ],
   "metadata": {
    "collapsed": false,
    "ExecuteTime": {
     "end_time": "2024-06-21T09:30:07.593098Z",
     "start_time": "2024-06-21T09:30:03.096329Z"
    }
   },
   "id": "328c38aa-2ddd-413f-b490-655b270dbeb2",
   "execution_count": 1
  },
  {
   "cell_type": "code",
   "outputs": [
    {
     "name": "stdout",
     "output_type": "stream",
     "text": [
      "Computing mouse: AMYG01 for session: 2023-11-30\n",
      "Loading traces---\n",
      "Computing mouse: AMYG01 for session: 2023-12-11\n",
      "Loading traces---\n"
     ]
    }
   ],
   "source": [
    "lcProj.HR.populate()"
   ],
   "metadata": {
    "collapsed": false,
    "is_executing": true,
    "ExecuteTime": {
     "start_time": "2024-06-21T09:30:44.248528Z"
    }
   },
   "id": "2a932e8033271bdb",
   "execution_count": null
  },
  {
   "cell_type": "code",
   "outputs": [
    {
     "name": "stdout",
     "output_type": "stream",
     "text": [
      "Computing mouse: AMYG01 for session: 2023-11-30\n",
      "Baseline Calculation started!\n",
      "Baseline Calculated!\n",
      "Computing mouse: AMYG01 for session: 2023-12-11\n",
      "Baseline Calculation started!\n",
      "Baseline Calculated!\n",
      "Computing mouse: AMYG02 for session: 2024-01-16\n",
      "Baseline Calculation started!\n",
      "Baseline Calculated!\n",
      "Computing mouse: AMYG02 for session: 2024-01-18\n",
      "Baseline Calculation started!\n",
      "Baseline Calculated!\n",
      "Computing mouse: AMYG02 for session: 2024-02-06\n",
      "Baseline Calculation started!\n",
      "Baseline Calculated!\n",
      "Computing mouse: AMYG02 for session: 2024-02-14\n",
      "Baseline Calculation started!\n",
      "Baseline Calculated!\n",
      "Computing mouse: AMYG03 for session: 2024-05-06\n",
      "Baseline Calculation started!\n",
      "Baseline Calculated!\n",
      "Computing mouse: AMYG03 for session: 2024-05-08\n",
      "Baseline Calculation started!\n",
      "Baseline Calculated!\n",
      "Computing mouse: MHIP03 for session: 2023-08-21\n",
      "Baseline Calculation started!\n",
      "Baseline Calculated!\n",
      "Computing mouse: MHIP03 for session: 2023-08-23\n",
      "Baseline Calculation started!\n",
      "Baseline Calculated!\n",
      "Computing mouse: MHIP05 for session: 2024-01-16\n",
      "Baseline Calculation started!\n",
      "Baseline Calculated!\n",
      "Computing mouse: MHIP05 for session: 2024-01-18\n",
      "Baseline Calculation started!\n",
      "Baseline Calculated!\n",
      "Computing mouse: MHIP05 for session: 2024-02-06\n",
      "Baseline Calculation started!\n",
      "Baseline Calculated!\n",
      "Computing mouse: MHIP05 for session: 2024-02-08\n",
      "Baseline Calculation started!\n",
      "Baseline Calculated!\n",
      "Computing mouse: MHIP05 for session: 2024-02-14\n",
      "Baseline Calculation started!\n",
      "Baseline Calculated!\n",
      "Computing mouse: MHIP06 for session: 2024-04-17\n",
      "Baseline Calculation started!\n",
      "Baseline Calculated!\n",
      "Computing mouse: MHIP06 for session: 2024-04-19\n",
      "Baseline Calculation started!\n",
      "Baseline Calculated!\n",
      "Computing mouse: MPC05 for session: 2023-08-07\n",
      "Baseline Calculation started!\n",
      "Baseline Calculated!\n",
      "Computing mouse: MPC05 for session: 2023-08-16\n",
      "Baseline Calculation started!\n",
      "Baseline Calculated!\n",
      "Computing mouse: MPC06 for session: 2023-11-30\n",
      "Baseline Calculation started!\n",
      "Baseline Calculated!\n",
      "Computing mouse: MPC06 for session: 2023-12-04\n",
      "Baseline Calculation started!\n",
      "Baseline Calculated!\n",
      "Computing mouse: MPC09 for session: 2024-05-29\n",
      "Baseline Calculation started!\n",
      "Baseline Calculated!\n",
      "Computing mouse: MPC09 for session: 2024-06-07\n",
      "Baseline Calculation started!\n",
      "Baseline Calculated!\n",
      "Computing mouse: MPC10 for session: 2024-05-29\n",
      "Baseline Calculation started!\n",
      "Baseline Calculated!\n",
      "Computing mouse: THAL01 for session: 2023-08-11\n",
      "Baseline Calculation started!\n",
      "Baseline Calculated!\n",
      "Computing mouse: THAL01 for session: 2023-08-18\n",
      "Baseline Calculation started!\n",
      "Baseline Calculated!\n",
      "Computing mouse: THAL02 for session: 2023-11-30\n",
      "Baseline Calculation started!\n",
      "Baseline Calculated!\n",
      "Computing mouse: THAL02 for session: 2023-12-04\n",
      "Baseline Calculation started!\n",
      "Baseline Calculated!\n",
      "Computing mouse: THAL04 for session: 2024-02-06\n",
      "Baseline Calculation started!\n",
      "Baseline Calculated!\n",
      "Computing mouse: THAL04 for session: 2024-02-14\n",
      "Baseline Calculation started!\n",
      "Baseline Calculated!\n",
      "Computing mouse: THAL06 for session: 2024-04-15\n",
      "Baseline Calculation started!\n",
      "Baseline Calculated!\n",
      "Computing mouse: THAL06 for session: 2024-04-19\n",
      "Baseline Calculation started!\n",
      "Baseline Calculated!\n"
     ]
    }
   ],
   "source": [
    "lcProj.LCPeaks.populate()\n"
   ],
   "metadata": {
    "collapsed": false,
    "ExecuteTime": {
     "end_time": "2024-06-20T17:23:26.711678Z",
     "start_time": "2024-06-20T14:12:05.993983Z"
    }
   },
   "id": "4530bfc2f457f7ea",
   "execution_count": 2
  },
  {
   "cell_type": "code",
   "outputs": [
    {
     "name": "stdout",
     "output_type": "stream",
     "text": [
      "Computing mouse: AMYG01 for session: 2023-11-30\n",
      "Loading traces---\n",
      "Computing delta---\n",
      "Computing sigma---\n",
      "Computing gamma---\n",
      "Computing mouse: AMYG01 for session: 2023-12-11\n",
      "Loading traces---\n",
      "Computing delta---\n",
      "Computing sigma---\n",
      "Computing gamma---\n",
      "Computing mouse: AMYG02 for session: 2024-01-16\n",
      "Loading traces---\n",
      "Computing delta---\n",
      "Computing sigma---\n",
      "Computing gamma---\n",
      "Computing mouse: AMYG02 for session: 2024-01-18\n",
      "Loading traces---\n",
      "Computing delta---\n",
      "Computing sigma---\n",
      "Computing gamma---\n",
      "Computing mouse: AMYG02 for session: 2024-02-06\n",
      "Loading traces---\n",
      "Computing delta---\n",
      "Computing sigma---\n",
      "Computing gamma---\n",
      "Computing mouse: AMYG02 for session: 2024-02-14\n",
      "Loading traces---\n",
      "Computing delta---\n",
      "Computing sigma---\n",
      "Computing gamma---\n",
      "Computing mouse: AMYG03 for session: 2024-05-06\n",
      "Loading traces---\n",
      "Computing delta---\n",
      "Computing sigma---\n",
      "Computing gamma---\n",
      "Computing mouse: AMYG03 for session: 2024-05-08\n",
      "Loading traces---\n",
      "Computing delta---\n",
      "Computing sigma---\n",
      "Computing gamma---\n",
      "Computing mouse: MHIP03 for session: 2023-08-21\n",
      "Loading traces---\n",
      "Computing delta---\n",
      "Computing sigma---\n",
      "Computing gamma---\n",
      "Computing mouse: MHIP03 for session: 2023-08-23\n",
      "Loading traces---\n",
      "Computing delta---\n",
      "Computing sigma---\n",
      "Computing gamma---\n",
      "Computing mouse: MHIP05 for session: 2024-01-16\n",
      "Loading traces---\n",
      "Computing delta---\n",
      "Computing sigma---\n",
      "Computing gamma---\n",
      "Computing mouse: MHIP05 for session: 2024-01-18\n",
      "Loading traces---\n",
      "Computing delta---\n",
      "Computing sigma---\n",
      "Computing gamma---\n",
      "Computing mouse: MHIP05 for session: 2024-02-06\n",
      "Loading traces---\n",
      "Computing delta---\n",
      "Computing sigma---\n",
      "Computing gamma---\n",
      "Computing mouse: MHIP05 for session: 2024-02-08\n",
      "Loading traces---\n",
      "Computing delta---\n",
      "Computing sigma---\n",
      "Computing gamma---\n",
      "Computing mouse: MHIP05 for session: 2024-02-14\n",
      "Loading traces---\n",
      "Computing delta---\n",
      "Computing sigma---\n",
      "Computing gamma---\n",
      "Computing mouse: MHIP06 for session: 2024-04-17\n",
      "Loading traces---\n",
      "Computing delta---\n",
      "Computing sigma---\n",
      "Computing gamma---\n",
      "Computing mouse: MHIP06 for session: 2024-04-19\n",
      "Loading traces---\n",
      "Computing delta---\n",
      "Computing sigma---\n",
      "Computing gamma---\n",
      "Computing mouse: MPC05 for session: 2023-08-07\n",
      "Loading traces---\n",
      "Computing delta---\n",
      "Computing sigma---\n",
      "Computing gamma---\n",
      "Computing mouse: MPC05 for session: 2023-08-16\n",
      "Loading traces---\n",
      "Computing delta---\n",
      "Computing sigma---\n",
      "Computing gamma---\n",
      "Computing mouse: MPC06 for session: 2023-11-30\n",
      "Loading traces---\n",
      "Computing delta---\n",
      "Computing sigma---\n",
      "Computing gamma---\n",
      "Computing mouse: MPC06 for session: 2023-12-04\n",
      "Loading traces---\n",
      "Computing delta---\n",
      "Computing sigma---\n",
      "Computing gamma---\n",
      "Computing mouse: MPC09 for session: 2024-05-29\n",
      "Loading traces---\n",
      "Computing delta---\n",
      "Computing sigma---\n",
      "Computing gamma---\n",
      "Computing mouse: MPC09 for session: 2024-06-07\n",
      "Loading traces---\n",
      "Computing delta---\n",
      "Computing sigma---\n",
      "Computing gamma---\n",
      "Computing mouse: MPC10 for session: 2024-05-29\n",
      "Loading traces---\n",
      "Computing delta---\n",
      "Computing sigma---\n",
      "Computing gamma---\n",
      "Computing mouse: THAL01 for session: 2023-08-11\n",
      "Loading traces---\n",
      "Computing delta---\n",
      "Computing sigma---\n",
      "Computing gamma---\n",
      "Computing mouse: THAL01 for session: 2023-08-18\n",
      "Loading traces---\n",
      "Computing delta---\n",
      "Computing sigma---\n",
      "Computing gamma---\n",
      "Computing mouse: THAL02 for session: 2023-11-30\n",
      "Loading traces---\n",
      "Computing delta---\n",
      "Computing sigma---\n",
      "Computing gamma---\n",
      "Computing mouse: THAL02 for session: 2023-12-04\n",
      "Loading traces---\n",
      "Computing delta---\n",
      "Computing sigma---\n",
      "Computing gamma---\n",
      "Computing mouse: THAL04 for session: 2024-02-06\n",
      "Loading traces---\n",
      "Computing delta---\n",
      "Computing sigma---\n",
      "Computing gamma---\n",
      "Computing mouse: THAL04 for session: 2024-02-14\n",
      "Loading traces---\n",
      "Computing delta---\n",
      "Computing sigma---\n",
      "Computing gamma---\n",
      "Computing mouse: THAL06 for session: 2024-04-15\n",
      "Loading traces---\n",
      "Computing delta---\n",
      "Computing sigma---\n",
      "Computing gamma---\n",
      "Computing mouse: THAL06 for session: 2024-04-19\n",
      "Loading traces---\n",
      "Computing delta---\n",
      "Computing sigma---\n",
      "Computing gamma---\n"
     ]
    }
   ],
   "source": [
    "lcProj.MGT.populate()"
   ],
   "metadata": {
    "collapsed": false,
    "ExecuteTime": {
     "end_time": "2024-06-20T18:39:45.023956Z",
     "start_time": "2024-06-20T17:23:26.713515Z"
    }
   },
   "id": "c141fb2c69fd45f5",
   "execution_count": 3
  },
  {
   "cell_type": "code",
   "outputs": [
    {
     "ename": "NameError",
     "evalue": "name 'plt' is not defined",
     "output_type": "error",
     "traceback": [
      "\u001B[1;31m---------------------------------------------------------------------------\u001B[0m",
      "\u001B[1;31mNameError\u001B[0m                                 Traceback (most recent call last)",
      "Cell \u001B[1;32mIn[22], line 6\u001B[0m\n\u001B[0;32m      2\u001B[0m mouseListAmyg \u001B[38;5;241m=\u001B[39m [\u001B[38;5;124m\"\u001B[39m\u001B[38;5;124mAMYG01\u001B[39m\u001B[38;5;124m\"\u001B[39m,\u001B[38;5;124m\"\u001B[39m\u001B[38;5;124mAMYG02\u001B[39m\u001B[38;5;124m\"\u001B[39m]\n\u001B[0;32m      4\u001B[0m InterREMAmyg \u001B[38;5;241m=\u001B[39m []\n\u001B[1;32m----> 6\u001B[0m fig, axes \u001B[38;5;241m=\u001B[39m \u001B[43mplt\u001B[49m\u001B[38;5;241m.\u001B[39msubplots(\u001B[38;5;241m1\u001B[39m,\u001B[38;5;241m1\u001B[39m, figsize\u001B[38;5;241m=\u001B[39m(\u001B[38;5;241m10\u001B[39m, \u001B[38;5;241m5\u001B[39m)) \u001B[38;5;66;03m# create figure and axes\u001B[39;00m\n\u001B[0;32m      8\u001B[0m \u001B[38;5;28;01mfor\u001B[39;00m m \u001B[38;5;129;01min\u001B[39;00m mouseListAmyg:\n\u001B[0;32m     10\u001B[0m     key \u001B[38;5;241m=\u001B[39m {\u001B[38;5;124m'\u001B[39m\u001B[38;5;124mmouse_name\u001B[39m\u001B[38;5;124m'\u001B[39m:m}\n",
      "\u001B[1;31mNameError\u001B[0m: name 'plt' is not defined"
     ]
    }
   ],
   "source": [
    "bins = 10\n",
    "mouseListAmyg = [\"AMYG01\",\"AMYG02\"]\n",
    "\n",
    "InterREMAmyg = []\n",
    "\n",
    "fig, axes = plt.subplots(1,1, figsize=(10, 5)) # create figure and axes\n",
    "\n",
    "for m in mouseListAmyg:\n",
    "\n",
    "    key = {'mouse_name':m}\n",
    "    \n",
    "    CurrentInterREMAmyg =  np.mean(np.stack((lcProj.NremRemMeanDFF & key).fetch('inter_rem')),0)\n",
    "    \n",
    "    InterREMAmyg.append(CurrentInterREMAmyg)\n",
    "\n",
    "InterREMAmyg = np.array(InterREMAmyg)\n",
    "\n",
    "errorAmyg = stats.sem(InterREMAmyg,axis=0)\n",
    "\n",
    "\n",
    "mouseListHip = [\"MHIP03\",\"MHIP05\",\"MHIP06\"]\n",
    "\n",
    "InterREMHip = []\n",
    "\n",
    "for m in mouseListHip:\n",
    "\n",
    "    key = {'mouse_name':m}\n",
    "    \n",
    "    CurrentInterREMHip =  np.mean(np.stack((lcProj.NremRemMeanDFF & key).fetch('inter_rem')),0)\n",
    "    \n",
    "    InterREMHip.append(CurrentInterREMHip)\n",
    "\n",
    "InterREMHip= np.array(InterREMHip)\n",
    "\n",
    "errorHip = stats.sem(InterREMHip,axis=0)\n",
    "\n",
    "\n",
    "mouseListPfc = [\"MPC05\",\"MPC06\"]\n",
    "\n",
    "InterREMPfc = []\n",
    "\n",
    "for m in mouseListPfc:\n",
    "\n",
    "    key = {'mouse_name':m}\n",
    "    \n",
    "    CurrentInterREMPfc =  np.mean(np.stack((lcProj.NremRemMeanDFF & key).fetch('inter_rem')),0)\n",
    "    \n",
    "    InterREMPfc.append(CurrentInterREMPfc)\n",
    "\n",
    "InterREMPfc = np.array(InterREMPfc)\n",
    "\n",
    "errorPfc = stats.sem(InterREMPfc,axis=0)\n",
    "\n",
    "\n",
    "mouseListThal = [\"THAL01\",\"THAL02\",\"THAL04\",\"THAL06\"]\n",
    "\n",
    "InterREMThal = []\n",
    "\n",
    "for m in mouseListThal:\n",
    "\n",
    "    key = {'mouse_name':m}\n",
    "    \n",
    "    CurrentInterREMThal =  np.mean(np.stack((lcProj.NremRemMeanDFF & key).fetch('inter_rem')),0)\n",
    "    \n",
    "    InterREMThal.append(CurrentInterREMThal)\n",
    "\n",
    "InterREMThal = np.array(InterREMThal)\n",
    "\n",
    "errorThal = stats.sem(InterREMThal,axis=0)\n",
    "\n",
    "\n",
    "axes.plot(np.linspace(0,1,bins),InterREMThal.mean(0), 'g')\n",
    "axes.fill_between(np.linspace(0,1,bins),InterREMThal.mean(0) - errorThal,  InterREMThal.mean(0) +  errorThal, color ='g' ,alpha = 0.2)\n",
    "axes.plot(np.linspace(0,1,bins),InterREMAmyg.mean(0), 'r')\n",
    "axes.fill_between(np.linspace(0,1,bins),InterREMAmyg.mean(0) - errorAmyg,  InterREMAmyg.mean(0) +  errorAmyg, color ='r' ,alpha = 0.2)\n",
    "axes.plot(np.linspace(0,1,bins),InterREMHip.mean(0), 'b')\n",
    "axes.fill_between(np.linspace(0,1,bins),InterREMHip.mean(0) - errorHip,  InterREMHip.mean(0) +  errorHip, color ='b' ,alpha = 0.2)\n",
    "axes.plot(np.linspace(0,1,bins),InterREMPfc.mean(0), 'k')\n",
    "axes.fill_between(np.linspace(0,1,bins),InterREMPfc.mean(0) - errorPfc,  InterREMPfc.mean(0) +  errorPfc, color ='k' ,alpha = 0.2)\n",
    "\n",
    "axes.set_ylabel('InterREM Z-scored DFF')"
   ],
   "metadata": {
    "collapsed": false
   },
   "id": "a4f75850-0910-4820-a245-fe7aea4fcf17",
   "execution_count": 22
  },
  {
   "cell_type": "code",
   "outputs": [
    {
     "ename": "NameError",
     "evalue": "name 'plt' is not defined",
     "output_type": "error",
     "traceback": [
      "\u001B[1;31m---------------------------------------------------------------------------\u001B[0m",
      "\u001B[1;31mNameError\u001B[0m                                 Traceback (most recent call last)",
      "Cell \u001B[1;32mIn[23], line 6\u001B[0m\n\u001B[0;32m      2\u001B[0m mouseListAmyg \u001B[38;5;241m=\u001B[39m [\u001B[38;5;124m\"\u001B[39m\u001B[38;5;124mAMYG01\u001B[39m\u001B[38;5;124m\"\u001B[39m,\u001B[38;5;124m\"\u001B[39m\u001B[38;5;124mAMYG02\u001B[39m\u001B[38;5;124m\"\u001B[39m]\n\u001B[0;32m      4\u001B[0m DuringREMAmyg \u001B[38;5;241m=\u001B[39m []\n\u001B[1;32m----> 6\u001B[0m fig, axes \u001B[38;5;241m=\u001B[39m \u001B[43mplt\u001B[49m\u001B[38;5;241m.\u001B[39msubplots(\u001B[38;5;241m1\u001B[39m,\u001B[38;5;241m1\u001B[39m, figsize\u001B[38;5;241m=\u001B[39m(\u001B[38;5;241m10\u001B[39m, \u001B[38;5;241m5\u001B[39m)) \u001B[38;5;66;03m# create figure and axes\u001B[39;00m\n\u001B[0;32m      8\u001B[0m \u001B[38;5;28;01mfor\u001B[39;00m m \u001B[38;5;129;01min\u001B[39;00m mouseListAmyg:\n\u001B[0;32m     10\u001B[0m     key \u001B[38;5;241m=\u001B[39m {\u001B[38;5;124m'\u001B[39m\u001B[38;5;124mmouse_name\u001B[39m\u001B[38;5;124m'\u001B[39m:m}\n",
      "\u001B[1;31mNameError\u001B[0m: name 'plt' is not defined"
     ]
    }
   ],
   "source": [
    "bins = 10\n",
    "mouseListAmyg = [\"AMYG01\",\"AMYG02\"]\n",
    "\n",
    "DuringREMAmyg = []\n",
    "\n",
    "fig, axes = plt.subplots(1,1, figsize=(10, 5)) # create figure and axes\n",
    "\n",
    "for m in mouseListAmyg:\n",
    "\n",
    "    key = {'mouse_name':m}\n",
    "    \n",
    "    CurrentDuringREMAmyg =  np.mean(np.stack((lcProj.NremRemMeanDFF & key).fetch('during_rem')),0)\n",
    "    \n",
    "    DuringREMAmyg.append(CurrentDuringREMAmyg)\n",
    "\n",
    "DuringREMAmyg = np.array(DuringREMAmyg)\n",
    "\n",
    "errorAmyg = stats.sem(DuringREMAmyg,axis=0)\n",
    "\n",
    "\n",
    "mouseListHip = [\"MHIP03\",\"MHIP05\",\"MHIP06\"]\n",
    "\n",
    "DuringREMHip = []\n",
    "\n",
    "for m in mouseListHip:\n",
    "\n",
    "    key = {'mouse_name':m}\n",
    "    \n",
    "    CurrentDuringREMHip =  np.mean(np.stack((lcProj.NremRemMeanDFF & key).fetch('during_rem')),0)\n",
    "    \n",
    "    DuringREMHip.append(CurrentDuringREMHip)\n",
    "\n",
    "DuringREMHip= np.array(DuringREMHip)\n",
    "\n",
    "errorHip = stats.sem(DuringREMHip,axis=0)\n",
    "\n",
    "\n",
    "mouseListPfc = [\"MPC05\",\"MPC06\"]\n",
    "\n",
    "DuringREMPfc = []\n",
    "\n",
    "for m in mouseListPfc:\n",
    "\n",
    "    key = {'mouse_name':m}\n",
    "    \n",
    "    CurrentDuringREMPfc =  np.mean(np.stack((lcProj.NremRemMeanDFF & key).fetch('during_rem')),0)\n",
    "    \n",
    "    DuringREMPfc.append(CurrentDuringREMPfc)\n",
    "\n",
    "DuringREMPfc = np.array(DuringREMPfc)\n",
    "\n",
    "errorPfc = stats.sem(DuringREMPfc,axis=0)\n",
    "\n",
    "\n",
    "mouseListThal = [\"THAL01\",\"THAL02\",\"THAL04\",\"THAL06\"]\n",
    "\n",
    "DuringREMThal = []\n",
    "\n",
    "for m in mouseListThal:\n",
    "\n",
    "    key = {'mouse_name':m}\n",
    "    \n",
    "    CurrentDuringREMThal =  np.mean(np.stack((lcProj.NremRemMeanDFF & key).fetch('during_rem')),0)\n",
    "    \n",
    "    DuringREMThal.append(CurrentDuringREMThal)\n",
    "\n",
    "DuringREMThal = np.array(DuringREMThal)\n",
    "\n",
    "errorThal = stats.sem(DuringREMThal,axis=0)\n",
    "\n",
    "\n",
    "axes.plot(np.linspace(0,1,bins),DuringREMThal.mean(0), 'g')\n",
    "axes.fill_between(np.linspace(0,1,bins),DuringREMThal.mean(0) - errorThal,  DuringREMThal.mean(0) +  errorThal, color ='g' ,alpha = 0.2)\n",
    "axes.plot(np.linspace(0,1,bins),DuringREMAmyg.mean(0), 'r')\n",
    "axes.fill_between(np.linspace(0,1,bins),DuringREMAmyg.mean(0) - errorAmyg,  DuringREMAmyg.mean(0) +  errorAmyg, color ='r' ,alpha = 0.2)\n",
    "axes.plot(np.linspace(0,1,bins),DuringREMHip.mean(0), 'b')\n",
    "axes.fill_between(np.linspace(0,1,bins),DuringREMHip.mean(0) - errorHip,  DuringREMHip.mean(0) +  errorHip, color ='b' ,alpha = 0.2)\n",
    "axes.plot(np.linspace(0,1,bins),DuringREMPfc.mean(0), 'k')\n",
    "axes.fill_between(np.linspace(0,1,bins),DuringREMPfc.mean(0) - errorPfc,  DuringREMPfc.mean(0) +  errorPfc, color ='k' ,alpha = 0.2)\n",
    "\n",
    "axes.set_ylabel('DuringREM Z-scored DFF')"
   ],
   "metadata": {
    "collapsed": false
   },
   "id": "db9e3150-b313-41fc-94ad-f61f4102b56e",
   "execution_count": 23
  },
  {
   "cell_type": "code",
   "execution_count": 24,
   "id": "3a08cacf-a773-405d-a5eb-505c1ebc5859",
   "metadata": {
    "ExecuteTime": {
     "end_time": "2024-06-14T12:17:13.037286Z",
     "start_time": "2024-06-14T12:17:13.008292Z"
    }
   },
   "outputs": [
    {
     "ename": "NameError",
     "evalue": "name 'np' is not defined",
     "output_type": "error",
     "traceback": [
      "\u001B[1;31m---------------------------------------------------------------------------\u001B[0m",
      "\u001B[1;31mNameError\u001B[0m                                 Traceback (most recent call last)",
      "Cell \u001B[1;32mIn[24], line 1\u001B[0m\n\u001B[1;32m----> 1\u001B[0m \u001B[43mnp\u001B[49m\u001B[38;5;241m.\u001B[39mmean(np\u001B[38;5;241m.\u001B[39mstack((lcProj\u001B[38;5;241m.\u001B[39mNremRemMeanDFF \u001B[38;5;241m&\u001B[39m key)\u001B[38;5;241m.\u001B[39mfetch(\u001B[38;5;124m'\u001B[39m\u001B[38;5;124minter_rem\u001B[39m\u001B[38;5;124m'\u001B[39m)),\u001B[38;5;241m0\u001B[39m)\n",
      "\u001B[1;31mNameError\u001B[0m: name 'np' is not defined"
     ]
    }
   ],
   "source": [
    "np.mean(np.stack((lcProj.NremRemMeanDFF & key).fetch('inter_rem')),0)"
   ]
  },
  {
   "cell_type": "code",
   "execution_count": 25,
   "id": "d1b19818-bcce-422f-8f9b-5553b8f53a8c",
   "metadata": {
    "ExecuteTime": {
     "end_time": "2024-06-14T12:17:13.161281Z",
     "start_time": "2024-06-14T12:17:13.143315Z"
    }
   },
   "outputs": [
    {
     "ename": "NameError",
     "evalue": "name 'np' is not defined",
     "output_type": "error",
     "traceback": [
      "\u001B[1;31m---------------------------------------------------------------------------\u001B[0m",
      "\u001B[1;31mNameError\u001B[0m                                 Traceback (most recent call last)",
      "Cell \u001B[1;32mIn[25], line 1\u001B[0m\n\u001B[1;32m----> 1\u001B[0m \u001B[43mnp\u001B[49m\u001B[38;5;241m.\u001B[39mstack((lcProj\u001B[38;5;241m.\u001B[39mNremRemMeanDFF \u001B[38;5;241m&\u001B[39m key)\u001B[38;5;241m.\u001B[39mfetch(\u001B[38;5;124m'\u001B[39m\u001B[38;5;124minter_rem\u001B[39m\u001B[38;5;124m'\u001B[39m))\n",
      "\u001B[1;31mNameError\u001B[0m: name 'np' is not defined"
     ]
    }
   ],
   "source": [
    "np.stack((lcProj.NremRemMeanDFF & key).fetch('inter_rem'))"
   ]
  },
  {
   "cell_type": "code",
   "execution_count": 26,
   "id": "2b3b066d-335a-4ce0-874c-baa71ecde970",
   "metadata": {
    "ExecuteTime": {
     "end_time": "2024-06-14T12:17:13.270273Z",
     "start_time": "2024-06-14T12:17:13.224311Z"
    }
   },
   "outputs": [
    {
     "ename": "NameError",
     "evalue": "name 'plt' is not defined",
     "output_type": "error",
     "traceback": [
      "\u001B[1;31m---------------------------------------------------------------------------\u001B[0m",
      "\u001B[1;31mNameError\u001B[0m                                 Traceback (most recent call last)",
      "Cell \u001B[1;32mIn[26], line 5\u001B[0m\n\u001B[0;32m      1\u001B[0m mouseListAmyg \u001B[38;5;241m=\u001B[39m [\u001B[38;5;124m\"\u001B[39m\u001B[38;5;124mAMYG01\u001B[39m\u001B[38;5;124m\"\u001B[39m,\u001B[38;5;124m\"\u001B[39m\u001B[38;5;124mAMYG02\u001B[39m\u001B[38;5;124m\"\u001B[39m]\n\u001B[0;32m      3\u001B[0m InterREMAmyg \u001B[38;5;241m=\u001B[39m []\n\u001B[1;32m----> 5\u001B[0m fig, axes \u001B[38;5;241m=\u001B[39m \u001B[43mplt\u001B[49m\u001B[38;5;241m.\u001B[39msubplots(\u001B[38;5;241m1\u001B[39m,\u001B[38;5;241m1\u001B[39m, figsize\u001B[38;5;241m=\u001B[39m(\u001B[38;5;241m10\u001B[39m, \u001B[38;5;241m5\u001B[39m)) \u001B[38;5;66;03m# create figure and axes\u001B[39;00m\n\u001B[0;32m      7\u001B[0m \u001B[38;5;28;01mfor\u001B[39;00m m \u001B[38;5;129;01min\u001B[39;00m mouseListAmyg:\n\u001B[0;32m      9\u001B[0m     key \u001B[38;5;241m=\u001B[39m {\u001B[38;5;124m'\u001B[39m\u001B[38;5;124mmouse_name\u001B[39m\u001B[38;5;124m'\u001B[39m:m}\n",
      "\u001B[1;31mNameError\u001B[0m: name 'plt' is not defined"
     ]
    }
   ],
   "source": [
    "mouseListAmyg = [\"AMYG01\",\"AMYG02\"]\n",
    "\n",
    "InterREMAmyg = []\n",
    "\n",
    "fig, axes = plt.subplots(1,1, figsize=(10, 5)) # create figure and axes\n",
    "\n",
    "for m in mouseListAmyg:\n",
    "\n",
    "    key = {'mouse_name':m}\n",
    "    \n",
    "    CurrentInterREMAmyg =  np.mean(np.stack((lcProj.NremRemMeanDFF & key).fetch('inter_rem')))\n",
    "    \n",
    "    REMAmyg.append(CurrentREMAmyg)\n",
    "\n",
    "axes[0].set_title('Amyg')\n",
    "axes[0].set_ylabel('InterREM Z-scored DFF')\n",
    "\n",
    "mouseListHip = [\"MHIP03\",\"MHIP05\",\"MHIP06\"]\n",
    "\n",
    "REMHip = []\n",
    "NREMHip = []\n",
    "WAKEHip = []\n",
    "\n",
    "for m in mouseListHip:\n",
    "\n",
    "    key = {'mouse_name':m,\n",
    "           'window':3}\n",
    "    \n",
    "    CurrentREMHip =  np.mean(np.stack((lcProj.DFFSleepStates & key).fetch('mean_rem_zscored')))\n",
    "    CurrentNREMHip =  np.mean(np.stack((lcProj.DFFSleepStates & key).fetch('mean_nrem_zscored')))\n",
    "    CurrentWakeHip =  np.mean(np.stack((lcProj.DFFSleepStates & key).fetch('mean_wake_zscored')))\n",
    "    \n",
    "    REMHip.append(CurrentREMHip)\n",
    "    NREMHip.append(CurrentNREMHip)\n",
    "    WAKEHip.append(CurrentWakeHip)\n",
    "\n",
    "dfHip = pd.DataFrame({'MouseName':mouseListHip, 'Mean_REM': REMHip, 'Mean_NREM': NREMHip, 'Mean_Wake': WAKEHip})\n",
    "boxplotHip = dfHip.boxplot(column=['Mean_REM', 'Mean_NREM', 'Mean_Wake'], ax = axes[1],\n",
    "                           color=dict(boxes='b', whiskers='b', medians='b', caps='b'),\n",
    "                           showfliers=False)\n",
    "axes[1].set_title('dCA1')\n",
    "\n",
    "mouseListPfc = [\"MPC05\",\"MPC06\"]\n",
    "\n",
    "REMPfc = []\n",
    "NREMPfc = []\n",
    "WAKEPfc = []\n",
    "\n",
    "for m in mouseListPfc:\n",
    "\n",
    "    key = {'mouse_name':m,\n",
    "           'window':3}\n",
    "    \n",
    "    CurrentREMPfc =  np.mean(np.stack((lcProj.DFFSleepStates & key).fetch('mean_rem_zscored')))\n",
    "    CurrentNREMPfc =  np.mean(np.stack((lcProj.DFFSleepStates & key).fetch('mean_nrem_zscored')))\n",
    "    CurrentWakePfc =  np.mean(np.stack((lcProj.DFFSleepStates & key).fetch('mean_wake_zscored')))\n",
    "    \n",
    "    REMPfc.append(CurrentREMPfc)\n",
    "    NREMPfc.append(CurrentNREMPfc)\n",
    "    WAKEPfc.append(CurrentWakePfc)\n",
    "\n",
    "dfPfc = pd.DataFrame({'MouseName':mouseListPfc, 'Mean_REM': REMPfc, 'Mean_NREM': NREMPfc, 'Mean_Wake': WAKEPfc})\n",
    "boxplotPfc = dfPfc.boxplot(column=['Mean_REM', 'Mean_NREM', 'Mean_Wake'], ax = axes[2],color=dict(boxes='k', whiskers='k', medians='k', caps='k'))\n",
    "axes[2].set_title('mPFC')\n",
    "\n",
    "\n",
    "\n",
    "mouseListThal = [\"THAL01\",\"THAL02\",\"THAL04\",\"THAL06\"]\n",
    "\n",
    "REMThal = []\n",
    "NREMThal = []\n",
    "WAKEThal = []\n",
    "\n",
    "for m in mouseListThal:\n",
    "\n",
    "    key = {'mouse_name':m,\n",
    "           'window':3}\n",
    "    \n",
    "    CurrentREMThal =  np.mean(np.stack((lcProj.DFFSleepStates & key).fetch('mean_rem_zscored')))\n",
    "    CurrentNREMThal =  np.mean(np.stack((lcProj.DFFSleepStates & key).fetch('mean_nrem_zscored')))\n",
    "    CurrentWakeThal =  np.mean(np.stack((lcProj.DFFSleepStates & key).fetch('mean_wake_zscored')))\n",
    "    \n",
    "    REMThal.append(CurrentREMThal)\n",
    "    NREMThal.append(CurrentNREMThal)\n",
    "    WAKEThal.append(CurrentWakeThal)\n",
    "\n",
    "dfThal = pd.DataFrame({'MouseName':mouseListThal, 'Mean_REM': REMThal, 'Mean_NREM': NREMThal, 'Mean_Wake': WAKEThal})\n",
    "boxplotThal = dfThal.boxplot(column=['Mean_REM', 'Mean_NREM', 'Mean_Wake'], ax = axes[3],\n",
    "                             color=dict(boxes='g', whiskers='g', medians='g', caps='g'),\n",
    "                             showfliers=False)\n",
    "axes[3].set_title('Thal')\n",
    "\n",
    "\n",
    "[ax_tmp.set_ylim(-1.5, 2) for ax_tmp in axes]\n",
    "\n",
    "plt.tight_layout()\n",
    "\n",
    "\n",
    "pathToNas = (os.sep + os.sep  + 'nasdcsr.unil.ch' + os.sep + 'RECHERCHE' + os.sep + 'FAC' + os.sep + 'FBM' + os.sep + 'DNF' + os.sep + 'aluthi1' + os.sep + 'sleep' + os.sep + 'D2c' +\n",
    "              os.sep + 'PROJECT_Georgios' + os.sep + 'LC_Proj_Neurons' + os.sep + 'Figures' + os.sep)\n",
    "\n",
    "pathToSave=  pathToNas + 'Mean_Levels_SleepStates.pdf'\n",
    "\n",
    "fig.savefig(pathToSave, format='pdf', dpi=1200) \n"
   ]
  },
  {
   "cell_type": "code",
   "execution_count": 27,
   "id": "3f2f3fa8-7e59-43ba-b0a9-5e15cabc98fa",
   "metadata": {
    "ExecuteTime": {
     "end_time": "2024-06-14T12:17:13.348311Z",
     "start_time": "2024-06-14T12:17:13.295275Z"
    }
   },
   "outputs": [
    {
     "ename": "NameError",
     "evalue": "name 'plt' is not defined",
     "output_type": "error",
     "traceback": [
      "\u001B[1;31m---------------------------------------------------------------------------\u001B[0m",
      "\u001B[1;31mNameError\u001B[0m                                 Traceback (most recent call last)",
      "Cell \u001B[1;32mIn[27], line 7\u001B[0m\n\u001B[0;32m      4\u001B[0m NREMAmyg \u001B[38;5;241m=\u001B[39m []\n\u001B[0;32m      5\u001B[0m WAKEAmyg \u001B[38;5;241m=\u001B[39m []\n\u001B[1;32m----> 7\u001B[0m fig, axes \u001B[38;5;241m=\u001B[39m \u001B[43mplt\u001B[49m\u001B[38;5;241m.\u001B[39msubplots(\u001B[38;5;241m1\u001B[39m,\u001B[38;5;241m4\u001B[39m, figsize\u001B[38;5;241m=\u001B[39m(\u001B[38;5;241m20\u001B[39m, \u001B[38;5;241m6\u001B[39m)) \u001B[38;5;66;03m# create figure and axes\u001B[39;00m\n\u001B[0;32m      9\u001B[0m \u001B[38;5;28;01mfor\u001B[39;00m m \u001B[38;5;129;01min\u001B[39;00m mouseListAmyg:\n\u001B[0;32m     11\u001B[0m     key \u001B[38;5;241m=\u001B[39m {\u001B[38;5;124m'\u001B[39m\u001B[38;5;124mmouse_name\u001B[39m\u001B[38;5;124m'\u001B[39m:m,\n\u001B[0;32m     12\u001B[0m            \u001B[38;5;124m'\u001B[39m\u001B[38;5;124mwindow\u001B[39m\u001B[38;5;124m'\u001B[39m:\u001B[38;5;241m3\u001B[39m}\n",
      "\u001B[1;31mNameError\u001B[0m: name 'plt' is not defined"
     ]
    }
   ],
   "source": [
    "mouseListAmyg = [\"AMYG01\",\"AMYG02\"]\n",
    "\n",
    "REMAmyg = []\n",
    "NREMAmyg = []\n",
    "WAKEAmyg = []\n",
    "\n",
    "fig, axes = plt.subplots(1,4, figsize=(20, 6)) # create figure and axes\n",
    "\n",
    "for m in mouseListAmyg:\n",
    "\n",
    "    key = {'mouse_name':m,\n",
    "           'window':3}\n",
    "    \n",
    "    CurrentREMAmyg =  np.mean(np.stack((lcProj.DFFSleepStates & key).fetch('mean_rem_zscored')))\n",
    "    CurrentNREMAmyg =  np.mean(np.stack((lcProj.DFFSleepStates & key).fetch('mean_nrem_zscored')))\n",
    "    CurrentWakeAmyg =  np.mean(np.stack((lcProj.DFFSleepStates & key).fetch('mean_wake_zscored')))\n",
    "    \n",
    "    REMAmyg.append(CurrentREMAmyg)\n",
    "    NREMAmyg.append(CurrentNREMAmyg)\n",
    "    WAKEAmyg.append(CurrentWakeAmyg)\n",
    "\n",
    "dfAmyg = pd.DataFrame({'MouseName':mouseListAmyg, 'Mean_REM': REMAmyg, 'Mean_NREM': NREMAmyg, 'Mean_Wake': WAKEAmyg})\n",
    "boxplotAmyg = dfAmyg.boxplot(column=['Mean_REM', 'Mean_NREM', 'Mean_Wake'], ax = axes[0], \n",
    "                             color=dict(boxes='r', whiskers='r', medians='r', caps='r'),\n",
    "                             showfliers=False)\n",
    "axes[0].set_title('Amyg')\n",
    "axes[0].set_ylabel('Z-scored DFF')\n",
    "\n",
    "mouseListHip = [\"MHIP03\",\"MHIP05\",\"MHIP06\"]\n",
    "\n",
    "REMHip = []\n",
    "NREMHip = []\n",
    "WAKEHip = []\n",
    "\n",
    "for m in mouseListHip:\n",
    "\n",
    "    key = {'mouse_name':m,\n",
    "           'window':3}\n",
    "    \n",
    "    CurrentREMHip =  np.mean(np.stack((lcProj.DFFSleepStates & key).fetch('mean_rem_zscored')))\n",
    "    CurrentNREMHip =  np.mean(np.stack((lcProj.DFFSleepStates & key).fetch('mean_nrem_zscored')))\n",
    "    CurrentWakeHip =  np.mean(np.stack((lcProj.DFFSleepStates & key).fetch('mean_wake_zscored')))\n",
    "    \n",
    "    REMHip.append(CurrentREMHip)\n",
    "    NREMHip.append(CurrentNREMHip)\n",
    "    WAKEHip.append(CurrentWakeHip)\n",
    "\n",
    "dfHip = pd.DataFrame({'MouseName':mouseListHip, 'Mean_REM': REMHip, 'Mean_NREM': NREMHip, 'Mean_Wake': WAKEHip})\n",
    "boxplotHip = dfHip.boxplot(column=['Mean_REM', 'Mean_NREM', 'Mean_Wake'], ax = axes[1],\n",
    "                           color=dict(boxes='b', whiskers='b', medians='b', caps='b'),\n",
    "                           showfliers=False)\n",
    "axes[1].set_title('dCA1')\n",
    "\n",
    "mouseListPfc = [\"MPC05\",\"MPC06\"]\n",
    "\n",
    "REMPfc = []\n",
    "NREMPfc = []\n",
    "WAKEPfc = []\n",
    "\n",
    "for m in mouseListPfc:\n",
    "\n",
    "    key = {'mouse_name':m,\n",
    "           'window':3}\n",
    "    \n",
    "    CurrentREMPfc =  np.mean(np.stack((lcProj.DFFSleepStates & key).fetch('mean_rem_zscored')))\n",
    "    CurrentNREMPfc =  np.mean(np.stack((lcProj.DFFSleepStates & key).fetch('mean_nrem_zscored')))\n",
    "    CurrentWakePfc =  np.mean(np.stack((lcProj.DFFSleepStates & key).fetch('mean_wake_zscored')))\n",
    "    \n",
    "    REMPfc.append(CurrentREMPfc)\n",
    "    NREMPfc.append(CurrentNREMPfc)\n",
    "    WAKEPfc.append(CurrentWakePfc)\n",
    "\n",
    "dfPfc = pd.DataFrame({'MouseName':mouseListPfc, 'Mean_REM': REMPfc, 'Mean_NREM': NREMPfc, 'Mean_Wake': WAKEPfc})\n",
    "boxplotPfc = dfPfc.boxplot(column=['Mean_REM', 'Mean_NREM', 'Mean_Wake'], ax = axes[2],color=dict(boxes='k', whiskers='k', medians='k', caps='k'))\n",
    "axes[2].set_title('mPFC')\n",
    "\n",
    "\n",
    "\n",
    "mouseListThal = [\"THAL01\",\"THAL02\",\"THAL04\",\"THAL06\"]\n",
    "\n",
    "REMThal = []\n",
    "NREMThal = []\n",
    "WAKEThal = []\n",
    "\n",
    "for m in mouseListThal:\n",
    "\n",
    "    key = {'mouse_name':m,\n",
    "           'window':3}\n",
    "    \n",
    "    CurrentREMThal =  np.mean(np.stack((lcProj.DFFSleepStates & key).fetch('mean_rem_zscored')))\n",
    "    CurrentNREMThal =  np.mean(np.stack((lcProj.DFFSleepStates & key).fetch('mean_nrem_zscored')))\n",
    "    CurrentWakeThal =  np.mean(np.stack((lcProj.DFFSleepStates & key).fetch('mean_wake_zscored')))\n",
    "    \n",
    "    REMThal.append(CurrentREMThal)\n",
    "    NREMThal.append(CurrentNREMThal)\n",
    "    WAKEThal.append(CurrentWakeThal)\n",
    "\n",
    "dfThal = pd.DataFrame({'MouseName':mouseListThal, 'Mean_REM': REMThal, 'Mean_NREM': NREMThal, 'Mean_Wake': WAKEThal})\n",
    "boxplotThal = dfThal.boxplot(column=['Mean_REM', 'Mean_NREM', 'Mean_Wake'], ax = axes[3],\n",
    "                             color=dict(boxes='g', whiskers='g', medians='g', caps='g'),\n",
    "                             showfliers=False)\n",
    "axes[3].set_title('Thal')\n",
    "\n",
    "\n",
    "[ax_tmp.set_ylim(-1.5, 2) for ax_tmp in axes]\n",
    "\n",
    "plt.tight_layout()\n",
    "\n",
    "\n",
    "pathToNas = (os.sep + os.sep  + 'nasdcsr.unil.ch' + os.sep + 'RECHERCHE' + os.sep + 'FAC' + os.sep + 'FBM' + os.sep + 'DNF' + os.sep + 'aluthi1' + os.sep + 'sleep' + os.sep + 'D2c' +\n",
    "              os.sep + 'PROJECT_Georgios' + os.sep + 'LC_Proj_Neurons' + os.sep + 'Figures' + os.sep)\n",
    "\n",
    "pathToSave=  pathToNas + 'Mean_Levels_SleepStates.pdf'\n",
    "\n",
    "fig.savefig(pathToSave, format='pdf', dpi=1200) \n"
   ]
  },
  {
   "cell_type": "code",
   "execution_count": 28,
   "id": "7b4dc670-1b67-42c8-8296-2e8236e32769",
   "metadata": {
    "ExecuteTime": {
     "end_time": "2024-06-14T12:17:13.412275Z",
     "start_time": "2024-06-14T12:17:13.408307Z"
    }
   },
   "outputs": [],
   "source": [
    "A = []"
   ]
  },
  {
   "cell_type": "code",
   "execution_count": 29,
   "id": "5392c079-9d8a-462c-8c5c-578e3015a52a",
   "metadata": {
    "ExecuteTime": {
     "end_time": "2024-06-14T12:17:13.522310Z",
     "start_time": "2024-06-14T12:17:13.503273Z"
    }
   },
   "outputs": [
    {
     "ename": "NameError",
     "evalue": "name 'np' is not defined",
     "output_type": "error",
     "traceback": [
      "\u001B[1;31m---------------------------------------------------------------------------\u001B[0m",
      "\u001B[1;31mNameError\u001B[0m                                 Traceback (most recent call last)",
      "Cell \u001B[1;32mIn[29], line 1\u001B[0m\n\u001B[1;32m----> 1\u001B[0m B \u001B[38;5;241m=\u001B[39m \u001B[43mnp\u001B[49m\u001B[38;5;241m.\u001B[39marray([\u001B[38;5;241m1\u001B[39m,\u001B[38;5;241m2\u001B[39m,\u001B[38;5;241m3\u001B[39m,\u001B[38;5;241m4\u001B[39m,\u001B[38;5;241m5\u001B[39m,\u001B[38;5;241m6\u001B[39m,\u001B[38;5;241m7\u001B[39m,\u001B[38;5;241m8\u001B[39m])\n",
      "\u001B[1;31mNameError\u001B[0m: name 'np' is not defined"
     ]
    }
   ],
   "source": [
    "B = np.array([1,2,3,4,5,6,7,8])"
   ]
  },
  {
   "cell_type": "code",
   "execution_count": 30,
   "id": "f86d7f33-4207-4010-92ca-846c1f5df301",
   "metadata": {
    "ExecuteTime": {
     "end_time": "2024-06-14T12:17:13.584272Z",
     "start_time": "2024-06-14T12:17:13.561274Z"
    }
   },
   "outputs": [
    {
     "ename": "NameError",
     "evalue": "name 'B' is not defined",
     "output_type": "error",
     "traceback": [
      "\u001B[1;31m---------------------------------------------------------------------------\u001B[0m",
      "\u001B[1;31mNameError\u001B[0m                                 Traceback (most recent call last)",
      "Cell \u001B[1;32mIn[30], line 1\u001B[0m\n\u001B[1;32m----> 1\u001B[0m A\u001B[38;5;241m.\u001B[39mappend(\u001B[43mB\u001B[49m[\u001B[38;5;241m3\u001B[39m:\u001B[38;5;241m6\u001B[39m])\n",
      "\u001B[1;31mNameError\u001B[0m: name 'B' is not defined"
     ]
    }
   ],
   "source": [
    "A.append(B[3:6])"
   ]
  },
  {
   "cell_type": "code",
   "execution_count": 31,
   "id": "958e3741-9122-46af-8f0c-c3fd454c63e6",
   "metadata": {
    "ExecuteTime": {
     "end_time": "2024-06-14T12:17:13.677282Z",
     "start_time": "2024-06-14T12:17:13.661282Z"
    }
   },
   "outputs": [
    {
     "ename": "NameError",
     "evalue": "name 'B' is not defined",
     "output_type": "error",
     "traceback": [
      "\u001B[1;31m---------------------------------------------------------------------------\u001B[0m",
      "\u001B[1;31mNameError\u001B[0m                                 Traceback (most recent call last)",
      "Cell \u001B[1;32mIn[31], line 1\u001B[0m\n\u001B[1;32m----> 1\u001B[0m A\u001B[38;5;241m.\u001B[39mappend(\u001B[43mB\u001B[49m[\u001B[38;5;241m2\u001B[39m:\u001B[38;5;241m5\u001B[39m])\n",
      "\u001B[1;31mNameError\u001B[0m: name 'B' is not defined"
     ]
    }
   ],
   "source": [
    "A.append(B[2:5])"
   ]
  },
  {
   "cell_type": "code",
   "execution_count": 32,
   "id": "9c0c0f23-da7d-4e2b-91a2-c503e4e32c4a",
   "metadata": {
    "ExecuteTime": {
     "end_time": "2024-06-14T12:17:13.740272Z",
     "start_time": "2024-06-14T12:17:13.712306Z"
    }
   },
   "outputs": [
    {
     "ename": "NameError",
     "evalue": "name 'np' is not defined",
     "output_type": "error",
     "traceback": [
      "\u001B[1;31m---------------------------------------------------------------------------\u001B[0m",
      "\u001B[1;31mNameError\u001B[0m                                 Traceback (most recent call last)",
      "Cell \u001B[1;32mIn[32], line 1\u001B[0m\n\u001B[1;32m----> 1\u001B[0m \u001B[43mnp\u001B[49m\u001B[38;5;241m.\u001B[39mconcatenate(A)\n",
      "\u001B[1;31mNameError\u001B[0m: name 'np' is not defined"
     ]
    }
   ],
   "source": [
    "np.concatenate(A)"
   ]
  },
  {
   "cell_type": "code",
   "execution_count": 33,
   "id": "9e1429f4-6906-4cc3-853f-ab2e749ec6d8",
   "metadata": {
    "ExecuteTime": {
     "end_time": "2024-06-14T12:17:13.864278Z",
     "start_time": "2024-06-14T12:17:13.839279Z"
    }
   },
   "outputs": [
    {
     "ename": "NameError",
     "evalue": "name 'np' is not defined",
     "output_type": "error",
     "traceback": [
      "\u001B[1;31m---------------------------------------------------------------------------\u001B[0m",
      "\u001B[1;31mNameError\u001B[0m                                 Traceback (most recent call last)",
      "Cell \u001B[1;32mIn[33], line 12\u001B[0m\n\u001B[0;32m      7\u001B[0m \u001B[38;5;28;01mfor\u001B[39;00m m \u001B[38;5;129;01min\u001B[39;00m mouseList:\n\u001B[0;32m      9\u001B[0m     key \u001B[38;5;241m=\u001B[39m {\u001B[38;5;124m'\u001B[39m\u001B[38;5;124mmouse_name\u001B[39m\u001B[38;5;124m'\u001B[39m:m,\n\u001B[0;32m     10\u001B[0m            \u001B[38;5;124m'\u001B[39m\u001B[38;5;124mwindow\u001B[39m\u001B[38;5;124m'\u001B[39m:\u001B[38;5;241m3\u001B[39m}\n\u001B[1;32m---> 12\u001B[0m     CurrentREM \u001B[38;5;241m=\u001B[39m  \u001B[43mnp\u001B[49m\u001B[38;5;241m.\u001B[39mmean(np\u001B[38;5;241m.\u001B[39mstack((lcProj\u001B[38;5;241m.\u001B[39mDFFSleepStates \u001B[38;5;241m&\u001B[39m key)\u001B[38;5;241m.\u001B[39mfetch(\u001B[38;5;124m'\u001B[39m\u001B[38;5;124mmean_rem_zscored\u001B[39m\u001B[38;5;124m'\u001B[39m)))\n\u001B[0;32m     13\u001B[0m     CurrentNREM \u001B[38;5;241m=\u001B[39m  np\u001B[38;5;241m.\u001B[39mmean(np\u001B[38;5;241m.\u001B[39mstack((lcProj\u001B[38;5;241m.\u001B[39mDFFSleepStates \u001B[38;5;241m&\u001B[39m key)\u001B[38;5;241m.\u001B[39mfetch(\u001B[38;5;124m'\u001B[39m\u001B[38;5;124mmean_nrem_zscored\u001B[39m\u001B[38;5;124m'\u001B[39m)))\n\u001B[0;32m     14\u001B[0m     CurrentWake \u001B[38;5;241m=\u001B[39m  np\u001B[38;5;241m.\u001B[39mmean(np\u001B[38;5;241m.\u001B[39mstack((lcProj\u001B[38;5;241m.\u001B[39mDFFSleepStates \u001B[38;5;241m&\u001B[39m key)\u001B[38;5;241m.\u001B[39mfetch(\u001B[38;5;124m'\u001B[39m\u001B[38;5;124mmean_wake_zscored\u001B[39m\u001B[38;5;124m'\u001B[39m)))\n",
      "\u001B[1;31mNameError\u001B[0m: name 'np' is not defined"
     ]
    }
   ],
   "source": [
    "mouseList = [\"MHIP03\",\"MHIP05\",\"MHIP06\"]\n",
    "\n",
    "REM = []\n",
    "NREM = []\n",
    "WAKE = []\n",
    "\n",
    "for m in mouseList:\n",
    "\n",
    "    key = {'mouse_name':m,\n",
    "           'window':3}\n",
    "    \n",
    "    CurrentREM =  np.mean(np.stack((lcProj.DFFSleepStates & key).fetch('mean_rem_zscored')))\n",
    "    CurrentNREM =  np.mean(np.stack((lcProj.DFFSleepStates & key).fetch('mean_nrem_zscored')))\n",
    "    CurrentWake =  np.mean(np.stack((lcProj.DFFSleepStates & key).fetch('mean_wake_zscored')))\n",
    "    \n",
    "    REM.append(CurrentREM)\n",
    "    NREM.append(CurrentNREM)\n",
    "    WAKE.append(CurrentWake)\n",
    "\n",
    "import pandas as pd\n",
    "df = pd.DataFrame({'MouseName':mouseList, 'Mean_REM': REM, 'Mean_NREM': NREM, 'Mean_Wake': WAKE})\n",
    "boxplot = df.boxplot(column=['Mean_REM', 'Mean_NREM', 'Mean_Wake'])\n",
    "plt.ylim(-1.5,1.5)\n",
    "plt.show()"
   ]
  },
  {
   "cell_type": "code",
   "execution_count": 34,
   "id": "9a4d1344-0af4-46ea-9072-a0cffcf2bcd7",
   "metadata": {
    "ExecuteTime": {
     "end_time": "2024-06-14T12:17:13.912318Z",
     "start_time": "2024-06-14T12:17:13.892319Z"
    }
   },
   "outputs": [
    {
     "ename": "NameError",
     "evalue": "name 'np' is not defined",
     "output_type": "error",
     "traceback": [
      "\u001B[1;31m---------------------------------------------------------------------------\u001B[0m",
      "\u001B[1;31mNameError\u001B[0m                                 Traceback (most recent call last)",
      "Cell \u001B[1;32mIn[34], line 12\u001B[0m\n\u001B[0;32m      7\u001B[0m \u001B[38;5;28;01mfor\u001B[39;00m m \u001B[38;5;129;01min\u001B[39;00m mouseList:\n\u001B[0;32m      9\u001B[0m     key \u001B[38;5;241m=\u001B[39m {\u001B[38;5;124m'\u001B[39m\u001B[38;5;124mmouse_name\u001B[39m\u001B[38;5;124m'\u001B[39m:m,\n\u001B[0;32m     10\u001B[0m            \u001B[38;5;124m'\u001B[39m\u001B[38;5;124mwindow\u001B[39m\u001B[38;5;124m'\u001B[39m:\u001B[38;5;241m3\u001B[39m}\n\u001B[1;32m---> 12\u001B[0m     CurrentREM \u001B[38;5;241m=\u001B[39m  \u001B[43mnp\u001B[49m\u001B[38;5;241m.\u001B[39mmean(np\u001B[38;5;241m.\u001B[39mstack((lcProj\u001B[38;5;241m.\u001B[39mDFFSleepStates \u001B[38;5;241m&\u001B[39m key)\u001B[38;5;241m.\u001B[39mfetch(\u001B[38;5;124m'\u001B[39m\u001B[38;5;124mmean_rem_zscored\u001B[39m\u001B[38;5;124m'\u001B[39m)))\n\u001B[0;32m     13\u001B[0m     CurrentNREM \u001B[38;5;241m=\u001B[39m  np\u001B[38;5;241m.\u001B[39mmean(np\u001B[38;5;241m.\u001B[39mstack((lcProj\u001B[38;5;241m.\u001B[39mDFFSleepStates \u001B[38;5;241m&\u001B[39m key)\u001B[38;5;241m.\u001B[39mfetch(\u001B[38;5;124m'\u001B[39m\u001B[38;5;124mmean_nrem_zscored\u001B[39m\u001B[38;5;124m'\u001B[39m)))\n\u001B[0;32m     14\u001B[0m     CurrentWake \u001B[38;5;241m=\u001B[39m  np\u001B[38;5;241m.\u001B[39mmean(np\u001B[38;5;241m.\u001B[39mstack((lcProj\u001B[38;5;241m.\u001B[39mDFFSleepStates \u001B[38;5;241m&\u001B[39m key)\u001B[38;5;241m.\u001B[39mfetch(\u001B[38;5;124m'\u001B[39m\u001B[38;5;124mmean_wake_zscored\u001B[39m\u001B[38;5;124m'\u001B[39m)))\n",
      "\u001B[1;31mNameError\u001B[0m: name 'np' is not defined"
     ]
    }
   ],
   "source": [
    "mouseList = [\"MHIP03\",\"MHIP05\",\"MHIP06\"]\n",
    "\n",
    "REM = []\n",
    "NREM = []\n",
    "WAKE = []\n",
    "\n",
    "for m in mouseList:\n",
    "\n",
    "    key = {'mouse_name':m,\n",
    "           'window':3}\n",
    "    \n",
    "    CurrentREM =  np.mean(np.stack((lcProj.DFFSleepStates & key).fetch('mean_rem_zscored')))\n",
    "    CurrentNREM =  np.mean(np.stack((lcProj.DFFSleepStates & key).fetch('mean_nrem_zscored')))\n",
    "    CurrentWake =  np.mean(np.stack((lcProj.DFFSleepStates & key).fetch('mean_wake_zscored')))\n",
    "    \n",
    "    REM.append(CurrentREM)\n",
    "    NREM.append(CurrentNREM)\n",
    "    WAKE.append(CurrentWake)\n",
    "\n",
    "import pandas as pd\n",
    "df = pd.DataFrame({'MouseName':mouseList, 'Mean_REM': REM, 'Mean_NREM': NREM, 'Mean_Wake': WAKE})\n",
    "boxplot = df.boxplot(column=['Mean_REM', 'Mean_NREM', 'Mean_Wake'])\n",
    "plt.ylim(-1.5,1.5)\n",
    "plt.show()"
   ]
  },
  {
   "cell_type": "code",
   "execution_count": 35,
   "id": "4c189c6b-609a-4f68-ab26-f83387c36021",
   "metadata": {
    "ExecuteTime": {
     "end_time": "2024-06-14T12:17:15.022315Z",
     "start_time": "2024-06-14T12:17:13.982283Z"
    }
   },
   "outputs": [
    {
     "ename": "ValueError",
     "evalue": "All arrays must be of the same length",
     "output_type": "error",
     "traceback": [
      "\u001B[1;31m---------------------------------------------------------------------------\u001B[0m",
      "\u001B[1;31mValueError\u001B[0m                                Traceback (most recent call last)",
      "Cell \u001B[1;32mIn[35], line 2\u001B[0m\n\u001B[0;32m      1\u001B[0m \u001B[38;5;28;01mimport\u001B[39;00m \u001B[38;5;21;01mpandas\u001B[39;00m \u001B[38;5;28;01mas\u001B[39;00m \u001B[38;5;21;01mpd\u001B[39;00m\n\u001B[1;32m----> 2\u001B[0m df \u001B[38;5;241m=\u001B[39m \u001B[43mpd\u001B[49m\u001B[38;5;241;43m.\u001B[39;49m\u001B[43mDataFrame\u001B[49m\u001B[43m(\u001B[49m\u001B[43m{\u001B[49m\u001B[38;5;124;43m'\u001B[39;49m\u001B[38;5;124;43mMouseName\u001B[39;49m\u001B[38;5;124;43m'\u001B[39;49m\u001B[43m:\u001B[49m\u001B[43mmouseList\u001B[49m\u001B[43m,\u001B[49m\u001B[43m \u001B[49m\u001B[38;5;124;43m'\u001B[39;49m\u001B[38;5;124;43mMean_REM\u001B[39;49m\u001B[38;5;124;43m'\u001B[39;49m\u001B[43m:\u001B[49m\u001B[43m \u001B[49m\u001B[43mREM\u001B[49m\u001B[43m,\u001B[49m\u001B[43m \u001B[49m\u001B[38;5;124;43m'\u001B[39;49m\u001B[38;5;124;43mMean_NREM\u001B[39;49m\u001B[38;5;124;43m'\u001B[39;49m\u001B[43m:\u001B[49m\u001B[43m \u001B[49m\u001B[43mNREM\u001B[49m\u001B[43m,\u001B[49m\u001B[43m \u001B[49m\u001B[38;5;124;43m'\u001B[39;49m\u001B[38;5;124;43mMean_Wake\u001B[39;49m\u001B[38;5;124;43m'\u001B[39;49m\u001B[43m:\u001B[49m\u001B[43m \u001B[49m\u001B[43mWAKE\u001B[49m\u001B[43m}\u001B[49m\u001B[43m)\u001B[49m\n",
      "File \u001B[1;32mC:\\ProgramData\\Anaconda3\\lib\\site-packages\\pandas\\core\\frame.py:736\u001B[0m, in \u001B[0;36mDataFrame.__init__\u001B[1;34m(self, data, index, columns, dtype, copy)\u001B[0m\n\u001B[0;32m    730\u001B[0m     mgr \u001B[38;5;241m=\u001B[39m \u001B[38;5;28mself\u001B[39m\u001B[38;5;241m.\u001B[39m_init_mgr(\n\u001B[0;32m    731\u001B[0m         data, axes\u001B[38;5;241m=\u001B[39m{\u001B[38;5;124m\"\u001B[39m\u001B[38;5;124mindex\u001B[39m\u001B[38;5;124m\"\u001B[39m: index, \u001B[38;5;124m\"\u001B[39m\u001B[38;5;124mcolumns\u001B[39m\u001B[38;5;124m\"\u001B[39m: columns}, dtype\u001B[38;5;241m=\u001B[39mdtype, copy\u001B[38;5;241m=\u001B[39mcopy\n\u001B[0;32m    732\u001B[0m     )\n\u001B[0;32m    734\u001B[0m \u001B[38;5;28;01melif\u001B[39;00m \u001B[38;5;28misinstance\u001B[39m(data, \u001B[38;5;28mdict\u001B[39m):\n\u001B[0;32m    735\u001B[0m     \u001B[38;5;66;03m# GH#38939 de facto copy defaults to False only in non-dict cases\u001B[39;00m\n\u001B[1;32m--> 736\u001B[0m     mgr \u001B[38;5;241m=\u001B[39m \u001B[43mdict_to_mgr\u001B[49m\u001B[43m(\u001B[49m\u001B[43mdata\u001B[49m\u001B[43m,\u001B[49m\u001B[43m \u001B[49m\u001B[43mindex\u001B[49m\u001B[43m,\u001B[49m\u001B[43m \u001B[49m\u001B[43mcolumns\u001B[49m\u001B[43m,\u001B[49m\u001B[43m \u001B[49m\u001B[43mdtype\u001B[49m\u001B[38;5;241;43m=\u001B[39;49m\u001B[43mdtype\u001B[49m\u001B[43m,\u001B[49m\u001B[43m \u001B[49m\u001B[43mcopy\u001B[49m\u001B[38;5;241;43m=\u001B[39;49m\u001B[43mcopy\u001B[49m\u001B[43m,\u001B[49m\u001B[43m \u001B[49m\u001B[43mtyp\u001B[49m\u001B[38;5;241;43m=\u001B[39;49m\u001B[43mmanager\u001B[49m\u001B[43m)\u001B[49m\n\u001B[0;32m    737\u001B[0m \u001B[38;5;28;01melif\u001B[39;00m \u001B[38;5;28misinstance\u001B[39m(data, ma\u001B[38;5;241m.\u001B[39mMaskedArray):\n\u001B[0;32m    738\u001B[0m     \u001B[38;5;28;01mfrom\u001B[39;00m \u001B[38;5;21;01mnumpy\u001B[39;00m\u001B[38;5;21;01m.\u001B[39;00m\u001B[38;5;21;01mma\u001B[39;00m \u001B[38;5;28;01mimport\u001B[39;00m mrecords\n",
      "File \u001B[1;32mC:\\ProgramData\\Anaconda3\\lib\\site-packages\\pandas\\core\\internals\\construction.py:503\u001B[0m, in \u001B[0;36mdict_to_mgr\u001B[1;34m(data, index, columns, dtype, typ, copy)\u001B[0m\n\u001B[0;32m    499\u001B[0m     \u001B[38;5;28;01melse\u001B[39;00m:\n\u001B[0;32m    500\u001B[0m         \u001B[38;5;66;03m# dtype check to exclude e.g. range objects, scalars\u001B[39;00m\n\u001B[0;32m    501\u001B[0m         arrays \u001B[38;5;241m=\u001B[39m [x\u001B[38;5;241m.\u001B[39mcopy() \u001B[38;5;28;01mif\u001B[39;00m \u001B[38;5;28mhasattr\u001B[39m(x, \u001B[38;5;124m\"\u001B[39m\u001B[38;5;124mdtype\u001B[39m\u001B[38;5;124m\"\u001B[39m) \u001B[38;5;28;01melse\u001B[39;00m x \u001B[38;5;28;01mfor\u001B[39;00m x \u001B[38;5;129;01min\u001B[39;00m arrays]\n\u001B[1;32m--> 503\u001B[0m \u001B[38;5;28;01mreturn\u001B[39;00m \u001B[43marrays_to_mgr\u001B[49m\u001B[43m(\u001B[49m\u001B[43marrays\u001B[49m\u001B[43m,\u001B[49m\u001B[43m \u001B[49m\u001B[43mcolumns\u001B[49m\u001B[43m,\u001B[49m\u001B[43m \u001B[49m\u001B[43mindex\u001B[49m\u001B[43m,\u001B[49m\u001B[43m \u001B[49m\u001B[43mdtype\u001B[49m\u001B[38;5;241;43m=\u001B[39;49m\u001B[43mdtype\u001B[49m\u001B[43m,\u001B[49m\u001B[43m \u001B[49m\u001B[43mtyp\u001B[49m\u001B[38;5;241;43m=\u001B[39;49m\u001B[43mtyp\u001B[49m\u001B[43m,\u001B[49m\u001B[43m \u001B[49m\u001B[43mconsolidate\u001B[49m\u001B[38;5;241;43m=\u001B[39;49m\u001B[43mcopy\u001B[49m\u001B[43m)\u001B[49m\n",
      "File \u001B[1;32mC:\\ProgramData\\Anaconda3\\lib\\site-packages\\pandas\\core\\internals\\construction.py:114\u001B[0m, in \u001B[0;36marrays_to_mgr\u001B[1;34m(arrays, columns, index, dtype, verify_integrity, typ, consolidate)\u001B[0m\n\u001B[0;32m    111\u001B[0m \u001B[38;5;28;01mif\u001B[39;00m verify_integrity:\n\u001B[0;32m    112\u001B[0m     \u001B[38;5;66;03m# figure out the index, if necessary\u001B[39;00m\n\u001B[0;32m    113\u001B[0m     \u001B[38;5;28;01mif\u001B[39;00m index \u001B[38;5;129;01mis\u001B[39;00m \u001B[38;5;28;01mNone\u001B[39;00m:\n\u001B[1;32m--> 114\u001B[0m         index \u001B[38;5;241m=\u001B[39m \u001B[43m_extract_index\u001B[49m\u001B[43m(\u001B[49m\u001B[43marrays\u001B[49m\u001B[43m)\u001B[49m\n\u001B[0;32m    115\u001B[0m     \u001B[38;5;28;01melse\u001B[39;00m:\n\u001B[0;32m    116\u001B[0m         index \u001B[38;5;241m=\u001B[39m ensure_index(index)\n",
      "File \u001B[1;32mC:\\ProgramData\\Anaconda3\\lib\\site-packages\\pandas\\core\\internals\\construction.py:677\u001B[0m, in \u001B[0;36m_extract_index\u001B[1;34m(data)\u001B[0m\n\u001B[0;32m    675\u001B[0m lengths \u001B[38;5;241m=\u001B[39m \u001B[38;5;28mlist\u001B[39m(\u001B[38;5;28mset\u001B[39m(raw_lengths))\n\u001B[0;32m    676\u001B[0m \u001B[38;5;28;01mif\u001B[39;00m \u001B[38;5;28mlen\u001B[39m(lengths) \u001B[38;5;241m>\u001B[39m \u001B[38;5;241m1\u001B[39m:\n\u001B[1;32m--> 677\u001B[0m     \u001B[38;5;28;01mraise\u001B[39;00m \u001B[38;5;167;01mValueError\u001B[39;00m(\u001B[38;5;124m\"\u001B[39m\u001B[38;5;124mAll arrays must be of the same length\u001B[39m\u001B[38;5;124m\"\u001B[39m)\n\u001B[0;32m    679\u001B[0m \u001B[38;5;28;01mif\u001B[39;00m have_dicts:\n\u001B[0;32m    680\u001B[0m     \u001B[38;5;28;01mraise\u001B[39;00m \u001B[38;5;167;01mValueError\u001B[39;00m(\n\u001B[0;32m    681\u001B[0m         \u001B[38;5;124m\"\u001B[39m\u001B[38;5;124mMixing dicts with non-Series may lead to ambiguous ordering.\u001B[39m\u001B[38;5;124m\"\u001B[39m\n\u001B[0;32m    682\u001B[0m     )\n",
      "\u001B[1;31mValueError\u001B[0m: All arrays must be of the same length"
     ]
    }
   ],
   "source": [
    "import pandas as pd\n",
    "df = pd.DataFrame({'MouseName':mouseList, 'Mean_REM': REM, 'Mean_NREM': NREM, 'Mean_Wake': WAKE})"
   ]
  },
  {
   "cell_type": "code",
   "execution_count": null,
   "id": "8032b68e-21c7-49a9-a2c2-24796b6f1434",
   "metadata": {
    "ExecuteTime": {
     "start_time": "2024-06-14T12:17:15.024300Z"
    }
   },
   "outputs": [],
   "source": [
    "df"
   ]
  },
  {
   "cell_type": "code",
   "execution_count": null,
   "id": "ec9db923-849e-4e46-b66e-b030363ae4ba",
   "metadata": {
    "ExecuteTime": {
     "start_time": "2024-06-14T12:17:15.025315Z"
    }
   },
   "outputs": [],
   "source": [
    "boxplot = df.boxplot(column=['Mean_REM', 'Mean_NREM', 'Mean_Wake'])\n",
    "plt.show()"
   ]
  },
  {
   "cell_type": "code",
   "execution_count": null,
   "id": "5c7f116b-43f8-46da-9298-77e5f87d30e0",
   "metadata": {
    "ExecuteTime": {
     "start_time": "2024-06-14T12:17:15.025315Z"
    }
   },
   "outputs": [],
   "source": [
    "key = {'mouse_name' : \"AMYG01\",\n",
    "      'session_date':\"2023-12-11\"}\n",
    "\n",
    "\n",
    "bfile = (lcProj.Hypnogram & key).fetch1('bfile')\n",
    "dff = (lcProj.FibDFF & key).fetch1('dff')\n",
    "timestamps = (lcProj.FibDFF & key).fetch1('timestamps')\n"
   ]
  },
  {
   "cell_type": "code",
   "execution_count": null,
   "id": "2b273cbd-47b4-4a5d-ac81-763fcb3696bf",
   "metadata": {
    "ExecuteTime": {
     "start_time": "2024-06-14T12:17:15.026280Z"
    }
   },
   "outputs": [],
   "source": [
    "bfile = 'wwwrrrrrnnnnnnnrnnnnrrrrnnnnrrrrrwww'"
   ]
  },
  {
   "cell_type": "code",
   "execution_count": null,
   "id": "860922b8-69b6-4eec-8f7f-aeaf68dccdfd",
   "metadata": {
    "ExecuteTime": {
     "start_time": "2024-06-14T12:17:15.028269Z"
    }
   },
   "outputs": [],
   "source": [
    "import regex as reg\n",
    "import re \n",
    "from Schema.UsefulFunctions import ElimMA, deltaDynamics, maDynamics, CorrectMirrorAnimals, findPosFromTimestamps,binning\n",
    "\n",
    "\n",
    "InterREMbouts = reg.finditer('([r3][w1n2]+[r3])', bfile, overlapped=True)\n",
    "\n",
    "DffInterREMAll = []\n",
    "\n",
    "for idx, trans in enumerate(InterREMbouts):\n",
    "\n",
    "    DffInterREM = []\n",
    "\n",
    "    Beg = list(trans.span())[0] + 1\n",
    "    End = list(trans.span())[1] - 1\n",
    "\n",
    "    bInBetween = bfile[Beg:End]\n",
    "\n",
    "    print(bInBetween)\n",
    "\n",
    "    NremInBetween = re.finditer('[n2]{3,}', bInBetween)\n",
    "\n",
    "    NremInBetweenFlag = len(re.findall('[n2]{3,}', bInBetween))\n",
    "\n",
    "    if NremInBetweenFlag > 0:\n",
    "\n",
    "        BegDFF =  Beg * 4\n",
    "\n",
    "        for idx, trans in enumerate(NremInBetween):\n",
    "\n",
    "            BegNREM = list(trans.span())[0]\n",
    "            EndNREM = list(trans.span())[1]\n",
    "\n",
    "            BegDFFNREM = findPosFromTimestamps(timestamps, BegDFF + (BegNREM * 4))\n",
    "\n",
    "            print(BegDFF + (BegNREM * 4))\n",
    "\n",
    "            print(BegDFFNREM)\n",
    "\n",
    "            \n",
    "            EndDFFNREM = findPosFromTimestamps(timestamps, BegDFF + (EndNREM * 4))\n",
    "\n",
    "            print(BegDFF + (EndNREM * 4))\n",
    "\n",
    "            print(EndDFFNREM)\n",
    "\n",
    "            DffInterREM.append(dff[BegDFFNREM:EndDFFNREM])\n",
    "\n",
    "        DffInterREM = np.concatenate(DffInterREM)\n",
    "\n",
    "        DffInterREMZscored = ((DffInterREM - np.mean(DffInterREM)) / np.std(DffInterREM))\n",
    "\n",
    "        DffInterREMZscoredBinned = binning(DffInterREMZscored)\n",
    "\n",
    "        DffInterREMAll.append(DffInterREMZscoredBinned)\n",
    "\n",
    "DffInterREMAllBinned = np.array(DffInterREMAll)\n"
   ]
  },
  {
   "cell_type": "code",
   "execution_count": null,
   "id": "155fcecd-d873-4376-a587-a606bce7e329",
   "metadata": {},
   "outputs": [],
   "source": [
    "DffInterREMAllBinned.shape"
   ]
  },
  {
   "cell_type": "code",
   "execution_count": null,
   "id": "d57f73d1-697f-4dff-9cc9-8b0143dea079",
   "metadata": {
    "ExecuteTime": {
     "start_time": "2024-06-14T12:17:15.030269Z"
    }
   },
   "outputs": [],
   "source": [
    "Beg"
   ]
  },
  {
   "cell_type": "code",
   "execution_count": null,
   "id": "701cbae3-330b-4ff2-9e03-0bc655585774",
   "metadata": {},
   "outputs": [],
   "source": [
    "End"
   ]
  },
  {
   "cell_type": "code",
   "execution_count": null,
   "id": "7af68370-aa85-429a-8086-cd9c6b127d21",
   "metadata": {
    "ExecuteTime": {
     "start_time": "2024-06-14T12:17:15.031269Z"
    }
   },
   "outputs": [],
   "source": [
    "import regex as re\n",
    "InterREMbouts = re.finditer('([r3][w1n2]+[r3])', bfile,overlapped=True)\n",
    "\n",
    "\n",
    "for idx, trans in enumerate(InterREMbouts):\n",
    "\n",
    "    print(trans.span())\n",
    "\n",
    "\n"
   ]
  },
  {
   "cell_type": "code",
   "execution_count": null,
   "id": "f0506b71-c297-40e9-a824-3f61ce3a334d",
   "metadata": {
    "ExecuteTime": {
     "start_time": "2024-06-14T12:17:15.032269Z"
    }
   },
   "outputs": [],
   "source": [
    "InterREMbouts =reg.finditer('(?=([r3][w1n2]+[r3]))', bfile)\n",
    "\n",
    "DffInterREMAll = []\n",
    "\n",
    "for idx, trans in enumerate(InterREMbouts):\n",
    "\n",
    "    print(trans.span())\n"
   ]
  },
  {
   "cell_type": "code",
   "execution_count": null,
   "id": "e6809478-228e-4bf7-8a38-fcb581dffad0",
   "metadata": {
    "ExecuteTime": {
     "start_time": "2024-06-14T12:17:15.033314Z"
    }
   },
   "outputs": [],
   "source": [
    "bfile[7:16]"
   ]
  },
  {
   "cell_type": "code",
   "execution_count": null,
   "id": "7132c606-f9df-4dfa-8fe7-594d82166238",
   "metadata": {
    "ExecuteTime": {
     "start_time": "2024-06-14T12:17:15.034269Z"
    }
   },
   "outputs": [],
   "source": [
    "bfile[15:25]"
   ]
  },
  {
   "cell_type": "code",
   "execution_count": null,
   "id": "7e7e16a4-bc1a-4e95-a2f9-ccc44ec584fe",
   "metadata": {
    "ExecuteTime": {
     "start_time": "2024-06-14T12:17:15.034269Z"
    }
   },
   "outputs": [],
   "source": [
    "import re\n",
    "re.finditer('(?=([r3][w1n2]+[r3]))', bfile)\n",
    "\n"
   ]
  },
  {
   "cell_type": "code",
   "execution_count": null,
   "id": "6a0c4d55-bf5a-4e93-ac92-86270ae6d782",
   "metadata": {
    "ExecuteTime": {
     "start_time": "2024-06-14T12:17:15.035305Z"
    }
   },
   "outputs": [],
   "source": [
    "from Schema.UsefulFunctions import ElimMA, deltaDynamics, maDynamics, CorrectMirrorAnimals, findPosFromTimestamps,binning\n",
    "import re\n",
    "\n",
    "InterREMbouts = re.finditer('[r3][w1n2]+[r3]', bfile)\n",
    "\n",
    "DffInterREMAll = []\n",
    "\n",
    "i = 0 \n",
    "\n",
    "for idx, trans in enumerate(InterREMbouts):\n",
    "\n",
    "    i = i + 1\n",
    "\n",
    "    print(i)\n",
    "\n",
    "    DffInterREM = []\n",
    "\n",
    "    Beg = list(trans.span())[0] + 1\n",
    "    End = list(trans.span())[1] - 1\n",
    "\n",
    "    bInBetween = bfile[Beg:End]\n",
    "\n",
    "    print('New')\n",
    "    print(bInBetween)\n",
    "\n",
    "    NremInBetween = re.finditer('[n2]{3,}', bInBetween)\n",
    "\n",
    "\n",
    "    NremInBetweenFlag = len(re.findall('[n2]{3,}', bInBetween))\n",
    "\n",
    "    if NremInBetweenFlag > 0:\n",
    "\n",
    "\n",
    "        BegDFF = Beg * 4\n",
    "    \n",
    "        print(BegDFF)\n",
    "    \n",
    "        for idx, trans in enumerate(NremInBetween):\n",
    "    \n",
    "            BegNREM = list(trans.span())[0]\n",
    "            EndNREM = list(trans.span())[1]\n",
    "    \n",
    "            print(bInBetween[BegNREM:EndNREM])\n",
    "    \n",
    "            BegDFFNREM = findPosFromTimestamps(timestamps, BegDFF + (BegNREM*4))\n",
    "            EndDFFNREM = findPosFromTimestamps(timestamps, BegDFF + (EndNREM*4))\n",
    "    \n",
    "            print([BegDFFNREM,EndDFFNREM])\n",
    "    \n",
    "    \n",
    "            DffInterREM.append(dff[BegDFFNREM:EndDFFNREM])\n",
    "    \n",
    "        DffInterREM = np.concatenate(DffInterREM)\n",
    "    \n",
    "        DffInterREMZscored = ((DffInterREM  - np.mean(DffInterREM)) / np.std(DffInterREM))\n",
    "    \n",
    "        DffInterREMZscoredBinned = binning(DffInterREMZscored)\n",
    "    \n",
    "        DffInterREMAll.append(DffInterREMZscoredBinned)\n",
    "    \n",
    "        DffInterREMAllBinned = np.array(DffInterREMAll)\n"
   ]
  },
  {
   "cell_type": "code",
   "execution_count": null,
   "id": "08d8c702-f298-46f5-ad90-94ae743c1f9f",
   "metadata": {
    "ExecuteTime": {
     "start_time": "2024-06-14T12:17:15.036279Z"
    }
   },
   "outputs": [],
   "source": [
    "NremInBetween =len( re.findall('[n2]{3,}', bInBetween))\n",
    " "
   ]
  },
  {
   "cell_type": "code",
   "execution_count": null,
   "id": "21c00a22-efe2-4d3b-9ec6-d7748e36e930",
   "metadata": {
    "ExecuteTime": {
     "start_time": "2024-06-14T12:17:15.037273Z"
    }
   },
   "outputs": [],
   "source": [
    "NremInBetween"
   ]
  },
  {
   "cell_type": "code",
   "execution_count": null,
   "id": "2248a4e9-5fdd-463e-8421-476269916028",
   "metadata": {
    "ExecuteTime": {
     "start_time": "2024-06-14T12:17:15.038267Z"
    }
   },
   "outputs": [],
   "source": [
    "for idx, trans in enumerate(InterREMbouts):\n",
    "\n",
    "    DffInterREM = []\n",
    "\n",
    "    Beg = list(trans.span())[0] + 1\n",
    "    End = list(trans.span())[1] - 1\n",
    "\n",
    "    bInBetween = bfile[Beg:End]\n",
    "\n",
    "    print(bInBetween)"
   ]
  },
  {
   "cell_type": "code",
   "execution_count": null,
   "id": "5510d316-9ec8-49bc-aee2-2a3dbf6fdb03",
   "metadata": {
    "ExecuteTime": {
     "start_time": "2024-06-14T12:17:15.039341Z"
    }
   },
   "outputs": [],
   "source": [
    "bInBetween"
   ]
  },
  {
   "cell_type": "code",
   "execution_count": null,
   "id": "29abfbd6-6d0e-4354-ab0e-6cc54f979578",
   "metadata": {
    "ExecuteTime": {
     "start_time": "2024-06-14T12:17:15.040300Z"
    }
   },
   "outputs": [],
   "source": [
    "NremInBetween = re.finditer('[n2]+', bInBetween)"
   ]
  },
  {
   "cell_type": "code",
   "execution_count": null,
   "id": "6a12593c-8a76-4ea4-90c1-39b8a8c5c313",
   "metadata": {
    "ExecuteTime": {
     "start_time": "2024-06-14T12:17:15.041305Z"
    }
   },
   "outputs": [],
   "source": [
    "\n",
    "NremInBetweenFlag = len(re.findall('[n2]', bInBetween))"
   ]
  },
  {
   "cell_type": "code",
   "execution_count": null,
   "id": "769928ca-0586-457f-aa2e-760fccf61585",
   "metadata": {},
   "outputs": [],
   "source": [
    "NremInBetweenFlag"
   ]
  },
  {
   "cell_type": "code",
   "execution_count": null,
   "id": "37175454-d3df-4712-8bc1-b51fb245aaf1",
   "metadata": {
    "ExecuteTime": {
     "start_time": "2024-06-14T12:17:15.043301Z"
    }
   },
   "outputs": [],
   "source": [
    "for idx, trans in enumerate(NremInBetween):\n",
    "\n",
    "        Beg = list(trans.span())[0]\n",
    "        End = list(trans.span())[1]\n",
    "\n",
    "        print(bInBetween[Beg:End])\n",
    "\n"
   ]
  },
  {
   "cell_type": "code",
   "execution_count": 36,
   "id": "d977f9cf-b44e-49dc-a888-2738f13de9d9",
   "metadata": {
    "ExecuteTime": {
     "end_time": "2024-06-14T12:17:15.100303Z",
     "start_time": "2024-06-14T12:17:15.067267Z"
    }
   },
   "outputs": [
    {
     "ename": "NameError",
     "evalue": "name 'bKeep' is not defined",
     "output_type": "error",
     "traceback": [
      "\u001B[1;31m---------------------------------------------------------------------------\u001B[0m",
      "\u001B[1;31mNameError\u001B[0m                                 Traceback (most recent call last)",
      "Cell \u001B[1;32mIn[36], line 2\u001B[0m\n\u001B[0;32m      1\u001B[0m \u001B[38;5;28;01mimport\u001B[39;00m \u001B[38;5;21;01mre\u001B[39;00m\n\u001B[1;32m----> 2\u001B[0m REMbouts \u001B[38;5;241m=\u001B[39m re\u001B[38;5;241m.\u001B[39mfinditer(\u001B[38;5;124m'\u001B[39m\u001B[38;5;124m[r3]\u001B[39m\u001B[38;5;124m{\u001B[39m\u001B[38;5;124m3,}\u001B[39m\u001B[38;5;124m'\u001B[39m,\u001B[43mbKeep\u001B[49m)\n\u001B[0;32m      3\u001B[0m REMSpans \u001B[38;5;241m=\u001B[39m []\n\u001B[0;32m      4\u001B[0m DffREM  \u001B[38;5;241m=\u001B[39m []\n",
      "\u001B[1;31mNameError\u001B[0m: name 'bKeep' is not defined"
     ]
    }
   ],
   "source": [
    "import re\n",
    "REMbouts = re.finditer('[r3]{3,}',bKeep)\n",
    "REMSpans = []\n",
    "DffREM  = []\n",
    "DffREMZScored  = []\n",
    "\n",
    "for idx, trans in enumerate(REMbouts):\n",
    "\n",
    "    Beg = list(trans.span())[0]\n",
    "    End = list(trans.span())[1]\n",
    "\n",
    "    BegDFF = findPosFromTimestamps(timestamps, Beg*4)\n",
    "    EndDFF = findPosFromTimestamps(timestamps, End*4)\n",
    "\n",
    "    REMSpans.append([BegDFF,EndDFF])\n",
    "    DffREM.append(dffKeep[BegDFF:EndDFF])\n",
    "    DffREMZScored.append(dffKeepZScored[BegDFF:EndDFF])"
   ]
  },
  {
   "cell_type": "code",
   "execution_count": 37,
   "id": "1c4a082d-441f-45f6-9835-611517ccb23f",
   "metadata": {
    "ExecuteTime": {
     "end_time": "2024-06-14T12:17:15.196303Z",
     "start_time": "2024-06-14T12:17:15.178275Z"
    }
   },
   "outputs": [
    {
     "ename": "NameError",
     "evalue": "name 'dffKeep' is not defined",
     "output_type": "error",
     "traceback": [
      "\u001B[1;31m---------------------------------------------------------------------------\u001B[0m",
      "\u001B[1;31mNameError\u001B[0m                                 Traceback (most recent call last)",
      "Cell \u001B[1;32mIn[37], line 1\u001B[0m\n\u001B[1;32m----> 1\u001B[0m dffREM \u001B[38;5;241m=\u001B[39m \u001B[43mdffKeep\u001B[49m[BegDFF:EndDFF]\n\u001B[0;32m      3\u001B[0m dffREMZscored \u001B[38;5;241m=\u001B[39m (( dffREM \u001B[38;5;241m-\u001B[39m np\u001B[38;5;241m.\u001B[39mmean( dffREM ))\u001B[38;5;241m/\u001B[39mnp\u001B[38;5;241m.\u001B[39mstd(dffREM))\n",
      "\u001B[1;31mNameError\u001B[0m: name 'dffKeep' is not defined"
     ]
    }
   ],
   "source": [
    "dffREM = dffKeep[BegDFF:EndDFF]\n",
    "\n",
    "dffREMZscored = (( dffREM - np.mean( dffREM ))/np.std(dffREM))\n"
   ]
  },
  {
   "cell_type": "code",
   "execution_count": 38,
   "id": "98f82051-a8d3-4b47-b704-a03dfa7d2b2e",
   "metadata": {
    "ExecuteTime": {
     "end_time": "2024-06-14T12:17:15.413301Z",
     "start_time": "2024-06-14T12:17:15.390298Z"
    }
   },
   "outputs": [
    {
     "ename": "NameError",
     "evalue": "name 'np' is not defined",
     "output_type": "error",
     "traceback": [
      "\u001B[1;31m---------------------------------------------------------------------------\u001B[0m",
      "\u001B[1;31mNameError\u001B[0m                                 Traceback (most recent call last)",
      "Cell \u001B[1;32mIn[38], line 1\u001B[0m\n\u001B[1;32m----> 1\u001B[0m lengthPerBin \u001B[38;5;241m=\u001B[39m \u001B[38;5;28mint\u001B[39m(\u001B[43mnp\u001B[49m\u001B[38;5;241m.\u001B[39mceil(dffREMZscored\u001B[38;5;241m.\u001B[39mshape[\u001B[38;5;241m0\u001B[39m]\u001B[38;5;241m/\u001B[39m\u001B[38;5;241m5\u001B[39m))\n",
      "\u001B[1;31mNameError\u001B[0m: name 'np' is not defined"
     ]
    }
   ],
   "source": [
    "lengthPerBin = int(np.ceil(dffREMZscored.shape[0]/5))"
   ]
  },
  {
   "cell_type": "code",
   "execution_count": 39,
   "id": "8e620616-03de-403a-961c-39394b56ecb7",
   "metadata": {
    "ExecuteTime": {
     "end_time": "2024-06-14T12:17:15.699271Z",
     "start_time": "2024-06-14T12:17:15.682298Z"
    }
   },
   "outputs": [
    {
     "ename": "NameError",
     "evalue": "name 'plt' is not defined",
     "output_type": "error",
     "traceback": [
      "\u001B[1;31m---------------------------------------------------------------------------\u001B[0m",
      "\u001B[1;31mNameError\u001B[0m                                 Traceback (most recent call last)",
      "Cell \u001B[1;32mIn[39], line 1\u001B[0m\n\u001B[1;32m----> 1\u001B[0m \u001B[43mplt\u001B[49m\u001B[38;5;241m.\u001B[39mplot(dffREM)\n\u001B[0;32m      2\u001B[0m plt\u001B[38;5;241m.\u001B[39mplot(dffREMZscored)\n",
      "\u001B[1;31mNameError\u001B[0m: name 'plt' is not defined"
     ]
    }
   ],
   "source": [
    "plt.plot(dffREM)\n",
    "plt.plot(dffREMZscored)"
   ]
  },
  {
   "cell_type": "code",
   "execution_count": 40,
   "id": "628336ac-dc0d-4add-9c75-343bd2e44d3a",
   "metadata": {
    "ExecuteTime": {
     "end_time": "2024-06-14T12:17:15.746303Z",
     "start_time": "2024-06-14T12:17:15.726311Z"
    }
   },
   "outputs": [
    {
     "ename": "NameError",
     "evalue": "name 'plt' is not defined",
     "output_type": "error",
     "traceback": [
      "\u001B[1;31m---------------------------------------------------------------------------\u001B[0m",
      "\u001B[1;31mNameError\u001B[0m                                 Traceback (most recent call last)",
      "Cell \u001B[1;32mIn[40], line 1\u001B[0m\n\u001B[1;32m----> 1\u001B[0m \u001B[43mplt\u001B[49m\u001B[38;5;241m.\u001B[39mplot(sBinned)\n",
      "\u001B[1;31mNameError\u001B[0m: name 'plt' is not defined"
     ]
    }
   ],
   "source": [
    "plt.plot(sBinned)"
   ]
  },
  {
   "cell_type": "code",
   "execution_count": 41,
   "id": "1a5bc1fb-af15-427f-856d-f7105c23284e",
   "metadata": {
    "ExecuteTime": {
     "end_time": "2024-06-14T12:17:15.886272Z",
     "start_time": "2024-06-14T12:17:15.858272Z"
    }
   },
   "outputs": [
    {
     "ename": "NameError",
     "evalue": "name 'nbins' is not defined",
     "output_type": "error",
     "traceback": [
      "\u001B[1;31m---------------------------------------------------------------------------\u001B[0m",
      "\u001B[1;31mNameError\u001B[0m                                 Traceback (most recent call last)",
      "Cell \u001B[1;32mIn[41], line 3\u001B[0m\n\u001B[0;32m      1\u001B[0m sBinned \u001B[38;5;241m=\u001B[39m []\n\u001B[1;32m----> 3\u001B[0m \u001B[38;5;28;01mfor\u001B[39;00m b \u001B[38;5;129;01min\u001B[39;00m \u001B[38;5;28mrange\u001B[39m(\u001B[43mnbins\u001B[49m):\n\u001B[0;32m      5\u001B[0m     \u001B[38;5;28;01mif\u001B[39;00m ((b\u001B[38;5;241m+\u001B[39m\u001B[38;5;241m1\u001B[39m)\u001B[38;5;241m*\u001B[39mlengthPerBin \u001B[38;5;241m<\u001B[39m\u001B[38;5;241m=\u001B[39m s\u001B[38;5;241m.\u001B[39mshape[\u001B[38;5;241m0\u001B[39m]):\n\u001B[0;32m      7\u001B[0m         \u001B[38;5;28mprint\u001B[39m((b\u001B[38;5;241m*\u001B[39mlengthPerBin),((b\u001B[38;5;241m+\u001B[39m\u001B[38;5;241m1\u001B[39m)\u001B[38;5;241m*\u001B[39mlengthPerBin))\n",
      "\u001B[1;31mNameError\u001B[0m: name 'nbins' is not defined"
     ]
    }
   ],
   "source": [
    "sBinned = []\n",
    "\n",
    "for b in range(nbins):\n",
    "\n",
    "    if ((b+1)*lengthPerBin <= s.shape[0]):\n",
    "\n",
    "        print((b*lengthPerBin),((b+1)*lengthPerBin))\n",
    "    \n",
    "        currentBin = s[(b*lengthPerBin):((b+1)*lengthPerBin)]\n",
    "        sBinned.append(np.mean(currentBin))\n",
    "    \n",
    "    else:\n",
    "        print((b*lengthPerBin), s.shape[0])\n",
    "        currentBin = s[(b*lengthPerBin):]\n",
    "        sBinned.append(np.mean(currentBin))\n",
    "\n",
    "    \n",
    "\n",
    "    "
   ]
  },
  {
   "cell_type": "code",
   "execution_count": 42,
   "id": "3af99264-b7d7-451b-a278-aafc08ab50e2",
   "metadata": {
    "ExecuteTime": {
     "end_time": "2024-06-14T12:17:15.948309Z",
     "start_time": "2024-06-14T12:17:15.931298Z"
    }
   },
   "outputs": [
    {
     "data": {
      "text/plain": "[]"
     },
     "execution_count": 42,
     "metadata": {},
     "output_type": "execute_result"
    }
   ],
   "source": [
    "sBinned"
   ]
  },
  {
   "cell_type": "code",
   "execution_count": 43,
   "id": "0f45412e-31b7-4399-91c5-47032c38e4b2",
   "metadata": {
    "ExecuteTime": {
     "end_time": "2024-06-14T12:17:16.027292Z",
     "start_time": "2024-06-14T12:17:16.017307Z"
    }
   },
   "outputs": [
    {
     "data": {
      "text/plain": "[]"
     },
     "execution_count": 43,
     "metadata": {},
     "output_type": "execute_result"
    }
   ],
   "source": [
    "A[1:]"
   ]
  },
  {
   "cell_type": "code",
   "execution_count": 44,
   "id": "5438b521-f8ff-469a-b328-e850cdde0579",
   "metadata": {
    "ExecuteTime": {
     "end_time": "2024-06-14T12:17:16.153262Z",
     "start_time": "2024-06-14T12:17:16.123264Z"
    }
   },
   "outputs": [
    {
     "ename": "NameError",
     "evalue": "name 'bKeep' is not defined",
     "output_type": "error",
     "traceback": [
      "\u001B[1;31m---------------------------------------------------------------------------\u001B[0m",
      "\u001B[1;31mNameError\u001B[0m                                 Traceback (most recent call last)",
      "Cell \u001B[1;32mIn[44], line 1\u001B[0m\n\u001B[1;32m----> 1\u001B[0m NREMbouts \u001B[38;5;241m=\u001B[39m re\u001B[38;5;241m.\u001B[39mfinditer(\u001B[38;5;124m'\u001B[39m\u001B[38;5;124m[n2]\u001B[39m\u001B[38;5;124m{\u001B[39m\u001B[38;5;124m3,}\u001B[39m\u001B[38;5;124m'\u001B[39m,\u001B[43mbKeep\u001B[49m)\n\u001B[0;32m      2\u001B[0m NREMSpans \u001B[38;5;241m=\u001B[39m []\n\u001B[0;32m      3\u001B[0m DffNREM \u001B[38;5;241m=\u001B[39m []\n",
      "\u001B[1;31mNameError\u001B[0m: name 'bKeep' is not defined"
     ]
    }
   ],
   "source": [
    "NREMbouts = re.finditer('[n2]{3,}',bKeep)\n",
    "NREMSpans = []\n",
    "DffNREM = []\n",
    "DffNREMZScored  = []\n",
    "\n",
    "for idx, trans in enumerate(NREMbouts):\n",
    "    Beg = list(trans.span())[0]\n",
    "    End = list(trans.span())[1] - 1\n",
    "\n",
    "    BegDFF = findPosFromTimestamps(timestamps, Beg * 4)\n",
    "    EndDFF = findPosFromTimestamps(timestamps, End * 4)\n",
    "\n",
    "    NREMSpans.append([BegDFF,EndDFF])\n",
    "    DffNREM.append(np.mean(dffKeep[BegDFF:EndDFF]))\n",
    "    DffNREMZScored.append(np.mean(dffKeepZScored[BegDFF:EndDFF]))"
   ]
  },
  {
   "cell_type": "code",
   "execution_count": 45,
   "id": "759f8715-4e70-4a95-8437-d98ed77e9748",
   "metadata": {
    "ExecuteTime": {
     "end_time": "2024-06-14T12:17:16.200304Z",
     "start_time": "2024-06-14T12:17:16.174297Z"
    }
   },
   "outputs": [
    {
     "ename": "NameError",
     "evalue": "name 'bKeep' is not defined",
     "output_type": "error",
     "traceback": [
      "\u001B[1;31m---------------------------------------------------------------------------\u001B[0m",
      "\u001B[1;31mNameError\u001B[0m                                 Traceback (most recent call last)",
      "Cell \u001B[1;32mIn[45], line 1\u001B[0m\n\u001B[1;32m----> 1\u001B[0m Wakebouts \u001B[38;5;241m=\u001B[39m re\u001B[38;5;241m.\u001B[39mfinditer(\u001B[38;5;124m'\u001B[39m\u001B[38;5;124m[w1]\u001B[39m\u001B[38;5;124m{\u001B[39m\u001B[38;5;124m4,}\u001B[39m\u001B[38;5;124m'\u001B[39m,\u001B[43mbKeep\u001B[49m)\n\u001B[0;32m      2\u001B[0m WakeSpans \u001B[38;5;241m=\u001B[39m []\n\u001B[0;32m      3\u001B[0m DffWake \u001B[38;5;241m=\u001B[39m []\n",
      "\u001B[1;31mNameError\u001B[0m: name 'bKeep' is not defined"
     ]
    }
   ],
   "source": [
    "Wakebouts = re.finditer('[w1]{4,}',bKeep)\n",
    "WakeSpans = []\n",
    "DffWake = []\n",
    "DffWakeZScored  = []\n",
    "\n",
    "for idx, trans in enumerate(Wakebouts):\n",
    "    Beg = list(trans.span())[0]\n",
    "    End = list(trans.span())[1] - 1\n",
    "\n",
    "    BegDFF = findPosFromTimestamps(timestamps, Beg * 4)\n",
    "    EndDFF = findPosFromTimestamps(timestamps, End * 4)\n",
    "\n",
    "    WakeSpans.append([BegDFF,EndDFF])\n",
    "    DffWake.append(np.mean(dffKeep[BegDFF:EndDFF]))\n",
    "    DffWakeZScored.append(np.mean(dffKeepZScored[BegDFF:EndDFF]))"
   ]
  },
  {
   "cell_type": "code",
   "execution_count": 46,
   "id": "e3be3249-db70-4cf3-be1b-bdbb408e3e29",
   "metadata": {
    "ExecuteTime": {
     "end_time": "2024-06-14T12:17:16.293294Z",
     "start_time": "2024-06-14T12:17:16.271323Z"
    }
   },
   "outputs": [
    {
     "ename": "NameError",
     "evalue": "name 'DffWakeZScored' is not defined",
     "output_type": "error",
     "traceback": [
      "\u001B[1;31m---------------------------------------------------------------------------\u001B[0m",
      "\u001B[1;31mNameError\u001B[0m                                 Traceback (most recent call last)",
      "Cell \u001B[1;32mIn[46], line 1\u001B[0m\n\u001B[1;32m----> 1\u001B[0m \u001B[38;5;28mlen\u001B[39m(\u001B[43mDffWakeZScored\u001B[49m)\n",
      "\u001B[1;31mNameError\u001B[0m: name 'DffWakeZScored' is not defined"
     ]
    }
   ],
   "source": [
    "len(DffWakeZScored)"
   ]
  },
  {
   "cell_type": "code",
   "execution_count": 47,
   "id": "f29c5a1d-0814-4f90-8835-a77e60e885df",
   "metadata": {
    "ExecuteTime": {
     "end_time": "2024-06-14T12:17:16.371262Z",
     "start_time": "2024-06-14T12:17:16.354296Z"
    }
   },
   "outputs": [
    {
     "ename": "NameError",
     "evalue": "name 'bKeep' is not defined",
     "output_type": "error",
     "traceback": [
      "\u001B[1;31m---------------------------------------------------------------------------\u001B[0m",
      "\u001B[1;31mNameError\u001B[0m                                 Traceback (most recent call last)",
      "Cell \u001B[1;32mIn[47], line 1\u001B[0m\n\u001B[1;32m----> 1\u001B[0m \u001B[43mbKeep\u001B[49m[\u001B[38;5;241m1291\u001B[39m]\n",
      "\u001B[1;31mNameError\u001B[0m: name 'bKeep' is not defined"
     ]
    }
   ],
   "source": [
    "bKeep[1291]"
   ]
  },
  {
   "cell_type": "code",
   "execution_count": 47,
   "id": "6ac779d6-7e0f-42cf-837e-8410216c222d",
   "metadata": {
    "ExecuteTime": {
     "end_time": "2024-06-14T12:17:16.464306Z",
     "start_time": "2024-06-14T12:17:16.455296Z"
    }
   },
   "outputs": [],
   "source": []
  },
  {
   "cell_type": "code",
   "execution_count": 48,
   "id": "6ec11d4e-6901-4c15-9f5b-d457e7f92b91",
   "metadata": {
    "ExecuteTime": {
     "end_time": "2024-06-14T12:17:16.572261Z",
     "start_time": "2024-06-14T12:17:16.551295Z"
    }
   },
   "outputs": [
    {
     "ename": "NameError",
     "evalue": "name 'REMbouts' is not defined",
     "output_type": "error",
     "traceback": [
      "\u001B[1;31m---------------------------------------------------------------------------\u001B[0m",
      "\u001B[1;31mNameError\u001B[0m                                 Traceback (most recent call last)",
      "Cell \u001B[1;32mIn[48], line 1\u001B[0m\n\u001B[1;32m----> 1\u001B[0m \u001B[38;5;28;01mfor\u001B[39;00m idx, trans \u001B[38;5;129;01min\u001B[39;00m \u001B[38;5;28menumerate\u001B[39m(\u001B[43mREMbouts\u001B[49m):\n\u001B[0;32m      3\u001B[0m     Beg \u001B[38;5;241m=\u001B[39m \u001B[38;5;28mlist\u001B[39m(trans\u001B[38;5;241m.\u001B[39mspan())[\u001B[38;5;241m0\u001B[39m]\n\u001B[0;32m      4\u001B[0m     End \u001B[38;5;241m=\u001B[39m \u001B[38;5;28mlist\u001B[39m(trans\u001B[38;5;241m.\u001B[39mspan())[\u001B[38;5;241m1\u001B[39m] \n",
      "\u001B[1;31mNameError\u001B[0m: name 'REMbouts' is not defined"
     ]
    }
   ],
   "source": [
    "for idx, trans in enumerate(REMbouts):\n",
    "\n",
    "    Beg = list(trans.span())[0]\n",
    "    End = list(trans.span())[1] \n",
    "\n",
    "    print(Beg)\n",
    "    print(End)"
   ]
  },
  {
   "cell_type": "code",
   "execution_count": 49,
   "id": "3cf6fe9e-4628-484a-ac7d-e6e5c1284a8e",
   "metadata": {
    "ExecuteTime": {
     "end_time": "2024-06-14T12:17:16.650292Z",
     "start_time": "2024-06-14T12:17:16.623296Z"
    }
   },
   "outputs": [
    {
     "ename": "NameError",
     "evalue": "name 'lcProj' is not defined",
     "output_type": "error",
     "traceback": [
      "\u001B[1;31m---------------------------------------------------------------------------\u001B[0m",
      "\u001B[1;31mNameError\u001B[0m                                 Traceback (most recent call last)",
      "Cell \u001B[1;32mIn[49], line 1\u001B[0m\n\u001B[1;32m----> 1\u001B[0m \u001B[43mlcProj\u001B[49m\u001B[38;5;241m.\u001B[39mDFFSleepStates\u001B[38;5;241m.\u001B[39mpopulate()\n",
      "\u001B[1;31mNameError\u001B[0m: name 'lcProj' is not defined"
     ]
    }
   ],
   "source": [
    "lcProj.DFFSleepStates.populate()"
   ]
  },
  {
   "cell_type": "code",
   "execution_count": 50,
   "id": "8255c4b6-1944-46ce-bcc7-0a78c3cd65dd",
   "metadata": {
    "ExecuteTime": {
     "end_time": "2024-06-14T12:17:16.743266Z",
     "start_time": "2024-06-14T12:17:16.710294Z"
    }
   },
   "outputs": [
    {
     "ename": "NameError",
     "evalue": "name 'lcProj' is not defined",
     "output_type": "error",
     "traceback": [
      "\u001B[1;31m---------------------------------------------------------------------------\u001B[0m",
      "\u001B[1;31mNameError\u001B[0m                                 Traceback (most recent call last)",
      "Cell \u001B[1;32mIn[50], line 1\u001B[0m\n\u001B[1;32m----> 1\u001B[0m \u001B[43mlcProj\u001B[49m\u001B[38;5;241m.\u001B[39mPerson\u001B[38;5;241m.\u001B[39minsert1([\u001B[38;5;124m'\u001B[39m\u001B[38;5;124mGF\u001B[39m\u001B[38;5;124m'\u001B[39m,\u001B[38;5;124m'\u001B[39m\u001B[38;5;124mgfoustou\u001B[39m\u001B[38;5;124m'\u001B[39m,\u001B[38;5;124m'\u001B[39m\u001B[38;5;124mGeorgios Foustoukos\u001B[39m\u001B[38;5;124m'\u001B[39m],skip_duplicates \u001B[38;5;241m=\u001B[39m \u001B[38;5;28;01mTrue\u001B[39;00m)\n\u001B[0;32m      2\u001B[0m lcProj\u001B[38;5;241m.\u001B[39mWindowCalculationDFFStates\u001B[38;5;241m.\u001B[39minsert([[\u001B[38;5;241m3\u001B[39m],[\u001B[38;5;241m6\u001B[39m]],skip_duplicates \u001B[38;5;241m=\u001B[39m \u001B[38;5;28;01mTrue\u001B[39;00m)\n\u001B[0;32m      3\u001B[0m lcProj\u001B[38;5;241m.\u001B[39mRig\u001B[38;5;241m.\u001B[39minsert([[\u001B[38;5;124m'\u001B[39m\u001B[38;5;124mNeurobau1.26\u001B[39m\u001B[38;5;124m'\u001B[39m,\u001B[38;5;124m'\u001B[39m\u001B[38;5;124mNeurobau1 room 26\u001B[39m\u001B[38;5;124m'\u001B[39m],[\u001B[38;5;124m'\u001B[39m\u001B[38;5;124mNeurobau1.32\u001B[39m\u001B[38;5;124m'\u001B[39m,\u001B[38;5;124m'\u001B[39m\u001B[38;5;124mNeurobau1 room 32\u001B[39m\u001B[38;5;124m'\u001B[39m]],skip_duplicates \u001B[38;5;241m=\u001B[39m \u001B[38;5;28;01mTrue\u001B[39;00m)\n",
      "\u001B[1;31mNameError\u001B[0m: name 'lcProj' is not defined"
     ]
    }
   ],
   "source": [
    "lcProj.Person.insert1(['GF','gfoustou','Georgios Foustoukos'],skip_duplicates = True)\n",
    "lcProj.WindowCalculationDFFStates.insert([[3],[6]],skip_duplicates = True)\n",
    "lcProj.Rig.insert([['Neurobau1.26','Neurobau1 room 26'],['Neurobau1.32','Neurobau1 room 32']],skip_duplicates = True)\n",
    "inject_mice_csv_batch()\n",
    "inject_sessions()\n",
    "lcProj.Hypnogram.populate()\n",
    "lcProj.FibDFF.populate()\n",
    "lcProj.LCPeaks.populate()"
   ]
  },
  {
   "cell_type": "code",
   "execution_count": 51,
   "id": "8db17b74-96ae-4545-a749-b20ed5e949b8",
   "metadata": {
    "ExecuteTime": {
     "end_time": "2024-06-14T12:17:16.821282Z",
     "start_time": "2024-06-14T12:17:16.796277Z"
    }
   },
   "outputs": [
    {
     "ename": "NameError",
     "evalue": "name 'lcProj' is not defined",
     "output_type": "error",
     "traceback": [
      "\u001B[1;31m---------------------------------------------------------------------------\u001B[0m",
      "\u001B[1;31mNameError\u001B[0m                                 Traceback (most recent call last)",
      "Cell \u001B[1;32mIn[51], line 1\u001B[0m\n\u001B[1;32m----> 1\u001B[0m \u001B[43mlcProj\u001B[49m\u001B[38;5;241m.\u001B[39mBaselineSession \u001B[38;5;241m&\u001B[39m \u001B[38;5;124m'\u001B[39m\u001B[38;5;124mmouse_name = \u001B[39m\u001B[38;5;124m\"\u001B[39m\u001B[38;5;124mAMYG03\u001B[39m\u001B[38;5;124m\"\u001B[39m\u001B[38;5;124m'\u001B[39m\n",
      "\u001B[1;31mNameError\u001B[0m: name 'lcProj' is not defined"
     ]
    }
   ],
   "source": [
    "lcProj.BaselineSession & 'mouse_name = \"AMYG03\"'"
   ]
  },
  {
   "cell_type": "code",
   "execution_count": 52,
   "id": "0c2400b2-d1ef-43c9-bc08-d6b0df108f71",
   "metadata": {
    "ExecuteTime": {
     "end_time": "2024-06-14T12:17:16.883265Z",
     "start_time": "2024-06-14T12:17:16.862262Z"
    }
   },
   "outputs": [
    {
     "ename": "NameError",
     "evalue": "name 'lcProj' is not defined",
     "output_type": "error",
     "traceback": [
      "\u001B[1;31m---------------------------------------------------------------------------\u001B[0m",
      "\u001B[1;31mNameError\u001B[0m                                 Traceback (most recent call last)",
      "Cell \u001B[1;32mIn[52], line 1\u001B[0m\n\u001B[1;32m----> 1\u001B[0m dff \u001B[38;5;241m=\u001B[39m (\u001B[43mlcProj\u001B[49m\u001B[38;5;241m.\u001B[39mFibDFF \u001B[38;5;241m&\u001B[39m \u001B[38;5;124m'\u001B[39m\u001B[38;5;124mmouse_name = \u001B[39m\u001B[38;5;124m\"\u001B[39m\u001B[38;5;124mTHAL06\u001B[39m\u001B[38;5;124m\"\u001B[39m\u001B[38;5;124m'\u001B[39m)\u001B[38;5;241m.\u001B[39mfetch1(\u001B[38;5;124m'\u001B[39m\u001B[38;5;124mdff\u001B[39m\u001B[38;5;124m'\u001B[39m)\n\u001B[0;32m      2\u001B[0m time \u001B[38;5;241m=\u001B[39m (lcProj\u001B[38;5;241m.\u001B[39mFibDFF \u001B[38;5;241m&\u001B[39m \u001B[38;5;124m'\u001B[39m\u001B[38;5;124mmouse_name = \u001B[39m\u001B[38;5;124m\"\u001B[39m\u001B[38;5;124mTHAL06\u001B[39m\u001B[38;5;124m\"\u001B[39m\u001B[38;5;124m'\u001B[39m)\u001B[38;5;241m.\u001B[39mfetch1(\u001B[38;5;124m'\u001B[39m\u001B[38;5;124mtimestamps\u001B[39m\u001B[38;5;124m'\u001B[39m)\n",
      "\u001B[1;31mNameError\u001B[0m: name 'lcProj' is not defined"
     ]
    }
   ],
   "source": [
    "dff = (lcProj.FibDFF & 'mouse_name = \"THAL06\"').fetch1('dff')\n",
    "time = (lcProj.FibDFF & 'mouse_name = \"THAL06\"').fetch1('timestamps')"
   ]
  },
  {
   "cell_type": "code",
   "execution_count": 53,
   "id": "3473c14e-4f9d-41dd-8f75-1a275fd4e0cc",
   "metadata": {
    "ExecuteTime": {
     "end_time": "2024-06-14T12:17:17.503818Z",
     "start_time": "2024-06-14T12:17:16.993295Z"
    }
   },
   "outputs": [],
   "source": [
    "from Schema.UsefulFunctions import ElimMA, deltaDynamics, maDynamics, CorrectMirrorAnimals, findPosFromTimestamps"
   ]
  },
  {
   "cell_type": "code",
   "execution_count": 54,
   "id": "43732f89-c0b1-487e-a9c1-6dbc0358140d",
   "metadata": {
    "ExecuteTime": {
     "end_time": "2024-06-14T12:17:17.519818Z",
     "start_time": "2024-06-14T12:17:17.505829Z"
    }
   },
   "outputs": [],
   "source": [
    "bfile = 'wrrrwwwwww'"
   ]
  },
  {
   "cell_type": "code",
   "execution_count": 55,
   "id": "5474ae34-7344-4025-bf57-af5b334751d3",
   "metadata": {
    "ExecuteTime": {
     "end_time": "2024-06-14T12:17:17.535824Z",
     "start_time": "2024-06-14T12:17:17.520819Z"
    }
   },
   "outputs": [],
   "source": [
    "REMbouts = re.finditer('[r3]{3,}',bfile)\n"
   ]
  },
  {
   "cell_type": "code",
   "execution_count": 56,
   "id": "3b72503c-3a67-4768-8613-fc86ca613bd8",
   "metadata": {
    "ExecuteTime": {
     "end_time": "2024-06-14T12:17:17.551862Z",
     "start_time": "2024-06-14T12:17:17.538837Z"
    }
   },
   "outputs": [
    {
     "name": "stdout",
     "output_type": "stream",
     "text": [
      "1\n",
      "3\n"
     ]
    }
   ],
   "source": [
    "for idx, trans in enumerate(REMbouts):\n",
    "    Beg = list(trans.span())[0]\n",
    "    End = list(trans.span())[1] - 1\n",
    "\n",
    "    print(Beg)\n",
    "    print(End)"
   ]
  },
  {
   "cell_type": "code",
   "execution_count": 57,
   "id": "a8c39832-b134-41e0-ac62-fc327d7d5d22",
   "metadata": {
    "ExecuteTime": {
     "end_time": "2024-06-14T12:17:17.676824Z",
     "start_time": "2024-06-14T12:17:17.552862Z"
    }
   },
   "outputs": [
    {
     "ename": "NameError",
     "evalue": "name 'time' is not defined",
     "output_type": "error",
     "traceback": [
      "\u001B[1;31m---------------------------------------------------------------------------\u001B[0m",
      "\u001B[1;31mNameError\u001B[0m                                 Traceback (most recent call last)",
      "Cell \u001B[1;32mIn[57], line 1\u001B[0m\n\u001B[1;32m----> 1\u001B[0m BegDFF \u001B[38;5;241m=\u001B[39m findPosFromTimestamps(\u001B[43mtime\u001B[49m, Beg\u001B[38;5;241m*\u001B[39m\u001B[38;5;241m4\u001B[39m)\n\u001B[0;32m      2\u001B[0m EndDFF \u001B[38;5;241m=\u001B[39m findPosFromTimestamps(time, End\u001B[38;5;241m*\u001B[39m\u001B[38;5;241m4\u001B[39m)\n",
      "\u001B[1;31mNameError\u001B[0m: name 'time' is not defined"
     ]
    }
   ],
   "source": [
    "BegDFF = findPosFromTimestamps(time, Beg*4)\n",
    "EndDFF = findPosFromTimestamps(time, End*4)\n"
   ]
  },
  {
   "cell_type": "code",
   "execution_count": null,
   "id": "fbce22d5-75f2-480f-bea0-04b3cff07dd4",
   "metadata": {
    "ExecuteTime": {
     "start_time": "2024-06-14T12:17:17.678828Z"
    }
   },
   "outputs": [],
   "source": [
    "BegDFF"
   ]
  },
  {
   "cell_type": "code",
   "execution_count": null,
   "id": "57c86902-8dfe-4261-b728-ad482423b4cf",
   "metadata": {
    "ExecuteTime": {
     "start_time": "2024-06-14T12:17:17.679826Z"
    }
   },
   "outputs": [],
   "source": [
    "time[235]"
   ]
  },
  {
   "cell_type": "code",
   "execution_count": null,
   "id": "c558975d-6acb-4e26-bc3c-bc129bf76508",
   "metadata": {
    "ExecuteTime": {
     "start_time": "2024-06-14T12:17:17.680822Z"
    }
   },
   "outputs": [],
   "source": [
    "time[EndDFF-1]"
   ]
  },
  {
   "cell_type": "code",
   "execution_count": null,
   "id": "ff263744-cc9d-4e28-8ccd-fb1c92c4e669",
   "metadata": {
    "ExecuteTime": {
     "start_time": "2024-06-14T12:17:17.681824Z"
    }
   },
   "outputs": [],
   "source": [
    "[BegDFF,EndDFF]"
   ]
  },
  {
   "cell_type": "code",
   "execution_count": null,
   "id": "ad2ecdb3-612e-438c-8451-b7c5c4bdfa1f",
   "metadata": {
    "ExecuteTime": {
     "start_time": "2024-06-14T12:17:17.683830Z"
    }
   },
   "outputs": [],
   "source": [
    "import mat73\n",
    "\n",
    "key = {'mouse_name':\"MHIP03\",\n",
    "       'session_date':\"2023-08-21\"}"
   ]
  },
  {
   "cell_type": "code",
   "execution_count": null,
   "id": "187a1fe0-3398-4649-a393-24a5a90cb963",
   "metadata": {
    "ExecuteTime": {
     "start_time": "2024-06-14T12:17:17.684818Z"
    }
   },
   "outputs": [],
   "source": [
    "\n",
    "key = {'mouse_name':\"AMYG01\",\n",
    "       'session_date':\"2023-11-30\"}"
   ]
  },
  {
   "cell_type": "code",
   "execution_count": null,
   "id": "56181b01-9ee7-4ed5-969c-a8d853104482",
   "metadata": {
    "ExecuteTime": {
     "start_time": "2024-06-14T12:17:17.685819Z"
    }
   },
   "outputs": [],
   "source": [
    "fileToRead = (lcProj.Session & key).fetch1('file_name')"
   ]
  },
  {
   "cell_type": "code",
   "execution_count": null,
   "id": "302a1305-bd86-4be1-8234-77495944410a",
   "metadata": {
    "ExecuteTime": {
     "start_time": "2024-06-14T12:17:17.687827Z"
    }
   },
   "outputs": [],
   "source": [
    "fileToRead = (lcProj.Session & key).fetch1('file_name')\n",
    "fileDff = mat73.loadmat(fileToRead, only_include='dff')"
   ]
  },
  {
   "cell_type": "code",
   "execution_count": null,
   "id": "187c5212-76b5-4ede-b584-d09de3767a91",
   "metadata": {
    "ExecuteTime": {
     "start_time": "2024-06-14T12:17:17.688829Z"
    }
   },
   "outputs": [],
   "source": [
    "lcProj.Mouse & 'mouse_name = \"MHIP06\"'"
   ]
  },
  {
   "cell_type": "code",
   "execution_count": null,
   "id": "0067b25d-39a2-4063-a9d2-0e04f0c4a140",
   "metadata": {
    "ExecuteTime": {
     "start_time": "2024-06-14T12:17:17.689819Z"
    }
   },
   "outputs": [],
   "source": [
    "dffSamples = fileDff['dff'][1,:]"
   ]
  },
  {
   "cell_type": "code",
   "execution_count": 58,
   "id": "c3414e0f-a048-4dc4-86be-f5c54e0756ad",
   "metadata": {
    "ExecuteTime": {
     "end_time": "2024-06-14T12:17:17.819817Z",
     "start_time": "2024-06-14T12:17:17.802856Z"
    }
   },
   "outputs": [
    {
     "ename": "NameError",
     "evalue": "name 'dffSamples' is not defined",
     "output_type": "error",
     "traceback": [
      "\u001B[1;31m---------------------------------------------------------------------------\u001B[0m",
      "\u001B[1;31mNameError\u001B[0m                                 Traceback (most recent call last)",
      "Cell \u001B[1;32mIn[58], line 1\u001B[0m\n\u001B[1;32m----> 1\u001B[0m \u001B[43mdffSamples\u001B[49m\u001B[38;5;241m.\u001B[39mshape\n",
      "\u001B[1;31mNameError\u001B[0m: name 'dffSamples' is not defined"
     ]
    }
   ],
   "source": [
    "dffSamples.shape"
   ]
  },
  {
   "cell_type": "code",
   "execution_count": 59,
   "id": "10165d9f-6536-4035-b2ed-2739cd3860ed",
   "metadata": {
    "ExecuteTime": {
     "end_time": "2024-06-14T12:17:17.850824Z",
     "start_time": "2024-06-14T12:17:17.833818Z"
    }
   },
   "outputs": [
    {
     "ename": "NameError",
     "evalue": "name 'np' is not defined",
     "output_type": "error",
     "traceback": [
      "\u001B[1;31m---------------------------------------------------------------------------\u001B[0m",
      "\u001B[1;31mNameError\u001B[0m                                 Traceback (most recent call last)",
      "Cell \u001B[1;32mIn[59], line 1\u001B[0m\n\u001B[1;32m----> 1\u001B[0m timestamps \u001B[38;5;241m=\u001B[39m \u001B[43mnp\u001B[49m\u001B[38;5;241m.\u001B[39mtranspose(np\u001B[38;5;241m.\u001B[39marange(\u001B[38;5;241m0\u001B[39m,\u001B[38;5;241m12\u001B[39m,\u001B[38;5;241m1\u001B[39m\u001B[38;5;241m/\u001B[39m\u001B[38;5;241m36000\u001B[39m))\n",
      "\u001B[1;31mNameError\u001B[0m: name 'np' is not defined"
     ]
    }
   ],
   "source": [
    "timestamps = np.transpose(np.arange(0,12,1/36000))\n"
   ]
  },
  {
   "cell_type": "code",
   "execution_count": 60,
   "id": "7c6f4277-c878-40f5-b8a7-580980887fc8",
   "metadata": {
    "ExecuteTime": {
     "end_time": "2024-06-14T12:17:17.974849Z",
     "start_time": "2024-06-14T12:17:17.943818Z"
    }
   },
   "outputs": [
    {
     "ename": "NameError",
     "evalue": "name 'timestamps' is not defined",
     "output_type": "error",
     "traceback": [
      "\u001B[1;31m---------------------------------------------------------------------------\u001B[0m",
      "\u001B[1;31mNameError\u001B[0m                                 Traceback (most recent call last)",
      "Cell \u001B[1;32mIn[60], line 1\u001B[0m\n\u001B[1;32m----> 1\u001B[0m \u001B[43mtimestamps\u001B[49m\u001B[38;5;241m.\u001B[39mshape\n",
      "\u001B[1;31mNameError\u001B[0m: name 'timestamps' is not defined"
     ]
    }
   ],
   "source": [
    "timestamps.shape"
   ]
  },
  {
   "cell_type": "code",
   "execution_count": 2,
   "id": "e7a62718-78ee-45d0-9bd3-42e1477c9770",
   "metadata": {
    "tags": [],
    "ExecuteTime": {
     "end_time": "2024-06-17T07:23:23.584991Z",
     "start_time": "2024-06-17T06:07:38.690106Z"
    }
   },
   "outputs": [
    {
     "name": "stdout",
     "output_type": "stream",
     "text": [
      "****\n",
      "E:\\aluthi1\\sleep\\D2c\\PROJECT_Georgios\\LC_Proj_Neurons\\MiceMetaData\n"
     ]
    },
    {
     "name": "stderr",
     "output_type": "stream",
     "text": [
      "1it [00:00, 14.49it/s]\n"
     ]
    },
    {
     "name": "stdout",
     "output_type": "stream",
     "text": [
      "E:\\aluthi1\\sleep\\D2c\\PROJECT_Georgios\\LC_Proj_Neurons\\MiceMetaData\\MiceLCProj.csv\n",
      "Everything is fine.\n",
      "{'mouse_name': 'AMYG01', 'responsible_experimenter': 'Georgios Foustoukos', 'pyrat_id': 25249, 'genotype': 'C57BL/6J', 'gender': 'f', 'birth_date': '19.08.2023', 'licence': '2401.4', 'dg': 2, 'start_date': '30.11.2023', 'age': 10, 'sacrifice_date': '06.02.2024', 'proj_type': 'Amy', 'filename': 'MiceLCProj.csv'}\n",
      "AMYG01 has been ingested.\n",
      "Everything is fine.\n",
      "{'mouse_name': 'AMYG02', 'responsible_experimenter': 'Georgios Foustoukos', 'pyrat_id': 25533, 'genotype': 'C57BL/6J', 'gender': 'm', 'birth_date': '25.10.2023', 'licence': '2401.4', 'dg': 2, 'start_date': '24.01.2024', 'age': 12, 'sacrifice_date': '11.03.2024', 'proj_type': 'Amy', 'filename': 'MiceLCProj.csv'}\n",
      "AMYG02 has been ingested.\n",
      "Everything is fine.\n",
      "{'mouse_name': 'MHIP03', 'responsible_experimenter': 'Georgios Foustoukos', 'pyrat_id': 24813, 'genotype': 'C57BL/6J', 'gender': 'm', 'birth_date': '02.06.2023', 'licence': '2401.4', 'dg': 2, 'start_date': '23.03.2022', 'age': 11, 'sacrifice_date': '01.05.2022', 'proj_type': 'dCA1', 'filename': 'MiceLCProj.csv'}\n",
      "MHIP03 has been ingested.\n",
      "Everything is fine.\n",
      "{'mouse_name': 'MHIP05', 'responsible_experimenter': 'Georgios Foustoukos', 'pyrat_id': 25516, 'genotype': 'C57BL/6J', 'gender': 'm', 'birth_date': '14.10.2023', 'licence': '2401.4', 'dg': 2, 'start_date': '21.08.2023', 'age': 10, 'sacrifice_date': '11.03.2024', 'proj_type': 'dCA1', 'filename': 'MiceLCProj.csv'}\n",
      "MHIP05 has been ingested.\n",
      "Everything is fine.\n",
      "{'mouse_name': 'MHIP06', 'responsible_experimenter': 'Georgios Foustoukos', 'pyrat_id': 25963, 'genotype': 'C57BL/6J', 'gender': 'm', 'birth_date': '14.01.2024', 'licence': '2401.4', 'dg': 2, 'start_date': '17.04.2024', 'age': 12, 'sacrifice_date': 'Ongoing', 'proj_type': 'dCA1', 'filename': 'MiceLCProj.csv'}\n",
      "MHIP06 has been ingested.\n",
      "Everything is fine.\n",
      "{'mouse_name': 'MPC05', 'responsible_experimenter': 'Georgios Foustoukos', 'pyrat_id': 24344, 'genotype': 'C57BL/6J', 'gender': 'm', 'birth_date': '25.03.2023', 'licence': '2401.4', 'dg': 2, 'start_date': '23.03.2022', 'age': 11, 'sacrifice_date': '06.02.2024', 'proj_type': 'mPFC', 'filename': 'MiceLCProj.csv'}\n",
      "MPC05 has been ingested.\n",
      "Everything is fine.\n",
      "{'mouse_name': 'MPC06', 'responsible_experimenter': 'Georgios Foustoukos', 'pyrat_id': 25185, 'genotype': 'C57BL/6J', 'gender': 'm', 'birth_date': '05.08.2023', 'licence': '2401.4', 'dg': 2, 'start_date': '30.11.2023', 'age': 10, 'sacrifice_date': '06.02.2024', 'proj_type': 'mPFC', 'filename': 'MiceLCProj.csv'}\n",
      "MPC06 has been ingested.\n",
      "Everything is fine.\n",
      "{'mouse_name': 'THAL01', 'responsible_experimenter': 'Georgios Foustoukos', 'pyrat_id': 24755, 'genotype': 'C57BL/6J', 'gender': 'm', 'birth_date': '20.05.2023', 'licence': '2401.4', 'dg': 2, 'start_date': '28.03.2022', 'age': 12, 'sacrifice_date': '02.06.2024', 'proj_type': 'Thal', 'filename': 'MiceLCProj.csv'}\n",
      "THAL01 has been ingested.\n",
      "Everything is fine.\n",
      "{'mouse_name': 'THAL02', 'responsible_experimenter': 'Georgios Foustoukos', 'pyrat_id': 25248, 'genotype': 'C57BL/6J', 'gender': 'f', 'birth_date': '19.08.2023', 'licence': '2401.4', 'dg': 2, 'start_date': '30.11.2023', 'age': 16, 'sacrifice_date': '17.01.2024', 'proj_type': 'Thal', 'filename': 'MiceLCProj.csv'}\n",
      "THAL02 has been ingested.\n",
      "Everything is fine.\n",
      "{'mouse_name': 'THAL04', 'responsible_experimenter': 'Georgios Foustoukos', 'pyrat_id': 25537, 'genotype': 'C57BL/6J', 'gender': 'f', 'birth_date': '25.10.2023', 'licence': '2401.4', 'dg': 2, 'start_date': '24.02.2024', 'age': 13, 'sacrifice_date': '11.03.2024', 'proj_type': 'Thal', 'filename': 'MiceLCProj.csv'}\n",
      "THAL04 has been ingested.\n",
      "Everything is fine.\n",
      "{'mouse_name': 'THAL06', 'responsible_experimenter': 'Georgios Foustoukos', 'pyrat_id': 25964, 'genotype': 'C57BL/6J', 'gender': 'm', 'birth_date': '14.01.2024', 'licence': '3947a', 'dg': 2, 'start_date': '15.04.2024', 'age': 12, 'sacrifice_date': 'Ongoing', 'proj_type': 'Thal', 'filename': 'MiceLCProj.csv'}\n",
      "THAL06 has been ingested.\n",
      "Everything is fine.\n",
      "{'mouse_name': 'MPC09', 'responsible_experimenter': 'Georgios Foustoukos', 'pyrat_id': 26200, 'genotype': 'C57BL/6J', 'gender': 'm', 'birth_date': '02.03.2024', 'licence': '3947a', 'dg': 2, 'start_date': '29.05.2024', 'age': 12, 'sacrifice_date': 'Ongoing', 'proj_type': 'mPFC', 'filename': 'MiceLCProj.csv'}\n",
      "MPC09 has been ingested.\n",
      "Everything is fine.\n",
      "{'mouse_name': 'MPC10', 'responsible_experimenter': 'Georgios Foustoukos', 'pyrat_id': 26201, 'genotype': 'C57BL/6J', 'gender': 'm', 'birth_date': '02.03.2024', 'licence': '3947a', 'dg': 2, 'start_date': '29.05.2024', 'age': 12, 'sacrifice_date': 'Ongoing', 'proj_type': 'mPFC', 'filename': 'MiceLCProj.csv'}\n",
      "MPC10 has been ingested.\n"
     ]
    },
    {
     "name": "stderr",
     "output_type": "stream",
     "text": [
      " 36%|███▌      | 5/14 [00:00<00:00, 45.05it/s]"
     ]
    },
    {
     "name": "stdout",
     "output_type": "stream",
     "text": [
      "This is a mouse from the LC and fiber photometry data with projection neurons!\n",
      "----------Mouse: AMYG01----------\n",
      "Loading sessions for mouse: AMYG01\n",
      "This is a mouse from the LC and fiber photometry data with projection neurons!\n",
      "----------Mouse: AMYG02----------\n",
      "Loading sessions for mouse: AMYG02\n",
      "This is a mouse from the LC and fiber photometry data with projection neurons!\n",
      "----------Mouse: AMYG03----------\n",
      "Loading sessions for mouse: AMYG03\n",
      "This is a mouse from the LC and fiber photometry data with projection neurons!\n",
      "----------Mouse: MHIP03----------\n",
      "Loading sessions for mouse: MHIP03\n",
      "This is a mouse from the LC and fiber photometry data with projection neurons!\n",
      "----------Mouse: MHIP05----------\n",
      "Loading sessions for mouse: MHIP05\n",
      "This is a mouse from the LC and fiber photometry data with projection neurons!\n",
      "----------Mouse: MHIP06----------\n",
      "Loading sessions for mouse: MHIP06\n",
      "This is a mouse from the LC and fiber photometry data with projection neurons!\n",
      "----------Mouse: MPC05----------\n",
      "Loading sessions for mouse: MPC05\n",
      "This is a mouse from the LC and fiber photometry data with projection neurons!\n",
      "----------Mouse: MPC06----------\n",
      "Loading sessions for mouse: MPC06\n",
      "This is a mouse from the LC and fiber photometry data with projection neurons!\n",
      "----------Mouse: MPC09----------\n",
      "Loading sessions for mouse: MPC09\n",
      "This is a mouse from the LC and fiber photometry data with projection neurons!\n",
      "----------Mouse: MPC10----------\n"
     ]
    },
    {
     "name": "stderr",
     "output_type": "stream",
     "text": [
      " 71%|███████▏  | 10/14 [00:00<00:00, 31.52it/s]"
     ]
    },
    {
     "name": "stdout",
     "output_type": "stream",
     "text": [
      "Loading sessions for mouse: MPC10\n",
      "This is a mouse from the LC and fiber photometry data with projection neurons!\n",
      "----------Mouse: THAL01----------\n",
      "Loading sessions for mouse: THAL01\n",
      "This is a mouse from the LC and fiber photometry data with projection neurons!\n",
      "----------Mouse: THAL02----------\n",
      "Loading sessions for mouse: THAL02\n",
      "This is a mouse from the LC and fiber photometry data with projection neurons!\n",
      "----------Mouse: THAL04----------\n",
      "Loading sessions for mouse: THAL04\n"
     ]
    },
    {
     "name": "stderr",
     "output_type": "stream",
     "text": [
      "100%|██████████| 14/14 [00:00<00:00, 36.94it/s]"
     ]
    },
    {
     "name": "stdout",
     "output_type": "stream",
     "text": [
      "This is a mouse from the LC and fiber photometry data with projection neurons!\n",
      "----------Mouse: THAL06----------\n",
      "Loading sessions for mouse: THAL06\n"
     ]
    },
    {
     "name": "stderr",
     "output_type": "stream",
     "text": [
      "\n",
      "WARNING:root:Variable \"/states\" was specified to be loaded but could not be found.\n"
     ]
    },
    {
     "name": "stdout",
     "output_type": "stream",
     "text": [
      "Inserting the hypogram of mouse: MPC09 for session: 2024-05-29\n",
      "\\\\nasdcsr.unil.ch\\RECHERCHE\\FAC\\FBM\\DNF\\aluthi1\\fbm_move\\D2c\\_PROJECTS\\PROJECT_Georgios\\LC_Proj_Neurons\\Ephys\\MPC09\\240529_MPC09_12hbas1_bt.mat contains the following vars:\n",
      "  #refs#\n",
      "  Infos\n",
      "  Infos/Configuration\n",
      "  Infos/Configuration/A1\n",
      "  Infos/Configuration/A2\n",
      "  Infos/FileLen\n",
      "  Infos/Fs\n",
      "  Infos/OriginalName\n",
      "  Infos/RecordingDate\n",
      "  b\n",
      "  bTrans\n",
      "  dff\n",
      "  traceName\n",
      "  traces\n"
     ]
    },
    {
     "name": "stderr",
     "output_type": "stream",
     "text": [
      "WARNING:root:Variable \"/states\" was specified to be loaded but could not be found.\n"
     ]
    },
    {
     "name": "stdout",
     "output_type": "stream",
     "text": [
      "--This file is scored\n",
      "Inserting the hypogram of mouse: MPC09 for session: 2024-06-07\n",
      "\\\\nasdcsr.unil.ch\\RECHERCHE\\FAC\\FBM\\DNF\\aluthi1\\fbm_move\\D2c\\_PROJECTS\\PROJECT_Georgios\\LC_Proj_Neurons\\Ephys\\MPC09\\240607_MPC09_12hBas2_bt.mat contains the following vars:\n",
      "  #refs#\n",
      "  Infos\n",
      "  Infos/Configuration\n",
      "  Infos/Configuration/A1\n",
      "  Infos/FileLen\n",
      "  Infos/Fs\n",
      "  Infos/OriginalName\n",
      "  Infos/RecordingDate\n",
      "  b\n",
      "  bTrans\n",
      "  dff\n",
      "  traceName\n",
      "  traces\n"
     ]
    },
    {
     "name": "stderr",
     "output_type": "stream",
     "text": [
      "WARNING:root:Variable \"/states\" was specified to be loaded but could not be found.\n"
     ]
    },
    {
     "name": "stdout",
     "output_type": "stream",
     "text": [
      "--This file is scored\n",
      "Inserting the hypogram of mouse: MPC09 for session: 2024-06-12\n",
      "\\\\nasdcsr.unil.ch\\RECHERCHE\\FAC\\FBM\\DNF\\aluthi1\\fbm_move\\D2c\\_PROJECTS\\PROJECT_Georgios\\LC_Proj_Neurons\\Ephys\\MPC09\\240612_MPC09_4hSSD_bt.mat contains the following vars:\n",
      "  #refs#\n",
      "  Infos\n",
      "  Infos/Configuration\n",
      "  Infos/Configuration/A1\n",
      "  Infos/Configuration/A2\n",
      "  Infos/Configuration/A3\n",
      "  Infos/Configuration/A4\n",
      "  Infos/FileLen\n",
      "  Infos/Fs\n",
      "  Infos/OriginalName\n",
      "  Infos/RecordingDate\n",
      "  b\n",
      "  bTrans\n",
      "  dff\n",
      "  traceName\n",
      "  traces\n",
      "--This file is scored\n",
      "Inserting the DFF of mouse: MPC09 for session: 2024-05-29\n",
      "Inserting the DFF of mouse: MPC09 for session: 2024-06-07\n",
      "Inserting the DFF of mouse: MPC09 for session: 2024-06-12\n",
      "Inserting the DFF of mouse: MPC10 for session: 2024-05-29\n",
      "Computing mouse: MPC09 for session: 2024-05-29\n",
      "Computing the mean DFF for every sleep state during the baseline recordings for the first 3 hours\n",
      "Computing mouse: MPC09 for session: 2024-05-29\n",
      "Computing the mean DFF for every sleep state during the baseline recordings for the first 6 hours\n",
      "Computing mouse: MPC09 for session: 2024-06-07\n",
      "Computing the mean DFF for every sleep state during the baseline recordings for the first 3 hours\n",
      "Computing mouse: MPC09 for session: 2024-06-07\n",
      "Computing the mean DFF for every sleep state during the baseline recordings for the first 6 hours\n",
      "Computing mouse: MPC10 for session: 2024-05-29\n",
      "Computing the mean DFF for every sleep state during the baseline recordings for the first 3 hours\n",
      "Computing mouse: MPC10 for session: 2024-05-29\n",
      "Computing the mean DFF for every sleep state during the baseline recordings for the first 6 hours\n",
      "Computing mouse: MPC09 for session: 2024-05-29\n",
      "Baseline Calculation started!\n",
      "Baseline Calculated!\n",
      "Computing mouse: MPC09 for session: 2024-06-07\n",
      "Baseline Calculation started!\n",
      "Baseline Calculated!\n",
      "Computing mouse: MPC10 for session: 2024-05-29\n",
      "Baseline Calculation started!\n",
      "Baseline Calculated!\n",
      "Computing mouse: THAL01 for session: 2023-08-11\n",
      "Baseline Calculation started!\n",
      "Baseline Calculated!\n",
      "Computing mouse: THAL01 for session: 2023-08-18\n",
      "Baseline Calculation started!\n",
      "Baseline Calculated!\n",
      "Computing mouse: THAL02 for session: 2023-11-30\n",
      "Baseline Calculation started!\n",
      "Baseline Calculated!\n",
      "Computing mouse: THAL02 for session: 2023-12-04\n",
      "Baseline Calculation started!\n",
      "Baseline Calculated!\n",
      "Computing mouse: THAL04 for session: 2024-02-06\n",
      "Baseline Calculation started!\n",
      "Baseline Calculated!\n",
      "Computing mouse: THAL04 for session: 2024-02-14\n",
      "Baseline Calculation started!\n",
      "Baseline Calculated!\n",
      "Computing mouse: THAL06 for session: 2024-04-15\n",
      "Baseline Calculation started!\n",
      "Baseline Calculated!\n",
      "Computing mouse: THAL06 for session: 2024-04-19\n",
      "Baseline Calculation started!\n",
      "Baseline Calculated!\n",
      "Computing mouse: MPC09 for session: 2024-05-29\n",
      "Loading traces---\n",
      "Computing delta---\n",
      "Computing sigma---\n",
      "Computing gamma---\n",
      "Computing mouse: MPC09 for session: 2024-06-07\n",
      "Loading traces---\n",
      "Computing delta---\n",
      "Computing sigma---\n",
      "Computing gamma---\n",
      "Computing mouse: MPC10 for session: 2024-05-29\n",
      "Loading traces---\n",
      "Computing delta---\n",
      "Computing sigma---\n",
      "Computing gamma---\n"
     ]
    }
   ],
   "source": [
    "lcProj.Person.insert1(['GF','gfoustou','Georgios Foustoukos'],skip_duplicates = True)\n",
    "lcProj.WindowCalculationDFFStates.insert([[3],[6]],skip_duplicates = True)\n",
    "lcProj.Rig.insert([['Neurobau1.26','Neurobau1 room 26'],['Neurobau1.32','Neurobau1 room 32']],skip_duplicates = True)\n",
    "inject_mice_csv_batch()\n",
    "inject_sessions()\n",
    "lcProj.Hypnogram.populate()\n",
    "lcProj.FibDFF.populate()\n",
    "lcProj.DFFSleepStates.populate()\n",
    "lcProj.LCPeaks.populate()\n",
    "lcProj.MGT.populate()\n"
   ]
  },
  {
   "cell_type": "code",
   "execution_count": 61,
   "id": "0ac2bf23-0cd8-42b1-a159-a1c0aeb5b591",
   "metadata": {
    "ExecuteTime": {
     "end_time": "2024-06-14T12:17:18.268862Z",
     "start_time": "2024-06-14T12:17:18.252833Z"
    }
   },
   "outputs": [],
   "source": []
  }
 ],
 "metadata": {
  "kernelspec": {
   "display_name": "Python 3 (ipykernel)",
   "language": "python",
   "name": "python3"
  },
  "language_info": {
   "codemirror_mode": {
    "name": "ipython",
    "version": 3
   },
   "file_extension": ".py",
   "mimetype": "text/x-python",
   "name": "python",
   "nbconvert_exporter": "python",
   "pygments_lexer": "ipython3",
   "version": "3.9.18"
  },
  "toc-autonumbering": true,
  "toc-showcode": true
 },
 "nbformat": 4,
 "nbformat_minor": 5
}
