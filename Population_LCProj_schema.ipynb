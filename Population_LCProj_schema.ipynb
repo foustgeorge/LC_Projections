{
 "cells": [
  {
   "cell_type": "code",
   "outputs": [
    {
     "name": "stderr",
     "output_type": "stream",
     "text": [
      "[2024-06-17 10:27:25,289][INFO]: Connecting root@130.223.197.5:3305\n",
      "[2024-06-17 10:27:25,356][INFO]: Connected root@130.223.197.5:3305\n"
     ]
    }
   ],
   "source": [
    "import datajoint as dj\n",
    "\n",
    "import numpy as np\n",
    "dj.config[\"enable_python_native_blobs\"] = True\n",
    "dj.config['database.host'] = '130.223.197.5:3305' \n",
    "dj.config['database.user'] = 'root'\n",
    "dj.config['database.password'] = 'dbD9pzum@RifRaf'\n",
    "ConnMessage=dj.conn()\n",
    "\n",
    "import matplotlib.pyplot as plt\n",
    "from scipy import stats\n",
    "from Schema import lcProj\n",
    "from Schema.mouse_inject_lc_proj import inject_mice_csv_batch, inject_sessions\n",
    "from Schema.baseline import baseline\n",
    "all_schemas=dj.list_schemas()\n",
    "\n",
    "import pandas as pd\n",
    "import os"
   ],
   "metadata": {
    "collapsed": false,
    "ExecuteTime": {
     "end_time": "2024-06-17T08:27:26.386277Z",
     "start_time": "2024-06-17T08:27:22.769180Z"
    }
   },
   "id": "328c38aa-2ddd-413f-b490-655b270dbeb2",
   "execution_count": 1
  },
  {
   "cell_type": "code",
   "outputs": [
    {
     "name": "stderr",
     "output_type": "stream",
     "text": [
      "[2024-06-17 08:06:56,725][INFO]: Deleting 2 rows from `lc_proj_schema`.`baseline_session`\n",
      "[2024-06-17 08:06:56,748][INFO]: Deleting 2 rows from `lc_proj_schema`.`fib_session`\n",
      "[2024-06-17 08:06:56,782][INFO]: Deleting 2 rows from `lc_proj_schema`.`__hypnogram`\n",
      "[2024-06-17 08:06:56,795][INFO]: Deleting 2 rows from `lc_proj_schema`.`session`\n",
      "[2024-06-17 08:06:56,807][INFO]: Deleting 1 rows from `lc_proj_schema`.`mouse`\n"
     ]
    },
    {
     "name": "stdout",
     "output_type": "stream",
     "text": [
      "Deletes committed.\n"
     ]
    },
    {
     "data": {
      "text/plain": "1"
     },
     "execution_count": 3,
     "metadata": {},
     "output_type": "execute_result"
    }
   ],
   "source": [
    "(lcProj.Mouse & 'mouse_name = \"MPC09\"').delete()"
   ],
   "metadata": {
    "collapsed": false,
    "ExecuteTime": {
     "end_time": "2024-06-17T06:06:58.856942Z",
     "start_time": "2024-06-17T06:06:56.692444Z"
    }
   },
   "id": "dbf1e14f2f7f7b60",
   "execution_count": 3
  },
  {
   "cell_type": "code",
   "outputs": [],
   "source": [
    "lcProj.LCPeaks.populate()"
   ],
   "metadata": {
    "collapsed": false,
    "ExecuteTime": {
     "end_time": "2024-06-17T08:27:45.933393Z",
     "start_time": "2024-06-17T08:27:45.722386Z"
    }
   },
   "id": "620923f40a217b50",
   "execution_count": 2
  },
  {
   "cell_type": "code",
   "outputs": [],
   "source": [
    "signaldff = dff\n",
    "signalTime = timestamps\n",
    "\n",
    "fs = int(np.round(1 / np.mean(np.diff(timestamps))))\n",
    "\n",
    "lpfilt = signal.firwin(1000, 0.01 / (fs / 2), pass_zero='lowpass')\n",
    "\n",
    "filtsing = signal.filtfilt(lpfilt, -1, signaldff)\n",
    "\n",
    "baseline = np.zeros_like(filtsing)\n",
    "\n",
    "print('Baseline Calculation started!')\n",
    "\n",
    "for i_timepoint in range(len(filtsing )):\n",
    "\n",
    "    windowSignal = filtsing[np.max([0, i_timepoint - window * fs]):np.min([len(filtsing), (i_timepoint + window * fs)])]\n",
    "    baseline[i_timepoint] = np.percentile(windowSignal, 5)\n",
    "\n",
    "   # if np.mod(i_timepoint,1000) == 0:\n",
    "\n",
    "    #    print('Calculation at:' + str(i_timepoint))\n",
    "\n",
    "print('Baseline Calculated!')\n",
    "\n",
    "TimesOfb = np.arange(0,(len(b))*4,4)\n",
    "\n",
    "exp = 'n+[^w]*'\n",
    "NoWake = re.finditer(exp, b)\n",
    "\n",
    "NoWakeStart = []\n",
    "NoWakeStop = []\n",
    "\n",
    "for nowake in NoWake:\n",
    "    span = nowake.span()\n",
    "    NoWakeStart .append(span[0])\n",
    "    NoWakeStop.append(span[1])\n",
    "\n",
    "points = []\n",
    "baselineAprox = []\n",
    "\n",
    "interpIntervals = 0\n",
    "\n",
    "NREMBaselineSignal = []\n",
    "NREMBaselinePoints = []\n",
    "NREMBaselineTimesOfB = []\n",
    "\n",
    "NREMBaselineInterTimeStartPoint = []\n",
    "NREMBaselineInterTimeStartPointBfile = []\n",
    "NREMBaselineInterTimeEndPoint = []\n",
    "NREMBaselineInterTimeEndPointBfile = []\n",
    "\n",
    "for i, s in enumerate(zip(NoWakeStart,NoWakeStop)):\n",
    "\n",
    "    StartIndexToKeep = TimesOfb[s[0]]\n",
    "    StopIndexToKeep = TimesOfb[s[1]-1] + 4\n",
    "\n",
    "    StartIndexDff = findPosFromTimestamps(signalTime,StartIndexToKeep)\n",
    "    StopIndexDff = findPosFromTimestamps(signalTime,StopIndexToKeep)\n",
    "\n",
    "    NREMBaselineSignal.append(baseline[StartIndexDff:StopIndexDff])\n",
    "    NREMBaselinePoints.append(signalTime[StartIndexDff:StopIndexDff])\n",
    "    NREMBaselineTimesOfB.append(np.arange(TimesOfb[s[0]],(TimesOfb[s[1]-1] + 4),4))\n",
    "\n",
    "    points.append(signalTime[StartIndexDff:StopIndexDff])\n",
    "    baselineAprox.append(baseline[StartIndexDff:StopIndexDff])\n",
    "\n",
    "    if i == 0:\n",
    "\n",
    "        interpIntervals += 1\n",
    "        NREMBaselineInterTimeStartPoint.append(np.nan)\n",
    "        NREMBaselineInterTimeStartPointBfile.append(np.nan)\n",
    "\n",
    "        EndPoint = findPosFromTimestamps(signalTime,StartIndexToKeep)\n",
    "\n",
    "        NREMBaselineInterTimeEndPoint.append(signalTime[EndPoint])\n",
    "        NREMBaselineInterTimeEndPointBfile.append(TimesOfb[s[0]])\n",
    "\n",
    "        continue\n",
    "\n",
    "    interpIntervals += 1\n",
    "    StartPoint = findPosFromTimestamps(signalTime, (TimesOfb[NoWakeStop[i-1]]))\n",
    "\n",
    "    NREMBaselineInterTimeStartPoint.append(signalTime[StartPoint-1])\n",
    "    NREMBaselineInterTimeStartPointBfile.append(TimesOfb[NoWakeStop[i-1]])\n",
    "\n",
    "    Endoint = findPosFromTimestamps(signalTime, (TimesOfb[NoWakeStart[i]]))\n",
    "\n",
    "    NREMBaselineInterTimeEndPoint.append(signalTime[Endoint])\n",
    "    NREMBaselineInterTimeEndPointBfile.append(TimesOfb[NoWakeStart[i]])\n",
    "\n",
    "    if i == (len(NoWakeStart) - 1):\n",
    "\n",
    "        interpIntervals += 1\n",
    "        StartPoint =  findPosFromTimestamps(signalTime, (TimesOfb[NoWakeStop[i]]))\n",
    "\n",
    "        NREMBaselineInterTimeStartPoint.append(signalTime[StartPoint-1])\n",
    "        NREMBaselineInterTimeStartPointBfile.append(TimesOfb[NoWakeStop[i]])\n",
    "\n",
    "        NREMBaselineInterTimeEndPoint.append(np.nan)\n",
    "        NREMBaselineInterTimeEndPointBfile.append(np.nan)"
   ],
   "metadata": {
    "collapsed": false,
    "ExecuteTime": {
     "start_time": "2024-06-14T12:17:04.110037Z"
    }
   },
   "id": "6facff7269732c60"
  },
  {
   "cell_type": "code",
   "outputs": [],
   "source": [
    "lcProj.LCPeaks.populate()"
   ],
   "metadata": {
    "collapsed": false,
    "ExecuteTime": {
     "start_time": "2024-06-14T12:17:04.112048Z"
    }
   },
   "id": "c493660cfe92ecf2",
   "execution_count": null
  },
  {
   "cell_type": "code",
   "outputs": [],
   "source": [
    "dff = (lcProj.FibDFF & 'mouse_name = \"AMYG02\"' & 'session_date = \"2024-01-16\"').fetch1('dff')\n",
    "timestamps = (lcProj.FibDFF & 'mouse_name = \"AMYG02\"' & 'session_date = \"2024-01-16\"').fetch1('timestamps')\n",
    "\n",
    "b = (lcProj.Hypnogram & 'mouse_name = \"AMYG02\"' & 'session_date = \"2024-01-16\"').fetch1('bfile')\n"
   ],
   "metadata": {
    "collapsed": false,
    "ExecuteTime": {
     "end_time": "2024-06-14T14:21:04.050933Z",
     "start_time": "2024-06-14T14:21:03.816799Z"
    }
   },
   "id": "25b17df0de97fc47",
   "execution_count": 2
  },
  {
   "cell_type": "code",
   "outputs": [
    {
     "name": "stdout",
     "output_type": "stream",
     "text": [
      "Baseline Calculation started!\n",
      "Baseline Calculated!\n"
     ]
    }
   ],
   "source": [
    "from Schema.UsefulFunctions import findPosFromTimestamps\n",
    "from scipy import signal\n",
    "import re\n",
    "\n",
    "window = 60\n",
    "\n",
    "signaldff = dff\n",
    "signalTime = timestamps\n",
    "\n",
    "fs = int(np.round(1 / np.mean(np.diff(timestamps))))\n",
    "\n",
    "lpfilt = signal.firwin(1000, 0.01 / (fs / 2), pass_zero='lowpass')\n",
    "\n",
    "filtsing = signal.filtfilt(lpfilt, -1, signaldff)\n",
    "\n",
    "baseline = np.zeros_like(filtsing)\n",
    "\n",
    "print('Baseline Calculation started!')\n",
    "\n",
    "for i_timepoint in range(len(filtsing )):\n",
    "\n",
    "    windowSignal = filtsing[np.max([0, i_timepoint - window * fs]):np.min([len(filtsing), (i_timepoint + window * fs)])]\n",
    "    baseline[i_timepoint] = np.percentile(windowSignal, 5)\n",
    "\n",
    "   # if np.mod(i_timepoint,1000) == 0:\n",
    "\n",
    "    #    print('Calculation at:' + str(i_timepoint))\n",
    "\n",
    "print('Baseline Calculated!')\n",
    "\n",
    "TimesOfb = np.arange(0,(len(b))*4,4)\n",
    "\n",
    "exp = '[n2]+[^w]*'\n",
    "NoWake = re.finditer(exp, b)\n",
    "\n",
    "NoWakeStart = []\n",
    "NoWakeStop = []\n",
    "\n",
    "for nowake in NoWake:\n",
    "    span = nowake.span()\n",
    "    NoWakeStart .append(span[0])\n",
    "    NoWakeStop.append(span[1])\n",
    "\n",
    "points = []\n",
    "baselineAprox = []\n",
    "\n",
    "interpIntervals = 0\n",
    "\n",
    "NREMBaselineSignal = []\n",
    "NREMBaselinePoints = []\n",
    "NREMBaselineTimesOfB = []\n",
    "\n",
    "NREMBaselineInterTimeStartPoint = []\n",
    "NREMBaselineInterTimeStartPointBfile = []\n",
    "NREMBaselineInterTimeEndPoint = []\n",
    "NREMBaselineInterTimeEndPointBfile = []\n",
    "\n",
    "for i, s in enumerate(zip(NoWakeStart,NoWakeStop)):\n",
    "\n",
    "    StartIndexToKeep = TimesOfb[s[0]]\n",
    "    StopIndexToKeep = TimesOfb[s[1]-1] + 4\n",
    "\n",
    "    StartIndexDff = findPosFromTimestamps(signalTime,StartIndexToKeep)\n",
    "    StopIndexDff = findPosFromTimestamps(signalTime,StopIndexToKeep)\n",
    "\n",
    "    NREMBaselineSignal.append(baseline[StartIndexDff:StopIndexDff])\n",
    "    NREMBaselinePoints.append(signalTime[StartIndexDff:StopIndexDff])\n",
    "    NREMBaselineTimesOfB.append(np.arange(TimesOfb[s[0]],(TimesOfb[s[1]-1] + 4),4))\n",
    "\n",
    "    points.append(signalTime[StartIndexDff:StopIndexDff])\n",
    "    baselineAprox.append(baseline[StartIndexDff:StopIndexDff])\n",
    "\n",
    "    if NoWakeStart[i] == 0:\n",
    "        continue\n",
    "\n",
    "    if i == 0 and not(NoWakeStart[i] == 0):\n",
    "\n",
    "        interpIntervals += 1\n",
    "        NREMBaselineInterTimeStartPoint.append(np.nan)\n",
    "        NREMBaselineInterTimeStartPointBfile.append(np.nan)\n",
    "        EndPoint = findPosFromTimestamps(signalTime,StartIndexToKeep)\n",
    "\n",
    "        NREMBaselineInterTimeEndPoint.append(signalTime[EndPoint])\n",
    "        NREMBaselineInterTimeEndPointBfile.append(TimesOfb[s[0]])\n",
    "        continue\n",
    "\n",
    "    interpIntervals += 1\n",
    "    StartPoint = findPosFromTimestamps(signalTime, (TimesOfb[NoWakeStop[i-1]]))\n",
    "\n",
    "    NREMBaselineInterTimeStartPoint.append(signalTime[StartPoint-1])\n",
    "    NREMBaselineInterTimeStartPointBfile.append(TimesOfb[NoWakeStop[i-1]])\n",
    "\n",
    "    Endoint = findPosFromTimestamps(signalTime, (TimesOfb[NoWakeStart[i]]))\n",
    "\n",
    "    NREMBaselineInterTimeEndPoint.append(signalTime[Endoint])\n",
    "    NREMBaselineInterTimeEndPointBfile.append(TimesOfb[NoWakeStart[i]])\n",
    "\n",
    "    if i == (len(NoWakeStart) - 1) and not(NoWakeStop[i] == len(b)):\n",
    "\n",
    "        interpIntervals += 1\n",
    "        StartPoint =  findPosFromTimestamps(signalTime, (TimesOfb[NoWakeStop[i]]))\n",
    "\n",
    "        NREMBaselineInterTimeStartPoint.append(signalTime[StartPoint-1])\n",
    "        NREMBaselineInterTimeStartPointBfile.append(TimesOfb[NoWakeStop[i]])\n",
    "\n",
    "        NREMBaselineInterTimeEndPoint.append(np.nan)\n",
    "        NREMBaselineInterTimeEndPointBfile.append(np.nan)\n",
    "\n",
    "InterLinesSignal = []\n",
    "InterLinesPoints = []\n",
    "\n",
    "for i, p in enumerate(zip(NREMBaselineInterTimeStartPoint,NREMBaselineInterTimeEndPoint)):\n",
    "\n",
    "    if np.isnan(p[0]):\n",
    "\n",
    "        time = p[1]\n",
    "\n",
    "        Pos = findPosFromTimestamps(signalTime, time)\n",
    "\n",
    "        InterLinesSignal.append(np.ones([Pos])*np.nan)\n",
    "        InterLinesPoints.append(signalTime[0:Pos])\n",
    "\n",
    "        points.append(signalTime[0:Pos])\n",
    "        baselineAprox.append(np.ones([Pos])*np.nan)\n",
    "\n",
    "    elif np.isnan(p[1]):\n",
    "\n",
    "        time = p[0]\n",
    "\n",
    "        Pos = findPosFromTimestamps(signalTime, time)\n",
    "\n",
    "        InterLinesSignal.append(np.ones([max(0,len(baseline)-Pos -1)])*np.nan)\n",
    "        InterLinesPoints.append(signalTime[(Pos+1)::])\n",
    "\n",
    "        points.append(signalTime[(Pos+1)::])\n",
    "        baselineAprox.append(np.ones([max(0,len(baseline)-Pos -1)])*np.nan)\n",
    "    else:\n",
    "\n",
    "        timeStart = findPosFromTimestamps(signalTime, p[0])\n",
    "        timeEnd = findPosFromTimestamps(signalTime, p[1])\n",
    "\n",
    "        numberOfPoints = timeEnd - timeStart + 1\n",
    "\n",
    "        TimeSignal = np.ones([numberOfPoints])*np.nan\n",
    "        TimePoints = signalTime[timeStart:(timeEnd +1)]\n",
    "\n",
    "        InterLinesSignal.append(TimeSignal[1:-1])\n",
    "        InterLinesPoints.append(TimePoints[1:-1])\n",
    "\n",
    "        points.append(TimePoints[1:-1])\n",
    "        baselineAprox.append(TimeSignal[1:-1])\n",
    "\n",
    "points = np.concatenate(points)\n",
    "baselineAprox = np.concatenate(baselineAprox)\n",
    "\n",
    "baselineAndPoints = np.transpose(np.array([baselineAprox,points]))\n",
    "\n",
    "baselineAndPointsSorted = baselineAndPoints[baselineAndPoints[:,1].argsort()]\n",
    "\n",
    "baselineFinal = baselineAndPointsSorted[:,0]\n",
    "times = baselineAndPointsSorted[:,1]\n",
    "\n",
    "mean =  np.mean(times[np.invert(np.isnan(baselineFinal))])\n",
    "std = np.std(times[np.invert(np.isnan(baselineFinal))])\n",
    "\n",
    "x = (times[np.invert(np.isnan(baselineFinal))] - mean)/std\n",
    "\n",
    "cof = np.polyfit(x, baselineFinal[np.invert(np.isnan(baselineFinal))] , 2)\n",
    "\n",
    "fitbas = np.polyval(cof,(signalTime-mean)/std)"
   ],
   "metadata": {
    "collapsed": false,
    "ExecuteTime": {
     "end_time": "2024-06-14T14:42:02.706468Z",
     "start_time": "2024-06-14T14:37:43.254220Z"
    }
   },
   "id": "674d816b0dd940d",
   "execution_count": 4
  },
  {
   "cell_type": "code",
   "outputs": [
    {
     "data": {
      "text/plain": "[<matplotlib.lines.Line2D at 0x21ddbea4760>]"
     },
     "execution_count": 5,
     "metadata": {},
     "output_type": "execute_result"
    },
    {
     "data": {
      "text/plain": "<Figure size 640x480 with 1 Axes>",
      "image/png": "[encoded data removed]"
     },
     "metadata": {},
     "output_type": "display_data"
    }
   ],
   "source": [
    "plt.plot(dff-fitbas)"
   ],
   "metadata": {
    "collapsed": false,
    "ExecuteTime": {
     "end_time": "2024-06-14T14:43:07.738227Z",
     "start_time": "2024-06-14T14:43:07.304185Z"
    }
   },
   "id": "ba1b74a4392f6761",
   "execution_count": 5
  },
  {
   "cell_type": "code",
   "outputs": [],
   "source": [
    "from scipy import signal\n",
    "import re\n",
    "window = 60\n",
    "from Schema.UsefulFunctions import findPosFromTimestamps\n",
    "\n",
    "TimesOfb = np.arange(0,(len(b))*4,4)\n",
    "\n",
    "exp = '[n2]+[^w]*'\n",
    "NoWake = re.finditer(exp, b)\n",
    "\n",
    "NoWakeStart = []\n",
    "NoWakeStop = []\n",
    "\n",
    "for nowake in NoWake:\n",
    "    span = nowake.span()\n",
    "    NoWakeStart .append(span[0])\n",
    "    NoWakeStop.append(span[1])\n"
   ],
   "metadata": {
    "collapsed": false,
    "ExecuteTime": {
     "end_time": "2024-06-14T13:54:52.273723Z",
     "start_time": "2024-06-14T13:54:52.260736Z"
    }
   },
   "id": "1d1356f170a0ba",
   "execution_count": 40
  },
  {
   "cell_type": "code",
   "outputs": [
    {
     "data": {
      "text/plain": "[0, 4, 8, 12]"
     },
     "execution_count": 41,
     "metadata": {},
     "output_type": "execute_result"
    }
   ],
   "source": [
    "  NoWakeStart"
   ],
   "metadata": {
    "collapsed": false,
    "ExecuteTime": {
     "end_time": "2024-06-14T13:54:54.588795Z",
     "start_time": "2024-06-14T13:54:54.582793Z"
    }
   },
   "id": "eaaa3b0cff13f90c",
   "execution_count": 41
  },
  {
   "cell_type": "code",
   "outputs": [
    {
     "data": {
      "text/plain": "[2, 6, 10, 14]"
     },
     "execution_count": 42,
     "metadata": {},
     "output_type": "execute_result"
    }
   ],
   "source": [
    "  NoWakeStop"
   ],
   "metadata": {
    "collapsed": false,
    "ExecuteTime": {
     "end_time": "2024-06-14T13:55:16.880960Z",
     "start_time": "2024-06-14T13:55:16.862796Z"
    }
   },
   "id": "689430a3ad8e5c93",
   "execution_count": 42
  },
  {
   "cell_type": "code",
   "outputs": [
    {
     "data": {
      "text/plain": "0"
     },
     "execution_count": 43,
     "metadata": {},
     "output_type": "execute_result"
    }
   ],
   "source": [
    " NoWakeStart[i]"
   ],
   "metadata": {
    "collapsed": false,
    "ExecuteTime": {
     "end_time": "2024-06-14T14:04:36.907521Z",
     "start_time": "2024-06-14T14:04:36.895518Z"
    }
   },
   "id": "9fd4dfc8b23a1b07",
   "execution_count": 43
  },
  {
   "cell_type": "code",
   "outputs": [],
   "source": [
    " StartPoint = findPosFromTimestamps(signalTime, (TimesOfb[0]))"
   ],
   "metadata": {
    "collapsed": false,
    "ExecuteTime": {
     "end_time": "2024-06-14T14:05:02.189846Z",
     "start_time": "2024-06-14T14:05:02.157548Z"
    }
   },
   "id": "f2fab678223edd3a",
   "execution_count": 45
  },
  {
   "cell_type": "code",
   "outputs": [
    {
     "data": {
      "text/plain": "0"
     },
     "execution_count": 46,
     "metadata": {},
     "output_type": "execute_result"
    }
   ],
   "source": [
    " StartPoint"
   ],
   "metadata": {
    "collapsed": false,
    "ExecuteTime": {
     "end_time": "2024-06-14T14:05:06.772311Z",
     "start_time": "2024-06-14T14:05:06.758315Z"
    }
   },
   "id": "cdf9bc062c121601",
   "execution_count": 46
  },
  {
   "cell_type": "code",
   "outputs": [],
   "source": [
    "i = 0"
   ],
   "metadata": {
    "collapsed": false,
    "ExecuteTime": {
     "end_time": "2024-06-14T14:05:34.511722Z",
     "start_time": "2024-06-14T14:05:34.497726Z"
    }
   },
   "id": "a01bb57a96a1937b",
   "execution_count": 47
  },
  {
   "cell_type": "code",
   "outputs": [
    {
     "data": {
      "text/plain": "475"
     },
     "execution_count": 48,
     "metadata": {},
     "output_type": "execute_result"
    }
   ],
   "source": [
    "findPosFromTimestamps(signalTime, (TimesOfb[NoWakeStop[i]]))"
   ],
   "metadata": {
    "collapsed": false,
    "ExecuteTime": {
     "end_time": "2024-06-14T14:05:41.056967Z",
     "start_time": "2024-06-14T14:05:41.035961Z"
    }
   },
   "id": "c591434c62f17588",
   "execution_count": 48
  },
  {
   "cell_type": "code",
   "outputs": [
    {
     "name": "stdout",
     "output_type": "stream",
     "text": [
      "Baseline Calculation started!\n",
      "Baseline Calculated!\n",
      "0\n",
      "43131.98222081804\n",
      "0.11208375000000001\n"
     ]
    },
    {
     "ename": "ValueError",
     "evalue": "negative dimensions are not allowed",
     "output_type": "error",
     "traceback": [
      "\u001B[1;31m---------------------------------------------------------------------------\u001B[0m",
      "\u001B[1;31mValueError\u001B[0m                                Traceback (most recent call last)",
      "Cell \u001B[1;32mIn[21], line 146\u001B[0m\n\u001B[0;32m    142\u001B[0m \u001B[38;5;28mprint\u001B[39m(p[\u001B[38;5;241m1\u001B[39m])\n\u001B[0;32m    144\u001B[0m numberOfPoints \u001B[38;5;241m=\u001B[39m timeEnd \u001B[38;5;241m-\u001B[39m timeStart \u001B[38;5;241m+\u001B[39m \u001B[38;5;241m1\u001B[39m\n\u001B[1;32m--> 146\u001B[0m TimeSignal \u001B[38;5;241m=\u001B[39m \u001B[43mnp\u001B[49m\u001B[38;5;241;43m.\u001B[39;49m\u001B[43mones\u001B[49m\u001B[43m(\u001B[49m\u001B[43m[\u001B[49m\u001B[43mnumberOfPoints\u001B[49m\u001B[43m]\u001B[49m\u001B[43m)\u001B[49m\u001B[38;5;241m*\u001B[39mnp\u001B[38;5;241m.\u001B[39mnan\n\u001B[0;32m    147\u001B[0m TimePoints \u001B[38;5;241m=\u001B[39m signalTime[timeStart:(timeEnd \u001B[38;5;241m+\u001B[39m\u001B[38;5;241m1\u001B[39m)]\n\u001B[0;32m    149\u001B[0m InterLinesSignal\u001B[38;5;241m.\u001B[39mappend(TimeSignal[\u001B[38;5;241m1\u001B[39m:\u001B[38;5;241m-\u001B[39m\u001B[38;5;241m1\u001B[39m])\n",
      "File \u001B[1;32mC:\\ProgramData\\Anaconda3\\lib\\site-packages\\numpy\\core\\numeric.py:205\u001B[0m, in \u001B[0;36mones\u001B[1;34m(shape, dtype, order, like)\u001B[0m\n\u001B[0;32m    202\u001B[0m \u001B[38;5;28;01mif\u001B[39;00m like \u001B[38;5;129;01mis\u001B[39;00m \u001B[38;5;129;01mnot\u001B[39;00m \u001B[38;5;28;01mNone\u001B[39;00m:\n\u001B[0;32m    203\u001B[0m     \u001B[38;5;28;01mreturn\u001B[39;00m _ones_with_like(shape, dtype\u001B[38;5;241m=\u001B[39mdtype, order\u001B[38;5;241m=\u001B[39morder, like\u001B[38;5;241m=\u001B[39mlike)\n\u001B[1;32m--> 205\u001B[0m a \u001B[38;5;241m=\u001B[39m \u001B[43mempty\u001B[49m\u001B[43m(\u001B[49m\u001B[43mshape\u001B[49m\u001B[43m,\u001B[49m\u001B[43m \u001B[49m\u001B[43mdtype\u001B[49m\u001B[43m,\u001B[49m\u001B[43m \u001B[49m\u001B[43morder\u001B[49m\u001B[43m)\u001B[49m\n\u001B[0;32m    206\u001B[0m multiarray\u001B[38;5;241m.\u001B[39mcopyto(a, \u001B[38;5;241m1\u001B[39m, casting\u001B[38;5;241m=\u001B[39m\u001B[38;5;124m'\u001B[39m\u001B[38;5;124munsafe\u001B[39m\u001B[38;5;124m'\u001B[39m)\n\u001B[0;32m    207\u001B[0m \u001B[38;5;28;01mreturn\u001B[39;00m a\n",
      "\u001B[1;31mValueError\u001B[0m: negative dimensions are not allowed"
     ]
    }
   ],
   "source": [
    "from scipy import signal\n",
    "import re\n",
    "window = 60\n",
    "from Schema.UsefulFunctions import findPosFromTimestamps\n",
    "\n",
    "TimesOfb = np.arange(0,(len(b))*4,4)\n",
    "\n",
    "exp = '[n2]+[^w]*'\n",
    "NoWake = re.finditer(exp, b)\n",
    "\n",
    "NoWakeStart = []\n",
    "NoWakeStop = []\n",
    "\n",
    "for nowake in NoWake:\n",
    "    span = nowake.span()\n",
    "    NoWakeStart .append(span[0])\n",
    "    NoWakeStop.append(span[1])\n",
    "\n",
    "points = []\n",
    "baselineAprox = []\n",
    "\n",
    "interpIntervals = 0\n",
    "\n",
    "NREMBaselineSignal = []\n",
    "NREMBaselinePoints = []\n",
    "NREMBaselineTimesOfB = []\n",
    "\n",
    "NREMBaselineInterTimeStartPoint = []\n",
    "NREMBaselineInterTimeStartPointBfile = []\n",
    "NREMBaselineInterTimeEndPoint = []\n",
    "NREMBaselineInterTimeEndPointBfile = []\n",
    "\n",
    "for i, s in enumerate(zip(NoWakeStart,NoWakeStop)):\n",
    "\n",
    "    StartIndexToKeep = TimesOfb[s[0]]\n",
    "    StopIndexToKeep = TimesOfb[s[1]-1] + 4\n",
    "\n",
    "    StartIndexDff = findPosFromTimestamps(signalTime,StartIndexToKeep)\n",
    "    StopIndexDff = findPosFromTimestamps(signalTime,StopIndexToKeep)\n",
    "\n",
    "    NREMBaselineSignal.append(baseline[StartIndexDff:StopIndexDff])\n",
    "    NREMBaselinePoints.append(signalTime[StartIndexDff:StopIndexDff])\n",
    "    NREMBaselineTimesOfB.append(np.arange(TimesOfb[s[0]],(TimesOfb[s[1]-1] + 4),4))\n",
    "\n",
    "    points.append(signalTime[StartIndexDff:StopIndexDff])\n",
    "    baselineAprox.append(baseline[StartIndexDff:StopIndexDff])\n",
    "\n",
    "    if i == 0:\n",
    "\n",
    "        interpIntervals += 1\n",
    "        NREMBaselineInterTimeStartPoint.append(np.nan)\n",
    "        NREMBaselineInterTimeStartPointBfile.append(np.nan)\n",
    "        EndPoint = findPosFromTimestamps(signalTime,StartIndexToKeep)\n",
    "\n",
    "        NREMBaselineInterTimeEndPoint.append(signalTime[EndPoint])\n",
    "        NREMBaselineInterTimeEndPointBfile.append(TimesOfb[s[0]])\n",
    "\n",
    "        continue\n",
    "\n",
    "    interpIntervals += 1\n",
    "    \n",
    "    if NoWakeStart == 0:\n",
    "        StartPoint = findPosFromTimestamps(signalTime, (TimesOfb[NoWakeStart]))\n",
    "    else:\n",
    "      StartPoint = findPosFromTimestamps(signalTime, (TimesOfb[NoWakeStop[i-1]]))\n",
    "\n",
    "    if NoWakeStart == 0:\n",
    "        \n",
    "        NREMBaselineInterTimeStartPoint.append(signalTime[StartPoint-1])\n",
    "        NREMBaselineInterTimeStartPointBfile.append(TimesOfb[NoWakeStop[i-1]])\n",
    "    \n",
    "    else:\n",
    "        NREMBaselineInterTimeStartPoint.append(signalTime[StartPoint-1])\n",
    "        NREMBaselineInterTimeStartPointBfile.append(TimesOfb[NoWakeStop[i-1]])\n",
    "\n",
    "    Endoint = findPosFromTimestamps(signalTime, (TimesOfb[NoWakeStart[i]]))\n",
    "\n",
    "    NREMBaselineInterTimeEndPoint.append(signalTime[Endoint])\n",
    "    NREMBaselineInterTimeEndPointBfile.append(TimesOfb[NoWakeStart[i]])\n",
    "\n",
    "    if i == (len(NoWakeStart) - 1) and not(NoWakeStop[i] == len(b)):\n",
    "\n",
    "        interpIntervals += 1\n",
    "        StartPoint =  findPosFromTimestamps(signalTime, (TimesOfb[NoWakeStop[i]]))\n",
    "\n",
    "        NREMBaselineInterTimeStartPoint.append(signalTime[StartPoint-1])\n",
    "        NREMBaselineInterTimeStartPointBfile.append(TimesOfb[NoWakeStop[i]])\n",
    "\n",
    "        NREMBaselineInterTimeEndPoint.append(np.nan)\n",
    "        NREMBaselineInterTimeEndPointBfile.append(np.nan)\n",
    "\n",
    "InterLinesSignal = []\n",
    "InterLinesPoints = []\n",
    "\n",
    "for i, p in enumerate(zip(NREMBaselineInterTimeStartPoint,NREMBaselineInterTimeEndPoint)):\n",
    "\n",
    "    if np.isnan(p[0]):\n",
    "\n",
    "        time = p[1]\n",
    "\n",
    "        Pos = findPosFromTimestamps(signalTime, time)\n",
    "\n",
    "        InterLinesSignal.append(np.ones([Pos])*np.nan)\n",
    "        InterLinesPoints.append(signalTime[0:Pos])\n",
    "\n",
    "        points.append(signalTime[0:Pos])\n",
    "        baselineAprox.append(np.ones([Pos])*np.nan)\n",
    "\n",
    "    elif np.isnan(p[1]):\n",
    "\n",
    "        time = p[0]\n",
    "\n",
    "        Pos = findPosFromTimestamps(signalTime, time)\n",
    "\n",
    "        InterLinesSignal.append(np.ones([max(0,len(baseline)-Pos -1)])*np.nan)\n",
    "        InterLinesPoints.append(signalTime[(Pos+1)::])\n",
    "\n",
    "        points.append(signalTime[(Pos+1)::])\n",
    "        baselineAprox.append(np.ones([max(0,len(baseline)-Pos -1)])*np.nan)\n",
    "    else:\n",
    "\n",
    "        timeStart = findPosFromTimestamps(signalTime, p[0])\n",
    "        timeEnd = findPosFromTimestamps(signalTime, p[1])\n",
    "        \n",
    "        print(i)\n",
    "        \n",
    "        print(p[0])\n",
    "        print(p[1])\n",
    "\n",
    "        numberOfPoints = timeEnd - timeStart + 1\n",
    "\n",
    "        TimeSignal = np.ones([numberOfPoints])*np.nan\n",
    "        TimePoints = signalTime[timeStart:(timeEnd +1)]\n",
    "\n",
    "        InterLinesSignal.append(TimeSignal[1:-1])\n",
    "        InterLinesPoints.append(TimePoints[1:-1])\n",
    "\n",
    "        points.append(TimePoints[1:-1])\n",
    "        baselineAprox.append(TimeSignal[1:-1])\n",
    "\n",
    "points = np.concatenate(points)\n",
    "baselineAprox = np.concatenate(baselineAprox)\n",
    "\n",
    "baselineAndPoints = np.transpose(np.array([baselineAprox,points]))\n",
    "\n",
    "baselineAndPointsSorted = baselineAndPoints[baselineAndPoints[:,1].argsort()]\n",
    "\n",
    "baselineFinal = baselineAndPointsSorted[:,0]\n",
    "times = baselineAndPointsSorted[:,1]\n",
    "\n",
    "mean =  np.mean(times[np.invert(np.isnan(baselineFinal))])\n",
    "std = np.std(times[np.invert(np.isnan(baselineFinal))])\n",
    "\n",
    "x = (times[np.invert(np.isnan(baselineFinal))] - mean)/std\n",
    "\n",
    "cof = np.polyfit(x, baselineFinal[np.invert(np.isnan(baselineFinal))] , 2)\n",
    "\n",
    "fitbas = np.polyval(cof,(signalTime-mean)/std)\n"
   ],
   "metadata": {
    "collapsed": false,
    "ExecuteTime": {
     "end_time": "2024-06-14T13:29:07.013340Z",
     "start_time": "2024-06-14T13:28:42.256116Z"
    }
   },
   "id": "68f9833bb351cc03",
   "execution_count": 21
  },
  {
   "cell_type": "code",
   "outputs": [],
   "source": [
    "StartIndexToKeep = TimesOfb[NoWakeStart[0]]\n",
    "StopIndexToKeep = TimesOfb[NoWakeStop[1]-1] + 4\n",
    "\n",
    "StartIndexDff = findPosFromTimestamps(signalTime,StartIndexToKeep)\n",
    "StopIndexDff = findPosFromTimestamps(signalTime,StopIndexToKeep)\n",
    "\n",
    "\n",
    "NREMBaselineSignal.append(baseline[StartIndexDff:StopIndexDff])\n",
    "NREMBaselinePoints.append(signalTime[StartIndexDff:StopIndexDff])\n",
    "NREMBaselineTimesOfB.append(np.arange(TimesOfb[s[0]],(TimesOfb[s[1]-1] + 4),4))\n",
    "\n",
    "points.append(signalTime[StartIndexDff:StopIndexDff])\n",
    "baselineAprox.append(baseline[StartIndexDff:StopIndexDff])\n"
   ],
   "metadata": {
    "collapsed": false,
    "ExecuteTime": {
     "end_time": "2024-06-14T13:36:29.524662Z",
     "start_time": "2024-06-14T13:36:29.480639Z"
    }
   },
   "id": "1c0cc6797259d918",
   "execution_count": 33
  },
  {
   "cell_type": "code",
   "outputs": [
    {
     "data": {
      "text/plain": "43132"
     },
     "execution_count": 35,
     "metadata": {},
     "output_type": "execute_result"
    }
   ],
   "source": [
    "(TimesOfb[NoWakeStop[i-1]])"
   ],
   "metadata": {
    "collapsed": false,
    "ExecuteTime": {
     "end_time": "2024-06-14T13:37:16.421392Z",
     "start_time": "2024-06-14T13:37:16.403363Z"
    }
   },
   "id": "bc604bb87449bb12",
   "execution_count": 35
  },
  {
   "cell_type": "code",
   "outputs": [
    {
     "data": {
      "text/plain": "6017"
     },
     "execution_count": 31,
     "metadata": {},
     "output_type": "execute_result"
    }
   ],
   "source": [
    "StopIndexDff"
   ],
   "metadata": {
    "collapsed": false,
    "ExecuteTime": {
     "end_time": "2024-06-14T13:33:30.100916Z",
     "start_time": "2024-06-14T13:33:30.086928Z"
    }
   },
   "id": "5dd510fd5dd1009b",
   "execution_count": 31
  },
  {
   "cell_type": "code",
   "outputs": [
    {
     "data": {
      "text/plain": "10800"
     },
     "execution_count": 17,
     "metadata": {},
     "output_type": "execute_result"
    }
   ],
   "source": [
    "len(b)"
   ],
   "metadata": {
    "collapsed": false,
    "ExecuteTime": {
     "end_time": "2024-06-14T13:26:27.076505Z",
     "start_time": "2024-06-14T13:26:27.061509Z"
    }
   },
   "id": "512ac45a29c061be",
   "execution_count": 17
  },
  {
   "cell_type": "code",
   "outputs": [
    {
     "data": {
      "text/plain": "[0.11208375000000001,\n 28.00008375,\n 144.00088275,\n 184.00688275,\n 223.99628374999998,\n 296.00708275,\n 339.99708375,\n 388.00428375,\n 435.99488375,\n 484.00208275,\n 551.99568375,\n 692.00008375,\n 716.00368275,\n 747.99188375,\n 759.9936827500001,\n 824.00328375,\n 883.99568275,\n 1191.99208275,\n 1215.9956837500001,\n 1388.00488375,\n 1419.99308275,\n 1608.00468275,\n 1620.0064837500001,\n 1639.99288275,\n 1679.9988827500001,\n 1836.0056837500001,\n 2075.99188375,\n 2107.9966837499996,\n 2168.0056837499997,\n 2191.99268275,\n 2268.0040827499997,\n 2659.9966487503702,\n 2867.994898749938,\n 2928.003898749938,\n 3011.9999807498766,\n 3060.0072637495678,\n 3148.0039477492587,\n 3415.994679749012,\n 3519.9938457486414,\n 3527.9950447486417,\n 3539.9968457486416,\n 3564.0004447486417,\n 3712.0062937487032,\n 3796.0023777486417,\n 3963.994542748518,\n 3971.9957427485183,\n 4116.000909748642,\n 4144.00519274858,\n 4407.995324748334,\n 4511.994407748519,\n 4619.994089748457,\n 4688.004373748148,\n 4867.998505747901,\n 4996.001187747839,\n 5128.004554747963,\n 5271.9932867477155,\n 5348.004686747715,\n 5660.002018747716,\n 5700.008101747654,\n 5755.9999847473455,\n 5764.001184747345,\n 6092.000584747346,\n 6191.998983747346,\n 6295.997984747345,\n 6336.003984747345,\n 6515.997783747345,\n 6527.999584747346,\n 6603.994383747346,\n 6819.993584747345,\n 6927.993184747345,\n 7055.995783747346,\n 7220.003784747346,\n 7291.997984747345,\n 7424.001183747346,\n 7448.004783747346,\n 7471.991784747345,\n 7511.997784747346,\n 7544.002583747346,\n 7564.005584747346,\n 7656.002784747346,\n 7851.998983747346,\n 7860.000183747346,\n 7923.993184747345,\n 8075.999384747345,\n 8128.0071847473455,\n 8175.997784747346,\n 8328.003983747345,\n 8411.999984747346,\n 8487.994784747345,\n 8623.998584747345,\n 8660.003983747345,\n 8915.992583747346,\n 8931.994984747345,\n 8951.998067747532,\n 9016.007832747408,\n 10232.008047747593,\n 10275.998130747284,\n 10312.003614746975,\n 10463.993380746851,\n 10575.99366374679,\n 10591.996146746975,\n 10628.001545746974,\n 10675.992229746915,\n 10780.007912746853,\n 10823.99799574679,\n 10880.006478746729,\n 10892.008278746729,\n 10923.996560746667,\n 11007.992644746359,\n 11035.996844746358,\n 11108.00772674605,\n 11239.994492745926,\n 11396.001542745493,\n 11451.993341745492,\n 11559.993108744877,\n 11656.007591744568,\n 11691.996474744506,\n 11791.994957744197,\n 11911.996357744196,\n 11968.004757744196,\n 12027.997156744197,\n 12043.999556744197,\n 12064.002557744197,\n 12131.996156744197,\n 12312.006557744196,\n 12331.992956744196,\n 12400.003157744197,\n 12463.996157744197,\n 12616.002356744197,\n 12691.997157744197,\n 12740.004356744197,\n 12911.996956744197,\n 12956.003557744196,\n 13064.003157744197,\n 13072.004356744197,\n 13264.000039744136,\n 13296.004840744135,\n 13308.006639744135,\n 13583.998240744135,\n 13651.991839744136,\n 13699.999040744136,\n 13756.007440744135,\n 13803.998040744136,\n 14035.999640744136,\n 14080.006240744136,\n 14235.996439744136,\n 14288.004239744136,\n 14327.993639744136,\n 14756.008040744136,\n 14799.998039744136,\n 14879.993439744136,\n 14911.998239744136,\n 14956.004839744135,\n 15003.995440744136,\n 15148.000440744136,\n 15251.999439744135,\n 15423.992040744135,\n 15496.002840744135,\n 15567.997039744136,\n 15632.006640744135,\n 15740.006240744136,\n 15828.003006744011,\n 15952.00508874395,\n 16076.007337743766,\n 16119.997338743766,\n 16184.006938743765,\n 16368.001669743271,\n 16443.996553743207,\n 17160.005183742836,\n 17600.005364742407,\n 17616.007764742404,\n 17904.00149574166,\n 17940.006979741604,\n 17999.999379741603,\n 18232.00131174185,\n 18448.000760741666,\n 18460.002560741665,\n 18499.992042741604,\n 18519.9950437416,\n 18580.004126741787,\n 18716.0081747416,\n 18727.9933757416,\n 18888.00094074148,\n 19055.993107741353,\n 19063.99439074154,\n 19755.999420740678,\n 19772.00181974068,\n 19784.003620740677,\n 19800.00601974068,\n 19935.993386740553,\n 19947.995269740244,\n 19996.002468740244,\n 20092.000435740367,\n 20140.007635740367,\n 20271.994401740245,\n 20307.99988474018,\n 20336.004084740183,\n 20391.99596674012,\n 20556.00396774012,\n 20611.995767740118,\n 20864.00036774012,\n 20888.00404974006,\n 20916.008249740058,\n 20972.00005074006,\n 20988.00245074006,\n 21092.00145074006,\n 21328.003733739995,\n 21348.00681674018,\n 21367.993216740182,\n 21391.996816740182,\n 21420.00101674018,\n 21440.004016740182,\n 21564.006016740183,\n 21668.005016740182,\n 21731.99801674018,\n 21739.999215740183,\n 21851.99941574018,\n 21892.005416740183,\n 22027.992615740182,\n 22143.99341574018,\n 22196.00121674018,\n 22387.996816740182,\n 22403.99921674018,\n 22412.00041574018,\n 22499.99701674018,\n 22599.99541674018,\n 22727.998098740118,\n 22796.00829974012,\n 22807.993499740118,\n 22843.99889974012,\n 23063.998698740117,\n 23124.00769874012,\n 23247.99309874012,\n 23355.99269974012,\n 23432.00409974012,\n 23607.99729974012,\n 23707.995699740117,\n 23760.00349874012,\n 24487.996581740306,\n 24524.00198274031,\n 24544.004982740305,\n 24579.99378274031,\n 24615.999181740306,\n 24795.99323073938,\n 24868.004113739564,\n 25151.997246739316,\n 25172.000245739317,\n 25212.006328739506,\n 25247.995128739505,\n 25259.996929739504,\n 25304.00369573913,\n 25335.99189473913,\n 25392.000377738827,\n 25420.004578738826,\n 25436.006977738823,\n 25583.996144738947,\n 25603.999227738885,\n 25791.99439373901,\n 25923.99775973913,\n 26047.999925739008,\n 26056.001125739007,\n 26107.992408739192,\n 26164.000891739135,\n 26276.001257739008,\n 26388.001539738703,\n 26516.004306738578,\n 26532.006705738575,\n 26612.0022727387,\n 26636.0058727387,\n 26679.995872738702,\n 26691.9976727387,\n 26824.000872738703,\n 27044.0006727387,\n 27139.9984717387,\n 27172.0032727387,\n 27215.993272738702,\n 27292.0046727387,\n 27392.003072738702,\n 27408.0054727387,\n 27504.0032727387,\n 27575.9974717387,\n 27596.000471738702,\n 27728.0036727387,\n 27871.992071738703,\n 27895.9956727387,\n 27960.00535573839,\n 28056.00315573839,\n 28076.006155738392,\n 28227.995754738393,\n 28288.00475573839,\n 28388.00315473839,\n 28640.007755738392,\n 28712.00195573839,\n 28771.994354738392,\n 28852.00635573839,\n 29779.99847973839,\n 29800.001479738392,\n 29808.00267973839,\n 29840.007478738393,\n 29851.992678738392,\n 29887.99807973839,\n 29936.00527873839,\n 30071.99247973839,\n 30268.00527873839,\n 30284.00767973839,\n 30307.994678738392,\n 30924.004410739133,\n 30948.00809473907,\n 30999.999376739008,\n 31059.991777739007,\n 31116.000260738947,\n 31128.00206073895,\n 31199.99626073895,\n 31368.004860738947,\n 31560.00046073895,\n 31712.00666073895,\n 31955.993460738948,\n 31991.99886073895,\n 32075.994943738886,\n 32120.001543738887,\n 32191.995742738884,\n 32364.004942738884,\n 32439.999743738885,\n 32604.007743738886,\n 32623.994143738884,\n 32684.003143738886,\n 32700.005542738883,\n 32747.996143738885,\n 32759.997943738887,\n 32951.993542738885,\n 32963.99534373888,\n 33032.00554273889,\n 33075.995542738885,\n 33116.00154373889,\n 33167.99274273888,\n 33215.99994373888,\n 33307.99714273889,\n 33344.00254273888,\n 34207.999841820514,\n 34220.00164182051,\n 34236.00404082051,\n 34264.00824082051,\n 34291.99584182051,\n 34372.00784182051,\n 34487.992041820515,\n 34499.99384082051,\n 34539.999840820514,\n 34584.006440820514,\n 34596.00824082051,\n 34715.99304082051,\n 34747.997841820514,\n 34839.995124820445,\n 34904.00472482044,\n 34975.998924820444,\n 35004.00312482045,\n 35224.002923820444,\n 35299.997806820385,\n 35379.99329082033,\n 35436.00177282001,\n 35507.99605681995,\n 35584.0075398199,\n 35680.00550481977,\n 35731.99670581977,\n 35780.00398881996,\n 35835.99587081989,\n 35939.994954819835,\n 36151.99388581934,\n 36183.99868681934,\n 36220.004168819025,\n 36279.99656881903,\n 36359.99213581891,\n 36507.99790181903,\n 36691.992550818846,\n 36880.00431681872,\n 36935.99611681872,\n 37000.00571681872,\n 37039.99511581872,\n 37171.99831681872,\n 37371.99511681872,\n 37399.99931681872,\n 37452.00711681872,\n 37516.00011581872,\n 37583.99371681872,\n 37788.00771581872,\n 38408.00111681872,\n 38548.00551681872,\n 38695.99451681872,\n 38819.99651681872,\n 38839.999516818716,\n 38911.99371581872,\n 39080.00231581872,\n 39163.99831681872,\n 39324.00571581872,\n 39444.00711681872,\n 39491.99771681872,\n 39544.00551681872,\n 39571.99311581872,\n 39599.99731581872,\n 39668.00751681872,\n 40428.00531581872,\n 40451.992316818716,\n 40463.99411681872,\n 40556.00791681872,\n 40736.00171581872,\n 40752.004116818716,\n 40772.00711581872,\n 40799.99479981866,\n 40872.00568281884,\n 40899.99328181884,\n 41047.99904881848,\n 41072.002730818655,\n 41111.99213181865,\n 41247.99609781878,\n 41308.00518081872,\n 41375.99886381891,\n 41412.004345818845,\n 41500.00102981878,\n 41699.998077818345,\n 42119.99517681848,\n 42196.00665881866,\n 42204.00794281859,\n 42235.99614281859,\n 42319.99222581878,\n 42427.99199081841,\n 42500.002873818106,\n 42516.005273818104,\n 42559.99535781804,\n 42636.00684081823,\n 42644.008040818226,\n 42691.99872281841,\n 42824.002089818285,\n 42864.008088818286,\n 42883.99457181823,\n 42936.00237281823,\n 42956.00545581816,\n 42975.99185481816,\n 42983.99305581816,\n 43036.000854818165,\n nan]"
     },
     "execution_count": 13,
     "metadata": {},
     "output_type": "execute_result"
    }
   ],
   "source": [
    "NREMBaselineInterTimeEndPoint"
   ],
   "metadata": {
    "collapsed": false,
    "ExecuteTime": {
     "end_time": "2024-06-14T13:23:16.265850Z",
     "start_time": "2024-06-14T13:23:16.256892Z"
    }
   },
   "id": "53991ad9b2fa47b8",
   "execution_count": 13
  },
  {
   "cell_type": "code",
   "outputs": [],
   "source": [
    "exp = '[n2]+[^w]*'\n",
    "NoWake = re.finditer(exp, b)\n",
    "\n",
    "NoWakeStart = []\n",
    "NoWakeStop = []\n",
    "\n",
    "for nowake in NoWake:\n",
    "    span = nowake.span()\n",
    "    NoWakeStart .append(span[0])\n",
    "    NoWakeStop.append(span[1])\n",
    "\n",
    "points = []\n",
    "baselineAprox = []\n",
    "\n",
    "interpIntervals = 0\n",
    "\n",
    "NREMBaselineSignal = []\n",
    "NREMBaselinePoints = []\n",
    "NREMBaselineTimesOfB = []\n",
    "\n",
    "NREMBaselineInterTimeStartPoint = []\n",
    "NREMBaselineInterTimeStartPointBfile = []\n",
    "NREMBaselineInterTimeEndPoint = []\n",
    "NREMBaselineInterTimeEndPointBfile = []\n",
    "\n",
    "for i, s in enumerate(zip(NoWakeStart,NoWakeStop)):\n",
    "\n",
    "    StartIndexToKeep = TimesOfb[s[0]]\n",
    "    StopIndexToKeep = TimesOfb[s[1]-1] + 4\n",
    "\n",
    "    StartIndexDff = findPosFromTimestamps(signalTime,StartIndexToKeep)\n",
    "    StopIndexDff = findPosFromTimestamps(signalTime,StopIndexToKeep)\n",
    "\n",
    "    NREMBaselineSignal.append(baseline[StartIndexDff:StopIndexDff])\n",
    "    NREMBaselinePoints.append(signalTime[StartIndexDff:StopIndexDff])\n",
    "    NREMBaselineTimesOfB.append(np.arange(TimesOfb[s[0]],(TimesOfb[s[1]-1] + 4),4))\n",
    "\n",
    "    points.append(signalTime[StartIndexDff:StopIndexDff])\n",
    "    baselineAprox.append(baseline[StartIndexDff:StopIndexDff])\n",
    "\n",
    "    if i == 0 and not(NoWakeStart[i] == 0):\n",
    "\n",
    "        interpIntervals += 1\n",
    "        NREMBaselineInterTimeStartPoint.append(np.nan)\n",
    "        NREMBaselineInterTimeStartPointBfile.append(np.nan)\n",
    "        EndPoint = findPosFromTimestamps(signalTime,StartIndexToKeep)\n",
    "\n",
    "        NREMBaselineInterTimeEndPoint.append(signalTime[EndPoint])\n",
    "        NREMBaselineInterTimeEndPointBfile.append(TimesOfb[s[0]])\n",
    "\n",
    "        continue\n",
    "\n",
    "    interpIntervals += 1\n",
    "    StartPoint = findPosFromTimestamps(signalTime, (TimesOfb[NoWakeStop[i-1]]))\n",
    "\n",
    "    NREMBaselineInterTimeStartPoint.append(signalTime[StartPoint-1])\n",
    "    NREMBaselineInterTimeStartPointBfile.append(TimesOfb[NoWakeStop[i-1]])\n",
    "\n",
    "    Endoint = findPosFromTimestamps(signalTime, (TimesOfb[NoWakeStart[i]]))\n",
    "\n",
    "    NREMBaselineInterTimeEndPoint.append(signalTime[Endoint])\n",
    "    NREMBaselineInterTimeEndPointBfile.append(TimesOfb[NoWakeStart[i]])\n",
    "\n",
    "    if i == (len(NoWakeStart) - 1) and not(NoWakeStop[i] == len(b)):\n",
    "\n",
    "        interpIntervals += 1\n",
    "        StartPoint =  findPosFromTimestamps(signalTime, (TimesOfb[NoWakeStop[i]]))\n",
    "\n",
    "        NREMBaselineInterTimeStartPoint.append(signalTime[StartPoint-1])\n",
    "        NREMBaselineInterTimeStartPointBfile.append(TimesOfb[NoWakeStop[i]])\n",
    "\n",
    "        NREMBaselineInterTimeEndPoint.append(np.nan)\n",
    "        NREMBaselineInterTimeEndPointBfile.append(np.nan)\n",
    "\n",
    "InterLinesSignal = []\n",
    "InterLinesPoints = []\n",
    "\n",
    "for i, p in enumerate(zip(NREMBaselineInterTimeStartPoint,NREMBaselineInterTimeEndPoint)):\n",
    "\n",
    "    if np.isnan(p[0]):\n",
    "\n",
    "        time = p[1]\n",
    "\n",
    "        Pos = findPosFromTimestamps(signalTime, time)\n",
    "\n",
    "        InterLinesSignal.append(np.ones([Pos])*np.nan)\n",
    "        InterLinesPoints.append(signalTime[0:Pos])\n",
    "\n",
    "        points.append(signalTime[0:Pos])\n",
    "        baselineAprox.append(np.ones([Pos])*np.nan)\n",
    "\n",
    "    elif np.isnan(p[1]):\n",
    "\n",
    "        time = p[0]\n",
    "\n",
    "        Pos = findPosFromTimestamps(signalTime, time)\n",
    "\n",
    "        InterLinesSignal.append(np.ones([max(0,len(baseline)-Pos -1)])*np.nan)\n",
    "        InterLinesPoints.append(signalTime[(Pos+1)::])\n",
    "\n",
    "        points.append(signalTime[(Pos+1)::])\n",
    "        baselineAprox.append(np.ones([max(0,len(baseline)-Pos -1)])*np.nan)\n",
    "    else:\n",
    "\n",
    "        timeStart = findPosFromTimestamps(signalTime, p[0])\n",
    "        timeEnd = findPosFromTimestamps(signalTime, p[1])\n",
    "\n",
    "        numberOfPoints = timeEnd - timeStart + 1\n",
    "\n",
    "        TimeSignal = np.ones([numberOfPoints])*np.nan\n",
    "        TimePoints = signalTime[timeStart:(timeEnd +1)]\n",
    "\n",
    "        InterLinesSignal.append(TimeSignal[1:-1])\n",
    "        InterLinesPoints.append(TimePoints[1:-1])\n",
    "\n",
    "        points.append(TimePoints[1:-1])\n",
    "        baselineAprox.append(TimeSignal[1:-1])\n",
    "\n",
    "points = np.concatenate(points)\n",
    "baselineAprox = np.concatenate(baselineAprox)\n",
    "\n",
    "baselineAndPoints = np.transpose(np.array([baselineAprox,points]))\n",
    "\n",
    "baselineAndPointsSorted = baselineAndPoints[baselineAndPoints[:,1].argsort()]\n",
    "\n",
    "baselineFinal = baselineAndPointsSorted[:,0]\n",
    "times = baselineAndPointsSorted[:,1]\n",
    "\n",
    "mean =  np.mean(times[np.invert(np.isnan(baselineFinal))])\n",
    "std = np.std(times[np.invert(np.isnan(baselineFinal))])\n",
    "\n",
    "x = (times[np.invert(np.isnan(baselineFinal))] - mean)/std\n",
    "\n",
    "cof = np.polyfit(x, baselineFinal[np.invert(np.isnan(baselineFinal))] , 2)\n",
    "\n",
    "fitbas = np.polyval(cof,(signalTime-mean)/std)"
   ],
   "metadata": {
    "collapsed": false,
    "ExecuteTime": {
     "start_time": "2024-06-14T12:17:04.114037Z"
    }
   },
   "id": "6bcffd4b009262a1",
   "execution_count": null
  },
  {
   "cell_type": "code",
   "outputs": [],
   "source": [
    "plt.plot(dff-fitbas)"
   ],
   "metadata": {
    "collapsed": false,
    "ExecuteTime": {
     "start_time": "2024-06-14T12:17:04.115037Z"
    }
   },
   "id": "12b369ca603791df",
   "execution_count": null
  },
  {
   "cell_type": "code",
   "outputs": [
    {
     "ename": "NameError",
     "evalue": "name 'NoWakeStop' is not defined",
     "output_type": "error",
     "traceback": [
      "\u001B[1;31m---------------------------------------------------------------------------\u001B[0m",
      "\u001B[1;31mNameError\u001B[0m                                 Traceback (most recent call last)",
      "Cell \u001B[1;32mIn[2], line 1\u001B[0m\n\u001B[1;32m----> 1\u001B[0m \u001B[43mNoWakeStop\u001B[49m[\u001B[38;5;241m423\u001B[39m]\n",
      "\u001B[1;31mNameError\u001B[0m: name 'NoWakeStop' is not defined"
     ]
    }
   ],
   "source": [
    "NoWakeStop[423]"
   ],
   "metadata": {
    "collapsed": false,
    "ExecuteTime": {
     "end_time": "2024-06-14T12:17:04.140042Z",
     "start_time": "2024-06-14T12:17:04.124042Z"
    }
   },
   "id": "9bdb7b635532b2f6",
   "execution_count": 2
  },
  {
   "cell_type": "code",
   "outputs": [
    {
     "ename": "NameError",
     "evalue": "name 'NoWakeStart' is not defined",
     "output_type": "error",
     "traceback": [
      "\u001B[1;31m---------------------------------------------------------------------------\u001B[0m",
      "\u001B[1;31mNameError\u001B[0m                                 Traceback (most recent call last)",
      "Cell \u001B[1;32mIn[3], line 1\u001B[0m\n\u001B[1;32m----> 1\u001B[0m \u001B[43mNoWakeStart\u001B[49m[\u001B[38;5;241m423\u001B[39m]\n",
      "\u001B[1;31mNameError\u001B[0m: name 'NoWakeStart' is not defined"
     ]
    }
   ],
   "source": [
    "NoWakeStart[423]"
   ],
   "metadata": {
    "collapsed": false,
    "ExecuteTime": {
     "end_time": "2024-06-14T12:17:04.187067Z",
     "start_time": "2024-06-14T12:17:04.164101Z"
    }
   },
   "id": "da7290f2fa093be4",
   "execution_count": 3
  },
  {
   "cell_type": "code",
   "outputs": [
    {
     "ename": "NameError",
     "evalue": "name 'b' is not defined",
     "output_type": "error",
     "traceback": [
      "\u001B[1;31m---------------------------------------------------------------------------\u001B[0m",
      "\u001B[1;31mNameError\u001B[0m                                 Traceback (most recent call last)",
      "Cell \u001B[1;32mIn[4], line 1\u001B[0m\n\u001B[1;32m----> 1\u001B[0m \u001B[43mb\u001B[49m[NoWakeStart[\u001B[38;5;241m423\u001B[39m]:NoWakeStop[\u001B[38;5;241m423\u001B[39m]]\n",
      "\u001B[1;31mNameError\u001B[0m: name 'b' is not defined"
     ]
    }
   ],
   "source": [
    "b[NoWakeStart[423]:NoWakeStop[423]]"
   ],
   "metadata": {
    "collapsed": false,
    "ExecuteTime": {
     "end_time": "2024-06-14T12:17:04.328042Z",
     "start_time": "2024-06-14T12:17:04.307041Z"
    }
   },
   "id": "11630a67f37c1c63",
   "execution_count": 4
  },
  {
   "cell_type": "code",
   "outputs": [],
   "source": [
    "b1 = 'wwnnwwnn'"
   ],
   "metadata": {
    "collapsed": false,
    "ExecuteTime": {
     "end_time": "2024-06-14T12:17:04.421034Z",
     "start_time": "2024-06-14T12:17:04.409067Z"
    }
   },
   "id": "d8df7a56f167895e",
   "execution_count": 5
  },
  {
   "cell_type": "code",
   "outputs": [
    {
     "ename": "NameError",
     "evalue": "name 're' is not defined",
     "output_type": "error",
     "traceback": [
      "\u001B[1;31m---------------------------------------------------------------------------\u001B[0m",
      "\u001B[1;31mNameError\u001B[0m                                 Traceback (most recent call last)",
      "Cell \u001B[1;32mIn[6], line 2\u001B[0m\n\u001B[0;32m      1\u001B[0m exp \u001B[38;5;241m=\u001B[39m \u001B[38;5;124m'\u001B[39m\u001B[38;5;124m[n2]+[^w]*\u001B[39m\u001B[38;5;124m'\u001B[39m\n\u001B[1;32m----> 2\u001B[0m NoWake \u001B[38;5;241m=\u001B[39m \u001B[43mre\u001B[49m\u001B[38;5;241m.\u001B[39mfinditer(exp, b1)\n",
      "\u001B[1;31mNameError\u001B[0m: name 're' is not defined"
     ]
    }
   ],
   "source": [
    "exp = '[n2]+[^w]*'\n",
    "NoWake = re.finditer(exp, b1)"
   ],
   "metadata": {
    "collapsed": false,
    "ExecuteTime": {
     "end_time": "2024-06-14T12:17:04.560086Z",
     "start_time": "2024-06-14T12:17:04.539070Z"
    }
   },
   "id": "73245fcdaa97aac0",
   "execution_count": 6
  },
  {
   "cell_type": "code",
   "outputs": [
    {
     "ename": "NameError",
     "evalue": "name 'NoWake' is not defined",
     "output_type": "error",
     "traceback": [
      "\u001B[1;31m---------------------------------------------------------------------------\u001B[0m",
      "\u001B[1;31mNameError\u001B[0m                                 Traceback (most recent call last)",
      "Cell \u001B[1;32mIn[7], line 1\u001B[0m\n\u001B[1;32m----> 1\u001B[0m \u001B[43mNoWake\u001B[49m\n",
      "\u001B[1;31mNameError\u001B[0m: name 'NoWake' is not defined"
     ]
    }
   ],
   "source": [
    "NoWake"
   ],
   "metadata": {
    "collapsed": false,
    "ExecuteTime": {
     "end_time": "2024-06-14T12:17:04.652083Z",
     "start_time": "2024-06-14T12:17:04.628061Z"
    }
   },
   "id": "efaef0cd4c8a3c9c",
   "execution_count": 7
  },
  {
   "cell_type": "code",
   "outputs": [
    {
     "ename": "NameError",
     "evalue": "name 'NoWake' is not defined",
     "output_type": "error",
     "traceback": [
      "\u001B[1;31m---------------------------------------------------------------------------\u001B[0m",
      "\u001B[1;31mNameError\u001B[0m                                 Traceback (most recent call last)",
      "Cell \u001B[1;32mIn[8], line 4\u001B[0m\n\u001B[0;32m      1\u001B[0m NoWakeStart \u001B[38;5;241m=\u001B[39m []\n\u001B[0;32m      2\u001B[0m NoWakeStop \u001B[38;5;241m=\u001B[39m []\n\u001B[1;32m----> 4\u001B[0m \u001B[38;5;28;01mfor\u001B[39;00m nowake \u001B[38;5;129;01min\u001B[39;00m \u001B[43mNoWake\u001B[49m:\n\u001B[0;32m      5\u001B[0m     span \u001B[38;5;241m=\u001B[39m nowake\u001B[38;5;241m.\u001B[39mspan()\n\u001B[0;32m      6\u001B[0m     NoWakeStart \u001B[38;5;241m.\u001B[39mappend(span[\u001B[38;5;241m0\u001B[39m])\n",
      "\u001B[1;31mNameError\u001B[0m: name 'NoWake' is not defined"
     ]
    }
   ],
   "source": [
    "NoWakeStart = []\n",
    "NoWakeStop = []\n",
    "\n",
    "for nowake in NoWake:\n",
    "    span = nowake.span()\n",
    "    NoWakeStart .append(span[0])\n",
    "    NoWakeStop.append(span[1])\n"
   ],
   "metadata": {
    "collapsed": false,
    "ExecuteTime": {
     "end_time": "2024-06-14T12:17:04.697066Z",
     "start_time": "2024-06-14T12:17:04.673033Z"
    }
   },
   "id": "43819fdcc7322c96",
   "execution_count": 8
  },
  {
   "cell_type": "code",
   "outputs": [
    {
     "data": {
      "text/plain": "[]"
     },
     "execution_count": 9,
     "metadata": {},
     "output_type": "execute_result"
    }
   ],
   "source": [
    "NoWakeStart"
   ],
   "metadata": {
    "collapsed": false,
    "ExecuteTime": {
     "end_time": "2024-06-14T12:17:04.791039Z",
     "start_time": "2024-06-14T12:17:04.780070Z"
    }
   },
   "id": "78b494aa0e113513",
   "execution_count": 9
  },
  {
   "cell_type": "code",
   "outputs": [
    {
     "data": {
      "text/plain": "[]"
     },
     "execution_count": 10,
     "metadata": {},
     "output_type": "execute_result"
    }
   ],
   "source": [
    "NoWakeStop"
   ],
   "metadata": {
    "collapsed": false,
    "ExecuteTime": {
     "end_time": "2024-06-14T12:17:04.913037Z",
     "start_time": "2024-06-14T12:17:04.903032Z"
    }
   },
   "id": "7babc6584bfcdf35",
   "execution_count": 10
  },
  {
   "cell_type": "code",
   "outputs": [
    {
     "ename": "NameError",
     "evalue": "name 'plt' is not defined",
     "output_type": "error",
     "traceback": [
      "\u001B[1;31m---------------------------------------------------------------------------\u001B[0m",
      "\u001B[1;31mNameError\u001B[0m                                 Traceback (most recent call last)",
      "Cell \u001B[1;32mIn[11], line 1\u001B[0m\n\u001B[1;32m----> 1\u001B[0m fig \u001B[38;5;241m=\u001B[39m \u001B[43mplt\u001B[49m\u001B[38;5;241m.\u001B[39mfigure(figsize\u001B[38;5;241m=\u001B[39m(\u001B[38;5;241m20\u001B[39m, \u001B[38;5;241m10\u001B[39m))\n\u001B[0;32m      2\u001B[0m plt\u001B[38;5;241m.\u001B[39mplot(dff\u001B[38;5;241m-\u001B[39mfitbas)\n",
      "\u001B[1;31mNameError\u001B[0m: name 'plt' is not defined"
     ]
    }
   ],
   "source": [
    "fig = plt.figure(figsize=(20, 10))\n",
    "plt.plot(dff-fitbas)"
   ],
   "metadata": {
    "collapsed": false,
    "ExecuteTime": {
     "end_time": "2024-06-14T12:17:04.974038Z",
     "start_time": "2024-06-14T12:17:04.953033Z"
    }
   },
   "id": "f8127ff3693a3ed9",
   "execution_count": 11
  },
  {
   "cell_type": "code",
   "outputs": [],
   "source": [
    "import numpy as np\n",
    "import re\n",
    "\n",
    "b= 'wwnnwwnnww'\n",
    "\n",
    "\n",
    "exp = 'n+[^w]*'\n",
    "NoWake = re.finditer(exp, b)\n",
    "\n",
    "NoWakeStart = []\n",
    "NoWakeStop = []\n",
    "\n",
    "for nowake in NoWake:\n",
    "    span = nowake.span()\n",
    "    NoWakeStart .append(span[0])\n",
    "    NoWakeStop.append(span[1])\n",
    "\n"
   ],
   "metadata": {
    "collapsed": false,
    "ExecuteTime": {
     "end_time": "2024-06-14T12:17:05.178038Z",
     "start_time": "2024-06-14T12:17:05.062064Z"
    }
   },
   "id": "fed0503beb1c7f56",
   "execution_count": 12
  },
  {
   "cell_type": "code",
   "outputs": [
    {
     "data": {
      "text/plain": "[2, 6]"
     },
     "execution_count": 13,
     "metadata": {},
     "output_type": "execute_result"
    }
   ],
   "source": [
    "NoWakeStart"
   ],
   "metadata": {
    "collapsed": false,
    "ExecuteTime": {
     "end_time": "2024-06-14T12:17:05.193036Z",
     "start_time": "2024-06-14T12:17:05.179042Z"
    }
   },
   "id": "a31f1bf84d500153",
   "execution_count": 13
  },
  {
   "cell_type": "code",
   "outputs": [
    {
     "data": {
      "text/plain": "[4, 8]"
     },
     "execution_count": 14,
     "metadata": {},
     "output_type": "execute_result"
    }
   ],
   "source": [
    "NoWakeStop"
   ],
   "metadata": {
    "collapsed": false,
    "ExecuteTime": {
     "end_time": "2024-06-14T12:17:05.255035Z",
     "start_time": "2024-06-14T12:17:05.247068Z"
    }
   },
   "id": "57c35aff8453e746",
   "execution_count": 14
  },
  {
   "cell_type": "code",
   "outputs": [],
   "source": [
    "TimesOfb = np.arange(0,(len(b))*4,4)"
   ],
   "metadata": {
    "collapsed": false,
    "ExecuteTime": {
     "end_time": "2024-06-14T12:17:05.287065Z",
     "start_time": "2024-06-14T12:17:05.275073Z"
    }
   },
   "id": "e75ae86c1cccf80",
   "execution_count": 15
  },
  {
   "cell_type": "code",
   "outputs": [],
   "source": [
    "signalTime = np.arange(0,40)"
   ],
   "metadata": {
    "collapsed": false,
    "ExecuteTime": {
     "end_time": "2024-06-14T12:17:05.381030Z",
     "start_time": "2024-06-14T12:17:05.377063Z"
    }
   },
   "id": "f79a77a4e7568fa1",
   "execution_count": 16
  },
  {
   "cell_type": "code",
   "outputs": [
    {
     "ename": "NameError",
     "evalue": "name 'singalTime' is not defined",
     "output_type": "error",
     "traceback": [
      "\u001B[1;31m---------------------------------------------------------------------------\u001B[0m",
      "\u001B[1;31mNameError\u001B[0m                                 Traceback (most recent call last)",
      "Cell \u001B[1;32mIn[17], line 1\u001B[0m\n\u001B[1;32m----> 1\u001B[0m \u001B[43msingalTime\u001B[49m[\u001B[38;5;241m-\u001B[39m\u001B[38;5;241m1\u001B[39m]\n",
      "\u001B[1;31mNameError\u001B[0m: name 'singalTime' is not defined"
     ]
    }
   ],
   "source": [
    "singalTime[-1]"
   ],
   "metadata": {
    "collapsed": false,
    "ExecuteTime": {
     "end_time": "2024-06-14T12:17:05.489066Z",
     "start_time": "2024-06-14T12:17:05.449030Z"
    }
   },
   "id": "6bad71a29f43b40a",
   "execution_count": 17
  },
  {
   "cell_type": "code",
   "outputs": [],
   "source": [
    "i = 1"
   ],
   "metadata": {
    "collapsed": false,
    "ExecuteTime": {
     "end_time": "2024-06-14T12:17:05.553029Z",
     "start_time": "2024-06-14T12:17:05.537058Z"
    }
   },
   "id": "78164c76c3dc44e2",
   "execution_count": 18
  },
  {
   "cell_type": "code",
   "outputs": [],
   "source": [
    "for s in zip(NoWakeStart,NoWakeStop):\n",
    "\n",
    "    StartIndexToKeep = TimesOfb[s[0]]\n",
    "    StopIndexToKeep = TimesOfb[s[1]-1] + 4"
   ],
   "metadata": {
    "collapsed": false,
    "ExecuteTime": {
     "end_time": "2024-06-14T12:17:05.583067Z",
     "start_time": "2024-06-14T12:17:05.569038Z"
    }
   },
   "id": "d2aa1d821914f73b",
   "execution_count": 19
  },
  {
   "cell_type": "code",
   "outputs": [],
   "source": [
    "StartIndexToKeep = TimesOfb[NoWakeStart[i]]\n",
    "StopIndexToKeep = TimesOfb[NoWakeStop[i]-1] + 4"
   ],
   "metadata": {
    "collapsed": false,
    "ExecuteTime": {
     "end_time": "2024-06-14T12:17:05.677028Z",
     "start_time": "2024-06-14T12:17:05.667063Z"
    }
   },
   "id": "202a63364dd54896",
   "execution_count": 20
  },
  {
   "cell_type": "code",
   "outputs": [
    {
     "data": {
      "text/plain": "24"
     },
     "execution_count": 21,
     "metadata": {},
     "output_type": "execute_result"
    }
   ],
   "source": [
    "StartIndexToKeep"
   ],
   "metadata": {
    "collapsed": false,
    "ExecuteTime": {
     "end_time": "2024-06-14T12:17:05.756056Z",
     "start_time": "2024-06-14T12:17:05.737071Z"
    }
   },
   "id": "f748d0a2f81d4b1d",
   "execution_count": 21
  },
  {
   "cell_type": "code",
   "outputs": [
    {
     "data": {
      "text/plain": "32"
     },
     "execution_count": 22,
     "metadata": {},
     "output_type": "execute_result"
    }
   ],
   "source": [
    "StopIndexToKeep "
   ],
   "metadata": {
    "collapsed": false,
    "ExecuteTime": {
     "end_time": "2024-06-14T12:17:05.834034Z",
     "start_time": "2024-06-14T12:17:05.825037Z"
    }
   },
   "id": "2a69db3eae97ec69",
   "execution_count": 22
  },
  {
   "cell_type": "code",
   "outputs": [
    {
     "ename": "NameError",
     "evalue": "name 'findPosFromTimestamps' is not defined",
     "output_type": "error",
     "traceback": [
      "\u001B[1;31m---------------------------------------------------------------------------\u001B[0m",
      "\u001B[1;31mNameError\u001B[0m                                 Traceback (most recent call last)",
      "Cell \u001B[1;32mIn[23], line 1\u001B[0m\n\u001B[1;32m----> 1\u001B[0m \u001B[43mfindPosFromTimestamps\u001B[49m(signalTime, (TimesOfb[NoWakeStop[i\u001B[38;5;241m-\u001B[39m\u001B[38;5;241m1\u001B[39m]]))\n",
      "\u001B[1;31mNameError\u001B[0m: name 'findPosFromTimestamps' is not defined"
     ]
    }
   ],
   "source": [
    "findPosFromTimestamps(signalTime, (TimesOfb[NoWakeStop[i-1]]))"
   ],
   "metadata": {
    "collapsed": false,
    "ExecuteTime": {
     "end_time": "2024-06-14T12:17:05.898079Z",
     "start_time": "2024-06-14T12:17:05.870027Z"
    }
   },
   "id": "21c51b2b66ce404a",
   "execution_count": 23
  },
  {
   "cell_type": "code",
   "outputs": [
    {
     "ename": "NameError",
     "evalue": "name 'findPosFromTimestamps' is not defined",
     "output_type": "error",
     "traceback": [
      "\u001B[1;31m---------------------------------------------------------------------------\u001B[0m",
      "\u001B[1;31mNameError\u001B[0m                                 Traceback (most recent call last)",
      "Cell \u001B[1;32mIn[24], line 1\u001B[0m\n\u001B[1;32m----> 1\u001B[0m \u001B[43mfindPosFromTimestamps\u001B[49m(signalTime, (TimesOfb[NoWakeStop[i\u001B[38;5;241m-\u001B[39m\u001B[38;5;241m1\u001B[39m]]))\n",
      "\u001B[1;31mNameError\u001B[0m: name 'findPosFromTimestamps' is not defined"
     ]
    }
   ],
   "source": [
    "findPosFromTimestamps(signalTime, (TimesOfb[NoWakeStop[i-1]]))"
   ],
   "metadata": {
    "collapsed": false,
    "ExecuteTime": {
     "end_time": "2024-06-14T12:17:06.024058Z",
     "start_time": "2024-06-14T12:17:05.998036Z"
    }
   },
   "id": "fcd3cc845e91303a",
   "execution_count": 24
  },
  {
   "cell_type": "code",
   "outputs": [
    {
     "ename": "NameError",
     "evalue": "name 'findPosFromTimestamps' is not defined",
     "output_type": "error",
     "traceback": [
      "\u001B[1;31m---------------------------------------------------------------------------\u001B[0m",
      "\u001B[1;31mNameError\u001B[0m                                 Traceback (most recent call last)",
      "Cell \u001B[1;32mIn[25], line 1\u001B[0m\n\u001B[1;32m----> 1\u001B[0m StartPoint \u001B[38;5;241m=\u001B[39m \u001B[43mfindPosFromTimestamps\u001B[49m(signalTime, (TimesOfb[NoWakeStop[i\u001B[38;5;241m-\u001B[39m\u001B[38;5;241m1\u001B[39m]]))\n",
      "\u001B[1;31mNameError\u001B[0m: name 'findPosFromTimestamps' is not defined"
     ]
    }
   ],
   "source": [
    "  StartPoint = findPosFromTimestamps(signalTime, (TimesOfb[NoWakeStop[i-1]]))"
   ],
   "metadata": {
    "collapsed": false,
    "ExecuteTime": {
     "end_time": "2024-06-14T12:17:06.054040Z",
     "start_time": "2024-06-14T12:17:06.035064Z"
    }
   },
   "id": "92c26525f2dc7c8",
   "execution_count": 25
  },
  {
   "cell_type": "code",
   "outputs": [
    {
     "ename": "NameError",
     "evalue": "name 'StartPoint' is not defined",
     "output_type": "error",
     "traceback": [
      "\u001B[1;31m---------------------------------------------------------------------------\u001B[0m",
      "\u001B[1;31mNameError\u001B[0m                                 Traceback (most recent call last)",
      "Cell \u001B[1;32mIn[26], line 1\u001B[0m\n\u001B[1;32m----> 1\u001B[0m \u001B[43mStartPoint\u001B[49m\u001B[38;5;241m-\u001B[39m\u001B[38;5;241m1\u001B[39m\n",
      "\u001B[1;31mNameError\u001B[0m: name 'StartPoint' is not defined"
     ]
    }
   ],
   "source": [
    "StartPoint-1"
   ],
   "metadata": {
    "collapsed": false,
    "ExecuteTime": {
     "end_time": "2024-06-14T12:17:06.163033Z",
     "start_time": "2024-06-14T12:17:06.143037Z"
    }
   },
   "id": "3413ae2a53952539",
   "execution_count": 26
  },
  {
   "cell_type": "code",
   "outputs": [
    {
     "data": {
      "text/plain": "1"
     },
     "execution_count": 27,
     "metadata": {},
     "output_type": "execute_result"
    }
   ],
   "source": [
    "len(NoWakeStart) - 1"
   ],
   "metadata": {
    "collapsed": false,
    "ExecuteTime": {
     "end_time": "2024-06-14T12:17:06.271026Z",
     "start_time": "2024-06-14T12:17:06.259035Z"
    }
   },
   "id": "2a3a83f2f76c2cd6",
   "execution_count": 27
  },
  {
   "cell_type": "code",
   "outputs": [
    {
     "data": {
      "text/plain": "2"
     },
     "execution_count": 28,
     "metadata": {},
     "output_type": "execute_result"
    }
   ],
   "source": [
    "len(NoWakeStart)"
   ],
   "metadata": {
    "collapsed": false,
    "ExecuteTime": {
     "end_time": "2024-06-14T12:17:06.333027Z",
     "start_time": "2024-06-14T12:17:06.328032Z"
    }
   },
   "id": "2cf5cbc01666bacd",
   "execution_count": 28
  },
  {
   "cell_type": "code",
   "outputs": [
    {
     "ename": "NameError",
     "evalue": "name 'findPosFromTimestamps' is not defined",
     "output_type": "error",
     "traceback": [
      "\u001B[1;31m---------------------------------------------------------------------------\u001B[0m",
      "\u001B[1;31mNameError\u001B[0m                                 Traceback (most recent call last)",
      "Cell \u001B[1;32mIn[29], line 1\u001B[0m\n\u001B[1;32m----> 1\u001B[0m StartIndexDff \u001B[38;5;241m=\u001B[39m \u001B[43mfindPosFromTimestamps\u001B[49m(signalTime,StartIndexToKeep)\n\u001B[0;32m      2\u001B[0m StopIndexDff \u001B[38;5;241m=\u001B[39m findPosFromTimestamps(signalTime,StopIndexToKeep)\n",
      "\u001B[1;31mNameError\u001B[0m: name 'findPosFromTimestamps' is not defined"
     ]
    }
   ],
   "source": [
    "StartIndexDff = findPosFromTimestamps(signalTime,StartIndexToKeep)\n",
    "StopIndexDff = findPosFromTimestamps(signalTime,StopIndexToKeep)"
   ],
   "metadata": {
    "collapsed": false,
    "ExecuteTime": {
     "end_time": "2024-06-14T12:17:06.459062Z",
     "start_time": "2024-06-14T12:17:06.438061Z"
    }
   },
   "id": "2220f5fbe992fffa",
   "execution_count": 29
  },
  {
   "cell_type": "code",
   "outputs": [
    {
     "data": {
      "text/plain": "32"
     },
     "execution_count": 30,
     "metadata": {},
     "output_type": "execute_result"
    }
   ],
   "source": [
    "TimesOfb[NoWakeStop[i]]"
   ],
   "metadata": {
    "collapsed": false,
    "ExecuteTime": {
     "end_time": "2024-06-14T12:17:06.489059Z",
     "start_time": "2024-06-14T12:17:06.470025Z"
    }
   },
   "id": "164ade4eeac3d0ae",
   "execution_count": 30
  },
  {
   "cell_type": "code",
   "outputs": [
    {
     "ename": "NameError",
     "evalue": "name 'StopIndexDff' is not defined",
     "output_type": "error",
     "traceback": [
      "\u001B[1;31m---------------------------------------------------------------------------\u001B[0m",
      "\u001B[1;31mNameError\u001B[0m                                 Traceback (most recent call last)",
      "Cell \u001B[1;32mIn[31], line 1\u001B[0m\n\u001B[1;32m----> 1\u001B[0m \u001B[43mStopIndexDff\u001B[49m \n",
      "\u001B[1;31mNameError\u001B[0m: name 'StopIndexDff' is not defined"
     ]
    }
   ],
   "source": [
    "StopIndexDff "
   ],
   "metadata": {
    "collapsed": false,
    "ExecuteTime": {
     "end_time": "2024-06-14T12:17:06.599070Z",
     "start_time": "2024-06-14T12:17:06.580028Z"
    }
   },
   "id": "e6f14e7480ae68c2",
   "execution_count": 31
  },
  {
   "cell_type": "code",
   "outputs": [
    {
     "ename": "NameError",
     "evalue": "name 'StartIndexDff' is not defined",
     "output_type": "error",
     "traceback": [
      "\u001B[1;31m---------------------------------------------------------------------------\u001B[0m",
      "\u001B[1;31mNameError\u001B[0m                                 Traceback (most recent call last)",
      "Cell \u001B[1;32mIn[32], line 1\u001B[0m\n\u001B[1;32m----> 1\u001B[0m signalTime[\u001B[43mStartIndexDff\u001B[49m:StopIndexDff]\n",
      "\u001B[1;31mNameError\u001B[0m: name 'StartIndexDff' is not defined"
     ]
    }
   ],
   "source": [
    "signalTime[StartIndexDff:StopIndexDff]"
   ],
   "metadata": {
    "collapsed": false,
    "ExecuteTime": {
     "end_time": "2024-06-14T12:17:06.723031Z",
     "start_time": "2024-06-14T12:17:06.697054Z"
    }
   },
   "id": "9cb8d84d8fec8396",
   "execution_count": 32
  },
  {
   "cell_type": "code",
   "outputs": [
    {
     "data": {
      "text/plain": "24"
     },
     "execution_count": 33,
     "metadata": {},
     "output_type": "execute_result"
    }
   ],
   "source": [
    "TimesOfb[s[0]]"
   ],
   "metadata": {
    "collapsed": false,
    "ExecuteTime": {
     "end_time": "2024-06-14T12:17:06.771037Z",
     "start_time": "2024-06-14T12:17:06.759064Z"
    }
   },
   "id": "a036dc329e84abbd",
   "execution_count": 33
  },
  {
   "cell_type": "code",
   "outputs": [
    {
     "ename": "NameError",
     "evalue": "name 'findPosFromTimestamps' is not defined",
     "output_type": "error",
     "traceback": [
      "\u001B[1;31m---------------------------------------------------------------------------\u001B[0m",
      "\u001B[1;31mNameError\u001B[0m                                 Traceback (most recent call last)",
      "Cell \u001B[1;32mIn[34], line 31\u001B[0m\n\u001B[0;32m     28\u001B[0m StartIndexToKeep \u001B[38;5;241m=\u001B[39m TimesOfb[s[\u001B[38;5;241m0\u001B[39m]]\n\u001B[0;32m     29\u001B[0m StopIndexToKeep \u001B[38;5;241m=\u001B[39m TimesOfb[s[\u001B[38;5;241m1\u001B[39m]\u001B[38;5;241m-\u001B[39m\u001B[38;5;241m1\u001B[39m] \u001B[38;5;241m+\u001B[39m \u001B[38;5;241m4\u001B[39m\n\u001B[1;32m---> 31\u001B[0m StartIndexDff \u001B[38;5;241m=\u001B[39m \u001B[43mfindPosFromTimestamps\u001B[49m(signalTime,StartIndexToKeep)\n\u001B[0;32m     32\u001B[0m StopIndexDff \u001B[38;5;241m=\u001B[39m findPosFromTimestamps(signalTime,StopIndexToKeep)\n\u001B[0;32m     34\u001B[0m NREMBaselinePoints\u001B[38;5;241m.\u001B[39mappend(signalTime[StartIndexDff:StopIndexDff])\n",
      "\u001B[1;31mNameError\u001B[0m: name 'findPosFromTimestamps' is not defined"
     ]
    }
   ],
   "source": [
    "exp = 'n+[^w]*'\n",
    "NoWake = re.finditer(exp, b)\n",
    "\n",
    "NoWakeStart = []\n",
    "NoWakeStop = []\n",
    "\n",
    "for nowake in NoWake:\n",
    "    span = nowake.span()\n",
    "    NoWakeStart .append(span[0])\n",
    "    NoWakeStop.append(span[1])\n",
    "\n",
    "points = []\n",
    "baselineAprox = []\n",
    "\n",
    "interpIntervals = 0\n",
    "\n",
    "NREMBaselineSignal = []\n",
    "NREMBaselinePoints = []\n",
    "NREMBaselineTimesOfB = []\n",
    "\n",
    "NREMBaselineInterTimeStartPoint = []\n",
    "NREMBaselineInterTimeStartPointBfile = []\n",
    "NREMBaselineInterTimeEndPoint = []\n",
    "NREMBaselineInterTimeEndPointBfile = []\n",
    "\n",
    "for i, s in enumerate(zip(NoWakeStart,NoWakeStop)):\n",
    "\n",
    "    StartIndexToKeep = TimesOfb[s[0]]\n",
    "    StopIndexToKeep = TimesOfb[s[1]-1] + 4\n",
    "\n",
    "    StartIndexDff = findPosFromTimestamps(signalTime,StartIndexToKeep)\n",
    "    StopIndexDff = findPosFromTimestamps(signalTime,StopIndexToKeep)\n",
    "\n",
    "    NREMBaselinePoints.append(signalTime[StartIndexDff:StopIndexDff])\n",
    "    NREMBaselineTimesOfB.append(np.arange(TimesOfb[s[0]],(TimesOfb[s[1]-1] + 4),4))\n",
    "\n",
    "    points.append(NREMBaselinePoints)\n",
    "    baselineAprox.append(NREMBaselineSignal)\n",
    "\n",
    "    if i == 0:\n",
    "\n",
    "        interpIntervals += 1\n",
    "        NREMBaselineInterTimeStartPoint.append(np.nan)\n",
    "        NREMBaselineInterTimeStartPointBfile.append(np.nan)\n",
    "\n",
    "        EndPoint = findPosFromTimestamps(signalTime,StartIndexToKeep)\n",
    "\n",
    "        NREMBaselineInterTimeEndPoint.append(signalTime[EndPoint])\n",
    "        NREMBaselineInterTimeEndPointBfile.append(TimesOfb[s[0]])\n",
    "\n",
    "        continue\n",
    "\n",
    "    interpIntervals += 1\n",
    "    StartPoint = findPosFromTimestamps(signalTime, (TimesOfb[NoWakeStop[i-1]]))\n",
    "\n",
    "    NREMBaselineInterTimeStartPoint.append(signalTime[StartPoint-1])\n",
    "    NREMBaselineInterTimeStartPointBfile.append(TimesOfb[NoWakeStop[i-1]])\n",
    "\n",
    "    Endoint = findPosFromTimestamps(signalTime, (TimesOfb[NoWakeStart[i]]))\n",
    "\n",
    "    NREMBaselineInterTimeEndPoint.append(signalTime[Endoint])\n",
    "    NREMBaselineInterTimeEndPointBfile.append(TimesOfb[NoWakeStart[i]])\n",
    "\n",
    "    if i == (len(NoWakeStart) - 1):\n",
    "\n",
    "        interpIntervals += 1\n",
    "        StartPoint =  findPosFromTimestamps(signalTime, (TimesOfb[NoWakeStop[i]]))\n",
    "\n",
    "        NREMBaselineInterTimeStartPoint.append(signalTime[StartPoint-1])\n",
    "        NREMBaselineInterTimeStartPointBfile.append(TimesOfb[NoWakeStop[i]])\n",
    "\n",
    "        NREMBaselineInterTimeEndPoint.append(np.nan)\n",
    "        NREMBaselineInterTimeEndPointBfile.append(np.nan)"
   ],
   "metadata": {
    "collapsed": false,
    "ExecuteTime": {
     "end_time": "2024-06-14T12:17:06.899030Z",
     "start_time": "2024-06-14T12:17:06.860060Z"
    }
   },
   "id": "70f391d7a9854f8a",
   "execution_count": 34
  },
  {
   "cell_type": "code",
   "outputs": [
    {
     "data": {
      "text/plain": "[]"
     },
     "execution_count": 35,
     "metadata": {},
     "output_type": "execute_result"
    }
   ],
   "source": [
    "NREMBaselineInterTimeStartPoint"
   ],
   "metadata": {
    "collapsed": false,
    "ExecuteTime": {
     "end_time": "2024-06-14T12:17:06.976051Z",
     "start_time": "2024-06-14T12:17:06.964068Z"
    }
   },
   "id": "c26baed8933b9e8c",
   "execution_count": 35
  },
  {
   "cell_type": "code",
   "outputs": [
    {
     "data": {
      "text/plain": "[]"
     },
     "execution_count": 36,
     "metadata": {},
     "output_type": "execute_result"
    }
   ],
   "source": [
    "NREMBaselineInterTimeEndPoint"
   ],
   "metadata": {
    "collapsed": false,
    "ExecuteTime": {
     "end_time": "2024-06-14T12:17:07.023058Z",
     "start_time": "2024-06-14T12:17:07.010071Z"
    }
   },
   "id": "7b3583f39f6da5e5",
   "execution_count": 36
  },
  {
   "cell_type": "code",
   "outputs": [],
   "source": [
    "time = 8"
   ],
   "metadata": {
    "collapsed": false,
    "ExecuteTime": {
     "end_time": "2024-06-14T12:17:07.119042Z",
     "start_time": "2024-06-14T12:17:07.115033Z"
    }
   },
   "id": "fd1e5b0bb49472f8",
   "execution_count": 37
  },
  {
   "cell_type": "code",
   "outputs": [
    {
     "ename": "NameError",
     "evalue": "name 'findPosFromTimestamps' is not defined",
     "output_type": "error",
     "traceback": [
      "\u001B[1;31m---------------------------------------------------------------------------\u001B[0m",
      "\u001B[1;31mNameError\u001B[0m                                 Traceback (most recent call last)",
      "Cell \u001B[1;32mIn[38], line 1\u001B[0m\n\u001B[1;32m----> 1\u001B[0m Pos \u001B[38;5;241m=\u001B[39m \u001B[43mfindPosFromTimestamps\u001B[49m(signalTime, time)\n",
      "\u001B[1;31mNameError\u001B[0m: name 'findPosFromTimestamps' is not defined"
     ]
    }
   ],
   "source": [
    " Pos = findPosFromTimestamps(signalTime, time)"
   ],
   "metadata": {
    "collapsed": false,
    "ExecuteTime": {
     "end_time": "2024-06-14T12:17:07.183030Z",
     "start_time": "2024-06-14T12:17:07.166057Z"
    }
   },
   "id": "697f690359e4870",
   "execution_count": 38
  },
  {
   "cell_type": "code",
   "outputs": [
    {
     "ename": "NameError",
     "evalue": "name 'Pos' is not defined",
     "output_type": "error",
     "traceback": [
      "\u001B[1;31m---------------------------------------------------------------------------\u001B[0m",
      "\u001B[1;31mNameError\u001B[0m                                 Traceback (most recent call last)",
      "Cell \u001B[1;32mIn[39], line 1\u001B[0m\n\u001B[1;32m----> 1\u001B[0m np\u001B[38;5;241m.\u001B[39mones([\u001B[38;5;241m1\u001B[39m,\u001B[43mPos\u001B[49m])\u001B[38;5;241m*\u001B[39mnp\u001B[38;5;241m.\u001B[39mnan\n",
      "\u001B[1;31mNameError\u001B[0m: name 'Pos' is not defined"
     ]
    }
   ],
   "source": [
    "np.ones([1,Pos])*np.nan"
   ],
   "metadata": {
    "collapsed": false,
    "ExecuteTime": {
     "end_time": "2024-06-14T12:17:07.277022Z",
     "start_time": "2024-06-14T12:17:07.259056Z"
    }
   },
   "id": "e6cde81350d0dfb9",
   "execution_count": 39
  },
  {
   "cell_type": "code",
   "outputs": [
    {
     "ename": "IndexError",
     "evalue": "list index out of range",
     "output_type": "error",
     "traceback": [
      "\u001B[1;31m---------------------------------------------------------------------------\u001B[0m",
      "\u001B[1;31mIndexError\u001B[0m                                Traceback (most recent call last)",
      "Cell \u001B[1;32mIn[40], line 1\u001B[0m\n\u001B[1;32m----> 1\u001B[0m time \u001B[38;5;241m=\u001B[39m \u001B[43mNREMBaselineInterTimeStartPoint\u001B[49m\u001B[43m[\u001B[49m\u001B[38;5;241;43m-\u001B[39;49m\u001B[38;5;241;43m1\u001B[39;49m\u001B[43m]\u001B[49m\n",
      "\u001B[1;31mIndexError\u001B[0m: list index out of range"
     ]
    }
   ],
   "source": [
    "\n",
    "\n",
    "time = NREMBaselineInterTimeStartPoint[-1]"
   ],
   "metadata": {
    "collapsed": false,
    "ExecuteTime": {
     "end_time": "2024-06-14T12:17:07.340171Z",
     "start_time": "2024-06-14T12:17:07.315058Z"
    }
   },
   "id": "eb996002b076c8ec",
   "execution_count": 40
  },
  {
   "cell_type": "code",
   "outputs": [
    {
     "data": {
      "text/plain": "8"
     },
     "execution_count": 41,
     "metadata": {},
     "output_type": "execute_result"
    }
   ],
   "source": [
    "time"
   ],
   "metadata": {
    "collapsed": false,
    "ExecuteTime": {
     "end_time": "2024-06-14T12:17:07.449057Z",
     "start_time": "2024-06-14T12:17:07.437022Z"
    }
   },
   "id": "ce2cc359105b346d",
   "execution_count": 41
  },
  {
   "cell_type": "code",
   "outputs": [
    {
     "ename": "NameError",
     "evalue": "name 'Pos' is not defined",
     "output_type": "error",
     "traceback": [
      "\u001B[1;31m---------------------------------------------------------------------------\u001B[0m",
      "\u001B[1;31mNameError\u001B[0m                                 Traceback (most recent call last)",
      "Cell \u001B[1;32mIn[42], line 1\u001B[0m\n\u001B[1;32m----> 1\u001B[0m \u001B[38;5;28mlen\u001B[39m(signalTime)\u001B[38;5;241m-\u001B[39m\u001B[43mPos\u001B[49m \u001B[38;5;241m-\u001B[39m\u001B[38;5;241m1\u001B[39m\n",
      "\u001B[1;31mNameError\u001B[0m: name 'Pos' is not defined"
     ]
    }
   ],
   "source": [
    "len(signalTime)-Pos -1"
   ],
   "metadata": {
    "collapsed": false,
    "ExecuteTime": {
     "end_time": "2024-06-14T12:17:07.513050Z",
     "start_time": "2024-06-14T12:17:07.485022Z"
    }
   },
   "id": "1a3bed41ba924433",
   "execution_count": 42
  },
  {
   "cell_type": "code",
   "outputs": [
    {
     "ename": "NameError",
     "evalue": "name 'findPosFromTimestamps' is not defined",
     "output_type": "error",
     "traceback": [
      "\u001B[1;31m---------------------------------------------------------------------------\u001B[0m",
      "\u001B[1;31mNameError\u001B[0m                                 Traceback (most recent call last)",
      "Cell \u001B[1;32mIn[43], line 1\u001B[0m\n\u001B[1;32m----> 1\u001B[0m Pos \u001B[38;5;241m=\u001B[39m \u001B[43mfindPosFromTimestamps\u001B[49m(signalTime, time)\n",
      "\u001B[1;31mNameError\u001B[0m: name 'findPosFromTimestamps' is not defined"
     ]
    }
   ],
   "source": [
    "Pos = findPosFromTimestamps(signalTime, time)\n"
   ],
   "metadata": {
    "collapsed": false,
    "ExecuteTime": {
     "end_time": "2024-06-14T12:17:07.577056Z",
     "start_time": "2024-06-14T12:17:07.563063Z"
    }
   },
   "id": "9057ad217f7fb8ae",
   "execution_count": 43
  },
  {
   "cell_type": "code",
   "outputs": [
    {
     "ename": "NameError",
     "evalue": "name 'Pos' is not defined",
     "output_type": "error",
     "traceback": [
      "\u001B[1;31m---------------------------------------------------------------------------\u001B[0m",
      "\u001B[1;31mNameError\u001B[0m                                 Traceback (most recent call last)",
      "Cell \u001B[1;32mIn[44], line 1\u001B[0m\n\u001B[1;32m----> 1\u001B[0m np\u001B[38;5;241m.\u001B[39mones([\u001B[38;5;241m1\u001B[39m,\u001B[38;5;28mmax\u001B[39m(\u001B[38;5;241m0\u001B[39m,\u001B[38;5;28mlen\u001B[39m(signalTime)\u001B[38;5;241m-\u001B[39m\u001B[43mPos\u001B[49m \u001B[38;5;241m-\u001B[39m\u001B[38;5;241m1\u001B[39m)])\u001B[38;5;241m*\u001B[39mnp\u001B[38;5;241m.\u001B[39mnan\n",
      "\u001B[1;31mNameError\u001B[0m: name 'Pos' is not defined"
     ]
    }
   ],
   "source": [
    "np.ones([1,max(0,len(signalTime)-Pos -1)])*np.nan"
   ],
   "metadata": {
    "collapsed": false,
    "ExecuteTime": {
     "end_time": "2024-06-14T12:17:07.654128Z",
     "start_time": "2024-06-14T12:17:07.628059Z"
    }
   },
   "id": "e34de6c142fec3cb",
   "execution_count": 44
  },
  {
   "cell_type": "code",
   "outputs": [],
   "source": [
    "NREMBaselineInterTimeStartPoint[1]"
   ],
   "metadata": {
    "collapsed": false
   },
   "id": "2ec7208283b9ef52",
   "execution_count": null
  },
  {
   "cell_type": "code",
   "outputs": [],
   "source": [
    "NREMBaselineInterTimeEndPoint[1]"
   ],
   "metadata": {
    "collapsed": false
   },
   "id": "1fa4707205d259e0",
   "execution_count": null
  },
  {
   "cell_type": "code",
   "outputs": [],
   "source": [
    "timeStart = findPosFromTimestamps(signalTime, NREMBaselineInterTimeStartPoint[1])\n",
    "timeEnd = findPosFromTimestamps(signalTime, NREMBaselineInterTimeEndPoint[1])\n",
    "\n",
    "numberOfPoints = timeEnd - timeStart + 1"
   ],
   "metadata": {
    "collapsed": false
   },
   "id": "a950329c9a8544",
   "execution_count": null
  },
  {
   "cell_type": "code",
   "outputs": [],
   "source": [
    "numberOfPoints"
   ],
   "metadata": {
    "collapsed": false
   },
   "id": "74ca37b1b1e16cf8",
   "execution_count": null
  },
  {
   "cell_type": "code",
   "outputs": [],
   "source": [
    "TimeSignal = np.ones([1,numberOfPoints])*np.nan\n",
    "TimePoints = signalTime[timeStart:(timeEnd +1)]\n"
   ],
   "metadata": {
    "collapsed": false
   },
   "id": "a51dbac295c961d6",
   "execution_count": null
  },
  {
   "cell_type": "code",
   "outputs": [
    {
     "ename": "NameError",
     "evalue": "name 'TimePoints' is not defined",
     "output_type": "error",
     "traceback": [
      "\u001B[1;31m---------------------------------------------------------------------------\u001B[0m",
      "\u001B[1;31mNameError\u001B[0m                                 Traceback (most recent call last)",
      "Cell \u001B[1;32mIn[1], line 1\u001B[0m\n\u001B[1;32m----> 1\u001B[0m \u001B[43mTimePoints\u001B[49m \n",
      "\u001B[1;31mNameError\u001B[0m: name 'TimePoints' is not defined"
     ]
    }
   ],
   "source": [
    "TimePoints "
   ],
   "metadata": {
    "collapsed": false,
    "ExecuteTime": {
     "end_time": "2024-06-14T12:17:10.914327Z",
     "start_time": "2024-06-14T12:17:10.641287Z"
    }
   },
   "id": "93db7302c2e923fb",
   "execution_count": 1
  },
  {
   "cell_type": "code",
   "outputs": [],
   "source": [
    "NREMBaselineInterTimeEndPointTimePoints[1:-1]"
   ],
   "metadata": {
    "collapsed": false
   },
   "id": "741fee6f2bf71348",
   "execution_count": null
  },
  {
   "cell_type": "code",
   "outputs": [],
   "source": [
    "NREMBaselineInterTimeEndPoint"
   ],
   "metadata": {
    "collapsed": false,
    "ExecuteTime": {
     "start_time": "2024-06-14T12:17:10.917283Z"
    }
   },
   "id": "2a0e30ffefd546ca",
   "execution_count": null
  },
  {
   "cell_type": "code",
   "outputs": [],
   "source": [
    "InterLinesSignal = []\n",
    "InterLinesPoints = []\n",
    "\n",
    "for i, p in enumerate(zip(NREMBaselineInterTimeStartPoint,NREMBaselineInterTimeEndPoint)):\n",
    "\n",
    "    if np.isnan(p[0]):\n",
    "\n",
    "        time = p[1]\n",
    "\n",
    "        Pos = findPosFromTimestamps(signalTime, time)\n",
    "\n",
    "        InterLinesSignal.append(np.ones([Pos])*np.nan)\n",
    "        InterLinesPoints.append(signalTime[0:Pos])\n",
    "\n",
    "    elif np.isnan(p[1]):\n",
    "\n",
    "        time = p[0]\n",
    "\n",
    "        Pos = findPosFromTimestamps(signalTime, time)\n",
    "\n",
    "        InterLinesSignal.append(np.ones([max(0,len(signalTime)-Pos -1)])*np.nan)\n",
    "        InterLinesPoints.append(signalTime[(Pos+1)::])\n",
    "    else:\n",
    "\n",
    "        timeStart = findPosFromTimestamps(signalTime, p[0])\n",
    "        timeEnd = findPosFromTimestamps(signalTime, p[1])\n",
    "\n",
    "        numberOfPoints = timeEnd - timeStart + 1\n",
    "\n",
    "        TimeSignal = np.ones([numberOfPoints])*np.nan\n",
    "        TimePoints = signalTime[timeStart:(timeEnd +1)]\n",
    "\n",
    "        InterLinesSignal.append(TimeSignal[1:-1])\n",
    "        InterLinesPoints.append(TimePoints[1:-1])\n",
    "\n",
    "\n",
    "\n"
   ],
   "metadata": {
    "collapsed": false,
    "ExecuteTime": {
     "start_time": "2024-06-14T12:17:10.917283Z"
    }
   },
   "id": "f6d135c7deb898a7",
   "execution_count": null
  },
  {
   "cell_type": "code",
   "outputs": [],
   "source": [
    "from scipy import signal\n",
    "import numpy as np\n",
    "import re\n",
    "from Schema.UsefulFunctions import findPosFromTimestamps\n",
    "\n",
    "timestamps = np.arange(0,40)\n",
    "dff = np.arange(0,40)*2\n",
    "\n",
    "signaldff = dff\n",
    "signalTime = timestamps\n",
    "\n",
    "baseline = dff\n",
    "\n",
    "b = 'wwnnwwnnww'\n",
    "\n"
   ],
   "metadata": {
    "collapsed": false,
    "ExecuteTime": {
     "start_time": "2024-06-14T12:17:10.918283Z"
    }
   },
   "id": "cb13daefa734a2be",
   "execution_count": null
  },
  {
   "cell_type": "code",
   "outputs": [],
   "source": [
    "signalTime"
   ],
   "metadata": {
    "collapsed": false,
    "ExecuteTime": {
     "start_time": "2024-06-14T12:17:10.919283Z"
    }
   },
   "id": "7b93fecd53503675",
   "execution_count": null
  },
  {
   "cell_type": "code",
   "outputs": [],
   "source": [
    "TimesOfb = np.arange(0,(len(b))*4,4)\n",
    "\n",
    "exp = 'n+[^w]*'\n",
    "NoWake = re.finditer(exp, b)\n",
    "\n",
    "NoWakeStart = []\n",
    "NoWakeStop = []\n",
    "\n",
    "for nowake in NoWake:\n",
    "    span = nowake.span()\n",
    "    NoWakeStart .append(span[0])\n",
    "    NoWakeStop.append(span[1])\n",
    "\n",
    "points = []\n",
    "baselineAprox = []\n",
    "\n",
    "interpIntervals = 0\n",
    "\n",
    "NREMBaselineSignal = []\n",
    "NREMBaselinePoints = []\n",
    "NREMBaselineTimesOfB = []\n",
    "\n",
    "NREMBaselineInterTimeStartPoint = []\n",
    "NREMBaselineInterTimeStartPointBfile = []\n",
    "NREMBaselineInterTimeEndPoint = []\n",
    "NREMBaselineInterTimeEndPointBfile = []\n",
    "\n",
    "for i, s in enumerate(zip(NoWakeStart,NoWakeStop)):\n",
    "\n",
    "\n",
    "    StartIndexToKeep = TimesOfb[s[0]]\n",
    "    StopIndexToKeep = TimesOfb[s[1]-1] + 4\n",
    "\n",
    "    StartIndexDff = findPosFromTimestamps(signalTime,StartIndexToKeep)\n",
    "    StopIndexDff = findPosFromTimestamps(signalTime,StopIndexToKeep)\n",
    "    \n",
    "    print(StartIndexDff)\n",
    "    print(StopIndexDff)\n",
    "\n",
    "    NREMBaselineSignal.append(baseline[StartIndexDff:StopIndexDff])\n",
    "    NREMBaselinePoints.append(signalTime[StartIndexDff:StopIndexDff])\n",
    "    NREMBaselineTimesOfB.append(np.arange(TimesOfb[s[0]],(TimesOfb[s[1]-1] + 4),4))\n",
    "\n",
    "    points.append(signalTime[StartIndexDff:StopIndexDff])\n",
    "    baselineAprox.append(baseline[StartIndexDff:StopIndexDff])\n",
    "    \n",
    "    print(points)\n",
    "\n",
    "    if i == 0:\n",
    "\n",
    "        interpIntervals += 1\n",
    "        NREMBaselineInterTimeStartPoint.append(np.nan)\n",
    "        NREMBaselineInterTimeStartPointBfile.append(np.nan)\n",
    "\n",
    "        EndPoint = findPosFromTimestamps(signalTime,StartIndexToKeep)\n",
    "\n",
    "        NREMBaselineInterTimeEndPoint.append(signalTime[EndPoint])\n",
    "        NREMBaselineInterTimeEndPointBfile.append(TimesOfb[s[0]])\n",
    "\n",
    "        continue\n",
    "\n",
    "    interpIntervals += 1\n",
    "    StartPoint = findPosFromTimestamps(signalTime, (TimesOfb[NoWakeStop[i-1]]))\n",
    "\n",
    "    NREMBaselineInterTimeStartPoint.append(signalTime[StartPoint-1])\n",
    "    NREMBaselineInterTimeStartPointBfile.append(TimesOfb[NoWakeStop[i-1]])\n",
    "\n",
    "    Endoint = findPosFromTimestamps(signalTime, (TimesOfb[NoWakeStart[i]]))\n",
    "\n",
    "    NREMBaselineInterTimeEndPoint.append(signalTime[Endoint])\n",
    "    NREMBaselineInterTimeEndPointBfile.append(TimesOfb[NoWakeStart[i]])\n",
    "\n",
    "    if i == (len(NoWakeStart) - 1):\n",
    "\n",
    "        interpIntervals += 1\n",
    "        StartPoint =  findPosFromTimestamps(signalTime, (TimesOfb[NoWakeStop[i]]))\n",
    "\n",
    "        NREMBaselineInterTimeStartPoint.append(signalTime[StartPoint-1])\n",
    "        NREMBaselineInterTimeStartPointBfile.append(TimesOfb[NoWakeStop[i]])\n",
    "\n",
    "        NREMBaselineInterTimeEndPoint.append(np.nan)\n",
    "        NREMBaselineInterTimeEndPointBfile.append(np.nan)"
   ],
   "metadata": {
    "collapsed": false,
    "ExecuteTime": {
     "start_time": "2024-06-14T12:17:10.921293Z"
    }
   },
   "id": "72962bd452cf4ef4",
   "execution_count": null
  },
  {
   "cell_type": "code",
   "outputs": [],
   "source": [
    "print(points)"
   ],
   "metadata": {
    "collapsed": false,
    "ExecuteTime": {
     "start_time": "2024-06-14T12:17:10.922295Z"
    }
   },
   "id": "58fdd607da13d889",
   "execution_count": null
  },
  {
   "cell_type": "code",
   "outputs": [],
   "source": [
    "points[3]"
   ],
   "metadata": {
    "collapsed": false
   },
   "id": "432397be2c9cb026",
   "execution_count": null
  },
  {
   "cell_type": "code",
   "outputs": [
    {
     "ename": "NameError",
     "evalue": "name 'np' is not defined",
     "output_type": "error",
     "traceback": [
      "\u001B[1;31m---------------------------------------------------------------------------\u001B[0m",
      "\u001B[1;31mNameError\u001B[0m                                 Traceback (most recent call last)",
      "Cell \u001B[1;32mIn[2], line 1\u001B[0m\n\u001B[1;32m----> 1\u001B[0m A \u001B[38;5;241m=\u001B[39m \u001B[43mnp\u001B[49m\u001B[38;5;241m.\u001B[39mconcatenate(points)\n",
      "\u001B[1;31mNameError\u001B[0m: name 'np' is not defined"
     ]
    }
   ],
   "source": [
    "A = np.concatenate(points)"
   ],
   "metadata": {
    "collapsed": false,
    "ExecuteTime": {
     "end_time": "2024-06-14T12:17:10.962312Z",
     "start_time": "2024-06-14T12:17:10.942298Z"
    }
   },
   "id": "6329cd2a579c0c94",
   "execution_count": 2
  },
  {
   "cell_type": "code",
   "outputs": [
    {
     "ename": "NameError",
     "evalue": "name 'points' is not defined",
     "output_type": "error",
     "traceback": [
      "\u001B[1;31m---------------------------------------------------------------------------\u001B[0m",
      "\u001B[1;31mNameError\u001B[0m                                 Traceback (most recent call last)",
      "Cell \u001B[1;32mIn[3], line 1\u001B[0m\n\u001B[1;32m----> 1\u001B[0m \u001B[43mpoints\u001B[49m\n",
      "\u001B[1;31mNameError\u001B[0m: name 'points' is not defined"
     ]
    }
   ],
   "source": [
    "points"
   ],
   "metadata": {
    "collapsed": false,
    "ExecuteTime": {
     "end_time": "2024-06-14T12:17:11.040325Z",
     "start_time": "2024-06-14T12:17:11.013294Z"
    }
   },
   "id": "8e2c34ae6f581580",
   "execution_count": 3
  },
  {
   "cell_type": "code",
   "outputs": [
    {
     "ename": "NameError",
     "evalue": "name 'NoWakeStart' is not defined",
     "output_type": "error",
     "traceback": [
      "\u001B[1;31m---------------------------------------------------------------------------\u001B[0m",
      "\u001B[1;31mNameError\u001B[0m                                 Traceback (most recent call last)",
      "Cell \u001B[1;32mIn[4], line 1\u001B[0m\n\u001B[1;32m----> 1\u001B[0m \u001B[43mNoWakeStart\u001B[49m\n",
      "\u001B[1;31mNameError\u001B[0m: name 'NoWakeStart' is not defined"
     ]
    }
   ],
   "source": [
    "NoWakeStart"
   ],
   "metadata": {
    "collapsed": false,
    "ExecuteTime": {
     "end_time": "2024-06-14T12:17:11.135288Z",
     "start_time": "2024-06-14T12:17:11.117282Z"
    }
   },
   "id": "3f60274546eb8424",
   "execution_count": 4
  },
  {
   "cell_type": "code",
   "outputs": [
    {
     "ename": "NameError",
     "evalue": "name 'NREMBaselineInterTimeStartPoint' is not defined",
     "output_type": "error",
     "traceback": [
      "\u001B[1;31m---------------------------------------------------------------------------\u001B[0m",
      "\u001B[1;31mNameError\u001B[0m                                 Traceback (most recent call last)",
      "Cell \u001B[1;32mIn[5], line 4\u001B[0m\n\u001B[0;32m      1\u001B[0m InterLinesSignal \u001B[38;5;241m=\u001B[39m []\n\u001B[0;32m      2\u001B[0m InterLinesPoints \u001B[38;5;241m=\u001B[39m []\n\u001B[1;32m----> 4\u001B[0m \u001B[38;5;28;01mfor\u001B[39;00m i, p \u001B[38;5;129;01min\u001B[39;00m \u001B[38;5;28menumerate\u001B[39m(\u001B[38;5;28mzip\u001B[39m(\u001B[43mNREMBaselineInterTimeStartPoint\u001B[49m,NREMBaselineInterTimeEndPoint)):\n\u001B[0;32m      6\u001B[0m     \u001B[38;5;28;01mif\u001B[39;00m np\u001B[38;5;241m.\u001B[39misnan(p[\u001B[38;5;241m0\u001B[39m]):\n\u001B[0;32m      8\u001B[0m         time \u001B[38;5;241m=\u001B[39m p[\u001B[38;5;241m1\u001B[39m]\n",
      "\u001B[1;31mNameError\u001B[0m: name 'NREMBaselineInterTimeStartPoint' is not defined"
     ]
    }
   ],
   "source": [
    "InterLinesSignal = []\n",
    "InterLinesPoints = []\n",
    "\n",
    "for i, p in enumerate(zip(NREMBaselineInterTimeStartPoint,NREMBaselineInterTimeEndPoint)):\n",
    "\n",
    "    if np.isnan(p[0]):\n",
    "\n",
    "        time = p[1]\n",
    "\n",
    "        Pos = findPosFromTimestamps(signalTime, time)\n",
    "\n",
    "        InterLinesSignal.append(np.ones([Pos])*np.nan)\n",
    "        InterLinesPoints.append(signalTime[0:Pos])\n",
    "\n",
    "        points.append(signalTime[0:Pos])\n",
    "        baselineAprox.append(np.ones([Pos])*np.nan)\n",
    "\n",
    "    elif np.isnan(p[1]):\n",
    "\n",
    "        time = p[0]\n",
    "\n",
    "        Pos = findPosFromTimestamps(signalTime, time)\n",
    "\n",
    "        InterLinesSignal.append(np.ones([max(0,len(baseline)-Pos -1)])*np.nan)\n",
    "        InterLinesPoints.append(signalTime[(Pos+1)::])\n",
    "\n",
    "        points.append(signalTime[(Pos+1)::])\n",
    "        baselineAprox.append(np.ones([max(0,len(baseline)-Pos -1)])*np.nan)\n",
    "    else:\n",
    "\n",
    "        timeStart = findPosFromTimestamps(signalTime, p[0])\n",
    "        timeEnd = findPosFromTimestamps(signalTime, p[1])\n",
    "\n",
    "        numberOfPoints = timeEnd - timeStart + 1\n",
    "\n",
    "        TimeSignal = np.ones([numberOfPoints])*np.nan\n",
    "        TimePoints = signalTime[timeStart:(timeEnd +1)]\n",
    "\n",
    "        InterLinesSignal.append(TimeSignal[1:-1])\n",
    "        InterLinesPoints.append(TimePoints[1:-1])\n",
    "\n",
    "        points.append(TimePoints[1:-1])\n",
    "        baselineAprox.append(TimeSignal[1:-1])"
   ],
   "metadata": {
    "collapsed": false,
    "ExecuteTime": {
     "end_time": "2024-06-14T12:17:11.324317Z",
     "start_time": "2024-06-14T12:17:11.294282Z"
    }
   },
   "id": "722bc26b1b9e30be",
   "execution_count": 5
  },
  {
   "cell_type": "code",
   "outputs": [
    {
     "ename": "NameError",
     "evalue": "name 'points' is not defined",
     "output_type": "error",
     "traceback": [
      "\u001B[1;31m---------------------------------------------------------------------------\u001B[0m",
      "\u001B[1;31mNameError\u001B[0m                                 Traceback (most recent call last)",
      "Cell \u001B[1;32mIn[6], line 1\u001B[0m\n\u001B[1;32m----> 1\u001B[0m \u001B[43mpoints\u001B[49m\n",
      "\u001B[1;31mNameError\u001B[0m: name 'points' is not defined"
     ]
    }
   ],
   "source": [
    "points"
   ],
   "metadata": {
    "collapsed": false,
    "ExecuteTime": {
     "end_time": "2024-06-14T12:17:11.420282Z",
     "start_time": "2024-06-14T12:17:11.399318Z"
    }
   },
   "id": "25a12049a0eb95ef",
   "execution_count": 6
  },
  {
   "cell_type": "code",
   "outputs": [
    {
     "ename": "NameError",
     "evalue": "name 'np' is not defined",
     "output_type": "error",
     "traceback": [
      "\u001B[1;31m---------------------------------------------------------------------------\u001B[0m",
      "\u001B[1;31mNameError\u001B[0m                                 Traceback (most recent call last)",
      "Cell \u001B[1;32mIn[7], line 1\u001B[0m\n\u001B[1;32m----> 1\u001B[0m A \u001B[38;5;241m=\u001B[39m \u001B[43mnp\u001B[49m\u001B[38;5;241m.\u001B[39mconcatenate(points)\n",
      "\u001B[1;31mNameError\u001B[0m: name 'np' is not defined"
     ]
    }
   ],
   "source": [
    "A = np.concatenate(points)"
   ],
   "metadata": {
    "collapsed": false,
    "ExecuteTime": {
     "end_time": "2024-06-14T12:17:11.498307Z",
     "start_time": "2024-06-14T12:17:11.473285Z"
    }
   },
   "id": "d0ca76018dc1a54e",
   "execution_count": 7
  },
  {
   "cell_type": "code",
   "outputs": [
    {
     "ename": "NameError",
     "evalue": "name 'np' is not defined",
     "output_type": "error",
     "traceback": [
      "\u001B[1;31m---------------------------------------------------------------------------\u001B[0m",
      "\u001B[1;31mNameError\u001B[0m                                 Traceback (most recent call last)",
      "Cell \u001B[1;32mIn[8], line 1\u001B[0m\n\u001B[1;32m----> 1\u001B[0m points \u001B[38;5;241m=\u001B[39m \u001B[43mnp\u001B[49m\u001B[38;5;241m.\u001B[39mconcatenate(points)\n\u001B[0;32m      2\u001B[0m baselineAprox \u001B[38;5;241m=\u001B[39m np\u001B[38;5;241m.\u001B[39mconcatenate(baselineAprox)\n\u001B[0;32m      4\u001B[0m A \u001B[38;5;241m=\u001B[39m [points, baselineAprox]\n",
      "\u001B[1;31mNameError\u001B[0m: name 'np' is not defined"
     ]
    }
   ],
   "source": [
    "points = np.concatenate(points)\n",
    "baselineAprox = np.concatenate(baselineAprox)\n",
    "\n",
    "A = [points, baselineAprox]"
   ],
   "metadata": {
    "collapsed": false,
    "ExecuteTime": {
     "end_time": "2024-06-14T12:17:11.638280Z",
     "start_time": "2024-06-14T12:17:11.591317Z"
    }
   },
   "id": "3c72abd0bb81f2f3",
   "execution_count": 8
  },
  {
   "cell_type": "code",
   "outputs": [
    {
     "ename": "NameError",
     "evalue": "name 'np' is not defined",
     "output_type": "error",
     "traceback": [
      "\u001B[1;31m---------------------------------------------------------------------------\u001B[0m",
      "\u001B[1;31mNameError\u001B[0m                                 Traceback (most recent call last)",
      "Cell \u001B[1;32mIn[9], line 1\u001B[0m\n\u001B[1;32m----> 1\u001B[0m B \u001B[38;5;241m=\u001B[39m \u001B[43mnp\u001B[49m\u001B[38;5;241m.\u001B[39marray(A)\n",
      "\u001B[1;31mNameError\u001B[0m: name 'np' is not defined"
     ]
    }
   ],
   "source": [
    "B = np.array(A)"
   ],
   "metadata": {
    "collapsed": false,
    "ExecuteTime": {
     "end_time": "2024-06-14T12:17:11.731315Z",
     "start_time": "2024-06-14T12:17:11.703298Z"
    }
   },
   "id": "66be4fb5b5ce5566",
   "execution_count": 9
  },
  {
   "cell_type": "code",
   "outputs": [
    {
     "ename": "NameError",
     "evalue": "name 'np' is not defined",
     "output_type": "error",
     "traceback": [
      "\u001B[1;31m---------------------------------------------------------------------------\u001B[0m",
      "\u001B[1;31mNameError\u001B[0m                                 Traceback (most recent call last)",
      "Cell \u001B[1;32mIn[10], line 1\u001B[0m\n\u001B[1;32m----> 1\u001B[0m baselineAndPoints \u001B[38;5;241m=\u001B[39m \u001B[43mnp\u001B[49m\u001B[38;5;241m.\u001B[39marray([baselineAprox,points])\n",
      "\u001B[1;31mNameError\u001B[0m: name 'np' is not defined"
     ]
    }
   ],
   "source": [
    "baselineAndPoints = np.array([baselineAprox,points])"
   ],
   "metadata": {
    "collapsed": false,
    "ExecuteTime": {
     "end_time": "2024-06-14T12:17:11.777286Z",
     "start_time": "2024-06-14T12:17:11.751320Z"
    }
   },
   "id": "d1d99c8fe649b093",
   "execution_count": 10
  },
  {
   "cell_type": "code",
   "outputs": [
    {
     "ename": "NameError",
     "evalue": "name 'np' is not defined",
     "output_type": "error",
     "traceback": [
      "\u001B[1;31m---------------------------------------------------------------------------\u001B[0m",
      "\u001B[1;31mNameError\u001B[0m                                 Traceback (most recent call last)",
      "Cell \u001B[1;32mIn[11], line 1\u001B[0m\n\u001B[1;32m----> 1\u001B[0m baselineAndPoints \u001B[38;5;241m=\u001B[39m \u001B[43mnp\u001B[49m\u001B[38;5;241m.\u001B[39mtranspose(np\u001B[38;5;241m.\u001B[39marray([baselineAprox,points]))\n",
      "\u001B[1;31mNameError\u001B[0m: name 'np' is not defined"
     ]
    }
   ],
   "source": [
    "baselineAndPoints = np.transpose(np.array([baselineAprox,points]))"
   ],
   "metadata": {
    "collapsed": false,
    "ExecuteTime": {
     "end_time": "2024-06-14T12:17:11.886279Z",
     "start_time": "2024-06-14T12:17:11.858285Z"
    }
   },
   "id": "9c8546eb889b23c7",
   "execution_count": 11
  },
  {
   "cell_type": "code",
   "outputs": [
    {
     "ename": "NameError",
     "evalue": "name 'baselineAndPoints' is not defined",
     "output_type": "error",
     "traceback": [
      "\u001B[1;31m---------------------------------------------------------------------------\u001B[0m",
      "\u001B[1;31mNameError\u001B[0m                                 Traceback (most recent call last)",
      "Cell \u001B[1;32mIn[12], line 1\u001B[0m\n\u001B[1;32m----> 1\u001B[0m \u001B[43mbaselineAndPoints\u001B[49m\n",
      "\u001B[1;31mNameError\u001B[0m: name 'baselineAndPoints' is not defined"
     ]
    }
   ],
   "source": [
    "baselineAndPoints"
   ],
   "metadata": {
    "collapsed": false,
    "ExecuteTime": {
     "end_time": "2024-06-14T12:17:11.934312Z",
     "start_time": "2024-06-14T12:17:11.911280Z"
    }
   },
   "id": "a09e108ddd64baf1",
   "execution_count": 12
  },
  {
   "cell_type": "code",
   "outputs": [
    {
     "ename": "NameError",
     "evalue": "name 'baselineAndPoints' is not defined",
     "output_type": "error",
     "traceback": [
      "\u001B[1;31m---------------------------------------------------------------------------\u001B[0m",
      "\u001B[1;31mNameError\u001B[0m                                 Traceback (most recent call last)",
      "Cell \u001B[1;32mIn[13], line 1\u001B[0m\n\u001B[1;32m----> 1\u001B[0m baselineAndPointsSorted \u001B[38;5;241m=\u001B[39m \u001B[43mbaselineAndPoints\u001B[49m[baselineAndPoints[:,\u001B[38;5;241m1\u001B[39m]\u001B[38;5;241m.\u001B[39margsort()]\n",
      "\u001B[1;31mNameError\u001B[0m: name 'baselineAndPoints' is not defined"
     ]
    }
   ],
   "source": [
    " baselineAndPointsSorted = baselineAndPoints[baselineAndPoints[:,1].argsort()]"
   ],
   "metadata": {
    "collapsed": false,
    "ExecuteTime": {
     "end_time": "2024-06-14T12:17:12.030286Z",
     "start_time": "2024-06-14T12:17:12.014326Z"
    }
   },
   "id": "c5a18914ea647206",
   "execution_count": 13
  },
  {
   "cell_type": "code",
   "outputs": [
    {
     "ename": "NameError",
     "evalue": "name 'baselineAndPointsSorted' is not defined",
     "output_type": "error",
     "traceback": [
      "\u001B[1;31m---------------------------------------------------------------------------\u001B[0m",
      "\u001B[1;31mNameError\u001B[0m                                 Traceback (most recent call last)",
      "Cell \u001B[1;32mIn[14], line 1\u001B[0m\n\u001B[1;32m----> 1\u001B[0m \u001B[38;5;28mprint\u001B[39m(\u001B[43mbaselineAndPointsSorted\u001B[49m[:,\u001B[38;5;241m1\u001B[39m])\n",
      "\u001B[1;31mNameError\u001B[0m: name 'baselineAndPointsSorted' is not defined"
     ]
    }
   ],
   "source": [
    "print(baselineAndPointsSorted[:,1])"
   ],
   "metadata": {
    "collapsed": false,
    "ExecuteTime": {
     "end_time": "2024-06-14T12:17:12.157286Z",
     "start_time": "2024-06-14T12:17:12.133315Z"
    }
   },
   "id": "4401668c317fd59a",
   "execution_count": 14
  },
  {
   "cell_type": "code",
   "outputs": [
    {
     "ename": "NameError",
     "evalue": "name 'baselineAndPointsSorted' is not defined",
     "output_type": "error",
     "traceback": [
      "\u001B[1;31m---------------------------------------------------------------------------\u001B[0m",
      "\u001B[1;31mNameError\u001B[0m                                 Traceback (most recent call last)",
      "Cell \u001B[1;32mIn[15], line 1\u001B[0m\n\u001B[1;32m----> 1\u001B[0m \u001B[38;5;28mprint\u001B[39m(\u001B[43mbaselineAndPointsSorted\u001B[49m[:,\u001B[38;5;241m0\u001B[39m])\n",
      "\u001B[1;31mNameError\u001B[0m: name 'baselineAndPointsSorted' is not defined"
     ]
    }
   ],
   "source": [
    "print(baselineAndPointsSorted[:,0])"
   ],
   "metadata": {
    "collapsed": false,
    "ExecuteTime": {
     "end_time": "2024-06-14T12:17:12.204287Z",
     "start_time": "2024-06-14T12:17:12.183316Z"
    }
   },
   "id": "ac6eeb72a2710db7",
   "execution_count": 15
  },
  {
   "cell_type": "code",
   "outputs": [
    {
     "ename": "NameError",
     "evalue": "name 'baselineAndPointsSorted' is not defined",
     "output_type": "error",
     "traceback": [
      "\u001B[1;31m---------------------------------------------------------------------------\u001B[0m",
      "\u001B[1;31mNameError\u001B[0m                                 Traceback (most recent call last)",
      "Cell \u001B[1;32mIn[16], line 1\u001B[0m\n\u001B[1;32m----> 1\u001B[0m baselineFinal \u001B[38;5;241m=\u001B[39m \u001B[43mbaselineAndPointsSorted\u001B[49m[:,\u001B[38;5;241m0\u001B[39m]\n",
      "\u001B[1;31mNameError\u001B[0m: name 'baselineAndPointsSorted' is not defined"
     ]
    }
   ],
   "source": [
    "baselineFinal = baselineAndPointsSorted[:,0]"
   ],
   "metadata": {
    "collapsed": false,
    "ExecuteTime": {
     "end_time": "2024-06-14T12:17:12.314285Z",
     "start_time": "2024-06-14T12:17:12.299278Z"
    }
   },
   "id": "1e89d2cc58291489",
   "execution_count": 16
  },
  {
   "cell_type": "code",
   "outputs": [
    {
     "ename": "NameError",
     "evalue": "name 'baselineAndPointsSorted' is not defined",
     "output_type": "error",
     "traceback": [
      "\u001B[1;31m---------------------------------------------------------------------------\u001B[0m",
      "\u001B[1;31mNameError\u001B[0m                                 Traceback (most recent call last)",
      "Cell \u001B[1;32mIn[17], line 1\u001B[0m\n\u001B[1;32m----> 1\u001B[0m baselineFinal \u001B[38;5;241m=\u001B[39m \u001B[43mbaselineAndPointsSorted\u001B[49m[:,\u001B[38;5;241m0\u001B[39m]\n\u001B[0;32m      2\u001B[0m times \u001B[38;5;241m=\u001B[39m baselineAndPointsSorted[:,\u001B[38;5;241m1\u001B[39m]\n",
      "\u001B[1;31mNameError\u001B[0m: name 'baselineAndPointsSorted' is not defined"
     ]
    }
   ],
   "source": [
    "baselineFinal = baselineAndPointsSorted[:,0]\n",
    "times = baselineAndPointsSorted[:,1]\n"
   ],
   "metadata": {
    "collapsed": false,
    "ExecuteTime": {
     "end_time": "2024-06-14T12:17:12.442284Z",
     "start_time": "2024-06-14T12:17:12.417315Z"
    }
   },
   "id": "b8417ead6cf12cfb",
   "execution_count": 17
  },
  {
   "cell_type": "code",
   "outputs": [
    {
     "ename": "NameError",
     "evalue": "name 'times' is not defined",
     "output_type": "error",
     "traceback": [
      "\u001B[1;31m---------------------------------------------------------------------------\u001B[0m",
      "\u001B[1;31mNameError\u001B[0m                                 Traceback (most recent call last)",
      "Cell \u001B[1;32mIn[18], line 1\u001B[0m\n\u001B[1;32m----> 1\u001B[0m \u001B[43mtimes\u001B[49m[np\u001B[38;5;241m.\u001B[39minvert(np\u001B[38;5;241m.\u001B[39misnan(baselineFinal))]\n",
      "\u001B[1;31mNameError\u001B[0m: name 'times' is not defined"
     ]
    }
   ],
   "source": [
    "times[np.invert(np.isnan(baselineFinal))]"
   ],
   "metadata": {
    "collapsed": false,
    "ExecuteTime": {
     "end_time": "2024-06-14T12:17:12.474311Z",
     "start_time": "2024-06-14T12:17:12.452277Z"
    }
   },
   "id": "5fd294e6ebc08c5",
   "execution_count": 18
  },
  {
   "cell_type": "code",
   "outputs": [
    {
     "ename": "NameError",
     "evalue": "name 'np' is not defined",
     "output_type": "error",
     "traceback": [
      "\u001B[1;31m---------------------------------------------------------------------------\u001B[0m",
      "\u001B[1;31mNameError\u001B[0m                                 Traceback (most recent call last)",
      "Cell \u001B[1;32mIn[19], line 1\u001B[0m\n\u001B[1;32m----> 1\u001B[0m cof \u001B[38;5;241m=\u001B[39m \u001B[43mnp\u001B[49m\u001B[38;5;241m.\u001B[39mpolyfit(times[np\u001B[38;5;241m.\u001B[39minvert(np\u001B[38;5;241m.\u001B[39misnan(baselineFinal))] , baselineFinal[np\u001B[38;5;241m.\u001B[39minvert(np\u001B[38;5;241m.\u001B[39misnan(baselineFinal))] , \u001B[38;5;241m2\u001B[39m)\n",
      "\u001B[1;31mNameError\u001B[0m: name 'np' is not defined"
     ]
    }
   ],
   "source": [
    "cof = np.polyfit(times[np.invert(np.isnan(baselineFinal))] , baselineFinal[np.invert(np.isnan(baselineFinal))] , 2)"
   ],
   "metadata": {
    "collapsed": false,
    "ExecuteTime": {
     "end_time": "2024-06-14T12:17:12.602285Z",
     "start_time": "2024-06-14T12:17:12.581312Z"
    }
   },
   "id": "185bf77edbda0ca1",
   "execution_count": 19
  },
  {
   "cell_type": "code",
   "outputs": [
    {
     "ename": "NameError",
     "evalue": "name 'np' is not defined",
     "output_type": "error",
     "traceback": [
      "\u001B[1;31m---------------------------------------------------------------------------\u001B[0m",
      "\u001B[1;31mNameError\u001B[0m                                 Traceback (most recent call last)",
      "Cell \u001B[1;32mIn[20], line 1\u001B[0m\n\u001B[1;32m----> 1\u001B[0m fitbas \u001B[38;5;241m=\u001B[39m \u001B[43mnp\u001B[49m\u001B[38;5;241m.\u001B[39mpolyval(cof,signalTime)\n",
      "\u001B[1;31mNameError\u001B[0m: name 'np' is not defined"
     ]
    }
   ],
   "source": [
    " fitbas = np.polyval(cof,signalTime)"
   ],
   "metadata": {
    "collapsed": false,
    "ExecuteTime": {
     "end_time": "2024-06-14T12:17:12.726309Z",
     "start_time": "2024-06-14T12:17:12.701308Z"
    }
   },
   "id": "4f2b689fe40e4047",
   "execution_count": 20
  },
  {
   "cell_type": "code",
   "outputs": [
    {
     "ename": "NameError",
     "evalue": "name 'fitbas' is not defined",
     "output_type": "error",
     "traceback": [
      "\u001B[1;31m---------------------------------------------------------------------------\u001B[0m",
      "\u001B[1;31mNameError\u001B[0m                                 Traceback (most recent call last)",
      "Cell \u001B[1;32mIn[21], line 1\u001B[0m\n\u001B[1;32m----> 1\u001B[0m \u001B[43mfitbas\u001B[49m\n",
      "\u001B[1;31mNameError\u001B[0m: name 'fitbas' is not defined"
     ]
    }
   ],
   "source": [
    " fitbas"
   ],
   "metadata": {
    "collapsed": false,
    "ExecuteTime": {
     "end_time": "2024-06-14T12:17:12.772308Z",
     "start_time": "2024-06-14T12:17:12.747316Z"
    }
   },
   "id": "10b5827d3a107e64",
   "execution_count": 21
  },
  {
   "cell_type": "code",
   "outputs": [
    {
     "ename": "NameError",
     "evalue": "name 'plt' is not defined",
     "output_type": "error",
     "traceback": [
      "\u001B[1;31m---------------------------------------------------------------------------\u001B[0m",
      "\u001B[1;31mNameError\u001B[0m                                 Traceback (most recent call last)",
      "Cell \u001B[1;32mIn[22], line 6\u001B[0m\n\u001B[0;32m      2\u001B[0m mouseListAmyg \u001B[38;5;241m=\u001B[39m [\u001B[38;5;124m\"\u001B[39m\u001B[38;5;124mAMYG01\u001B[39m\u001B[38;5;124m\"\u001B[39m,\u001B[38;5;124m\"\u001B[39m\u001B[38;5;124mAMYG02\u001B[39m\u001B[38;5;124m\"\u001B[39m]\n\u001B[0;32m      4\u001B[0m InterREMAmyg \u001B[38;5;241m=\u001B[39m []\n\u001B[1;32m----> 6\u001B[0m fig, axes \u001B[38;5;241m=\u001B[39m \u001B[43mplt\u001B[49m\u001B[38;5;241m.\u001B[39msubplots(\u001B[38;5;241m1\u001B[39m,\u001B[38;5;241m1\u001B[39m, figsize\u001B[38;5;241m=\u001B[39m(\u001B[38;5;241m10\u001B[39m, \u001B[38;5;241m5\u001B[39m)) \u001B[38;5;66;03m# create figure and axes\u001B[39;00m\n\u001B[0;32m      8\u001B[0m \u001B[38;5;28;01mfor\u001B[39;00m m \u001B[38;5;129;01min\u001B[39;00m mouseListAmyg:\n\u001B[0;32m     10\u001B[0m     key \u001B[38;5;241m=\u001B[39m {\u001B[38;5;124m'\u001B[39m\u001B[38;5;124mmouse_name\u001B[39m\u001B[38;5;124m'\u001B[39m:m}\n",
      "\u001B[1;31mNameError\u001B[0m: name 'plt' is not defined"
     ]
    }
   ],
   "source": [
    "bins = 10\n",
    "mouseListAmyg = [\"AMYG01\",\"AMYG02\"]\n",
    "\n",
    "InterREMAmyg = []\n",
    "\n",
    "fig, axes = plt.subplots(1,1, figsize=(10, 5)) # create figure and axes\n",
    "\n",
    "for m in mouseListAmyg:\n",
    "\n",
    "    key = {'mouse_name':m}\n",
    "    \n",
    "    CurrentInterREMAmyg =  np.mean(np.stack((lcProj.NremRemMeanDFF & key).fetch('inter_rem')),0)\n",
    "    \n",
    "    InterREMAmyg.append(CurrentInterREMAmyg)\n",
    "\n",
    "InterREMAmyg = np.array(InterREMAmyg)\n",
    "\n",
    "errorAmyg = stats.sem(InterREMAmyg,axis=0)\n",
    "\n",
    "\n",
    "mouseListHip = [\"MHIP03\",\"MHIP05\",\"MHIP06\"]\n",
    "\n",
    "InterREMHip = []\n",
    "\n",
    "for m in mouseListHip:\n",
    "\n",
    "    key = {'mouse_name':m}\n",
    "    \n",
    "    CurrentInterREMHip =  np.mean(np.stack((lcProj.NremRemMeanDFF & key).fetch('inter_rem')),0)\n",
    "    \n",
    "    InterREMHip.append(CurrentInterREMHip)\n",
    "\n",
    "InterREMHip= np.array(InterREMHip)\n",
    "\n",
    "errorHip = stats.sem(InterREMHip,axis=0)\n",
    "\n",
    "\n",
    "mouseListPfc = [\"MPC05\",\"MPC06\"]\n",
    "\n",
    "InterREMPfc = []\n",
    "\n",
    "for m in mouseListPfc:\n",
    "\n",
    "    key = {'mouse_name':m}\n",
    "    \n",
    "    CurrentInterREMPfc =  np.mean(np.stack((lcProj.NremRemMeanDFF & key).fetch('inter_rem')),0)\n",
    "    \n",
    "    InterREMPfc.append(CurrentInterREMPfc)\n",
    "\n",
    "InterREMPfc = np.array(InterREMPfc)\n",
    "\n",
    "errorPfc = stats.sem(InterREMPfc,axis=0)\n",
    "\n",
    "\n",
    "mouseListThal = [\"THAL01\",\"THAL02\",\"THAL04\",\"THAL06\"]\n",
    "\n",
    "InterREMThal = []\n",
    "\n",
    "for m in mouseListThal:\n",
    "\n",
    "    key = {'mouse_name':m}\n",
    "    \n",
    "    CurrentInterREMThal =  np.mean(np.stack((lcProj.NremRemMeanDFF & key).fetch('inter_rem')),0)\n",
    "    \n",
    "    InterREMThal.append(CurrentInterREMThal)\n",
    "\n",
    "InterREMThal = np.array(InterREMThal)\n",
    "\n",
    "errorThal = stats.sem(InterREMThal,axis=0)\n",
    "\n",
    "\n",
    "axes.plot(np.linspace(0,1,bins),InterREMThal.mean(0), 'g')\n",
    "axes.fill_between(np.linspace(0,1,bins),InterREMThal.mean(0) - errorThal,  InterREMThal.mean(0) +  errorThal, color ='g' ,alpha = 0.2)\n",
    "axes.plot(np.linspace(0,1,bins),InterREMAmyg.mean(0), 'r')\n",
    "axes.fill_between(np.linspace(0,1,bins),InterREMAmyg.mean(0) - errorAmyg,  InterREMAmyg.mean(0) +  errorAmyg, color ='r' ,alpha = 0.2)\n",
    "axes.plot(np.linspace(0,1,bins),InterREMHip.mean(0), 'b')\n",
    "axes.fill_between(np.linspace(0,1,bins),InterREMHip.mean(0) - errorHip,  InterREMHip.mean(0) +  errorHip, color ='b' ,alpha = 0.2)\n",
    "axes.plot(np.linspace(0,1,bins),InterREMPfc.mean(0), 'k')\n",
    "axes.fill_between(np.linspace(0,1,bins),InterREMPfc.mean(0) - errorPfc,  InterREMPfc.mean(0) +  errorPfc, color ='k' ,alpha = 0.2)\n",
    "\n",
    "axes.set_ylabel('InterREM Z-scored DFF')"
   ],
   "metadata": {
    "collapsed": false,
    "ExecuteTime": {
     "end_time": "2024-06-14T12:17:12.898282Z",
     "start_time": "2024-06-14T12:17:12.862278Z"
    }
   },
   "id": "a4f75850-0910-4820-a245-fe7aea4fcf17",
   "execution_count": 22
  },
  {
   "cell_type": "code",
   "execution_count": 23,
   "id": "db9e3150-b313-41fc-94ad-f61f4102b56e",
   "metadata": {
    "ExecuteTime": {
     "end_time": "2024-06-14T12:17:13.006324Z",
     "start_time": "2024-06-14T12:17:12.961311Z"
    }
   },
   "outputs": [
    {
     "ename": "NameError",
     "evalue": "name 'plt' is not defined",
     "output_type": "error",
     "traceback": [
      "\u001B[1;31m---------------------------------------------------------------------------\u001B[0m",
      "\u001B[1;31mNameError\u001B[0m                                 Traceback (most recent call last)",
      "Cell \u001B[1;32mIn[23], line 6\u001B[0m\n\u001B[0;32m      2\u001B[0m mouseListAmyg \u001B[38;5;241m=\u001B[39m [\u001B[38;5;124m\"\u001B[39m\u001B[38;5;124mAMYG01\u001B[39m\u001B[38;5;124m\"\u001B[39m,\u001B[38;5;124m\"\u001B[39m\u001B[38;5;124mAMYG02\u001B[39m\u001B[38;5;124m\"\u001B[39m]\n\u001B[0;32m      4\u001B[0m DuringREMAmyg \u001B[38;5;241m=\u001B[39m []\n\u001B[1;32m----> 6\u001B[0m fig, axes \u001B[38;5;241m=\u001B[39m \u001B[43mplt\u001B[49m\u001B[38;5;241m.\u001B[39msubplots(\u001B[38;5;241m1\u001B[39m,\u001B[38;5;241m1\u001B[39m, figsize\u001B[38;5;241m=\u001B[39m(\u001B[38;5;241m10\u001B[39m, \u001B[38;5;241m5\u001B[39m)) \u001B[38;5;66;03m# create figure and axes\u001B[39;00m\n\u001B[0;32m      8\u001B[0m \u001B[38;5;28;01mfor\u001B[39;00m m \u001B[38;5;129;01min\u001B[39;00m mouseListAmyg:\n\u001B[0;32m     10\u001B[0m     key \u001B[38;5;241m=\u001B[39m {\u001B[38;5;124m'\u001B[39m\u001B[38;5;124mmouse_name\u001B[39m\u001B[38;5;124m'\u001B[39m:m}\n",
      "\u001B[1;31mNameError\u001B[0m: name 'plt' is not defined"
     ]
    }
   ],
   "source": [
    "bins = 10\n",
    "mouseListAmyg = [\"AMYG01\",\"AMYG02\"]\n",
    "\n",
    "DuringREMAmyg = []\n",
    "\n",
    "fig, axes = plt.subplots(1,1, figsize=(10, 5)) # create figure and axes\n",
    "\n",
    "for m in mouseListAmyg:\n",
    "\n",
    "    key = {'mouse_name':m}\n",
    "    \n",
    "    CurrentDuringREMAmyg =  np.mean(np.stack((lcProj.NremRemMeanDFF & key).fetch('during_rem')),0)\n",
    "    \n",
    "    DuringREMAmyg.append(CurrentDuringREMAmyg)\n",
    "\n",
    "DuringREMAmyg = np.array(DuringREMAmyg)\n",
    "\n",
    "errorAmyg = stats.sem(DuringREMAmyg,axis=0)\n",
    "\n",
    "\n",
    "mouseListHip = [\"MHIP03\",\"MHIP05\",\"MHIP06\"]\n",
    "\n",
    "DuringREMHip = []\n",
    "\n",
    "for m in mouseListHip:\n",
    "\n",
    "    key = {'mouse_name':m}\n",
    "    \n",
    "    CurrentDuringREMHip =  np.mean(np.stack((lcProj.NremRemMeanDFF & key).fetch('during_rem')),0)\n",
    "    \n",
    "    DuringREMHip.append(CurrentDuringREMHip)\n",
    "\n",
    "DuringREMHip= np.array(DuringREMHip)\n",
    "\n",
    "errorHip = stats.sem(DuringREMHip,axis=0)\n",
    "\n",
    "\n",
    "mouseListPfc = [\"MPC05\",\"MPC06\"]\n",
    "\n",
    "DuringREMPfc = []\n",
    "\n",
    "for m in mouseListPfc:\n",
    "\n",
    "    key = {'mouse_name':m}\n",
    "    \n",
    "    CurrentDuringREMPfc =  np.mean(np.stack((lcProj.NremRemMeanDFF & key).fetch('during_rem')),0)\n",
    "    \n",
    "    DuringREMPfc.append(CurrentDuringREMPfc)\n",
    "\n",
    "DuringREMPfc = np.array(DuringREMPfc)\n",
    "\n",
    "errorPfc = stats.sem(DuringREMPfc,axis=0)\n",
    "\n",
    "\n",
    "mouseListThal = [\"THAL01\",\"THAL02\",\"THAL04\",\"THAL06\"]\n",
    "\n",
    "DuringREMThal = []\n",
    "\n",
    "for m in mouseListThal:\n",
    "\n",
    "    key = {'mouse_name':m}\n",
    "    \n",
    "    CurrentDuringREMThal =  np.mean(np.stack((lcProj.NremRemMeanDFF & key).fetch('during_rem')),0)\n",
    "    \n",
    "    DuringREMThal.append(CurrentDuringREMThal)\n",
    "\n",
    "DuringREMThal = np.array(DuringREMThal)\n",
    "\n",
    "errorThal = stats.sem(DuringREMThal,axis=0)\n",
    "\n",
    "\n",
    "axes.plot(np.linspace(0,1,bins),DuringREMThal.mean(0), 'g')\n",
    "axes.fill_between(np.linspace(0,1,bins),DuringREMThal.mean(0) - errorThal,  DuringREMThal.mean(0) +  errorThal, color ='g' ,alpha = 0.2)\n",
    "axes.plot(np.linspace(0,1,bins),DuringREMAmyg.mean(0), 'r')\n",
    "axes.fill_between(np.linspace(0,1,bins),DuringREMAmyg.mean(0) - errorAmyg,  DuringREMAmyg.mean(0) +  errorAmyg, color ='r' ,alpha = 0.2)\n",
    "axes.plot(np.linspace(0,1,bins),DuringREMHip.mean(0), 'b')\n",
    "axes.fill_between(np.linspace(0,1,bins),DuringREMHip.mean(0) - errorHip,  DuringREMHip.mean(0) +  errorHip, color ='b' ,alpha = 0.2)\n",
    "axes.plot(np.linspace(0,1,bins),DuringREMPfc.mean(0), 'k')\n",
    "axes.fill_between(np.linspace(0,1,bins),DuringREMPfc.mean(0) - errorPfc,  DuringREMPfc.mean(0) +  errorPfc, color ='k' ,alpha = 0.2)\n",
    "\n",
    "axes.set_ylabel('DuringREM Z-scored DFF')"
   ]
  },
  {
   "cell_type": "code",
   "execution_count": 24,
   "id": "3a08cacf-a773-405d-a5eb-505c1ebc5859",
   "metadata": {
    "ExecuteTime": {
     "end_time": "2024-06-14T12:17:13.037286Z",
     "start_time": "2024-06-14T12:17:13.008292Z"
    }
   },
   "outputs": [
    {
     "ename": "NameError",
     "evalue": "name 'np' is not defined",
     "output_type": "error",
     "traceback": [
      "\u001B[1;31m---------------------------------------------------------------------------\u001B[0m",
      "\u001B[1;31mNameError\u001B[0m                                 Traceback (most recent call last)",
      "Cell \u001B[1;32mIn[24], line 1\u001B[0m\n\u001B[1;32m----> 1\u001B[0m \u001B[43mnp\u001B[49m\u001B[38;5;241m.\u001B[39mmean(np\u001B[38;5;241m.\u001B[39mstack((lcProj\u001B[38;5;241m.\u001B[39mNremRemMeanDFF \u001B[38;5;241m&\u001B[39m key)\u001B[38;5;241m.\u001B[39mfetch(\u001B[38;5;124m'\u001B[39m\u001B[38;5;124minter_rem\u001B[39m\u001B[38;5;124m'\u001B[39m)),\u001B[38;5;241m0\u001B[39m)\n",
      "\u001B[1;31mNameError\u001B[0m: name 'np' is not defined"
     ]
    }
   ],
   "source": [
    "np.mean(np.stack((lcProj.NremRemMeanDFF & key).fetch('inter_rem')),0)"
   ]
  },
  {
   "cell_type": "code",
   "execution_count": 25,
   "id": "d1b19818-bcce-422f-8f9b-5553b8f53a8c",
   "metadata": {
    "ExecuteTime": {
     "end_time": "2024-06-14T12:17:13.161281Z",
     "start_time": "2024-06-14T12:17:13.143315Z"
    }
   },
   "outputs": [
    {
     "ename": "NameError",
     "evalue": "name 'np' is not defined",
     "output_type": "error",
     "traceback": [
      "\u001B[1;31m---------------------------------------------------------------------------\u001B[0m",
      "\u001B[1;31mNameError\u001B[0m                                 Traceback (most recent call last)",
      "Cell \u001B[1;32mIn[25], line 1\u001B[0m\n\u001B[1;32m----> 1\u001B[0m \u001B[43mnp\u001B[49m\u001B[38;5;241m.\u001B[39mstack((lcProj\u001B[38;5;241m.\u001B[39mNremRemMeanDFF \u001B[38;5;241m&\u001B[39m key)\u001B[38;5;241m.\u001B[39mfetch(\u001B[38;5;124m'\u001B[39m\u001B[38;5;124minter_rem\u001B[39m\u001B[38;5;124m'\u001B[39m))\n",
      "\u001B[1;31mNameError\u001B[0m: name 'np' is not defined"
     ]
    }
   ],
   "source": [
    "np.stack((lcProj.NremRemMeanDFF & key).fetch('inter_rem'))"
   ]
  },
  {
   "cell_type": "code",
   "execution_count": 26,
   "id": "2b3b066d-335a-4ce0-874c-baa71ecde970",
   "metadata": {
    "ExecuteTime": {
     "end_time": "2024-06-14T12:17:13.270273Z",
     "start_time": "2024-06-14T12:17:13.224311Z"
    }
   },
   "outputs": [
    {
     "ename": "NameError",
     "evalue": "name 'plt' is not defined",
     "output_type": "error",
     "traceback": [
      "\u001B[1;31m---------------------------------------------------------------------------\u001B[0m",
      "\u001B[1;31mNameError\u001B[0m                                 Traceback (most recent call last)",
      "Cell \u001B[1;32mIn[26], line 5\u001B[0m\n\u001B[0;32m      1\u001B[0m mouseListAmyg \u001B[38;5;241m=\u001B[39m [\u001B[38;5;124m\"\u001B[39m\u001B[38;5;124mAMYG01\u001B[39m\u001B[38;5;124m\"\u001B[39m,\u001B[38;5;124m\"\u001B[39m\u001B[38;5;124mAMYG02\u001B[39m\u001B[38;5;124m\"\u001B[39m]\n\u001B[0;32m      3\u001B[0m InterREMAmyg \u001B[38;5;241m=\u001B[39m []\n\u001B[1;32m----> 5\u001B[0m fig, axes \u001B[38;5;241m=\u001B[39m \u001B[43mplt\u001B[49m\u001B[38;5;241m.\u001B[39msubplots(\u001B[38;5;241m1\u001B[39m,\u001B[38;5;241m1\u001B[39m, figsize\u001B[38;5;241m=\u001B[39m(\u001B[38;5;241m10\u001B[39m, \u001B[38;5;241m5\u001B[39m)) \u001B[38;5;66;03m# create figure and axes\u001B[39;00m\n\u001B[0;32m      7\u001B[0m \u001B[38;5;28;01mfor\u001B[39;00m m \u001B[38;5;129;01min\u001B[39;00m mouseListAmyg:\n\u001B[0;32m      9\u001B[0m     key \u001B[38;5;241m=\u001B[39m {\u001B[38;5;124m'\u001B[39m\u001B[38;5;124mmouse_name\u001B[39m\u001B[38;5;124m'\u001B[39m:m}\n",
      "\u001B[1;31mNameError\u001B[0m: name 'plt' is not defined"
     ]
    }
   ],
   "source": [
    "mouseListAmyg = [\"AMYG01\",\"AMYG02\"]\n",
    "\n",
    "InterREMAmyg = []\n",
    "\n",
    "fig, axes = plt.subplots(1,1, figsize=(10, 5)) # create figure and axes\n",
    "\n",
    "for m in mouseListAmyg:\n",
    "\n",
    "    key = {'mouse_name':m}\n",
    "    \n",
    "    CurrentInterREMAmyg =  np.mean(np.stack((lcProj.NremRemMeanDFF & key).fetch('inter_rem')))\n",
    "    \n",
    "    REMAmyg.append(CurrentREMAmyg)\n",
    "\n",
    "axes[0].set_title('Amyg')\n",
    "axes[0].set_ylabel('InterREM Z-scored DFF')\n",
    "\n",
    "mouseListHip = [\"MHIP03\",\"MHIP05\",\"MHIP06\"]\n",
    "\n",
    "REMHip = []\n",
    "NREMHip = []\n",
    "WAKEHip = []\n",
    "\n",
    "for m in mouseListHip:\n",
    "\n",
    "    key = {'mouse_name':m,\n",
    "           'window':3}\n",
    "    \n",
    "    CurrentREMHip =  np.mean(np.stack((lcProj.DFFSleepStates & key).fetch('mean_rem_zscored')))\n",
    "    CurrentNREMHip =  np.mean(np.stack((lcProj.DFFSleepStates & key).fetch('mean_nrem_zscored')))\n",
    "    CurrentWakeHip =  np.mean(np.stack((lcProj.DFFSleepStates & key).fetch('mean_wake_zscored')))\n",
    "    \n",
    "    REMHip.append(CurrentREMHip)\n",
    "    NREMHip.append(CurrentNREMHip)\n",
    "    WAKEHip.append(CurrentWakeHip)\n",
    "\n",
    "dfHip = pd.DataFrame({'MouseName':mouseListHip, 'Mean_REM': REMHip, 'Mean_NREM': NREMHip, 'Mean_Wake': WAKEHip})\n",
    "boxplotHip = dfHip.boxplot(column=['Mean_REM', 'Mean_NREM', 'Mean_Wake'], ax = axes[1],\n",
    "                           color=dict(boxes='b', whiskers='b', medians='b', caps='b'),\n",
    "                           showfliers=False)\n",
    "axes[1].set_title('dCA1')\n",
    "\n",
    "mouseListPfc = [\"MPC05\",\"MPC06\"]\n",
    "\n",
    "REMPfc = []\n",
    "NREMPfc = []\n",
    "WAKEPfc = []\n",
    "\n",
    "for m in mouseListPfc:\n",
    "\n",
    "    key = {'mouse_name':m,\n",
    "           'window':3}\n",
    "    \n",
    "    CurrentREMPfc =  np.mean(np.stack((lcProj.DFFSleepStates & key).fetch('mean_rem_zscored')))\n",
    "    CurrentNREMPfc =  np.mean(np.stack((lcProj.DFFSleepStates & key).fetch('mean_nrem_zscored')))\n",
    "    CurrentWakePfc =  np.mean(np.stack((lcProj.DFFSleepStates & key).fetch('mean_wake_zscored')))\n",
    "    \n",
    "    REMPfc.append(CurrentREMPfc)\n",
    "    NREMPfc.append(CurrentNREMPfc)\n",
    "    WAKEPfc.append(CurrentWakePfc)\n",
    "\n",
    "dfPfc = pd.DataFrame({'MouseName':mouseListPfc, 'Mean_REM': REMPfc, 'Mean_NREM': NREMPfc, 'Mean_Wake': WAKEPfc})\n",
    "boxplotPfc = dfPfc.boxplot(column=['Mean_REM', 'Mean_NREM', 'Mean_Wake'], ax = axes[2],color=dict(boxes='k', whiskers='k', medians='k', caps='k'))\n",
    "axes[2].set_title('mPFC')\n",
    "\n",
    "\n",
    "\n",
    "mouseListThal = [\"THAL01\",\"THAL02\",\"THAL04\",\"THAL06\"]\n",
    "\n",
    "REMThal = []\n",
    "NREMThal = []\n",
    "WAKEThal = []\n",
    "\n",
    "for m in mouseListThal:\n",
    "\n",
    "    key = {'mouse_name':m,\n",
    "           'window':3}\n",
    "    \n",
    "    CurrentREMThal =  np.mean(np.stack((lcProj.DFFSleepStates & key).fetch('mean_rem_zscored')))\n",
    "    CurrentNREMThal =  np.mean(np.stack((lcProj.DFFSleepStates & key).fetch('mean_nrem_zscored')))\n",
    "    CurrentWakeThal =  np.mean(np.stack((lcProj.DFFSleepStates & key).fetch('mean_wake_zscored')))\n",
    "    \n",
    "    REMThal.append(CurrentREMThal)\n",
    "    NREMThal.append(CurrentNREMThal)\n",
    "    WAKEThal.append(CurrentWakeThal)\n",
    "\n",
    "dfThal = pd.DataFrame({'MouseName':mouseListThal, 'Mean_REM': REMThal, 'Mean_NREM': NREMThal, 'Mean_Wake': WAKEThal})\n",
    "boxplotThal = dfThal.boxplot(column=['Mean_REM', 'Mean_NREM', 'Mean_Wake'], ax = axes[3],\n",
    "                             color=dict(boxes='g', whiskers='g', medians='g', caps='g'),\n",
    "                             showfliers=False)\n",
    "axes[3].set_title('Thal')\n",
    "\n",
    "\n",
    "[ax_tmp.set_ylim(-1.5, 2) for ax_tmp in axes]\n",
    "\n",
    "plt.tight_layout()\n",
    "\n",
    "\n",
    "pathToNas = (os.sep + os.sep  + 'nasdcsr.unil.ch' + os.sep + 'RECHERCHE' + os.sep + 'FAC' + os.sep + 'FBM' + os.sep + 'DNF' + os.sep + 'aluthi1' + os.sep + 'sleep' + os.sep + 'D2c' +\n",
    "              os.sep + 'PROJECT_Georgios' + os.sep + 'LC_Proj_Neurons' + os.sep + 'Figures' + os.sep)\n",
    "\n",
    "pathToSave=  pathToNas + 'Mean_Levels_SleepStates.pdf'\n",
    "\n",
    "fig.savefig(pathToSave, format='pdf', dpi=1200) \n"
   ]
  },
  {
   "cell_type": "code",
   "execution_count": 27,
   "id": "3f2f3fa8-7e59-43ba-b0a9-5e15cabc98fa",
   "metadata": {
    "ExecuteTime": {
     "end_time": "2024-06-14T12:17:13.348311Z",
     "start_time": "2024-06-14T12:17:13.295275Z"
    }
   },
   "outputs": [
    {
     "ename": "NameError",
     "evalue": "name 'plt' is not defined",
     "output_type": "error",
     "traceback": [
      "\u001B[1;31m---------------------------------------------------------------------------\u001B[0m",
      "\u001B[1;31mNameError\u001B[0m                                 Traceback (most recent call last)",
      "Cell \u001B[1;32mIn[27], line 7\u001B[0m\n\u001B[0;32m      4\u001B[0m NREMAmyg \u001B[38;5;241m=\u001B[39m []\n\u001B[0;32m      5\u001B[0m WAKEAmyg \u001B[38;5;241m=\u001B[39m []\n\u001B[1;32m----> 7\u001B[0m fig, axes \u001B[38;5;241m=\u001B[39m \u001B[43mplt\u001B[49m\u001B[38;5;241m.\u001B[39msubplots(\u001B[38;5;241m1\u001B[39m,\u001B[38;5;241m4\u001B[39m, figsize\u001B[38;5;241m=\u001B[39m(\u001B[38;5;241m20\u001B[39m, \u001B[38;5;241m6\u001B[39m)) \u001B[38;5;66;03m# create figure and axes\u001B[39;00m\n\u001B[0;32m      9\u001B[0m \u001B[38;5;28;01mfor\u001B[39;00m m \u001B[38;5;129;01min\u001B[39;00m mouseListAmyg:\n\u001B[0;32m     11\u001B[0m     key \u001B[38;5;241m=\u001B[39m {\u001B[38;5;124m'\u001B[39m\u001B[38;5;124mmouse_name\u001B[39m\u001B[38;5;124m'\u001B[39m:m,\n\u001B[0;32m     12\u001B[0m            \u001B[38;5;124m'\u001B[39m\u001B[38;5;124mwindow\u001B[39m\u001B[38;5;124m'\u001B[39m:\u001B[38;5;241m3\u001B[39m}\n",
      "\u001B[1;31mNameError\u001B[0m: name 'plt' is not defined"
     ]
    }
   ],
   "source": [
    "mouseListAmyg = [\"AMYG01\",\"AMYG02\"]\n",
    "\n",
    "REMAmyg = []\n",
    "NREMAmyg = []\n",
    "WAKEAmyg = []\n",
    "\n",
    "fig, axes = plt.subplots(1,4, figsize=(20, 6)) # create figure and axes\n",
    "\n",
    "for m in mouseListAmyg:\n",
    "\n",
    "    key = {'mouse_name':m,\n",
    "           'window':3}\n",
    "    \n",
    "    CurrentREMAmyg =  np.mean(np.stack((lcProj.DFFSleepStates & key).fetch('mean_rem_zscored')))\n",
    "    CurrentNREMAmyg =  np.mean(np.stack((lcProj.DFFSleepStates & key).fetch('mean_nrem_zscored')))\n",
    "    CurrentWakeAmyg =  np.mean(np.stack((lcProj.DFFSleepStates & key).fetch('mean_wake_zscored')))\n",
    "    \n",
    "    REMAmyg.append(CurrentREMAmyg)\n",
    "    NREMAmyg.append(CurrentNREMAmyg)\n",
    "    WAKEAmyg.append(CurrentWakeAmyg)\n",
    "\n",
    "dfAmyg = pd.DataFrame({'MouseName':mouseListAmyg, 'Mean_REM': REMAmyg, 'Mean_NREM': NREMAmyg, 'Mean_Wake': WAKEAmyg})\n",
    "boxplotAmyg = dfAmyg.boxplot(column=['Mean_REM', 'Mean_NREM', 'Mean_Wake'], ax = axes[0], \n",
    "                             color=dict(boxes='r', whiskers='r', medians='r', caps='r'),\n",
    "                             showfliers=False)\n",
    "axes[0].set_title('Amyg')\n",
    "axes[0].set_ylabel('Z-scored DFF')\n",
    "\n",
    "mouseListHip = [\"MHIP03\",\"MHIP05\",\"MHIP06\"]\n",
    "\n",
    "REMHip = []\n",
    "NREMHip = []\n",
    "WAKEHip = []\n",
    "\n",
    "for m in mouseListHip:\n",
    "\n",
    "    key = {'mouse_name':m,\n",
    "           'window':3}\n",
    "    \n",
    "    CurrentREMHip =  np.mean(np.stack((lcProj.DFFSleepStates & key).fetch('mean_rem_zscored')))\n",
    "    CurrentNREMHip =  np.mean(np.stack((lcProj.DFFSleepStates & key).fetch('mean_nrem_zscored')))\n",
    "    CurrentWakeHip =  np.mean(np.stack((lcProj.DFFSleepStates & key).fetch('mean_wake_zscored')))\n",
    "    \n",
    "    REMHip.append(CurrentREMHip)\n",
    "    NREMHip.append(CurrentNREMHip)\n",
    "    WAKEHip.append(CurrentWakeHip)\n",
    "\n",
    "dfHip = pd.DataFrame({'MouseName':mouseListHip, 'Mean_REM': REMHip, 'Mean_NREM': NREMHip, 'Mean_Wake': WAKEHip})\n",
    "boxplotHip = dfHip.boxplot(column=['Mean_REM', 'Mean_NREM', 'Mean_Wake'], ax = axes[1],\n",
    "                           color=dict(boxes='b', whiskers='b', medians='b', caps='b'),\n",
    "                           showfliers=False)\n",
    "axes[1].set_title('dCA1')\n",
    "\n",
    "mouseListPfc = [\"MPC05\",\"MPC06\"]\n",
    "\n",
    "REMPfc = []\n",
    "NREMPfc = []\n",
    "WAKEPfc = []\n",
    "\n",
    "for m in mouseListPfc:\n",
    "\n",
    "    key = {'mouse_name':m,\n",
    "           'window':3}\n",
    "    \n",
    "    CurrentREMPfc =  np.mean(np.stack((lcProj.DFFSleepStates & key).fetch('mean_rem_zscored')))\n",
    "    CurrentNREMPfc =  np.mean(np.stack((lcProj.DFFSleepStates & key).fetch('mean_nrem_zscored')))\n",
    "    CurrentWakePfc =  np.mean(np.stack((lcProj.DFFSleepStates & key).fetch('mean_wake_zscored')))\n",
    "    \n",
    "    REMPfc.append(CurrentREMPfc)\n",
    "    NREMPfc.append(CurrentNREMPfc)\n",
    "    WAKEPfc.append(CurrentWakePfc)\n",
    "\n",
    "dfPfc = pd.DataFrame({'MouseName':mouseListPfc, 'Mean_REM': REMPfc, 'Mean_NREM': NREMPfc, 'Mean_Wake': WAKEPfc})\n",
    "boxplotPfc = dfPfc.boxplot(column=['Mean_REM', 'Mean_NREM', 'Mean_Wake'], ax = axes[2],color=dict(boxes='k', whiskers='k', medians='k', caps='k'))\n",
    "axes[2].set_title('mPFC')\n",
    "\n",
    "\n",
    "\n",
    "mouseListThal = [\"THAL01\",\"THAL02\",\"THAL04\",\"THAL06\"]\n",
    "\n",
    "REMThal = []\n",
    "NREMThal = []\n",
    "WAKEThal = []\n",
    "\n",
    "for m in mouseListThal:\n",
    "\n",
    "    key = {'mouse_name':m,\n",
    "           'window':3}\n",
    "    \n",
    "    CurrentREMThal =  np.mean(np.stack((lcProj.DFFSleepStates & key).fetch('mean_rem_zscored')))\n",
    "    CurrentNREMThal =  np.mean(np.stack((lcProj.DFFSleepStates & key).fetch('mean_nrem_zscored')))\n",
    "    CurrentWakeThal =  np.mean(np.stack((lcProj.DFFSleepStates & key).fetch('mean_wake_zscored')))\n",
    "    \n",
    "    REMThal.append(CurrentREMThal)\n",
    "    NREMThal.append(CurrentNREMThal)\n",
    "    WAKEThal.append(CurrentWakeThal)\n",
    "\n",
    "dfThal = pd.DataFrame({'MouseName':mouseListThal, 'Mean_REM': REMThal, 'Mean_NREM': NREMThal, 'Mean_Wake': WAKEThal})\n",
    "boxplotThal = dfThal.boxplot(column=['Mean_REM', 'Mean_NREM', 'Mean_Wake'], ax = axes[3],\n",
    "                             color=dict(boxes='g', whiskers='g', medians='g', caps='g'),\n",
    "                             showfliers=False)\n",
    "axes[3].set_title('Thal')\n",
    "\n",
    "\n",
    "[ax_tmp.set_ylim(-1.5, 2) for ax_tmp in axes]\n",
    "\n",
    "plt.tight_layout()\n",
    "\n",
    "\n",
    "pathToNas = (os.sep + os.sep  + 'nasdcsr.unil.ch' + os.sep + 'RECHERCHE' + os.sep + 'FAC' + os.sep + 'FBM' + os.sep + 'DNF' + os.sep + 'aluthi1' + os.sep + 'sleep' + os.sep + 'D2c' +\n",
    "              os.sep + 'PROJECT_Georgios' + os.sep + 'LC_Proj_Neurons' + os.sep + 'Figures' + os.sep)\n",
    "\n",
    "pathToSave=  pathToNas + 'Mean_Levels_SleepStates.pdf'\n",
    "\n",
    "fig.savefig(pathToSave, format='pdf', dpi=1200) \n"
   ]
  },
  {
   "cell_type": "code",
   "execution_count": 28,
   "id": "7b4dc670-1b67-42c8-8296-2e8236e32769",
   "metadata": {
    "ExecuteTime": {
     "end_time": "2024-06-14T12:17:13.412275Z",
     "start_time": "2024-06-14T12:17:13.408307Z"
    }
   },
   "outputs": [],
   "source": [
    "A = []"
   ]
  },
  {
   "cell_type": "code",
   "execution_count": 29,
   "id": "5392c079-9d8a-462c-8c5c-578e3015a52a",
   "metadata": {
    "ExecuteTime": {
     "end_time": "2024-06-14T12:17:13.522310Z",
     "start_time": "2024-06-14T12:17:13.503273Z"
    }
   },
   "outputs": [
    {
     "ename": "NameError",
     "evalue": "name 'np' is not defined",
     "output_type": "error",
     "traceback": [
      "\u001B[1;31m---------------------------------------------------------------------------\u001B[0m",
      "\u001B[1;31mNameError\u001B[0m                                 Traceback (most recent call last)",
      "Cell \u001B[1;32mIn[29], line 1\u001B[0m\n\u001B[1;32m----> 1\u001B[0m B \u001B[38;5;241m=\u001B[39m \u001B[43mnp\u001B[49m\u001B[38;5;241m.\u001B[39marray([\u001B[38;5;241m1\u001B[39m,\u001B[38;5;241m2\u001B[39m,\u001B[38;5;241m3\u001B[39m,\u001B[38;5;241m4\u001B[39m,\u001B[38;5;241m5\u001B[39m,\u001B[38;5;241m6\u001B[39m,\u001B[38;5;241m7\u001B[39m,\u001B[38;5;241m8\u001B[39m])\n",
      "\u001B[1;31mNameError\u001B[0m: name 'np' is not defined"
     ]
    }
   ],
   "source": [
    "B = np.array([1,2,3,4,5,6,7,8])"
   ]
  },
  {
   "cell_type": "code",
   "execution_count": 30,
   "id": "f86d7f33-4207-4010-92ca-846c1f5df301",
   "metadata": {
    "ExecuteTime": {
     "end_time": "2024-06-14T12:17:13.584272Z",
     "start_time": "2024-06-14T12:17:13.561274Z"
    }
   },
   "outputs": [
    {
     "ename": "NameError",
     "evalue": "name 'B' is not defined",
     "output_type": "error",
     "traceback": [
      "\u001B[1;31m---------------------------------------------------------------------------\u001B[0m",
      "\u001B[1;31mNameError\u001B[0m                                 Traceback (most recent call last)",
      "Cell \u001B[1;32mIn[30], line 1\u001B[0m\n\u001B[1;32m----> 1\u001B[0m A\u001B[38;5;241m.\u001B[39mappend(\u001B[43mB\u001B[49m[\u001B[38;5;241m3\u001B[39m:\u001B[38;5;241m6\u001B[39m])\n",
      "\u001B[1;31mNameError\u001B[0m: name 'B' is not defined"
     ]
    }
   ],
   "source": [
    "A.append(B[3:6])"
   ]
  },
  {
   "cell_type": "code",
   "execution_count": 31,
   "id": "958e3741-9122-46af-8f0c-c3fd454c63e6",
   "metadata": {
    "ExecuteTime": {
     "end_time": "2024-06-14T12:17:13.677282Z",
     "start_time": "2024-06-14T12:17:13.661282Z"
    }
   },
   "outputs": [
    {
     "ename": "NameError",
     "evalue": "name 'B' is not defined",
     "output_type": "error",
     "traceback": [
      "\u001B[1;31m---------------------------------------------------------------------------\u001B[0m",
      "\u001B[1;31mNameError\u001B[0m                                 Traceback (most recent call last)",
      "Cell \u001B[1;32mIn[31], line 1\u001B[0m\n\u001B[1;32m----> 1\u001B[0m A\u001B[38;5;241m.\u001B[39mappend(\u001B[43mB\u001B[49m[\u001B[38;5;241m2\u001B[39m:\u001B[38;5;241m5\u001B[39m])\n",
      "\u001B[1;31mNameError\u001B[0m: name 'B' is not defined"
     ]
    }
   ],
   "source": [
    "A.append(B[2:5])"
   ]
  },
  {
   "cell_type": "code",
   "execution_count": 32,
   "id": "9c0c0f23-da7d-4e2b-91a2-c503e4e32c4a",
   "metadata": {
    "ExecuteTime": {
     "end_time": "2024-06-14T12:17:13.740272Z",
     "start_time": "2024-06-14T12:17:13.712306Z"
    }
   },
   "outputs": [
    {
     "ename": "NameError",
     "evalue": "name 'np' is not defined",
     "output_type": "error",
     "traceback": [
      "\u001B[1;31m---------------------------------------------------------------------------\u001B[0m",
      "\u001B[1;31mNameError\u001B[0m                                 Traceback (most recent call last)",
      "Cell \u001B[1;32mIn[32], line 1\u001B[0m\n\u001B[1;32m----> 1\u001B[0m \u001B[43mnp\u001B[49m\u001B[38;5;241m.\u001B[39mconcatenate(A)\n",
      "\u001B[1;31mNameError\u001B[0m: name 'np' is not defined"
     ]
    }
   ],
   "source": [
    "np.concatenate(A)"
   ]
  },
  {
   "cell_type": "code",
   "execution_count": 33,
   "id": "9e1429f4-6906-4cc3-853f-ab2e749ec6d8",
   "metadata": {
    "ExecuteTime": {
     "end_time": "2024-06-14T12:17:13.864278Z",
     "start_time": "2024-06-14T12:17:13.839279Z"
    }
   },
   "outputs": [
    {
     "ename": "NameError",
     "evalue": "name 'np' is not defined",
     "output_type": "error",
     "traceback": [
      "\u001B[1;31m---------------------------------------------------------------------------\u001B[0m",
      "\u001B[1;31mNameError\u001B[0m                                 Traceback (most recent call last)",
      "Cell \u001B[1;32mIn[33], line 12\u001B[0m\n\u001B[0;32m      7\u001B[0m \u001B[38;5;28;01mfor\u001B[39;00m m \u001B[38;5;129;01min\u001B[39;00m mouseList:\n\u001B[0;32m      9\u001B[0m     key \u001B[38;5;241m=\u001B[39m {\u001B[38;5;124m'\u001B[39m\u001B[38;5;124mmouse_name\u001B[39m\u001B[38;5;124m'\u001B[39m:m,\n\u001B[0;32m     10\u001B[0m            \u001B[38;5;124m'\u001B[39m\u001B[38;5;124mwindow\u001B[39m\u001B[38;5;124m'\u001B[39m:\u001B[38;5;241m3\u001B[39m}\n\u001B[1;32m---> 12\u001B[0m     CurrentREM \u001B[38;5;241m=\u001B[39m  \u001B[43mnp\u001B[49m\u001B[38;5;241m.\u001B[39mmean(np\u001B[38;5;241m.\u001B[39mstack((lcProj\u001B[38;5;241m.\u001B[39mDFFSleepStates \u001B[38;5;241m&\u001B[39m key)\u001B[38;5;241m.\u001B[39mfetch(\u001B[38;5;124m'\u001B[39m\u001B[38;5;124mmean_rem_zscored\u001B[39m\u001B[38;5;124m'\u001B[39m)))\n\u001B[0;32m     13\u001B[0m     CurrentNREM \u001B[38;5;241m=\u001B[39m  np\u001B[38;5;241m.\u001B[39mmean(np\u001B[38;5;241m.\u001B[39mstack((lcProj\u001B[38;5;241m.\u001B[39mDFFSleepStates \u001B[38;5;241m&\u001B[39m key)\u001B[38;5;241m.\u001B[39mfetch(\u001B[38;5;124m'\u001B[39m\u001B[38;5;124mmean_nrem_zscored\u001B[39m\u001B[38;5;124m'\u001B[39m)))\n\u001B[0;32m     14\u001B[0m     CurrentWake \u001B[38;5;241m=\u001B[39m  np\u001B[38;5;241m.\u001B[39mmean(np\u001B[38;5;241m.\u001B[39mstack((lcProj\u001B[38;5;241m.\u001B[39mDFFSleepStates \u001B[38;5;241m&\u001B[39m key)\u001B[38;5;241m.\u001B[39mfetch(\u001B[38;5;124m'\u001B[39m\u001B[38;5;124mmean_wake_zscored\u001B[39m\u001B[38;5;124m'\u001B[39m)))\n",
      "\u001B[1;31mNameError\u001B[0m: name 'np' is not defined"
     ]
    }
   ],
   "source": [
    "mouseList = [\"MHIP03\",\"MHIP05\",\"MHIP06\"]\n",
    "\n",
    "REM = []\n",
    "NREM = []\n",
    "WAKE = []\n",
    "\n",
    "for m in mouseList:\n",
    "\n",
    "    key = {'mouse_name':m,\n",
    "           'window':3}\n",
    "    \n",
    "    CurrentREM =  np.mean(np.stack((lcProj.DFFSleepStates & key).fetch('mean_rem_zscored')))\n",
    "    CurrentNREM =  np.mean(np.stack((lcProj.DFFSleepStates & key).fetch('mean_nrem_zscored')))\n",
    "    CurrentWake =  np.mean(np.stack((lcProj.DFFSleepStates & key).fetch('mean_wake_zscored')))\n",
    "    \n",
    "    REM.append(CurrentREM)\n",
    "    NREM.append(CurrentNREM)\n",
    "    WAKE.append(CurrentWake)\n",
    "\n",
    "import pandas as pd\n",
    "df = pd.DataFrame({'MouseName':mouseList, 'Mean_REM': REM, 'Mean_NREM': NREM, 'Mean_Wake': WAKE})\n",
    "boxplot = df.boxplot(column=['Mean_REM', 'Mean_NREM', 'Mean_Wake'])\n",
    "plt.ylim(-1.5,1.5)\n",
    "plt.show()"
   ]
  },
  {
   "cell_type": "code",
   "execution_count": 34,
   "id": "9a4d1344-0af4-46ea-9072-a0cffcf2bcd7",
   "metadata": {
    "ExecuteTime": {
     "end_time": "2024-06-14T12:17:13.912318Z",
     "start_time": "2024-06-14T12:17:13.892319Z"
    }
   },
   "outputs": [
    {
     "ename": "NameError",
     "evalue": "name 'np' is not defined",
     "output_type": "error",
     "traceback": [
      "\u001B[1;31m---------------------------------------------------------------------------\u001B[0m",
      "\u001B[1;31mNameError\u001B[0m                                 Traceback (most recent call last)",
      "Cell \u001B[1;32mIn[34], line 12\u001B[0m\n\u001B[0;32m      7\u001B[0m \u001B[38;5;28;01mfor\u001B[39;00m m \u001B[38;5;129;01min\u001B[39;00m mouseList:\n\u001B[0;32m      9\u001B[0m     key \u001B[38;5;241m=\u001B[39m {\u001B[38;5;124m'\u001B[39m\u001B[38;5;124mmouse_name\u001B[39m\u001B[38;5;124m'\u001B[39m:m,\n\u001B[0;32m     10\u001B[0m            \u001B[38;5;124m'\u001B[39m\u001B[38;5;124mwindow\u001B[39m\u001B[38;5;124m'\u001B[39m:\u001B[38;5;241m3\u001B[39m}\n\u001B[1;32m---> 12\u001B[0m     CurrentREM \u001B[38;5;241m=\u001B[39m  \u001B[43mnp\u001B[49m\u001B[38;5;241m.\u001B[39mmean(np\u001B[38;5;241m.\u001B[39mstack((lcProj\u001B[38;5;241m.\u001B[39mDFFSleepStates \u001B[38;5;241m&\u001B[39m key)\u001B[38;5;241m.\u001B[39mfetch(\u001B[38;5;124m'\u001B[39m\u001B[38;5;124mmean_rem_zscored\u001B[39m\u001B[38;5;124m'\u001B[39m)))\n\u001B[0;32m     13\u001B[0m     CurrentNREM \u001B[38;5;241m=\u001B[39m  np\u001B[38;5;241m.\u001B[39mmean(np\u001B[38;5;241m.\u001B[39mstack((lcProj\u001B[38;5;241m.\u001B[39mDFFSleepStates \u001B[38;5;241m&\u001B[39m key)\u001B[38;5;241m.\u001B[39mfetch(\u001B[38;5;124m'\u001B[39m\u001B[38;5;124mmean_nrem_zscored\u001B[39m\u001B[38;5;124m'\u001B[39m)))\n\u001B[0;32m     14\u001B[0m     CurrentWake \u001B[38;5;241m=\u001B[39m  np\u001B[38;5;241m.\u001B[39mmean(np\u001B[38;5;241m.\u001B[39mstack((lcProj\u001B[38;5;241m.\u001B[39mDFFSleepStates \u001B[38;5;241m&\u001B[39m key)\u001B[38;5;241m.\u001B[39mfetch(\u001B[38;5;124m'\u001B[39m\u001B[38;5;124mmean_wake_zscored\u001B[39m\u001B[38;5;124m'\u001B[39m)))\n",
      "\u001B[1;31mNameError\u001B[0m: name 'np' is not defined"
     ]
    }
   ],
   "source": [
    "mouseList = [\"MHIP03\",\"MHIP05\",\"MHIP06\"]\n",
    "\n",
    "REM = []\n",
    "NREM = []\n",
    "WAKE = []\n",
    "\n",
    "for m in mouseList:\n",
    "\n",
    "    key = {'mouse_name':m,\n",
    "           'window':3}\n",
    "    \n",
    "    CurrentREM =  np.mean(np.stack((lcProj.DFFSleepStates & key).fetch('mean_rem_zscored')))\n",
    "    CurrentNREM =  np.mean(np.stack((lcProj.DFFSleepStates & key).fetch('mean_nrem_zscored')))\n",
    "    CurrentWake =  np.mean(np.stack((lcProj.DFFSleepStates & key).fetch('mean_wake_zscored')))\n",
    "    \n",
    "    REM.append(CurrentREM)\n",
    "    NREM.append(CurrentNREM)\n",
    "    WAKE.append(CurrentWake)\n",
    "\n",
    "import pandas as pd\n",
    "df = pd.DataFrame({'MouseName':mouseList, 'Mean_REM': REM, 'Mean_NREM': NREM, 'Mean_Wake': WAKE})\n",
    "boxplot = df.boxplot(column=['Mean_REM', 'Mean_NREM', 'Mean_Wake'])\n",
    "plt.ylim(-1.5,1.5)\n",
    "plt.show()"
   ]
  },
  {
   "cell_type": "code",
   "execution_count": 35,
   "id": "4c189c6b-609a-4f68-ab26-f83387c36021",
   "metadata": {
    "ExecuteTime": {
     "end_time": "2024-06-14T12:17:15.022315Z",
     "start_time": "2024-06-14T12:17:13.982283Z"
    }
   },
   "outputs": [
    {
     "ename": "ValueError",
     "evalue": "All arrays must be of the same length",
     "output_type": "error",
     "traceback": [
      "\u001B[1;31m---------------------------------------------------------------------------\u001B[0m",
      "\u001B[1;31mValueError\u001B[0m                                Traceback (most recent call last)",
      "Cell \u001B[1;32mIn[35], line 2\u001B[0m\n\u001B[0;32m      1\u001B[0m \u001B[38;5;28;01mimport\u001B[39;00m \u001B[38;5;21;01mpandas\u001B[39;00m \u001B[38;5;28;01mas\u001B[39;00m \u001B[38;5;21;01mpd\u001B[39;00m\n\u001B[1;32m----> 2\u001B[0m df \u001B[38;5;241m=\u001B[39m \u001B[43mpd\u001B[49m\u001B[38;5;241;43m.\u001B[39;49m\u001B[43mDataFrame\u001B[49m\u001B[43m(\u001B[49m\u001B[43m{\u001B[49m\u001B[38;5;124;43m'\u001B[39;49m\u001B[38;5;124;43mMouseName\u001B[39;49m\u001B[38;5;124;43m'\u001B[39;49m\u001B[43m:\u001B[49m\u001B[43mmouseList\u001B[49m\u001B[43m,\u001B[49m\u001B[43m \u001B[49m\u001B[38;5;124;43m'\u001B[39;49m\u001B[38;5;124;43mMean_REM\u001B[39;49m\u001B[38;5;124;43m'\u001B[39;49m\u001B[43m:\u001B[49m\u001B[43m \u001B[49m\u001B[43mREM\u001B[49m\u001B[43m,\u001B[49m\u001B[43m \u001B[49m\u001B[38;5;124;43m'\u001B[39;49m\u001B[38;5;124;43mMean_NREM\u001B[39;49m\u001B[38;5;124;43m'\u001B[39;49m\u001B[43m:\u001B[49m\u001B[43m \u001B[49m\u001B[43mNREM\u001B[49m\u001B[43m,\u001B[49m\u001B[43m \u001B[49m\u001B[38;5;124;43m'\u001B[39;49m\u001B[38;5;124;43mMean_Wake\u001B[39;49m\u001B[38;5;124;43m'\u001B[39;49m\u001B[43m:\u001B[49m\u001B[43m \u001B[49m\u001B[43mWAKE\u001B[49m\u001B[43m}\u001B[49m\u001B[43m)\u001B[49m\n",
      "File \u001B[1;32mC:\\ProgramData\\Anaconda3\\lib\\site-packages\\pandas\\core\\frame.py:736\u001B[0m, in \u001B[0;36mDataFrame.__init__\u001B[1;34m(self, data, index, columns, dtype, copy)\u001B[0m\n\u001B[0;32m    730\u001B[0m     mgr \u001B[38;5;241m=\u001B[39m \u001B[38;5;28mself\u001B[39m\u001B[38;5;241m.\u001B[39m_init_mgr(\n\u001B[0;32m    731\u001B[0m         data, axes\u001B[38;5;241m=\u001B[39m{\u001B[38;5;124m\"\u001B[39m\u001B[38;5;124mindex\u001B[39m\u001B[38;5;124m\"\u001B[39m: index, \u001B[38;5;124m\"\u001B[39m\u001B[38;5;124mcolumns\u001B[39m\u001B[38;5;124m\"\u001B[39m: columns}, dtype\u001B[38;5;241m=\u001B[39mdtype, copy\u001B[38;5;241m=\u001B[39mcopy\n\u001B[0;32m    732\u001B[0m     )\n\u001B[0;32m    734\u001B[0m \u001B[38;5;28;01melif\u001B[39;00m \u001B[38;5;28misinstance\u001B[39m(data, \u001B[38;5;28mdict\u001B[39m):\n\u001B[0;32m    735\u001B[0m     \u001B[38;5;66;03m# GH#38939 de facto copy defaults to False only in non-dict cases\u001B[39;00m\n\u001B[1;32m--> 736\u001B[0m     mgr \u001B[38;5;241m=\u001B[39m \u001B[43mdict_to_mgr\u001B[49m\u001B[43m(\u001B[49m\u001B[43mdata\u001B[49m\u001B[43m,\u001B[49m\u001B[43m \u001B[49m\u001B[43mindex\u001B[49m\u001B[43m,\u001B[49m\u001B[43m \u001B[49m\u001B[43mcolumns\u001B[49m\u001B[43m,\u001B[49m\u001B[43m \u001B[49m\u001B[43mdtype\u001B[49m\u001B[38;5;241;43m=\u001B[39;49m\u001B[43mdtype\u001B[49m\u001B[43m,\u001B[49m\u001B[43m \u001B[49m\u001B[43mcopy\u001B[49m\u001B[38;5;241;43m=\u001B[39;49m\u001B[43mcopy\u001B[49m\u001B[43m,\u001B[49m\u001B[43m \u001B[49m\u001B[43mtyp\u001B[49m\u001B[38;5;241;43m=\u001B[39;49m\u001B[43mmanager\u001B[49m\u001B[43m)\u001B[49m\n\u001B[0;32m    737\u001B[0m \u001B[38;5;28;01melif\u001B[39;00m \u001B[38;5;28misinstance\u001B[39m(data, ma\u001B[38;5;241m.\u001B[39mMaskedArray):\n\u001B[0;32m    738\u001B[0m     \u001B[38;5;28;01mfrom\u001B[39;00m \u001B[38;5;21;01mnumpy\u001B[39;00m\u001B[38;5;21;01m.\u001B[39;00m\u001B[38;5;21;01mma\u001B[39;00m \u001B[38;5;28;01mimport\u001B[39;00m mrecords\n",
      "File \u001B[1;32mC:\\ProgramData\\Anaconda3\\lib\\site-packages\\pandas\\core\\internals\\construction.py:503\u001B[0m, in \u001B[0;36mdict_to_mgr\u001B[1;34m(data, index, columns, dtype, typ, copy)\u001B[0m\n\u001B[0;32m    499\u001B[0m     \u001B[38;5;28;01melse\u001B[39;00m:\n\u001B[0;32m    500\u001B[0m         \u001B[38;5;66;03m# dtype check to exclude e.g. range objects, scalars\u001B[39;00m\n\u001B[0;32m    501\u001B[0m         arrays \u001B[38;5;241m=\u001B[39m [x\u001B[38;5;241m.\u001B[39mcopy() \u001B[38;5;28;01mif\u001B[39;00m \u001B[38;5;28mhasattr\u001B[39m(x, \u001B[38;5;124m\"\u001B[39m\u001B[38;5;124mdtype\u001B[39m\u001B[38;5;124m\"\u001B[39m) \u001B[38;5;28;01melse\u001B[39;00m x \u001B[38;5;28;01mfor\u001B[39;00m x \u001B[38;5;129;01min\u001B[39;00m arrays]\n\u001B[1;32m--> 503\u001B[0m \u001B[38;5;28;01mreturn\u001B[39;00m \u001B[43marrays_to_mgr\u001B[49m\u001B[43m(\u001B[49m\u001B[43marrays\u001B[49m\u001B[43m,\u001B[49m\u001B[43m \u001B[49m\u001B[43mcolumns\u001B[49m\u001B[43m,\u001B[49m\u001B[43m \u001B[49m\u001B[43mindex\u001B[49m\u001B[43m,\u001B[49m\u001B[43m \u001B[49m\u001B[43mdtype\u001B[49m\u001B[38;5;241;43m=\u001B[39;49m\u001B[43mdtype\u001B[49m\u001B[43m,\u001B[49m\u001B[43m \u001B[49m\u001B[43mtyp\u001B[49m\u001B[38;5;241;43m=\u001B[39;49m\u001B[43mtyp\u001B[49m\u001B[43m,\u001B[49m\u001B[43m \u001B[49m\u001B[43mconsolidate\u001B[49m\u001B[38;5;241;43m=\u001B[39;49m\u001B[43mcopy\u001B[49m\u001B[43m)\u001B[49m\n",
      "File \u001B[1;32mC:\\ProgramData\\Anaconda3\\lib\\site-packages\\pandas\\core\\internals\\construction.py:114\u001B[0m, in \u001B[0;36marrays_to_mgr\u001B[1;34m(arrays, columns, index, dtype, verify_integrity, typ, consolidate)\u001B[0m\n\u001B[0;32m    111\u001B[0m \u001B[38;5;28;01mif\u001B[39;00m verify_integrity:\n\u001B[0;32m    112\u001B[0m     \u001B[38;5;66;03m# figure out the index, if necessary\u001B[39;00m\n\u001B[0;32m    113\u001B[0m     \u001B[38;5;28;01mif\u001B[39;00m index \u001B[38;5;129;01mis\u001B[39;00m \u001B[38;5;28;01mNone\u001B[39;00m:\n\u001B[1;32m--> 114\u001B[0m         index \u001B[38;5;241m=\u001B[39m \u001B[43m_extract_index\u001B[49m\u001B[43m(\u001B[49m\u001B[43marrays\u001B[49m\u001B[43m)\u001B[49m\n\u001B[0;32m    115\u001B[0m     \u001B[38;5;28;01melse\u001B[39;00m:\n\u001B[0;32m    116\u001B[0m         index \u001B[38;5;241m=\u001B[39m ensure_index(index)\n",
      "File \u001B[1;32mC:\\ProgramData\\Anaconda3\\lib\\site-packages\\pandas\\core\\internals\\construction.py:677\u001B[0m, in \u001B[0;36m_extract_index\u001B[1;34m(data)\u001B[0m\n\u001B[0;32m    675\u001B[0m lengths \u001B[38;5;241m=\u001B[39m \u001B[38;5;28mlist\u001B[39m(\u001B[38;5;28mset\u001B[39m(raw_lengths))\n\u001B[0;32m    676\u001B[0m \u001B[38;5;28;01mif\u001B[39;00m \u001B[38;5;28mlen\u001B[39m(lengths) \u001B[38;5;241m>\u001B[39m \u001B[38;5;241m1\u001B[39m:\n\u001B[1;32m--> 677\u001B[0m     \u001B[38;5;28;01mraise\u001B[39;00m \u001B[38;5;167;01mValueError\u001B[39;00m(\u001B[38;5;124m\"\u001B[39m\u001B[38;5;124mAll arrays must be of the same length\u001B[39m\u001B[38;5;124m\"\u001B[39m)\n\u001B[0;32m    679\u001B[0m \u001B[38;5;28;01mif\u001B[39;00m have_dicts:\n\u001B[0;32m    680\u001B[0m     \u001B[38;5;28;01mraise\u001B[39;00m \u001B[38;5;167;01mValueError\u001B[39;00m(\n\u001B[0;32m    681\u001B[0m         \u001B[38;5;124m\"\u001B[39m\u001B[38;5;124mMixing dicts with non-Series may lead to ambiguous ordering.\u001B[39m\u001B[38;5;124m\"\u001B[39m\n\u001B[0;32m    682\u001B[0m     )\n",
      "\u001B[1;31mValueError\u001B[0m: All arrays must be of the same length"
     ]
    }
   ],
   "source": [
    "import pandas as pd\n",
    "df = pd.DataFrame({'MouseName':mouseList, 'Mean_REM': REM, 'Mean_NREM': NREM, 'Mean_Wake': WAKE})"
   ]
  },
  {
   "cell_type": "code",
   "execution_count": null,
   "id": "8032b68e-21c7-49a9-a2c2-24796b6f1434",
   "metadata": {
    "ExecuteTime": {
     "start_time": "2024-06-14T12:17:15.024300Z"
    }
   },
   "outputs": [],
   "source": [
    "df"
   ]
  },
  {
   "cell_type": "code",
   "execution_count": null,
   "id": "ec9db923-849e-4e46-b66e-b030363ae4ba",
   "metadata": {
    "ExecuteTime": {
     "start_time": "2024-06-14T12:17:15.025315Z"
    }
   },
   "outputs": [],
   "source": [
    "boxplot = df.boxplot(column=['Mean_REM', 'Mean_NREM', 'Mean_Wake'])\n",
    "plt.show()"
   ]
  },
  {
   "cell_type": "code",
   "execution_count": null,
   "id": "5c7f116b-43f8-46da-9298-77e5f87d30e0",
   "metadata": {
    "ExecuteTime": {
     "start_time": "2024-06-14T12:17:15.025315Z"
    }
   },
   "outputs": [],
   "source": [
    "key = {'mouse_name' : \"AMYG01\",\n",
    "      'session_date':\"2023-12-11\"}\n",
    "\n",
    "\n",
    "bfile = (lcProj.Hypnogram & key).fetch1('bfile')\n",
    "dff = (lcProj.FibDFF & key).fetch1('dff')\n",
    "timestamps = (lcProj.FibDFF & key).fetch1('timestamps')\n"
   ]
  },
  {
   "cell_type": "code",
   "execution_count": null,
   "id": "2b273cbd-47b4-4a5d-ac81-763fcb3696bf",
   "metadata": {
    "ExecuteTime": {
     "start_time": "2024-06-14T12:17:15.026280Z"
    }
   },
   "outputs": [],
   "source": [
    "bfile = 'wwwrrrrrnnnnnnnrnnnnrrrrnnnnrrrrrwww'"
   ]
  },
  {
   "cell_type": "code",
   "execution_count": null,
   "id": "860922b8-69b6-4eec-8f7f-aeaf68dccdfd",
   "metadata": {
    "ExecuteTime": {
     "start_time": "2024-06-14T12:17:15.028269Z"
    }
   },
   "outputs": [],
   "source": [
    "import regex as reg\n",
    "import re \n",
    "from Schema.UsefulFunctions import ElimMA, deltaDynamics, maDynamics, CorrectMirrorAnimals, findPosFromTimestamps,binning\n",
    "\n",
    "\n",
    "InterREMbouts = reg.finditer('([r3][w1n2]+[r3])', bfile, overlapped=True)\n",
    "\n",
    "DffInterREMAll = []\n",
    "\n",
    "for idx, trans in enumerate(InterREMbouts):\n",
    "\n",
    "    DffInterREM = []\n",
    "\n",
    "    Beg = list(trans.span())[0] + 1\n",
    "    End = list(trans.span())[1] - 1\n",
    "\n",
    "    bInBetween = bfile[Beg:End]\n",
    "\n",
    "    print(bInBetween)\n",
    "\n",
    "    NremInBetween = re.finditer('[n2]{3,}', bInBetween)\n",
    "\n",
    "    NremInBetweenFlag = len(re.findall('[n2]{3,}', bInBetween))\n",
    "\n",
    "    if NremInBetweenFlag > 0:\n",
    "\n",
    "        BegDFF =  Beg * 4\n",
    "\n",
    "        for idx, trans in enumerate(NremInBetween):\n",
    "\n",
    "            BegNREM = list(trans.span())[0]\n",
    "            EndNREM = list(trans.span())[1]\n",
    "\n",
    "            BegDFFNREM = findPosFromTimestamps(timestamps, BegDFF + (BegNREM * 4))\n",
    "\n",
    "            print(BegDFF + (BegNREM * 4))\n",
    "\n",
    "            print(BegDFFNREM)\n",
    "\n",
    "            \n",
    "            EndDFFNREM = findPosFromTimestamps(timestamps, BegDFF + (EndNREM * 4))\n",
    "\n",
    "            print(BegDFF + (EndNREM * 4))\n",
    "\n",
    "            print(EndDFFNREM)\n",
    "\n",
    "            DffInterREM.append(dff[BegDFFNREM:EndDFFNREM])\n",
    "\n",
    "        DffInterREM = np.concatenate(DffInterREM)\n",
    "\n",
    "        DffInterREMZscored = ((DffInterREM - np.mean(DffInterREM)) / np.std(DffInterREM))\n",
    "\n",
    "        DffInterREMZscoredBinned = binning(DffInterREMZscored)\n",
    "\n",
    "        DffInterREMAll.append(DffInterREMZscoredBinned)\n",
    "\n",
    "DffInterREMAllBinned = np.array(DffInterREMAll)\n"
   ]
  },
  {
   "cell_type": "code",
   "execution_count": null,
   "id": "155fcecd-d873-4376-a587-a606bce7e329",
   "metadata": {},
   "outputs": [],
   "source": [
    "DffInterREMAllBinned.shape"
   ]
  },
  {
   "cell_type": "code",
   "execution_count": null,
   "id": "d57f73d1-697f-4dff-9cc9-8b0143dea079",
   "metadata": {
    "ExecuteTime": {
     "start_time": "2024-06-14T12:17:15.030269Z"
    }
   },
   "outputs": [],
   "source": [
    "Beg"
   ]
  },
  {
   "cell_type": "code",
   "execution_count": null,
   "id": "701cbae3-330b-4ff2-9e03-0bc655585774",
   "metadata": {},
   "outputs": [],
   "source": [
    "End"
   ]
  },
  {
   "cell_type": "code",
   "execution_count": null,
   "id": "7af68370-aa85-429a-8086-cd9c6b127d21",
   "metadata": {
    "ExecuteTime": {
     "start_time": "2024-06-14T12:17:15.031269Z"
    }
   },
   "outputs": [],
   "source": [
    "import regex as re\n",
    "InterREMbouts = re.finditer('([r3][w1n2]+[r3])', bfile,overlapped=True)\n",
    "\n",
    "\n",
    "for idx, trans in enumerate(InterREMbouts):\n",
    "\n",
    "    print(trans.span())\n",
    "\n",
    "\n"
   ]
  },
  {
   "cell_type": "code",
   "execution_count": null,
   "id": "f0506b71-c297-40e9-a824-3f61ce3a334d",
   "metadata": {
    "ExecuteTime": {
     "start_time": "2024-06-14T12:17:15.032269Z"
    }
   },
   "outputs": [],
   "source": [
    "InterREMbouts =reg.finditer('(?=([r3][w1n2]+[r3]))', bfile)\n",
    "\n",
    "DffInterREMAll = []\n",
    "\n",
    "for idx, trans in enumerate(InterREMbouts):\n",
    "\n",
    "    print(trans.span())\n"
   ]
  },
  {
   "cell_type": "code",
   "execution_count": null,
   "id": "e6809478-228e-4bf7-8a38-fcb581dffad0",
   "metadata": {
    "ExecuteTime": {
     "start_time": "2024-06-14T12:17:15.033314Z"
    }
   },
   "outputs": [],
   "source": [
    "bfile[7:16]"
   ]
  },
  {
   "cell_type": "code",
   "execution_count": null,
   "id": "7132c606-f9df-4dfa-8fe7-594d82166238",
   "metadata": {
    "ExecuteTime": {
     "start_time": "2024-06-14T12:17:15.034269Z"
    }
   },
   "outputs": [],
   "source": [
    "bfile[15:25]"
   ]
  },
  {
   "cell_type": "code",
   "execution_count": null,
   "id": "7e7e16a4-bc1a-4e95-a2f9-ccc44ec584fe",
   "metadata": {
    "ExecuteTime": {
     "start_time": "2024-06-14T12:17:15.034269Z"
    }
   },
   "outputs": [],
   "source": [
    "import re\n",
    "re.finditer('(?=([r3][w1n2]+[r3]))', bfile)\n",
    "\n"
   ]
  },
  {
   "cell_type": "code",
   "execution_count": null,
   "id": "6a0c4d55-bf5a-4e93-ac92-86270ae6d782",
   "metadata": {
    "ExecuteTime": {
     "start_time": "2024-06-14T12:17:15.035305Z"
    }
   },
   "outputs": [],
   "source": [
    "from Schema.UsefulFunctions import ElimMA, deltaDynamics, maDynamics, CorrectMirrorAnimals, findPosFromTimestamps,binning\n",
    "import re\n",
    "\n",
    "InterREMbouts = re.finditer('[r3][w1n2]+[r3]', bfile)\n",
    "\n",
    "DffInterREMAll = []\n",
    "\n",
    "i = 0 \n",
    "\n",
    "for idx, trans in enumerate(InterREMbouts):\n",
    "\n",
    "    i = i + 1\n",
    "\n",
    "    print(i)\n",
    "\n",
    "    DffInterREM = []\n",
    "\n",
    "    Beg = list(trans.span())[0] + 1\n",
    "    End = list(trans.span())[1] - 1\n",
    "\n",
    "    bInBetween = bfile[Beg:End]\n",
    "\n",
    "    print('New')\n",
    "    print(bInBetween)\n",
    "\n",
    "    NremInBetween = re.finditer('[n2]{3,}', bInBetween)\n",
    "\n",
    "\n",
    "    NremInBetweenFlag = len(re.findall('[n2]{3,}', bInBetween))\n",
    "\n",
    "    if NremInBetweenFlag > 0:\n",
    "\n",
    "\n",
    "        BegDFF = Beg * 4\n",
    "    \n",
    "        print(BegDFF)\n",
    "    \n",
    "        for idx, trans in enumerate(NremInBetween):\n",
    "    \n",
    "            BegNREM = list(trans.span())[0]\n",
    "            EndNREM = list(trans.span())[1]\n",
    "    \n",
    "            print(bInBetween[BegNREM:EndNREM])\n",
    "    \n",
    "            BegDFFNREM = findPosFromTimestamps(timestamps, BegDFF + (BegNREM*4))\n",
    "            EndDFFNREM = findPosFromTimestamps(timestamps, BegDFF + (EndNREM*4))\n",
    "    \n",
    "            print([BegDFFNREM,EndDFFNREM])\n",
    "    \n",
    "    \n",
    "            DffInterREM.append(dff[BegDFFNREM:EndDFFNREM])\n",
    "    \n",
    "        DffInterREM = np.concatenate(DffInterREM)\n",
    "    \n",
    "        DffInterREMZscored = ((DffInterREM  - np.mean(DffInterREM)) / np.std(DffInterREM))\n",
    "    \n",
    "        DffInterREMZscoredBinned = binning(DffInterREMZscored)\n",
    "    \n",
    "        DffInterREMAll.append(DffInterREMZscoredBinned)\n",
    "    \n",
    "        DffInterREMAllBinned = np.array(DffInterREMAll)\n"
   ]
  },
  {
   "cell_type": "code",
   "execution_count": null,
   "id": "08d8c702-f298-46f5-ad90-94ae743c1f9f",
   "metadata": {
    "ExecuteTime": {
     "start_time": "2024-06-14T12:17:15.036279Z"
    }
   },
   "outputs": [],
   "source": [
    "NremInBetween =len( re.findall('[n2]{3,}', bInBetween))\n",
    " "
   ]
  },
  {
   "cell_type": "code",
   "execution_count": null,
   "id": "21c00a22-efe2-4d3b-9ec6-d7748e36e930",
   "metadata": {
    "ExecuteTime": {
     "start_time": "2024-06-14T12:17:15.037273Z"
    }
   },
   "outputs": [],
   "source": [
    "NremInBetween"
   ]
  },
  {
   "cell_type": "code",
   "execution_count": null,
   "id": "2248a4e9-5fdd-463e-8421-476269916028",
   "metadata": {
    "ExecuteTime": {
     "start_time": "2024-06-14T12:17:15.038267Z"
    }
   },
   "outputs": [],
   "source": [
    "for idx, trans in enumerate(InterREMbouts):\n",
    "\n",
    "    DffInterREM = []\n",
    "\n",
    "    Beg = list(trans.span())[0] + 1\n",
    "    End = list(trans.span())[1] - 1\n",
    "\n",
    "    bInBetween = bfile[Beg:End]\n",
    "\n",
    "    print(bInBetween)"
   ]
  },
  {
   "cell_type": "code",
   "execution_count": null,
   "id": "5510d316-9ec8-49bc-aee2-2a3dbf6fdb03",
   "metadata": {
    "ExecuteTime": {
     "start_time": "2024-06-14T12:17:15.039341Z"
    }
   },
   "outputs": [],
   "source": [
    "bInBetween"
   ]
  },
  {
   "cell_type": "code",
   "execution_count": null,
   "id": "29abfbd6-6d0e-4354-ab0e-6cc54f979578",
   "metadata": {
    "ExecuteTime": {
     "start_time": "2024-06-14T12:17:15.040300Z"
    }
   },
   "outputs": [],
   "source": [
    "NremInBetween = re.finditer('[n2]+', bInBetween)"
   ]
  },
  {
   "cell_type": "code",
   "execution_count": null,
   "id": "6a12593c-8a76-4ea4-90c1-39b8a8c5c313",
   "metadata": {
    "ExecuteTime": {
     "start_time": "2024-06-14T12:17:15.041305Z"
    }
   },
   "outputs": [],
   "source": [
    "\n",
    "NremInBetweenFlag = len(re.findall('[n2]', bInBetween))"
   ]
  },
  {
   "cell_type": "code",
   "execution_count": null,
   "id": "769928ca-0586-457f-aa2e-760fccf61585",
   "metadata": {},
   "outputs": [],
   "source": [
    "NremInBetweenFlag"
   ]
  },
  {
   "cell_type": "code",
   "execution_count": null,
   "id": "37175454-d3df-4712-8bc1-b51fb245aaf1",
   "metadata": {
    "ExecuteTime": {
     "start_time": "2024-06-14T12:17:15.043301Z"
    }
   },
   "outputs": [],
   "source": [
    "for idx, trans in enumerate(NremInBetween):\n",
    "\n",
    "        Beg = list(trans.span())[0]\n",
    "        End = list(trans.span())[1]\n",
    "\n",
    "        print(bInBetween[Beg:End])\n",
    "\n"
   ]
  },
  {
   "cell_type": "code",
   "execution_count": 36,
   "id": "d977f9cf-b44e-49dc-a888-2738f13de9d9",
   "metadata": {
    "ExecuteTime": {
     "end_time": "2024-06-14T12:17:15.100303Z",
     "start_time": "2024-06-14T12:17:15.067267Z"
    }
   },
   "outputs": [
    {
     "ename": "NameError",
     "evalue": "name 'bKeep' is not defined",
     "output_type": "error",
     "traceback": [
      "\u001B[1;31m---------------------------------------------------------------------------\u001B[0m",
      "\u001B[1;31mNameError\u001B[0m                                 Traceback (most recent call last)",
      "Cell \u001B[1;32mIn[36], line 2\u001B[0m\n\u001B[0;32m      1\u001B[0m \u001B[38;5;28;01mimport\u001B[39;00m \u001B[38;5;21;01mre\u001B[39;00m\n\u001B[1;32m----> 2\u001B[0m REMbouts \u001B[38;5;241m=\u001B[39m re\u001B[38;5;241m.\u001B[39mfinditer(\u001B[38;5;124m'\u001B[39m\u001B[38;5;124m[r3]\u001B[39m\u001B[38;5;124m{\u001B[39m\u001B[38;5;124m3,}\u001B[39m\u001B[38;5;124m'\u001B[39m,\u001B[43mbKeep\u001B[49m)\n\u001B[0;32m      3\u001B[0m REMSpans \u001B[38;5;241m=\u001B[39m []\n\u001B[0;32m      4\u001B[0m DffREM  \u001B[38;5;241m=\u001B[39m []\n",
      "\u001B[1;31mNameError\u001B[0m: name 'bKeep' is not defined"
     ]
    }
   ],
   "source": [
    "import re\n",
    "REMbouts = re.finditer('[r3]{3,}',bKeep)\n",
    "REMSpans = []\n",
    "DffREM  = []\n",
    "DffREMZScored  = []\n",
    "\n",
    "for idx, trans in enumerate(REMbouts):\n",
    "\n",
    "    Beg = list(trans.span())[0]\n",
    "    End = list(trans.span())[1]\n",
    "\n",
    "    BegDFF = findPosFromTimestamps(timestamps, Beg*4)\n",
    "    EndDFF = findPosFromTimestamps(timestamps, End*4)\n",
    "\n",
    "    REMSpans.append([BegDFF,EndDFF])\n",
    "    DffREM.append(dffKeep[BegDFF:EndDFF])\n",
    "    DffREMZScored.append(dffKeepZScored[BegDFF:EndDFF])"
   ]
  },
  {
   "cell_type": "code",
   "execution_count": 37,
   "id": "1c4a082d-441f-45f6-9835-611517ccb23f",
   "metadata": {
    "ExecuteTime": {
     "end_time": "2024-06-14T12:17:15.196303Z",
     "start_time": "2024-06-14T12:17:15.178275Z"
    }
   },
   "outputs": [
    {
     "ename": "NameError",
     "evalue": "name 'dffKeep' is not defined",
     "output_type": "error",
     "traceback": [
      "\u001B[1;31m---------------------------------------------------------------------------\u001B[0m",
      "\u001B[1;31mNameError\u001B[0m                                 Traceback (most recent call last)",
      "Cell \u001B[1;32mIn[37], line 1\u001B[0m\n\u001B[1;32m----> 1\u001B[0m dffREM \u001B[38;5;241m=\u001B[39m \u001B[43mdffKeep\u001B[49m[BegDFF:EndDFF]\n\u001B[0;32m      3\u001B[0m dffREMZscored \u001B[38;5;241m=\u001B[39m (( dffREM \u001B[38;5;241m-\u001B[39m np\u001B[38;5;241m.\u001B[39mmean( dffREM ))\u001B[38;5;241m/\u001B[39mnp\u001B[38;5;241m.\u001B[39mstd(dffREM))\n",
      "\u001B[1;31mNameError\u001B[0m: name 'dffKeep' is not defined"
     ]
    }
   ],
   "source": [
    "dffREM = dffKeep[BegDFF:EndDFF]\n",
    "\n",
    "dffREMZscored = (( dffREM - np.mean( dffREM ))/np.std(dffREM))\n"
   ]
  },
  {
   "cell_type": "code",
   "execution_count": 38,
   "id": "98f82051-a8d3-4b47-b704-a03dfa7d2b2e",
   "metadata": {
    "ExecuteTime": {
     "end_time": "2024-06-14T12:17:15.413301Z",
     "start_time": "2024-06-14T12:17:15.390298Z"
    }
   },
   "outputs": [
    {
     "ename": "NameError",
     "evalue": "name 'np' is not defined",
     "output_type": "error",
     "traceback": [
      "\u001B[1;31m---------------------------------------------------------------------------\u001B[0m",
      "\u001B[1;31mNameError\u001B[0m                                 Traceback (most recent call last)",
      "Cell \u001B[1;32mIn[38], line 1\u001B[0m\n\u001B[1;32m----> 1\u001B[0m lengthPerBin \u001B[38;5;241m=\u001B[39m \u001B[38;5;28mint\u001B[39m(\u001B[43mnp\u001B[49m\u001B[38;5;241m.\u001B[39mceil(dffREMZscored\u001B[38;5;241m.\u001B[39mshape[\u001B[38;5;241m0\u001B[39m]\u001B[38;5;241m/\u001B[39m\u001B[38;5;241m5\u001B[39m))\n",
      "\u001B[1;31mNameError\u001B[0m: name 'np' is not defined"
     ]
    }
   ],
   "source": [
    "lengthPerBin = int(np.ceil(dffREMZscored.shape[0]/5))"
   ]
  },
  {
   "cell_type": "code",
   "execution_count": 39,
   "id": "8e620616-03de-403a-961c-39394b56ecb7",
   "metadata": {
    "ExecuteTime": {
     "end_time": "2024-06-14T12:17:15.699271Z",
     "start_time": "2024-06-14T12:17:15.682298Z"
    }
   },
   "outputs": [
    {
     "ename": "NameError",
     "evalue": "name 'plt' is not defined",
     "output_type": "error",
     "traceback": [
      "\u001B[1;31m---------------------------------------------------------------------------\u001B[0m",
      "\u001B[1;31mNameError\u001B[0m                                 Traceback (most recent call last)",
      "Cell \u001B[1;32mIn[39], line 1\u001B[0m\n\u001B[1;32m----> 1\u001B[0m \u001B[43mplt\u001B[49m\u001B[38;5;241m.\u001B[39mplot(dffREM)\n\u001B[0;32m      2\u001B[0m plt\u001B[38;5;241m.\u001B[39mplot(dffREMZscored)\n",
      "\u001B[1;31mNameError\u001B[0m: name 'plt' is not defined"
     ]
    }
   ],
   "source": [
    "plt.plot(dffREM)\n",
    "plt.plot(dffREMZscored)"
   ]
  },
  {
   "cell_type": "code",
   "execution_count": 40,
   "id": "628336ac-dc0d-4add-9c75-343bd2e44d3a",
   "metadata": {
    "ExecuteTime": {
     "end_time": "2024-06-14T12:17:15.746303Z",
     "start_time": "2024-06-14T12:17:15.726311Z"
    }
   },
   "outputs": [
    {
     "ename": "NameError",
     "evalue": "name 'plt' is not defined",
     "output_type": "error",
     "traceback": [
      "\u001B[1;31m---------------------------------------------------------------------------\u001B[0m",
      "\u001B[1;31mNameError\u001B[0m                                 Traceback (most recent call last)",
      "Cell \u001B[1;32mIn[40], line 1\u001B[0m\n\u001B[1;32m----> 1\u001B[0m \u001B[43mplt\u001B[49m\u001B[38;5;241m.\u001B[39mplot(sBinned)\n",
      "\u001B[1;31mNameError\u001B[0m: name 'plt' is not defined"
     ]
    }
   ],
   "source": [
    "plt.plot(sBinned)"
   ]
  },
  {
   "cell_type": "code",
   "execution_count": 41,
   "id": "1a5bc1fb-af15-427f-856d-f7105c23284e",
   "metadata": {
    "ExecuteTime": {
     "end_time": "2024-06-14T12:17:15.886272Z",
     "start_time": "2024-06-14T12:17:15.858272Z"
    }
   },
   "outputs": [
    {
     "ename": "NameError",
     "evalue": "name 'nbins' is not defined",
     "output_type": "error",
     "traceback": [
      "\u001B[1;31m---------------------------------------------------------------------------\u001B[0m",
      "\u001B[1;31mNameError\u001B[0m                                 Traceback (most recent call last)",
      "Cell \u001B[1;32mIn[41], line 3\u001B[0m\n\u001B[0;32m      1\u001B[0m sBinned \u001B[38;5;241m=\u001B[39m []\n\u001B[1;32m----> 3\u001B[0m \u001B[38;5;28;01mfor\u001B[39;00m b \u001B[38;5;129;01min\u001B[39;00m \u001B[38;5;28mrange\u001B[39m(\u001B[43mnbins\u001B[49m):\n\u001B[0;32m      5\u001B[0m     \u001B[38;5;28;01mif\u001B[39;00m ((b\u001B[38;5;241m+\u001B[39m\u001B[38;5;241m1\u001B[39m)\u001B[38;5;241m*\u001B[39mlengthPerBin \u001B[38;5;241m<\u001B[39m\u001B[38;5;241m=\u001B[39m s\u001B[38;5;241m.\u001B[39mshape[\u001B[38;5;241m0\u001B[39m]):\n\u001B[0;32m      7\u001B[0m         \u001B[38;5;28mprint\u001B[39m((b\u001B[38;5;241m*\u001B[39mlengthPerBin),((b\u001B[38;5;241m+\u001B[39m\u001B[38;5;241m1\u001B[39m)\u001B[38;5;241m*\u001B[39mlengthPerBin))\n",
      "\u001B[1;31mNameError\u001B[0m: name 'nbins' is not defined"
     ]
    }
   ],
   "source": [
    "sBinned = []\n",
    "\n",
    "for b in range(nbins):\n",
    "\n",
    "    if ((b+1)*lengthPerBin <= s.shape[0]):\n",
    "\n",
    "        print((b*lengthPerBin),((b+1)*lengthPerBin))\n",
    "    \n",
    "        currentBin = s[(b*lengthPerBin):((b+1)*lengthPerBin)]\n",
    "        sBinned.append(np.mean(currentBin))\n",
    "    \n",
    "    else:\n",
    "        print((b*lengthPerBin), s.shape[0])\n",
    "        currentBin = s[(b*lengthPerBin):]\n",
    "        sBinned.append(np.mean(currentBin))\n",
    "\n",
    "    \n",
    "\n",
    "    "
   ]
  },
  {
   "cell_type": "code",
   "execution_count": 42,
   "id": "3af99264-b7d7-451b-a278-aafc08ab50e2",
   "metadata": {
    "ExecuteTime": {
     "end_time": "2024-06-14T12:17:15.948309Z",
     "start_time": "2024-06-14T12:17:15.931298Z"
    }
   },
   "outputs": [
    {
     "data": {
      "text/plain": "[]"
     },
     "execution_count": 42,
     "metadata": {},
     "output_type": "execute_result"
    }
   ],
   "source": [
    "sBinned"
   ]
  },
  {
   "cell_type": "code",
   "execution_count": 43,
   "id": "0f45412e-31b7-4399-91c5-47032c38e4b2",
   "metadata": {
    "ExecuteTime": {
     "end_time": "2024-06-14T12:17:16.027292Z",
     "start_time": "2024-06-14T12:17:16.017307Z"
    }
   },
   "outputs": [
    {
     "data": {
      "text/plain": "[]"
     },
     "execution_count": 43,
     "metadata": {},
     "output_type": "execute_result"
    }
   ],
   "source": [
    "A[1:]"
   ]
  },
  {
   "cell_type": "code",
   "execution_count": 44,
   "id": "5438b521-f8ff-469a-b328-e850cdde0579",
   "metadata": {
    "ExecuteTime": {
     "end_time": "2024-06-14T12:17:16.153262Z",
     "start_time": "2024-06-14T12:17:16.123264Z"
    }
   },
   "outputs": [
    {
     "ename": "NameError",
     "evalue": "name 'bKeep' is not defined",
     "output_type": "error",
     "traceback": [
      "\u001B[1;31m---------------------------------------------------------------------------\u001B[0m",
      "\u001B[1;31mNameError\u001B[0m                                 Traceback (most recent call last)",
      "Cell \u001B[1;32mIn[44], line 1\u001B[0m\n\u001B[1;32m----> 1\u001B[0m NREMbouts \u001B[38;5;241m=\u001B[39m re\u001B[38;5;241m.\u001B[39mfinditer(\u001B[38;5;124m'\u001B[39m\u001B[38;5;124m[n2]\u001B[39m\u001B[38;5;124m{\u001B[39m\u001B[38;5;124m3,}\u001B[39m\u001B[38;5;124m'\u001B[39m,\u001B[43mbKeep\u001B[49m)\n\u001B[0;32m      2\u001B[0m NREMSpans \u001B[38;5;241m=\u001B[39m []\n\u001B[0;32m      3\u001B[0m DffNREM \u001B[38;5;241m=\u001B[39m []\n",
      "\u001B[1;31mNameError\u001B[0m: name 'bKeep' is not defined"
     ]
    }
   ],
   "source": [
    "NREMbouts = re.finditer('[n2]{3,}',bKeep)\n",
    "NREMSpans = []\n",
    "DffNREM = []\n",
    "DffNREMZScored  = []\n",
    "\n",
    "for idx, trans in enumerate(NREMbouts):\n",
    "    Beg = list(trans.span())[0]\n",
    "    End = list(trans.span())[1] - 1\n",
    "\n",
    "    BegDFF = findPosFromTimestamps(timestamps, Beg * 4)\n",
    "    EndDFF = findPosFromTimestamps(timestamps, End * 4)\n",
    "\n",
    "    NREMSpans.append([BegDFF,EndDFF])\n",
    "    DffNREM.append(np.mean(dffKeep[BegDFF:EndDFF]))\n",
    "    DffNREMZScored.append(np.mean(dffKeepZScored[BegDFF:EndDFF]))"
   ]
  },
  {
   "cell_type": "code",
   "execution_count": 45,
   "id": "759f8715-4e70-4a95-8437-d98ed77e9748",
   "metadata": {
    "ExecuteTime": {
     "end_time": "2024-06-14T12:17:16.200304Z",
     "start_time": "2024-06-14T12:17:16.174297Z"
    }
   },
   "outputs": [
    {
     "ename": "NameError",
     "evalue": "name 'bKeep' is not defined",
     "output_type": "error",
     "traceback": [
      "\u001B[1;31m---------------------------------------------------------------------------\u001B[0m",
      "\u001B[1;31mNameError\u001B[0m                                 Traceback (most recent call last)",
      "Cell \u001B[1;32mIn[45], line 1\u001B[0m\n\u001B[1;32m----> 1\u001B[0m Wakebouts \u001B[38;5;241m=\u001B[39m re\u001B[38;5;241m.\u001B[39mfinditer(\u001B[38;5;124m'\u001B[39m\u001B[38;5;124m[w1]\u001B[39m\u001B[38;5;124m{\u001B[39m\u001B[38;5;124m4,}\u001B[39m\u001B[38;5;124m'\u001B[39m,\u001B[43mbKeep\u001B[49m)\n\u001B[0;32m      2\u001B[0m WakeSpans \u001B[38;5;241m=\u001B[39m []\n\u001B[0;32m      3\u001B[0m DffWake \u001B[38;5;241m=\u001B[39m []\n",
      "\u001B[1;31mNameError\u001B[0m: name 'bKeep' is not defined"
     ]
    }
   ],
   "source": [
    "Wakebouts = re.finditer('[w1]{4,}',bKeep)\n",
    "WakeSpans = []\n",
    "DffWake = []\n",
    "DffWakeZScored  = []\n",
    "\n",
    "for idx, trans in enumerate(Wakebouts):\n",
    "    Beg = list(trans.span())[0]\n",
    "    End = list(trans.span())[1] - 1\n",
    "\n",
    "    BegDFF = findPosFromTimestamps(timestamps, Beg * 4)\n",
    "    EndDFF = findPosFromTimestamps(timestamps, End * 4)\n",
    "\n",
    "    WakeSpans.append([BegDFF,EndDFF])\n",
    "    DffWake.append(np.mean(dffKeep[BegDFF:EndDFF]))\n",
    "    DffWakeZScored.append(np.mean(dffKeepZScored[BegDFF:EndDFF]))"
   ]
  },
  {
   "cell_type": "code",
   "execution_count": 46,
   "id": "e3be3249-db70-4cf3-be1b-bdbb408e3e29",
   "metadata": {
    "ExecuteTime": {
     "end_time": "2024-06-14T12:17:16.293294Z",
     "start_time": "2024-06-14T12:17:16.271323Z"
    }
   },
   "outputs": [
    {
     "ename": "NameError",
     "evalue": "name 'DffWakeZScored' is not defined",
     "output_type": "error",
     "traceback": [
      "\u001B[1;31m---------------------------------------------------------------------------\u001B[0m",
      "\u001B[1;31mNameError\u001B[0m                                 Traceback (most recent call last)",
      "Cell \u001B[1;32mIn[46], line 1\u001B[0m\n\u001B[1;32m----> 1\u001B[0m \u001B[38;5;28mlen\u001B[39m(\u001B[43mDffWakeZScored\u001B[49m)\n",
      "\u001B[1;31mNameError\u001B[0m: name 'DffWakeZScored' is not defined"
     ]
    }
   ],
   "source": [
    "len(DffWakeZScored)"
   ]
  },
  {
   "cell_type": "code",
   "execution_count": 47,
   "id": "f29c5a1d-0814-4f90-8835-a77e60e885df",
   "metadata": {
    "ExecuteTime": {
     "end_time": "2024-06-14T12:17:16.371262Z",
     "start_time": "2024-06-14T12:17:16.354296Z"
    }
   },
   "outputs": [
    {
     "ename": "NameError",
     "evalue": "name 'bKeep' is not defined",
     "output_type": "error",
     "traceback": [
      "\u001B[1;31m---------------------------------------------------------------------------\u001B[0m",
      "\u001B[1;31mNameError\u001B[0m                                 Traceback (most recent call last)",
      "Cell \u001B[1;32mIn[47], line 1\u001B[0m\n\u001B[1;32m----> 1\u001B[0m \u001B[43mbKeep\u001B[49m[\u001B[38;5;241m1291\u001B[39m]\n",
      "\u001B[1;31mNameError\u001B[0m: name 'bKeep' is not defined"
     ]
    }
   ],
   "source": [
    "bKeep[1291]"
   ]
  },
  {
   "cell_type": "code",
   "execution_count": 47,
   "id": "6ac779d6-7e0f-42cf-837e-8410216c222d",
   "metadata": {
    "ExecuteTime": {
     "end_time": "2024-06-14T12:17:16.464306Z",
     "start_time": "2024-06-14T12:17:16.455296Z"
    }
   },
   "outputs": [],
   "source": []
  },
  {
   "cell_type": "code",
   "execution_count": 48,
   "id": "6ec11d4e-6901-4c15-9f5b-d457e7f92b91",
   "metadata": {
    "ExecuteTime": {
     "end_time": "2024-06-14T12:17:16.572261Z",
     "start_time": "2024-06-14T12:17:16.551295Z"
    }
   },
   "outputs": [
    {
     "ename": "NameError",
     "evalue": "name 'REMbouts' is not defined",
     "output_type": "error",
     "traceback": [
      "\u001B[1;31m---------------------------------------------------------------------------\u001B[0m",
      "\u001B[1;31mNameError\u001B[0m                                 Traceback (most recent call last)",
      "Cell \u001B[1;32mIn[48], line 1\u001B[0m\n\u001B[1;32m----> 1\u001B[0m \u001B[38;5;28;01mfor\u001B[39;00m idx, trans \u001B[38;5;129;01min\u001B[39;00m \u001B[38;5;28menumerate\u001B[39m(\u001B[43mREMbouts\u001B[49m):\n\u001B[0;32m      3\u001B[0m     Beg \u001B[38;5;241m=\u001B[39m \u001B[38;5;28mlist\u001B[39m(trans\u001B[38;5;241m.\u001B[39mspan())[\u001B[38;5;241m0\u001B[39m]\n\u001B[0;32m      4\u001B[0m     End \u001B[38;5;241m=\u001B[39m \u001B[38;5;28mlist\u001B[39m(trans\u001B[38;5;241m.\u001B[39mspan())[\u001B[38;5;241m1\u001B[39m] \n",
      "\u001B[1;31mNameError\u001B[0m: name 'REMbouts' is not defined"
     ]
    }
   ],
   "source": [
    "for idx, trans in enumerate(REMbouts):\n",
    "\n",
    "    Beg = list(trans.span())[0]\n",
    "    End = list(trans.span())[1] \n",
    "\n",
    "    print(Beg)\n",
    "    print(End)"
   ]
  },
  {
   "cell_type": "code",
   "execution_count": 49,
   "id": "3cf6fe9e-4628-484a-ac7d-e6e5c1284a8e",
   "metadata": {
    "ExecuteTime": {
     "end_time": "2024-06-14T12:17:16.650292Z",
     "start_time": "2024-06-14T12:17:16.623296Z"
    }
   },
   "outputs": [
    {
     "ename": "NameError",
     "evalue": "name 'lcProj' is not defined",
     "output_type": "error",
     "traceback": [
      "\u001B[1;31m---------------------------------------------------------------------------\u001B[0m",
      "\u001B[1;31mNameError\u001B[0m                                 Traceback (most recent call last)",
      "Cell \u001B[1;32mIn[49], line 1\u001B[0m\n\u001B[1;32m----> 1\u001B[0m \u001B[43mlcProj\u001B[49m\u001B[38;5;241m.\u001B[39mDFFSleepStates\u001B[38;5;241m.\u001B[39mpopulate()\n",
      "\u001B[1;31mNameError\u001B[0m: name 'lcProj' is not defined"
     ]
    }
   ],
   "source": [
    "lcProj.DFFSleepStates.populate()"
   ]
  },
  {
   "cell_type": "code",
   "execution_count": 50,
   "id": "8255c4b6-1944-46ce-bcc7-0a78c3cd65dd",
   "metadata": {
    "ExecuteTime": {
     "end_time": "2024-06-14T12:17:16.743266Z",
     "start_time": "2024-06-14T12:17:16.710294Z"
    }
   },
   "outputs": [
    {
     "ename": "NameError",
     "evalue": "name 'lcProj' is not defined",
     "output_type": "error",
     "traceback": [
      "\u001B[1;31m---------------------------------------------------------------------------\u001B[0m",
      "\u001B[1;31mNameError\u001B[0m                                 Traceback (most recent call last)",
      "Cell \u001B[1;32mIn[50], line 1\u001B[0m\n\u001B[1;32m----> 1\u001B[0m \u001B[43mlcProj\u001B[49m\u001B[38;5;241m.\u001B[39mPerson\u001B[38;5;241m.\u001B[39minsert1([\u001B[38;5;124m'\u001B[39m\u001B[38;5;124mGF\u001B[39m\u001B[38;5;124m'\u001B[39m,\u001B[38;5;124m'\u001B[39m\u001B[38;5;124mgfoustou\u001B[39m\u001B[38;5;124m'\u001B[39m,\u001B[38;5;124m'\u001B[39m\u001B[38;5;124mGeorgios Foustoukos\u001B[39m\u001B[38;5;124m'\u001B[39m],skip_duplicates \u001B[38;5;241m=\u001B[39m \u001B[38;5;28;01mTrue\u001B[39;00m)\n\u001B[0;32m      2\u001B[0m lcProj\u001B[38;5;241m.\u001B[39mWindowCalculationDFFStates\u001B[38;5;241m.\u001B[39minsert([[\u001B[38;5;241m3\u001B[39m],[\u001B[38;5;241m6\u001B[39m]],skip_duplicates \u001B[38;5;241m=\u001B[39m \u001B[38;5;28;01mTrue\u001B[39;00m)\n\u001B[0;32m      3\u001B[0m lcProj\u001B[38;5;241m.\u001B[39mRig\u001B[38;5;241m.\u001B[39minsert([[\u001B[38;5;124m'\u001B[39m\u001B[38;5;124mNeurobau1.26\u001B[39m\u001B[38;5;124m'\u001B[39m,\u001B[38;5;124m'\u001B[39m\u001B[38;5;124mNeurobau1 room 26\u001B[39m\u001B[38;5;124m'\u001B[39m],[\u001B[38;5;124m'\u001B[39m\u001B[38;5;124mNeurobau1.32\u001B[39m\u001B[38;5;124m'\u001B[39m,\u001B[38;5;124m'\u001B[39m\u001B[38;5;124mNeurobau1 room 32\u001B[39m\u001B[38;5;124m'\u001B[39m]],skip_duplicates \u001B[38;5;241m=\u001B[39m \u001B[38;5;28;01mTrue\u001B[39;00m)\n",
      "\u001B[1;31mNameError\u001B[0m: name 'lcProj' is not defined"
     ]
    }
   ],
   "source": [
    "lcProj.Person.insert1(['GF','gfoustou','Georgios Foustoukos'],skip_duplicates = True)\n",
    "lcProj.WindowCalculationDFFStates.insert([[3],[6]],skip_duplicates = True)\n",
    "lcProj.Rig.insert([['Neurobau1.26','Neurobau1 room 26'],['Neurobau1.32','Neurobau1 room 32']],skip_duplicates = True)\n",
    "inject_mice_csv_batch()\n",
    "inject_sessions()\n",
    "lcProj.Hypnogram.populate()\n",
    "lcProj.FibDFF.populate()\n",
    "lcProj.LCPeaks.populate()"
   ]
  },
  {
   "cell_type": "code",
   "execution_count": 51,
   "id": "8db17b74-96ae-4545-a749-b20ed5e949b8",
   "metadata": {
    "ExecuteTime": {
     "end_time": "2024-06-14T12:17:16.821282Z",
     "start_time": "2024-06-14T12:17:16.796277Z"
    }
   },
   "outputs": [
    {
     "ename": "NameError",
     "evalue": "name 'lcProj' is not defined",
     "output_type": "error",
     "traceback": [
      "\u001B[1;31m---------------------------------------------------------------------------\u001B[0m",
      "\u001B[1;31mNameError\u001B[0m                                 Traceback (most recent call last)",
      "Cell \u001B[1;32mIn[51], line 1\u001B[0m\n\u001B[1;32m----> 1\u001B[0m \u001B[43mlcProj\u001B[49m\u001B[38;5;241m.\u001B[39mBaselineSession \u001B[38;5;241m&\u001B[39m \u001B[38;5;124m'\u001B[39m\u001B[38;5;124mmouse_name = \u001B[39m\u001B[38;5;124m\"\u001B[39m\u001B[38;5;124mAMYG03\u001B[39m\u001B[38;5;124m\"\u001B[39m\u001B[38;5;124m'\u001B[39m\n",
      "\u001B[1;31mNameError\u001B[0m: name 'lcProj' is not defined"
     ]
    }
   ],
   "source": [
    "lcProj.BaselineSession & 'mouse_name = \"AMYG03\"'"
   ]
  },
  {
   "cell_type": "code",
   "execution_count": 52,
   "id": "0c2400b2-d1ef-43c9-bc08-d6b0df108f71",
   "metadata": {
    "ExecuteTime": {
     "end_time": "2024-06-14T12:17:16.883265Z",
     "start_time": "2024-06-14T12:17:16.862262Z"
    }
   },
   "outputs": [
    {
     "ename": "NameError",
     "evalue": "name 'lcProj' is not defined",
     "output_type": "error",
     "traceback": [
      "\u001B[1;31m---------------------------------------------------------------------------\u001B[0m",
      "\u001B[1;31mNameError\u001B[0m                                 Traceback (most recent call last)",
      "Cell \u001B[1;32mIn[52], line 1\u001B[0m\n\u001B[1;32m----> 1\u001B[0m dff \u001B[38;5;241m=\u001B[39m (\u001B[43mlcProj\u001B[49m\u001B[38;5;241m.\u001B[39mFibDFF \u001B[38;5;241m&\u001B[39m \u001B[38;5;124m'\u001B[39m\u001B[38;5;124mmouse_name = \u001B[39m\u001B[38;5;124m\"\u001B[39m\u001B[38;5;124mTHAL06\u001B[39m\u001B[38;5;124m\"\u001B[39m\u001B[38;5;124m'\u001B[39m)\u001B[38;5;241m.\u001B[39mfetch1(\u001B[38;5;124m'\u001B[39m\u001B[38;5;124mdff\u001B[39m\u001B[38;5;124m'\u001B[39m)\n\u001B[0;32m      2\u001B[0m time \u001B[38;5;241m=\u001B[39m (lcProj\u001B[38;5;241m.\u001B[39mFibDFF \u001B[38;5;241m&\u001B[39m \u001B[38;5;124m'\u001B[39m\u001B[38;5;124mmouse_name = \u001B[39m\u001B[38;5;124m\"\u001B[39m\u001B[38;5;124mTHAL06\u001B[39m\u001B[38;5;124m\"\u001B[39m\u001B[38;5;124m'\u001B[39m)\u001B[38;5;241m.\u001B[39mfetch1(\u001B[38;5;124m'\u001B[39m\u001B[38;5;124mtimestamps\u001B[39m\u001B[38;5;124m'\u001B[39m)\n",
      "\u001B[1;31mNameError\u001B[0m: name 'lcProj' is not defined"
     ]
    }
   ],
   "source": [
    "dff = (lcProj.FibDFF & 'mouse_name = \"THAL06\"').fetch1('dff')\n",
    "time = (lcProj.FibDFF & 'mouse_name = \"THAL06\"').fetch1('timestamps')"
   ]
  },
  {
   "cell_type": "code",
   "execution_count": 53,
   "id": "3473c14e-4f9d-41dd-8f75-1a275fd4e0cc",
   "metadata": {
    "ExecuteTime": {
     "end_time": "2024-06-14T12:17:17.503818Z",
     "start_time": "2024-06-14T12:17:16.993295Z"
    }
   },
   "outputs": [],
   "source": [
    "from Schema.UsefulFunctions import ElimMA, deltaDynamics, maDynamics, CorrectMirrorAnimals, findPosFromTimestamps"
   ]
  },
  {
   "cell_type": "code",
   "execution_count": 54,
   "id": "43732f89-c0b1-487e-a9c1-6dbc0358140d",
   "metadata": {
    "ExecuteTime": {
     "end_time": "2024-06-14T12:17:17.519818Z",
     "start_time": "2024-06-14T12:17:17.505829Z"
    }
   },
   "outputs": [],
   "source": [
    "bfile = 'wrrrwwwwww'"
   ]
  },
  {
   "cell_type": "code",
   "execution_count": 55,
   "id": "5474ae34-7344-4025-bf57-af5b334751d3",
   "metadata": {
    "ExecuteTime": {
     "end_time": "2024-06-14T12:17:17.535824Z",
     "start_time": "2024-06-14T12:17:17.520819Z"
    }
   },
   "outputs": [],
   "source": [
    "REMbouts = re.finditer('[r3]{3,}',bfile)\n"
   ]
  },
  {
   "cell_type": "code",
   "execution_count": 56,
   "id": "3b72503c-3a67-4768-8613-fc86ca613bd8",
   "metadata": {
    "ExecuteTime": {
     "end_time": "2024-06-14T12:17:17.551862Z",
     "start_time": "2024-06-14T12:17:17.538837Z"
    }
   },
   "outputs": [
    {
     "name": "stdout",
     "output_type": "stream",
     "text": [
      "1\n",
      "3\n"
     ]
    }
   ],
   "source": [
    "for idx, trans in enumerate(REMbouts):\n",
    "    Beg = list(trans.span())[0]\n",
    "    End = list(trans.span())[1] - 1\n",
    "\n",
    "    print(Beg)\n",
    "    print(End)"
   ]
  },
  {
   "cell_type": "code",
   "execution_count": 57,
   "id": "a8c39832-b134-41e0-ac62-fc327d7d5d22",
   "metadata": {
    "ExecuteTime": {
     "end_time": "2024-06-14T12:17:17.676824Z",
     "start_time": "2024-06-14T12:17:17.552862Z"
    }
   },
   "outputs": [
    {
     "ename": "NameError",
     "evalue": "name 'time' is not defined",
     "output_type": "error",
     "traceback": [
      "\u001B[1;31m---------------------------------------------------------------------------\u001B[0m",
      "\u001B[1;31mNameError\u001B[0m                                 Traceback (most recent call last)",
      "Cell \u001B[1;32mIn[57], line 1\u001B[0m\n\u001B[1;32m----> 1\u001B[0m BegDFF \u001B[38;5;241m=\u001B[39m findPosFromTimestamps(\u001B[43mtime\u001B[49m, Beg\u001B[38;5;241m*\u001B[39m\u001B[38;5;241m4\u001B[39m)\n\u001B[0;32m      2\u001B[0m EndDFF \u001B[38;5;241m=\u001B[39m findPosFromTimestamps(time, End\u001B[38;5;241m*\u001B[39m\u001B[38;5;241m4\u001B[39m)\n",
      "\u001B[1;31mNameError\u001B[0m: name 'time' is not defined"
     ]
    }
   ],
   "source": [
    "BegDFF = findPosFromTimestamps(time, Beg*4)\n",
    "EndDFF = findPosFromTimestamps(time, End*4)\n"
   ]
  },
  {
   "cell_type": "code",
   "execution_count": null,
   "id": "fbce22d5-75f2-480f-bea0-04b3cff07dd4",
   "metadata": {
    "ExecuteTime": {
     "start_time": "2024-06-14T12:17:17.678828Z"
    }
   },
   "outputs": [],
   "source": [
    "BegDFF"
   ]
  },
  {
   "cell_type": "code",
   "execution_count": null,
   "id": "57c86902-8dfe-4261-b728-ad482423b4cf",
   "metadata": {
    "ExecuteTime": {
     "start_time": "2024-06-14T12:17:17.679826Z"
    }
   },
   "outputs": [],
   "source": [
    "time[235]"
   ]
  },
  {
   "cell_type": "code",
   "execution_count": null,
   "id": "c558975d-6acb-4e26-bc3c-bc129bf76508",
   "metadata": {
    "ExecuteTime": {
     "start_time": "2024-06-14T12:17:17.680822Z"
    }
   },
   "outputs": [],
   "source": [
    "time[EndDFF-1]"
   ]
  },
  {
   "cell_type": "code",
   "execution_count": null,
   "id": "ff263744-cc9d-4e28-8ccd-fb1c92c4e669",
   "metadata": {
    "ExecuteTime": {
     "start_time": "2024-06-14T12:17:17.681824Z"
    }
   },
   "outputs": [],
   "source": [
    "[BegDFF,EndDFF]"
   ]
  },
  {
   "cell_type": "code",
   "execution_count": null,
   "id": "ad2ecdb3-612e-438c-8451-b7c5c4bdfa1f",
   "metadata": {
    "ExecuteTime": {
     "start_time": "2024-06-14T12:17:17.683830Z"
    }
   },
   "outputs": [],
   "source": [
    "import mat73\n",
    "\n",
    "key = {'mouse_name':\"MHIP03\",\n",
    "       'session_date':\"2023-08-21\"}"
   ]
  },
  {
   "cell_type": "code",
   "execution_count": null,
   "id": "187a1fe0-3398-4649-a393-24a5a90cb963",
   "metadata": {
    "ExecuteTime": {
     "start_time": "2024-06-14T12:17:17.684818Z"
    }
   },
   "outputs": [],
   "source": [
    "\n",
    "key = {'mouse_name':\"AMYG01\",\n",
    "       'session_date':\"2023-11-30\"}"
   ]
  },
  {
   "cell_type": "code",
   "execution_count": null,
   "id": "56181b01-9ee7-4ed5-969c-a8d853104482",
   "metadata": {
    "ExecuteTime": {
     "start_time": "2024-06-14T12:17:17.685819Z"
    }
   },
   "outputs": [],
   "source": [
    "fileToRead = (lcProj.Session & key).fetch1('file_name')"
   ]
  },
  {
   "cell_type": "code",
   "execution_count": null,
   "id": "302a1305-bd86-4be1-8234-77495944410a",
   "metadata": {
    "ExecuteTime": {
     "start_time": "2024-06-14T12:17:17.687827Z"
    }
   },
   "outputs": [],
   "source": [
    "fileToRead = (lcProj.Session & key).fetch1('file_name')\n",
    "fileDff = mat73.loadmat(fileToRead, only_include='dff')"
   ]
  },
  {
   "cell_type": "code",
   "execution_count": null,
   "id": "187c5212-76b5-4ede-b584-d09de3767a91",
   "metadata": {
    "ExecuteTime": {
     "start_time": "2024-06-14T12:17:17.688829Z"
    }
   },
   "outputs": [],
   "source": [
    "lcProj.Mouse & 'mouse_name = \"MHIP06\"'"
   ]
  },
  {
   "cell_type": "code",
   "execution_count": null,
   "id": "0067b25d-39a2-4063-a9d2-0e04f0c4a140",
   "metadata": {
    "ExecuteTime": {
     "start_time": "2024-06-14T12:17:17.689819Z"
    }
   },
   "outputs": [],
   "source": [
    "dffSamples = fileDff['dff'][1,:]"
   ]
  },
  {
   "cell_type": "code",
   "execution_count": 58,
   "id": "c3414e0f-a048-4dc4-86be-f5c54e0756ad",
   "metadata": {
    "ExecuteTime": {
     "end_time": "2024-06-14T12:17:17.819817Z",
     "start_time": "2024-06-14T12:17:17.802856Z"
    }
   },
   "outputs": [
    {
     "ename": "NameError",
     "evalue": "name 'dffSamples' is not defined",
     "output_type": "error",
     "traceback": [
      "\u001B[1;31m---------------------------------------------------------------------------\u001B[0m",
      "\u001B[1;31mNameError\u001B[0m                                 Traceback (most recent call last)",
      "Cell \u001B[1;32mIn[58], line 1\u001B[0m\n\u001B[1;32m----> 1\u001B[0m \u001B[43mdffSamples\u001B[49m\u001B[38;5;241m.\u001B[39mshape\n",
      "\u001B[1;31mNameError\u001B[0m: name 'dffSamples' is not defined"
     ]
    }
   ],
   "source": [
    "dffSamples.shape"
   ]
  },
  {
   "cell_type": "code",
   "execution_count": 59,
   "id": "10165d9f-6536-4035-b2ed-2739cd3860ed",
   "metadata": {
    "ExecuteTime": {
     "end_time": "2024-06-14T12:17:17.850824Z",
     "start_time": "2024-06-14T12:17:17.833818Z"
    }
   },
   "outputs": [
    {
     "ename": "NameError",
     "evalue": "name 'np' is not defined",
     "output_type": "error",
     "traceback": [
      "\u001B[1;31m---------------------------------------------------------------------------\u001B[0m",
      "\u001B[1;31mNameError\u001B[0m                                 Traceback (most recent call last)",
      "Cell \u001B[1;32mIn[59], line 1\u001B[0m\n\u001B[1;32m----> 1\u001B[0m timestamps \u001B[38;5;241m=\u001B[39m \u001B[43mnp\u001B[49m\u001B[38;5;241m.\u001B[39mtranspose(np\u001B[38;5;241m.\u001B[39marange(\u001B[38;5;241m0\u001B[39m,\u001B[38;5;241m12\u001B[39m,\u001B[38;5;241m1\u001B[39m\u001B[38;5;241m/\u001B[39m\u001B[38;5;241m36000\u001B[39m))\n",
      "\u001B[1;31mNameError\u001B[0m: name 'np' is not defined"
     ]
    }
   ],
   "source": [
    "timestamps = np.transpose(np.arange(0,12,1/36000))\n"
   ]
  },
  {
   "cell_type": "code",
   "execution_count": 60,
   "id": "7c6f4277-c878-40f5-b8a7-580980887fc8",
   "metadata": {
    "ExecuteTime": {
     "end_time": "2024-06-14T12:17:17.974849Z",
     "start_time": "2024-06-14T12:17:17.943818Z"
    }
   },
   "outputs": [
    {
     "ename": "NameError",
     "evalue": "name 'timestamps' is not defined",
     "output_type": "error",
     "traceback": [
      "\u001B[1;31m---------------------------------------------------------------------------\u001B[0m",
      "\u001B[1;31mNameError\u001B[0m                                 Traceback (most recent call last)",
      "Cell \u001B[1;32mIn[60], line 1\u001B[0m\n\u001B[1;32m----> 1\u001B[0m \u001B[43mtimestamps\u001B[49m\u001B[38;5;241m.\u001B[39mshape\n",
      "\u001B[1;31mNameError\u001B[0m: name 'timestamps' is not defined"
     ]
    }
   ],
   "source": [
    "timestamps.shape"
   ]
  },
  {
   "cell_type": "code",
   "execution_count": 2,
   "id": "e7a62718-78ee-45d0-9bd3-42e1477c9770",
   "metadata": {
    "tags": [],
    "ExecuteTime": {
     "end_time": "2024-06-17T07:23:23.584991Z",
     "start_time": "2024-06-17T06:07:38.690106Z"
    }
   },
   "outputs": [
    {
     "name": "stdout",
     "output_type": "stream",
     "text": [
      "****\n",
      "E:\\aluthi1\\sleep\\D2c\\PROJECT_Georgios\\LC_Proj_Neurons\\MiceMetaData\n"
     ]
    },
    {
     "name": "stderr",
     "output_type": "stream",
     "text": [
      "1it [00:00, 14.49it/s]\n"
     ]
    },
    {
     "name": "stdout",
     "output_type": "stream",
     "text": [
      "E:\\aluthi1\\sleep\\D2c\\PROJECT_Georgios\\LC_Proj_Neurons\\MiceMetaData\\MiceLCProj.csv\n",
      "Everything is fine.\n",
      "{'mouse_name': 'AMYG01', 'responsible_experimenter': 'Georgios Foustoukos', 'pyrat_id': 25249, 'genotype': 'C57BL/6J', 'gender': 'f', 'birth_date': '19.08.2023', 'licence': '2401.4', 'dg': 2, 'start_date': '30.11.2023', 'age': 10, 'sacrifice_date': '06.02.2024', 'proj_type': 'Amy', 'filename': 'MiceLCProj.csv'}\n",
      "AMYG01 has been ingested.\n",
      "Everything is fine.\n",
      "{'mouse_name': 'AMYG02', 'responsible_experimenter': 'Georgios Foustoukos', 'pyrat_id': 25533, 'genotype': 'C57BL/6J', 'gender': 'm', 'birth_date': '25.10.2023', 'licence': '2401.4', 'dg': 2, 'start_date': '24.01.2024', 'age': 12, 'sacrifice_date': '11.03.2024', 'proj_type': 'Amy', 'filename': 'MiceLCProj.csv'}\n",
      "AMYG02 has been ingested.\n",
      "Everything is fine.\n",
      "{'mouse_name': 'MHIP03', 'responsible_experimenter': 'Georgios Foustoukos', 'pyrat_id': 24813, 'genotype': 'C57BL/6J', 'gender': 'm', 'birth_date': '02.06.2023', 'licence': '2401.4', 'dg': 2, 'start_date': '23.03.2022', 'age': 11, 'sacrifice_date': '01.05.2022', 'proj_type': 'dCA1', 'filename': 'MiceLCProj.csv'}\n",
      "MHIP03 has been ingested.\n",
      "Everything is fine.\n",
      "{'mouse_name': 'MHIP05', 'responsible_experimenter': 'Georgios Foustoukos', 'pyrat_id': 25516, 'genotype': 'C57BL/6J', 'gender': 'm', 'birth_date': '14.10.2023', 'licence': '2401.4', 'dg': 2, 'start_date': '21.08.2023', 'age': 10, 'sacrifice_date': '11.03.2024', 'proj_type': 'dCA1', 'filename': 'MiceLCProj.csv'}\n",
      "MHIP05 has been ingested.\n",
      "Everything is fine.\n",
      "{'mouse_name': 'MHIP06', 'responsible_experimenter': 'Georgios Foustoukos', 'pyrat_id': 25963, 'genotype': 'C57BL/6J', 'gender': 'm', 'birth_date': '14.01.2024', 'licence': '2401.4', 'dg': 2, 'start_date': '17.04.2024', 'age': 12, 'sacrifice_date': 'Ongoing', 'proj_type': 'dCA1', 'filename': 'MiceLCProj.csv'}\n",
      "MHIP06 has been ingested.\n",
      "Everything is fine.\n",
      "{'mouse_name': 'MPC05', 'responsible_experimenter': 'Georgios Foustoukos', 'pyrat_id': 24344, 'genotype': 'C57BL/6J', 'gender': 'm', 'birth_date': '25.03.2023', 'licence': '2401.4', 'dg': 2, 'start_date': '23.03.2022', 'age': 11, 'sacrifice_date': '06.02.2024', 'proj_type': 'mPFC', 'filename': 'MiceLCProj.csv'}\n",
      "MPC05 has been ingested.\n",
      "Everything is fine.\n",
      "{'mouse_name': 'MPC06', 'responsible_experimenter': 'Georgios Foustoukos', 'pyrat_id': 25185, 'genotype': 'C57BL/6J', 'gender': 'm', 'birth_date': '05.08.2023', 'licence': '2401.4', 'dg': 2, 'start_date': '30.11.2023', 'age': 10, 'sacrifice_date': '06.02.2024', 'proj_type': 'mPFC', 'filename': 'MiceLCProj.csv'}\n",
      "MPC06 has been ingested.\n",
      "Everything is fine.\n",
      "{'mouse_name': 'THAL01', 'responsible_experimenter': 'Georgios Foustoukos', 'pyrat_id': 24755, 'genotype': 'C57BL/6J', 'gender': 'm', 'birth_date': '20.05.2023', 'licence': '2401.4', 'dg': 2, 'start_date': '28.03.2022', 'age': 12, 'sacrifice_date': '02.06.2024', 'proj_type': 'Thal', 'filename': 'MiceLCProj.csv'}\n",
      "THAL01 has been ingested.\n",
      "Everything is fine.\n",
      "{'mouse_name': 'THAL02', 'responsible_experimenter': 'Georgios Foustoukos', 'pyrat_id': 25248, 'genotype': 'C57BL/6J', 'gender': 'f', 'birth_date': '19.08.2023', 'licence': '2401.4', 'dg': 2, 'start_date': '30.11.2023', 'age': 16, 'sacrifice_date': '17.01.2024', 'proj_type': 'Thal', 'filename': 'MiceLCProj.csv'}\n",
      "THAL02 has been ingested.\n",
      "Everything is fine.\n",
      "{'mouse_name': 'THAL04', 'responsible_experimenter': 'Georgios Foustoukos', 'pyrat_id': 25537, 'genotype': 'C57BL/6J', 'gender': 'f', 'birth_date': '25.10.2023', 'licence': '2401.4', 'dg': 2, 'start_date': '24.02.2024', 'age': 13, 'sacrifice_date': '11.03.2024', 'proj_type': 'Thal', 'filename': 'MiceLCProj.csv'}\n",
      "THAL04 has been ingested.\n",
      "Everything is fine.\n",
      "{'mouse_name': 'THAL06', 'responsible_experimenter': 'Georgios Foustoukos', 'pyrat_id': 25964, 'genotype': 'C57BL/6J', 'gender': 'm', 'birth_date': '14.01.2024', 'licence': '3947a', 'dg': 2, 'start_date': '15.04.2024', 'age': 12, 'sacrifice_date': 'Ongoing', 'proj_type': 'Thal', 'filename': 'MiceLCProj.csv'}\n",
      "THAL06 has been ingested.\n",
      "Everything is fine.\n",
      "{'mouse_name': 'MPC09', 'responsible_experimenter': 'Georgios Foustoukos', 'pyrat_id': 26200, 'genotype': 'C57BL/6J', 'gender': 'm', 'birth_date': '02.03.2024', 'licence': '3947a', 'dg': 2, 'start_date': '29.05.2024', 'age': 12, 'sacrifice_date': 'Ongoing', 'proj_type': 'mPFC', 'filename': 'MiceLCProj.csv'}\n",
      "MPC09 has been ingested.\n",
      "Everything is fine.\n",
      "{'mouse_name': 'MPC10', 'responsible_experimenter': 'Georgios Foustoukos', 'pyrat_id': 26201, 'genotype': 'C57BL/6J', 'gender': 'm', 'birth_date': '02.03.2024', 'licence': '3947a', 'dg': 2, 'start_date': '29.05.2024', 'age': 12, 'sacrifice_date': 'Ongoing', 'proj_type': 'mPFC', 'filename': 'MiceLCProj.csv'}\n",
      "MPC10 has been ingested.\n"
     ]
    },
    {
     "name": "stderr",
     "output_type": "stream",
     "text": [
      " 36%|███▌      | 5/14 [00:00<00:00, 45.05it/s]"
     ]
    },
    {
     "name": "stdout",
     "output_type": "stream",
     "text": [
      "This is a mouse from the LC and fiber photometry data with projection neurons!\n",
      "----------Mouse: AMYG01----------\n",
      "Loading sessions for mouse: AMYG01\n",
      "This is a mouse from the LC and fiber photometry data with projection neurons!\n",
      "----------Mouse: AMYG02----------\n",
      "Loading sessions for mouse: AMYG02\n",
      "This is a mouse from the LC and fiber photometry data with projection neurons!\n",
      "----------Mouse: AMYG03----------\n",
      "Loading sessions for mouse: AMYG03\n",
      "This is a mouse from the LC and fiber photometry data with projection neurons!\n",
      "----------Mouse: MHIP03----------\n",
      "Loading sessions for mouse: MHIP03\n",
      "This is a mouse from the LC and fiber photometry data with projection neurons!\n",
      "----------Mouse: MHIP05----------\n",
      "Loading sessions for mouse: MHIP05\n",
      "This is a mouse from the LC and fiber photometry data with projection neurons!\n",
      "----------Mouse: MHIP06----------\n",
      "Loading sessions for mouse: MHIP06\n",
      "This is a mouse from the LC and fiber photometry data with projection neurons!\n",
      "----------Mouse: MPC05----------\n",
      "Loading sessions for mouse: MPC05\n",
      "This is a mouse from the LC and fiber photometry data with projection neurons!\n",
      "----------Mouse: MPC06----------\n",
      "Loading sessions for mouse: MPC06\n",
      "This is a mouse from the LC and fiber photometry data with projection neurons!\n",
      "----------Mouse: MPC09----------\n",
      "Loading sessions for mouse: MPC09\n",
      "This is a mouse from the LC and fiber photometry data with projection neurons!\n",
      "----------Mouse: MPC10----------\n"
     ]
    },
    {
     "name": "stderr",
     "output_type": "stream",
     "text": [
      " 71%|███████▏  | 10/14 [00:00<00:00, 31.52it/s]"
     ]
    },
    {
     "name": "stdout",
     "output_type": "stream",
     "text": [
      "Loading sessions for mouse: MPC10\n",
      "This is a mouse from the LC and fiber photometry data with projection neurons!\n",
      "----------Mouse: THAL01----------\n",
      "Loading sessions for mouse: THAL01\n",
      "This is a mouse from the LC and fiber photometry data with projection neurons!\n",
      "----------Mouse: THAL02----------\n",
      "Loading sessions for mouse: THAL02\n",
      "This is a mouse from the LC and fiber photometry data with projection neurons!\n",
      "----------Mouse: THAL04----------\n",
      "Loading sessions for mouse: THAL04\n"
     ]
    },
    {
     "name": "stderr",
     "output_type": "stream",
     "text": [
      "100%|██████████| 14/14 [00:00<00:00, 36.94it/s]"
     ]
    },
    {
     "name": "stdout",
     "output_type": "stream",
     "text": [
      "This is a mouse from the LC and fiber photometry data with projection neurons!\n",
      "----------Mouse: THAL06----------\n",
      "Loading sessions for mouse: THAL06\n"
     ]
    },
    {
     "name": "stderr",
     "output_type": "stream",
     "text": [
      "\n",
      "WARNING:root:Variable \"/states\" was specified to be loaded but could not be found.\n"
     ]
    },
    {
     "name": "stdout",
     "output_type": "stream",
     "text": [
      "Inserting the hypogram of mouse: MPC09 for session: 2024-05-29\n",
      "\\\\nasdcsr.unil.ch\\RECHERCHE\\FAC\\FBM\\DNF\\aluthi1\\fbm_move\\D2c\\_PROJECTS\\PROJECT_Georgios\\LC_Proj_Neurons\\Ephys\\MPC09\\240529_MPC09_12hbas1_bt.mat contains the following vars:\n",
      "  #refs#\n",
      "  Infos\n",
      "  Infos/Configuration\n",
      "  Infos/Configuration/A1\n",
      "  Infos/Configuration/A2\n",
      "  Infos/FileLen\n",
      "  Infos/Fs\n",
      "  Infos/OriginalName\n",
      "  Infos/RecordingDate\n",
      "  b\n",
      "  bTrans\n",
      "  dff\n",
      "  traceName\n",
      "  traces\n"
     ]
    },
    {
     "name": "stderr",
     "output_type": "stream",
     "text": [
      "WARNING:root:Variable \"/states\" was specified to be loaded but could not be found.\n"
     ]
    },
    {
     "name": "stdout",
     "output_type": "stream",
     "text": [
      "--This file is scored\n",
      "Inserting the hypogram of mouse: MPC09 for session: 2024-06-07\n",
      "\\\\nasdcsr.unil.ch\\RECHERCHE\\FAC\\FBM\\DNF\\aluthi1\\fbm_move\\D2c\\_PROJECTS\\PROJECT_Georgios\\LC_Proj_Neurons\\Ephys\\MPC09\\240607_MPC09_12hBas2_bt.mat contains the following vars:\n",
      "  #refs#\n",
      "  Infos\n",
      "  Infos/Configuration\n",
      "  Infos/Configuration/A1\n",
      "  Infos/FileLen\n",
      "  Infos/Fs\n",
      "  Infos/OriginalName\n",
      "  Infos/RecordingDate\n",
      "  b\n",
      "  bTrans\n",
      "  dff\n",
      "  traceName\n",
      "  traces\n"
     ]
    },
    {
     "name": "stderr",
     "output_type": "stream",
     "text": [
      "WARNING:root:Variable \"/states\" was specified to be loaded but could not be found.\n"
     ]
    },
    {
     "name": "stdout",
     "output_type": "stream",
     "text": [
      "--This file is scored\n",
      "Inserting the hypogram of mouse: MPC09 for session: 2024-06-12\n",
      "\\\\nasdcsr.unil.ch\\RECHERCHE\\FAC\\FBM\\DNF\\aluthi1\\fbm_move\\D2c\\_PROJECTS\\PROJECT_Georgios\\LC_Proj_Neurons\\Ephys\\MPC09\\240612_MPC09_4hSSD_bt.mat contains the following vars:\n",
      "  #refs#\n",
      "  Infos\n",
      "  Infos/Configuration\n",
      "  Infos/Configuration/A1\n",
      "  Infos/Configuration/A2\n",
      "  Infos/Configuration/A3\n",
      "  Infos/Configuration/A4\n",
      "  Infos/FileLen\n",
      "  Infos/Fs\n",
      "  Infos/OriginalName\n",
      "  Infos/RecordingDate\n",
      "  b\n",
      "  bTrans\n",
      "  dff\n",
      "  traceName\n",
      "  traces\n",
      "--This file is scored\n",
      "Inserting the DFF of mouse: MPC09 for session: 2024-05-29\n",
      "Inserting the DFF of mouse: MPC09 for session: 2024-06-07\n",
      "Inserting the DFF of mouse: MPC09 for session: 2024-06-12\n",
      "Inserting the DFF of mouse: MPC10 for session: 2024-05-29\n",
      "Computing mouse: MPC09 for session: 2024-05-29\n",
      "Computing the mean DFF for every sleep state during the baseline recordings for the first 3 hours\n",
      "Computing mouse: MPC09 for session: 2024-05-29\n",
      "Computing the mean DFF for every sleep state during the baseline recordings for the first 6 hours\n",
      "Computing mouse: MPC09 for session: 2024-06-07\n",
      "Computing the mean DFF for every sleep state during the baseline recordings for the first 3 hours\n",
      "Computing mouse: MPC09 for session: 2024-06-07\n",
      "Computing the mean DFF for every sleep state during the baseline recordings for the first 6 hours\n",
      "Computing mouse: MPC10 for session: 2024-05-29\n",
      "Computing the mean DFF for every sleep state during the baseline recordings for the first 3 hours\n",
      "Computing mouse: MPC10 for session: 2024-05-29\n",
      "Computing the mean DFF for every sleep state during the baseline recordings for the first 6 hours\n",
      "Computing mouse: MPC09 for session: 2024-05-29\n",
      "Baseline Calculation started!\n",
      "Baseline Calculated!\n",
      "Computing mouse: MPC09 for session: 2024-06-07\n",
      "Baseline Calculation started!\n",
      "Baseline Calculated!\n",
      "Computing mouse: MPC10 for session: 2024-05-29\n",
      "Baseline Calculation started!\n",
      "Baseline Calculated!\n",
      "Computing mouse: THAL01 for session: 2023-08-11\n",
      "Baseline Calculation started!\n",
      "Baseline Calculated!\n",
      "Computing mouse: THAL01 for session: 2023-08-18\n",
      "Baseline Calculation started!\n",
      "Baseline Calculated!\n",
      "Computing mouse: THAL02 for session: 2023-11-30\n",
      "Baseline Calculation started!\n",
      "Baseline Calculated!\n",
      "Computing mouse: THAL02 for session: 2023-12-04\n",
      "Baseline Calculation started!\n",
      "Baseline Calculated!\n",
      "Computing mouse: THAL04 for session: 2024-02-06\n",
      "Baseline Calculation started!\n",
      "Baseline Calculated!\n",
      "Computing mouse: THAL04 for session: 2024-02-14\n",
      "Baseline Calculation started!\n",
      "Baseline Calculated!\n",
      "Computing mouse: THAL06 for session: 2024-04-15\n",
      "Baseline Calculation started!\n",
      "Baseline Calculated!\n",
      "Computing mouse: THAL06 for session: 2024-04-19\n",
      "Baseline Calculation started!\n",
      "Baseline Calculated!\n",
      "Computing mouse: MPC09 for session: 2024-05-29\n",
      "Loading traces---\n",
      "Computing delta---\n",
      "Computing sigma---\n",
      "Computing gamma---\n",
      "Computing mouse: MPC09 for session: 2024-06-07\n",
      "Loading traces---\n",
      "Computing delta---\n",
      "Computing sigma---\n",
      "Computing gamma---\n",
      "Computing mouse: MPC10 for session: 2024-05-29\n",
      "Loading traces---\n",
      "Computing delta---\n",
      "Computing sigma---\n",
      "Computing gamma---\n"
     ]
    }
   ],
   "source": [
    "lcProj.Person.insert1(['GF','gfoustou','Georgios Foustoukos'],skip_duplicates = True)\n",
    "lcProj.WindowCalculationDFFStates.insert([[3],[6]],skip_duplicates = True)\n",
    "lcProj.Rig.insert([['Neurobau1.26','Neurobau1 room 26'],['Neurobau1.32','Neurobau1 room 32']],skip_duplicates = True)\n",
    "inject_mice_csv_batch()\n",
    "inject_sessions()\n",
    "lcProj.Hypnogram.populate()\n",
    "lcProj.FibDFF.populate()\n",
    "lcProj.DFFSleepStates.populate()\n",
    "lcProj.LCPeaks.populate()\n",
    "lcProj.MGT.populate()\n"
   ]
  },
  {
   "cell_type": "code",
   "execution_count": 61,
   "id": "0ac2bf23-0cd8-42b1-a159-a1c0aeb5b591",
   "metadata": {
    "ExecuteTime": {
     "end_time": "2024-06-14T12:17:18.268862Z",
     "start_time": "2024-06-14T12:17:18.252833Z"
    }
   },
   "outputs": [],
   "source": []
  }
 ],
 "metadata": {
  "kernelspec": {
   "display_name": "Python 3 (ipykernel)",
   "language": "python",
   "name": "python3"
  },
  "language_info": {
   "codemirror_mode": {
    "name": "ipython",
    "version": 3
   },
   "file_extension": ".py",
   "mimetype": "text/x-python",
   "name": "python",
   "nbconvert_exporter": "python",
   "pygments_lexer": "ipython3",
   "version": "3.9.18"
  },
  "toc-autonumbering": true,
  "toc-showcode": true
 },
 "nbformat": 4,
 "nbformat_minor": 5
}
