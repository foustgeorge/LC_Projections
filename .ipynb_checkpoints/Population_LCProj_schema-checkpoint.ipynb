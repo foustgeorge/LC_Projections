{
 "cells": [
  {
   "cell_type": "code",
   "execution_count": 1,
   "id": "328c38aa-2ddd-413f-b490-655b270dbeb2",
   "metadata": {
    "tags": []
   },
   "outputs": [
    {
     "name": "stderr",
     "output_type": "stream",
     "text": [
      "[2024-04-19 14:41:05,515][INFO]: Connecting root@130.223.197.5:3305\n",
      "[2024-04-19 14:41:05,561][INFO]: Connected root@130.223.197.5:3305\n"
     ]
    }
   ],
   "source": [
    "import datajoint as dj\n",
    "\n",
    "import numpy as np\n",
    "dj.config[\"enable_python_native_blobs\"] = True\n",
    "dj.config['database.host'] = '130.223.197.5:3305' \n",
    "#dj.config['database.host'] = '127.0.0.1:3305' \n",
    "dj.config['database.user'] = 'root'\n",
    "dj.config['database.password'] = 'dbD9pzum@RifRaf'\n",
    "ConnMessage=dj.conn()\n",
    "\n",
    "import matplotlib.pyplot as plt\n",
    "from numpy.lib.stride_tricks import sliding_window_view\n",
    "from Schema import lcProj\n",
    "from Schema.mouse_inject_lc_proj import inject_mice_csv_batch, inject_sessions\n",
    "all_schemas=dj.list_schemas()\n",
    "\n",
    "import pandas as pd\n",
    "import os"
   ]
  },
  {
   "cell_type": "code",
   "execution_count": 34,
   "id": "7b7308fe-39fc-4982-80c7-c2b6186f2318",
   "metadata": {},
   "outputs": [],
   "source": [
    "import re\n",
    "bfile = 'rnnnr'\n",
    "InterREMbouts = re.finditer('[r3][w1n2]+[r3]', bfile)"
   ]
  },
  {
   "cell_type": "code",
   "execution_count": 35,
   "id": "97d118ca-4707-457d-867b-b9c102a4a4bf",
   "metadata": {},
   "outputs": [
    {
     "name": "stdout",
     "output_type": "stream",
     "text": [
      "nnn\n"
     ]
    }
   ],
   "source": [
    "for idx, trans in enumerate(InterREMbouts):\n",
    "\n",
    "    Beg = list(trans.span())[0] + 1\n",
    "    End = list(trans.span())[1] - 1\n",
    "\n",
    "    print(bfile[Beg:End])"
   ]
  },
  {
   "cell_type": "code",
   "execution_count": 38,
   "id": "1b402a3c-b1f6-4395-b2b2-a4734c5b011c",
   "metadata": {},
   "outputs": [
    {
     "ename": "NameError",
     "evalue": "name 'dff' is not defined",
     "output_type": "error",
     "traceback": [
      "\u001b[1;31m---------------------------------------------------------------------------\u001b[0m",
      "\u001b[1;31mNameError\u001b[0m                                 Traceback (most recent call last)",
      "Cell \u001b[1;32mIn[38], line 1\u001b[0m\n\u001b[1;32m----> 1\u001b[0m \u001b[43mdff\u001b[49m\n",
      "\u001b[1;31mNameError\u001b[0m: name 'dff' is not defined"
     ]
    }
   ],
   "source": [
    "dff"
   ]
  },
  {
   "cell_type": "code",
   "execution_count": 37,
   "id": "54ead036-efdc-49e1-bdb1-525d52586492",
   "metadata": {},
   "outputs": [
    {
     "data": {
      "text/plain": [
       "4"
      ]
     },
     "execution_count": 37,
     "metadata": {},
     "output_type": "execute_result"
    }
   ],
   "source": [
    "End"
   ]
  },
  {
   "cell_type": "code",
   "execution_count": 31,
   "id": "c9f9a833-1c79-4ed9-8018-200d7432a1b9",
   "metadata": {},
   "outputs": [],
   "source": [
    "bInBetween = bfile[Beg:End]\n"
   ]
  },
  {
   "cell_type": "code",
   "execution_count": 32,
   "id": "4cec3610-f3be-4887-92fe-6c3224ee0cd1",
   "metadata": {},
   "outputs": [
    {
     "data": {
      "text/plain": [
       "'nnnnnnwwnnwwnnnnnnnnnn'"
      ]
     },
     "execution_count": 32,
     "metadata": {},
     "output_type": "execute_result"
    }
   ],
   "source": [
    "bInBetween"
   ]
  },
  {
   "cell_type": "code",
   "execution_count": 30,
   "id": "66617ba6-376b-402d-a205-1875e13910cb",
   "metadata": {},
   "outputs": [
    {
     "data": {
      "text/plain": [
       "['nnnnnn', 'nn', 'nnnnnnnnnn']"
      ]
     },
     "execution_count": 30,
     "metadata": {},
     "output_type": "execute_result"
    }
   ],
   "source": [
    "re.findall('[n2]+',bfile[Beg:End])"
   ]
  },
  {
   "cell_type": "code",
   "execution_count": 33,
   "id": "45e2c176-315e-4b5d-b4e0-309a7c9c7aa9",
   "metadata": {},
   "outputs": [
    {
     "name": "stdout",
     "output_type": "stream",
     "text": [
      "nnnnnn\n",
      "nn\n",
      "nnnnnnnnnn\n"
     ]
    }
   ],
   "source": [
    "NremInBetween = re.finditer('[n2]+', bInBetween)\n",
    "\n",
    "for idx, trans in enumerate(NremInBetween):\n",
    "    \n",
    "    Beg = list(trans.span())[0]\n",
    "    End = list(trans.span())[1]\n",
    "\n",
    "    print(bInBetween[Beg:End])\n",
    "    "
   ]
  },
  {
   "cell_type": "code",
   "execution_count": 21,
   "id": "8cde9209-ba13-4abf-8caa-fc0e36670545",
   "metadata": {},
   "outputs": [
    {
     "data": {
      "text/plain": [
       "28"
      ]
     },
     "execution_count": 21,
     "metadata": {},
     "output_type": "execute_result"
    }
   ],
   "source": [
    "list(trans.span())[1]"
   ]
  },
  {
   "cell_type": "code",
   "execution_count": 22,
   "id": "46a5afc4-413b-4a32-baa0-9052b1879eac",
   "metadata": {},
   "outputs": [
    {
     "ename": "NameError",
     "evalue": "name 'b' is not defined",
     "output_type": "error",
     "traceback": [
      "\u001b[1;31m---------------------------------------------------------------------------\u001b[0m",
      "\u001b[1;31mNameError\u001b[0m                                 Traceback (most recent call last)",
      "Cell \u001b[1;32mIn[22], line 1\u001b[0m\n\u001b[1;32m----> 1\u001b[0m \u001b[43mb\u001b[49m[\u001b[38;5;241m28\u001b[39m]\n",
      "\u001b[1;31mNameError\u001b[0m: name 'b' is not defined"
     ]
    }
   ],
   "source": [
    "b[28]"
   ]
  },
  {
   "cell_type": "code",
   "execution_count": 2,
   "id": "464ee109-3dd2-44a2-b819-f4a8af8a8096",
   "metadata": {},
   "outputs": [
    {
     "name": "stdout",
     "output_type": "stream",
     "text": [
      "Computing mouse: AMYG01 for session: 2023-11-30\n",
      "REMs found: 65\n",
      "Computing mouse: AMYG01 for session: 2023-12-11\n",
      "REMs found: 44\n",
      "Computing mouse: AMYG02 for session: 2024-01-16\n",
      "REMs found: 93\n",
      "Computing mouse: AMYG02 for session: 2024-01-18\n",
      "REMs found: 74\n",
      "Computing mouse: AMYG02 for session: 2024-02-06\n",
      "REMs found: 76\n",
      "Computing mouse: AMYG02 for session: 2024-02-14\n",
      "REMs found: 79\n",
      "Computing mouse: MHIP03 for session: 2023-08-21\n",
      "REMs found: 77\n",
      "Computing mouse: MHIP03 for session: 2023-08-23\n",
      "REMs found: 59\n",
      "Computing mouse: MHIP05 for session: 2024-01-16\n",
      "REMs found: 72\n",
      "Computing mouse: MHIP05 for session: 2024-01-18\n",
      "REMs found: 67\n",
      "Computing mouse: MHIP05 for session: 2024-02-06\n",
      "REMs found: 76\n",
      "Computing mouse: MHIP05 for session: 2024-02-08\n",
      "REMs found: 59\n",
      "Computing mouse: MHIP05 for session: 2024-02-14\n",
      "REMs found: 60\n",
      "Computing mouse: MHIP06 for session: 2024-04-17\n",
      "REMs found: 38\n",
      "Computing mouse: MPC05 for session: 2023-08-07\n",
      "REMs found: 77\n",
      "Computing mouse: MPC05 for session: 2023-08-16\n",
      "REMs found: 71\n",
      "Computing mouse: MPC06 for session: 2023-11-30\n",
      "REMs found: 69\n",
      "Computing mouse: MPC06 for session: 2023-12-04\n",
      "REMs found: 65\n",
      "Computing mouse: THAL01 for session: 2023-08-11\n",
      "REMs found: 81\n",
      "Computing mouse: THAL01 for session: 2023-08-18\n",
      "REMs found: 58\n",
      "Computing mouse: THAL02 for session: 2023-11-30\n",
      "REMs found: 57\n",
      "Computing mouse: THAL02 for session: 2023-12-04\n",
      "REMs found: 71\n",
      "Computing mouse: THAL04 for session: 2024-02-06\n",
      "REMs found: 59\n",
      "Computing mouse: THAL04 for session: 2024-02-14\n",
      "REMs found: 50\n",
      "Computing mouse: THAL06 for session: 2024-04-15\n",
      "REMs found: 62\n"
     ]
    }
   ],
   "source": [
    "lcProj.NremRemMeanDFF.populate()"
   ]
  },
  {
   "cell_type": "code",
   "execution_count": 6,
   "id": "20366e99-94e5-4d5a-8276-12671567c83f",
   "metadata": {},
   "outputs": [],
   "source": [
    "A = (lcProj.NremRemMeanDFF & 'mouse_name = \"AMYG01\"' & 'session_date = \"2023-11-30\"').fetch1('during_rem')"
   ]
  },
  {
   "cell_type": "code",
   "execution_count": 7,
   "id": "2b3b066d-335a-4ce0-874c-baa71ecde970",
   "metadata": {},
   "outputs": [
    {
     "data": {
      "text/plain": [
       "(5,)"
      ]
     },
     "execution_count": 7,
     "metadata": {},
     "output_type": "execute_result"
    }
   ],
   "source": [
    "A.shape"
   ]
  },
  {
   "cell_type": "code",
   "execution_count": 4,
   "id": "3f2f3fa8-7e59-43ba-b0a9-5e15cabc98fa",
   "metadata": {},
   "outputs": [
    {
     "data": {
      "image/png": "[encoded data removed]",
      "text/plain": [
       "<Figure size 2000x600 with 4 Axes>"
      ]
     },
     "metadata": {},
     "output_type": "display_data"
    }
   ],
   "source": [
    "mouseListAmyg = [\"AMYG01\",\"AMYG02\"]\n",
    "\n",
    "REMAmyg = []\n",
    "NREMAmyg = []\n",
    "WAKEAmyg = []\n",
    "\n",
    "fig, axes = plt.subplots(1,4, figsize=(20, 6)) # create figure and axes\n",
    "\n",
    "for m in mouseListAmyg:\n",
    "\n",
    "    key = {'mouse_name':m,\n",
    "           'window':3}\n",
    "    \n",
    "    CurrentREMAmyg =  np.mean(np.stack((lcProj.DFFSleepStates & key).fetch('mean_rem_zscored')))\n",
    "    CurrentNREMAmyg =  np.mean(np.stack((lcProj.DFFSleepStates & key).fetch('mean_nrem_zscored')))\n",
    "    CurrentWakeAmyg =  np.mean(np.stack((lcProj.DFFSleepStates & key).fetch('mean_wake_zscored')))\n",
    "    \n",
    "    REMAmyg.append(CurrentREMAmyg)\n",
    "    NREMAmyg.append(CurrentNREMAmyg)\n",
    "    WAKEAmyg.append(CurrentWakeAmyg)\n",
    "\n",
    "dfAmyg = pd.DataFrame({'MouseName':mouseListAmyg, 'Mean_REM': REMAmyg, 'Mean_NREM': NREMAmyg, 'Mean_Wake': WAKEAmyg})\n",
    "boxplotAmyg = dfAmyg.boxplot(column=['Mean_REM', 'Mean_NREM', 'Mean_Wake'], ax = axes[0], \n",
    "                             color=dict(boxes='r', whiskers='r', medians='r', caps='r'),\n",
    "                             showfliers=False)\n",
    "axes[0].set_title('Amyg')\n",
    "axes[0].set_ylabel('Z-scored DFF')\n",
    "\n",
    "mouseListHip = [\"MHIP03\",\"MHIP05\",\"MHIP06\"]\n",
    "\n",
    "REMHip = []\n",
    "NREMHip = []\n",
    "WAKEHip = []\n",
    "\n",
    "for m in mouseListHip:\n",
    "\n",
    "    key = {'mouse_name':m,\n",
    "           'window':3}\n",
    "    \n",
    "    CurrentREMHip =  np.mean(np.stack((lcProj.DFFSleepStates & key).fetch('mean_rem_zscored')))\n",
    "    CurrentNREMHip =  np.mean(np.stack((lcProj.DFFSleepStates & key).fetch('mean_nrem_zscored')))\n",
    "    CurrentWakeHip =  np.mean(np.stack((lcProj.DFFSleepStates & key).fetch('mean_wake_zscored')))\n",
    "    \n",
    "    REMHip.append(CurrentREMHip)\n",
    "    NREMHip.append(CurrentNREMHip)\n",
    "    WAKEHip.append(CurrentWakeHip)\n",
    "\n",
    "dfHip = pd.DataFrame({'MouseName':mouseListHip, 'Mean_REM': REMHip, 'Mean_NREM': NREMHip, 'Mean_Wake': WAKEHip})\n",
    "boxplotHip = dfHip.boxplot(column=['Mean_REM', 'Mean_NREM', 'Mean_Wake'], ax = axes[1],\n",
    "                           color=dict(boxes='b', whiskers='b', medians='b', caps='b'),\n",
    "                           showfliers=False)\n",
    "axes[1].set_title('dCA1')\n",
    "\n",
    "mouseListPfc = [\"MPC05\",\"MPC06\"]\n",
    "\n",
    "REMPfc = []\n",
    "NREMPfc = []\n",
    "WAKEPfc = []\n",
    "\n",
    "for m in mouseListPfc:\n",
    "\n",
    "    key = {'mouse_name':m,\n",
    "           'window':3}\n",
    "    \n",
    "    CurrentREMPfc =  np.mean(np.stack((lcProj.DFFSleepStates & key).fetch('mean_rem_zscored')))\n",
    "    CurrentNREMPfc =  np.mean(np.stack((lcProj.DFFSleepStates & key).fetch('mean_nrem_zscored')))\n",
    "    CurrentWakePfc =  np.mean(np.stack((lcProj.DFFSleepStates & key).fetch('mean_wake_zscored')))\n",
    "    \n",
    "    REMPfc.append(CurrentREMPfc)\n",
    "    NREMPfc.append(CurrentNREMPfc)\n",
    "    WAKEPfc.append(CurrentWakePfc)\n",
    "\n",
    "dfPfc = pd.DataFrame({'MouseName':mouseListPfc, 'Mean_REM': REMPfc, 'Mean_NREM': NREMPfc, 'Mean_Wake': WAKEPfc})\n",
    "boxplotPfc = dfPfc.boxplot(column=['Mean_REM', 'Mean_NREM', 'Mean_Wake'], ax = axes[2],color=dict(boxes='k', whiskers='k', medians='k', caps='k'))\n",
    "axes[2].set_title('mPFC')\n",
    "\n",
    "\n",
    "\n",
    "mouseListThal = [\"THAL01\",\"THAL02\",\"THAL04\",\"THAL06\"]\n",
    "\n",
    "REMThal = []\n",
    "NREMThal = []\n",
    "WAKEThal = []\n",
    "\n",
    "for m in mouseListThal:\n",
    "\n",
    "    key = {'mouse_name':m,\n",
    "           'window':3}\n",
    "    \n",
    "    CurrentREMThal =  np.mean(np.stack((lcProj.DFFSleepStates & key).fetch('mean_rem_zscored')))\n",
    "    CurrentNREMThal =  np.mean(np.stack((lcProj.DFFSleepStates & key).fetch('mean_nrem_zscored')))\n",
    "    CurrentWakeThal =  np.mean(np.stack((lcProj.DFFSleepStates & key).fetch('mean_wake_zscored')))\n",
    "    \n",
    "    REMThal.append(CurrentREMThal)\n",
    "    NREMThal.append(CurrentNREMThal)\n",
    "    WAKEThal.append(CurrentWakeThal)\n",
    "\n",
    "dfThal = pd.DataFrame({'MouseName':mouseListThal, 'Mean_REM': REMThal, 'Mean_NREM': NREMThal, 'Mean_Wake': WAKEThal})\n",
    "boxplotThal = dfThal.boxplot(column=['Mean_REM', 'Mean_NREM', 'Mean_Wake'], ax = axes[3],\n",
    "                             color=dict(boxes='g', whiskers='g', medians='g', caps='g'),\n",
    "                             showfliers=False)\n",
    "axes[3].set_title('Thal')\n",
    "\n",
    "\n",
    "[ax_tmp.set_ylim(-1.5, 1.5) for ax_tmp in axes]\n",
    "\n",
    "plt.tight_layout()\n",
    "\n",
    "\n",
    "pathToNas = (os.sep + os.sep  + 'nasdcsr.unil.ch' + os.sep + 'RECHERCHE' + os.sep + 'FAC' + os.sep + 'FBM' + os.sep + 'DNF' + os.sep + 'aluthi1' + os.sep + 'sleep' + os.sep + 'D2c' +\n",
    "              os.sep + 'PROJECT_Georgios' + os.sep + 'LC_Proj_Neurons' + os.sep + 'Figures' + os.sep)\n",
    "\n",
    "pathToSave=  pathToNas + 'Mean_Levels_SleepStates.pdf'\n",
    "\n",
    "fig.savefig(pathToSave, format='pdf', dpi=1200) \n"
   ]
  },
  {
   "cell_type": "code",
   "execution_count": 66,
   "id": "7b4dc670-1b67-42c8-8296-2e8236e32769",
   "metadata": {},
   "outputs": [],
   "source": [
    "A = []"
   ]
  },
  {
   "cell_type": "code",
   "execution_count": 67,
   "id": "5392c079-9d8a-462c-8c5c-578e3015a52a",
   "metadata": {},
   "outputs": [],
   "source": [
    "B = np.array([1,2,3,4,5,6,7,8])"
   ]
  },
  {
   "cell_type": "code",
   "execution_count": 68,
   "id": "f86d7f33-4207-4010-92ca-846c1f5df301",
   "metadata": {},
   "outputs": [],
   "source": [
    "A.append(B[3:6])"
   ]
  },
  {
   "cell_type": "code",
   "execution_count": 69,
   "id": "958e3741-9122-46af-8f0c-c3fd454c63e6",
   "metadata": {},
   "outputs": [],
   "source": [
    "A.append(B[2:5])"
   ]
  },
  {
   "cell_type": "code",
   "execution_count": 70,
   "id": "9c0c0f23-da7d-4e2b-91a2-c503e4e32c4a",
   "metadata": {},
   "outputs": [
    {
     "data": {
      "text/plain": [
       "array([4, 5, 6, 3, 4, 5])"
      ]
     },
     "execution_count": 70,
     "metadata": {},
     "output_type": "execute_result"
    }
   ],
   "source": [
    "np.concatenate(A)"
   ]
  },
  {
   "cell_type": "code",
   "execution_count": 7,
   "id": "9e1429f4-6906-4cc3-853f-ab2e749ec6d8",
   "metadata": {},
   "outputs": [
    {
     "data": {
      "image/png": "[encoded data removed]",
      "text/plain": [
       "<Figure size 640x480 with 1 Axes>"
      ]
     },
     "metadata": {},
     "output_type": "display_data"
    }
   ],
   "source": [
    "mouseList = [\"MHIP03\",\"MHIP05\",\"MHIP06\"]\n",
    "\n",
    "REM = []\n",
    "NREM = []\n",
    "WAKE = []\n",
    "\n",
    "for m in mouseList:\n",
    "\n",
    "    key = {'mouse_name':m,\n",
    "           'window':3}\n",
    "    \n",
    "    CurrentREM =  np.mean(np.stack((lcProj.DFFSleepStates & key).fetch('mean_rem_zscored')))\n",
    "    CurrentNREM =  np.mean(np.stack((lcProj.DFFSleepStates & key).fetch('mean_nrem_zscored')))\n",
    "    CurrentWake =  np.mean(np.stack((lcProj.DFFSleepStates & key).fetch('mean_wake_zscored')))\n",
    "    \n",
    "    REM.append(CurrentREM)\n",
    "    NREM.append(CurrentNREM)\n",
    "    WAKE.append(CurrentWake)\n",
    "\n",
    "import pandas as pd\n",
    "df = pd.DataFrame({'MouseName':mouseList, 'Mean_REM': REM, 'Mean_NREM': NREM, 'Mean_Wake': WAKE})\n",
    "boxplot = df.boxplot(column=['Mean_REM', 'Mean_NREM', 'Mean_Wake'])\n",
    "plt.ylim(-1.5,1.5)\n",
    "plt.show()"
   ]
  },
  {
   "cell_type": "code",
   "execution_count": null,
   "id": "9a4d1344-0af4-46ea-9072-a0cffcf2bcd7",
   "metadata": {},
   "outputs": [],
   "source": [
    "mouseList = [\"MHIP03\",\"MHIP05\",\"MHIP06\"]\n",
    "\n",
    "REM = []\n",
    "NREM = []\n",
    "WAKE = []\n",
    "\n",
    "for m in mouseList:\n",
    "\n",
    "    key = {'mouse_name':m,\n",
    "           'window':3}\n",
    "    \n",
    "    CurrentREM =  np.mean(np.stack((lcProj.DFFSleepStates & key).fetch('mean_rem_zscored')))\n",
    "    CurrentNREM =  np.mean(np.stack((lcProj.DFFSleepStates & key).fetch('mean_nrem_zscored')))\n",
    "    CurrentWake =  np.mean(np.stack((lcProj.DFFSleepStates & key).fetch('mean_wake_zscored')))\n",
    "    \n",
    "    REM.append(CurrentREM)\n",
    "    NREM.append(CurrentNREM)\n",
    "    WAKE.append(CurrentWake)\n",
    "\n",
    "import pandas as pd\n",
    "df = pd.DataFrame({'MouseName':mouseList, 'Mean_REM': REM, 'Mean_NREM': NREM, 'Mean_Wake': WAKE})\n",
    "boxplot = df.boxplot(column=['Mean_REM', 'Mean_NREM', 'Mean_Wake'])\n",
    "plt.ylim(-1.5,1.5)\n",
    "plt.show()"
   ]
  },
  {
   "cell_type": "code",
   "execution_count": 3,
   "id": "4c189c6b-609a-4f68-ab26-f83387c36021",
   "metadata": {},
   "outputs": [],
   "source": [
    "import pandas as pd\n",
    "df = pd.DataFrame({'MouseName':mouseList, 'Mean_REM': REM, 'Mean_NREM': NREM, 'Mean_Wake': WAKE})"
   ]
  },
  {
   "cell_type": "code",
   "execution_count": 4,
   "id": "8032b68e-21c7-49a9-a2c2-24796b6f1434",
   "metadata": {},
   "outputs": [
    {
     "data": {
      "text/html": [
       "<div>\n",
       "<style scoped>\n",
       "    .dataframe tbody tr th:only-of-type {\n",
       "        vertical-align: middle;\n",
       "    }\n",
       "\n",
       "    .dataframe tbody tr th {\n",
       "        vertical-align: top;\n",
       "    }\n",
       "\n",
       "    .dataframe thead th {\n",
       "        text-align: right;\n",
       "    }\n",
       "</style>\n",
       "<table border=\"1\" class=\"dataframe\">\n",
       "  <thead>\n",
       "    <tr style=\"text-align: right;\">\n",
       "      <th></th>\n",
       "      <th>MouseName</th>\n",
       "      <th>Mean_REM</th>\n",
       "      <th>Mean_NREM</th>\n",
       "      <th>Mean_Wake</th>\n",
       "    </tr>\n",
       "  </thead>\n",
       "  <tbody>\n",
       "    <tr>\n",
       "      <th>0</th>\n",
       "      <td>AMYG01</td>\n",
       "      <td>-1.034732</td>\n",
       "      <td>-0.471593</td>\n",
       "      <td>0.791146</td>\n",
       "    </tr>\n",
       "    <tr>\n",
       "      <th>1</th>\n",
       "      <td>AMYG02</td>\n",
       "      <td>-0.836985</td>\n",
       "      <td>-0.274060</td>\n",
       "      <td>1.018610</td>\n",
       "    </tr>\n",
       "  </tbody>\n",
       "</table>\n",
       "</div>"
      ],
      "text/plain": [
       "  MouseName  Mean_REM  Mean_NREM  Mean_Wake\n",
       "0    AMYG01 -1.034732  -0.471593   0.791146\n",
       "1    AMYG02 -0.836985  -0.274060   1.018610"
      ]
     },
     "execution_count": 4,
     "metadata": {},
     "output_type": "execute_result"
    }
   ],
   "source": [
    "df"
   ]
  },
  {
   "cell_type": "code",
   "execution_count": 8,
   "id": "ec9db923-849e-4e46-b66e-b030363ae4ba",
   "metadata": {},
   "outputs": [
    {
     "data": {
      "image/png": "[encoded data removed]",
      "text/plain": [
       "<Figure size 640x480 with 1 Axes>"
      ]
     },
     "metadata": {},
     "output_type": "display_data"
    }
   ],
   "source": [
    "boxplot = df.boxplot(column=['Mean_REM', 'Mean_NREM', 'Mean_Wake'])\n",
    "plt.show()"
   ]
  },
  {
   "cell_type": "code",
   "execution_count": 51,
   "id": "5c7f116b-43f8-46da-9298-77e5f87d30e0",
   "metadata": {},
   "outputs": [],
   "source": [
    "key = {'mouse_name' : \"AMYG01\",\n",
    "      'session_date':\"2023-11-30\"}\n",
    "\n",
    "\n",
    "bfile = (lcProj.Hypnogram & key).fetch1('bfile')\n",
    "dff = (lcProj.FibDFF & key).fetch1('dff')\n",
    "timestamps = (lcProj.FibDFF & key).fetch1('timestamps')\n",
    "window = 3"
   ]
  },
  {
   "cell_type": "code",
   "execution_count": 64,
   "id": "6a0c4d55-bf5a-4e93-ac92-86270ae6d782",
   "metadata": {},
   "outputs": [
    {
     "name": "stdout",
     "output_type": "stream",
     "text": [
      "1\n",
      "New\n",
      "111wnnnnnnnnnww11nnwnnnnnwwwnnnnnnnnwwnwnnnnnnnwwwwwnnnnwww11111wwwwwwwwwwwwwwwwwwwwwwwwwwwwwwwwwwwwwwwwwwwwwwwwwwwwwwwwwwwwwwwwwwwwwwwwwwwwwwwwwwwwwwwwwwnnnnnnwnnnnnnnnnnnnnnnnnnnnnnnnnnnnwwnnnnnnnnnnnnnnnnnnwwnnnnnnnnnnnnnnnnnnnnnnnnnnnnnnnnnnnnwnnnnnnnnnnnnnnnnnnnnnnnnnnwwnnnnnwwwnnnnnnnnnnnwwnnnnnnnnnnnnnnnnnnnnnnnnnnnnn\n",
      "2952\n",
      "nnnnnnnnn\n",
      "[4227234, 4238097]\n",
      "nnnnn\n",
      "[298607, 302231]\n",
      "nnnnnnnn\n",
      "[305047, 307060]\n",
      "nnnnnnn\n",
      "[308268, 311489]\n",
      "nnnn\n",
      "[313100, 315919]\n",
      "nnnnnn\n",
      "[317931, 319542]\n",
      "nnnnnnnnnnnnnnnnnnnnnnnnnnnn\n",
      "[358986, 361400]\n",
      "nnnnnnnnnnnnnnnnnn\n",
      "[361803, 373072]\n",
      "nnnnnnnnnnnnnnnnnnnnnnnnnnnnnnnnnnnn\n",
      "[373877, 381126]\n",
      "nnnnnnnnnnnnnnnnnnnnnnnnnn\n",
      "[381930, 396429]\n",
      "nnnnn\n",
      "[396830, 407297]\n",
      "nnnnnnnnnnn\n",
      "[408102, 410115]\n",
      "nnnnnnnnnnnnnnnnnnnnnnnnnnnnn\n",
      "[411318, 415747]\n",
      "2\n",
      "New\n",
      "wwwwwwnnnwwnnnnnnnwnnnnnnnnnnnnnnnnwwnnnnnnnnnnnnnnnnnwwwnnnnnnnnnnnnnnnnnnnnnnnnnnnnnnnnnnnnnwwnnnnnnnnnnnnnnnnwwnnnnnnnnnwwwwnnnnnnnnnwnnnnnnnnnwwwnnwnnnnnnnnnnnnnnnnnnnnnnnnnnnnnnnnnnnnnwnnnwnnnnnnnnnnnnnnn\n",
      "4328\n",
      "nnn\n",
      "[416550, 428218]\n",
      "nnnnnnn\n",
      "[437870, 439079]\n",
      "nnnnnnnnnnnnnnnn\n",
      "[439883, 442703]\n",
      "nnnnnnnnnnnnnnnnn\n",
      "[443105, 449547]\n",
      "nnnnnnnnnnnnnnnnnnnnnnnnnnnnnnnnnnnnn\n",
      "[450352, 457196]\n",
      "nnnnnnnnnnnnnnnn\n",
      "[458403, 473301]\n",
      "nnnnnnnnn\n",
      "[474106, 480547]\n",
      "nnnnnnnnn\n",
      "[481351, 484974]\n",
      "nnnnnnnnn\n",
      "[486585, 490213]\n",
      "nnnnnnnnnnnnnnnnnnnnnnnnnnnnnnnnnnnnn\n",
      "[490615, 494241]\n",
      "nnn\n",
      "[496655, 511542]\n",
      "nnnnnnnnnnnnnnn\n",
      "[511944, 513152]\n",
      "3\n",
      "New\n",
      "wwnnnnnnnnnnnnnnnnnnnnnnnnnnnnnnnnnnnnnnnnnnnnnn\n",
      "5180\n",
      "nnnnnnnnnnnnnnnnnnnnnnnnnnnnnnnnnnnnnnnnnnnnnn\n",
      "[513555, 519590]\n",
      "4\n",
      "New\n",
      "wwwwwwnnnnnnnnnnnnnnwnnnnnnnnnnnnnnnnnnnnnnnnnnnnnnnwwwnnnnnnnnnnnnnnnnnwnnnnnnnnnnnwnwnnnnnnnnnnnnn\n",
      "5456\n",
      "nnnnnnnnnnnnnn\n",
      "[522003, 540521]\n",
      "nnnnnnnnnnnnnnnnnnnnnnnnnnnnnnn\n",
      "[551395, 557028]\n",
      "nnnnnnnnnnnnnnnnn\n",
      "[557430, 569911]\n",
      "nnnnnnnnnnn\n",
      "[571119, 577960]\n",
      "nnnnnnnnnnnnn\n",
      "[578363, 582785]\n",
      "5\n",
      "New\n",
      "wwwwnnnnnnwnnnnnnnnnnnnnnnnnnnnnnnnnwwnnnnnnnnnnnnnnnnnwnnnnnnnnnnnnnnn\n",
      "5868\n",
      "nnnnnn\n",
      "[583991, 589221]\n",
      "nnnnnnnnnnnnnnnnnnnnnnnnn\n",
      "[592039, 594453]\n",
      "nnnnnnnnnnnnnnnnn\n",
      "[594855, 604922]\n",
      "nnnnnnnnnnnnnnn\n",
      "[605727, 612569]\n",
      "6\n",
      "New\n",
      "wwwwwnnnnnwww111wwwwwwnnnnnnnnnnnnnwnnnwnnnnnnnnnnnnnnwwwnnnnnnnnnnnnnnwwnnnnnnnnnnnnnnnnnnnnnnwwnnnnnnnnnnnnnnnnnnnnnnnnnnnnnnnnnnn\n",
      "6224\n",
      "nnnnn\n",
      "[612972, 619008]\n",
      "nnnnnnnnnnnnn\n",
      "[628268, 630282]\n",
      "nnn\n",
      "[635113, 640347]\n",
      "nnnnnnnnnnnnnn\n",
      "[640749, 641956]\n",
      "nnnnnnnnnnnnnn\n",
      "[642359, 647995]\n",
      "nnnnnnnnnnnnnnnnnnnnnn\n",
      "[649204, 654840]\n",
      "nnnnnnnnnnnnnnnnnnnnnnnnnnnnnnnnnnn\n",
      "[655645, 664498]\n",
      "7\n",
      "New\n",
      "wwwnnnnnnnnnnnnnnnnnnnnnwwwnnnnnnnnnnnwwwwwnnnnnwnnnnnnnnnnnnnnnnn\n",
      "6768\n",
      "nnnnnnnnnnnnnnnnnnnnn\n",
      "[665303, 679390]\n",
      "nnnnnnnnnnn\n",
      "[682208, 690656]\n",
      "nnnnn\n",
      "[691863, 696295]\n",
      "nnnnnnnnnnnnnnnnn\n",
      "[698308, 700321]\n",
      "8\n",
      "New\n",
      "wwwnnnnnn\n",
      "7060\n",
      "nnnnnn\n",
      "[700723, 707565]\n",
      "9\n",
      "New\n",
      "wwwwwwwwwnnwwwnwnnnnwnnnnnnnnnnnnnwnnnnnnnnnnnwnnnnnnnnnnnnnnnnnnnnnnnnnn\n",
      "7120\n",
      "nnnn\n",
      "[711589, 714005]\n",
      "nnnnnnnnnnnnn\n",
      "[722857, 724467]\n",
      "nnnnnnnnnnn\n",
      "[724870, 730103]\n",
      "nnnnnnnnnnnnnnnnnnnnnnnnnn\n",
      "[730507, 734934]\n",
      "10\n",
      "New\n",
      "wwwwwwwnnnnnnnwnnnnnnnnnnwnnnnnnnnnnnnnwnnnnnnnnnnnnnnnnnnnnnnnnnnnnnnwwnnnnnnnnnnnnnnnnnnnnnnnnnnnwnwnnnnnnnnnnnnnnnwwnnnnnnnnnnnnnnnnnnnnnnnnnnnnnn\n",
      "7528\n",
      "nnnnnnn\n",
      "[735337, 745795]\n",
      "nnnnnnnnnn\n",
      "[760285, 763104]\n",
      "nnnnnnnnnnnnn\n",
      "[763506, 767531]\n",
      "nnnnnnnnnnnnnnnnnnnnnnnnnnnnnn\n",
      "[767934, 773167]\n",
      "nnnnnnnnnnnnnnnnnnnnnnnnnnn\n",
      "[773569, 785638]\n",
      "nnnnnnnnnnnnnnn\n",
      "[786443, 797313]\n",
      "nnnnnnnnnnnnnnnnnnnnnnnnnnnnnn\n",
      "[798522, 804560]\n",
      "11\n",
      "New\n",
      "wwnnnnnnnnwwwnnnnnnnnnnwwnnnnnnnnnnnnnnnnwwnnnnnnnnnnnnnnnnnnnnn\n",
      "8180\n",
      "nnnnnnnn\n",
      "[805368, 817442]\n",
      "nnnnnnnnnn\n",
      "[823885, 827105]\n",
      "nnnnnnnnnnnnnnnn\n",
      "[828311, 832336]\n",
      "nnnnnnnnnnnnnnnnnnnnn\n",
      "[833142, 839580]\n",
      "12\n",
      "New\n",
      "wwwwwwwwwnnnnnnwnnnnnnnnnnnnnnnnnnnnnnwwnnnnnnnnnnnnnnwwwwwnwwwwwwwwwwwwwwwwwwwwwwwwwwwwwwwwwwwwwwwwwwwwwwwwwwwwwwwwwwwwwwwwwwwwwwwwwwwwwwwwwwwwwwwwwwwwwwwwwwwwwwwwwwwwwwwwwwwwwwwwwwwwwwwwwwwwwwwwwwwwwwwwwwwwwwwwwwwwwwwwwwwwwwwwwwwwwwwwwwwwwwwwwwwwwwwwwwwwwwwwwwwwwwwwwwwwwwwwwwwwwwwwwww111wwwwwwwwwwwwwwwwwwwwwwwwwwwwwwwwww111wwwwwwwwwwwwwwwwwwwwwwwwwwwwwwwwwwwwwwwwwwwnwnwwnnnnnnwwnwwnnnnnnnnnnnnnnnnnwwwnnnnnnnnnnnnnnnwwnnwwnnnnnnnnnnnnnnnnnwwnwnnnnnnnnnnnnnnnnwnnnwnnnnnnnnnnnnnnnnnnnnnn\n",
      "8456\n",
      "nnnnnn\n",
      "[840385, 848841]\n",
      "nnnnnnnnnnnnnnnnnnnnnn\n",
      "[854475, 856889]\n",
      "nnnnnnnnnnnnnn\n",
      "[857291, 866144]\n",
      "nnnnnn\n",
      "[866949, 872584]\n",
      "nnnnnnnnnnnnnnnnn\n",
      "[1001794, 1004211]\n",
      "nnnnnnnnnnnnnnn\n",
      "[1006224, 1013068]\n",
      "nnnnnnnnnnnnnnnnn\n",
      "[1014277, 1020317]\n",
      "nnnnnnnnnnnnnnnn\n",
      "[1022730, 1029577]\n",
      "nnn\n",
      "[1031187, 1037624]\n",
      "nnnnnnnnnnnnnnnnnnnnnn\n",
      "[1038028, 1039236]\n",
      "13\n",
      "New\n",
      "wwnnnnnnnnnnww11wnnnnnnnnnnnwnnnnnnnnnnnnnnnnnnnnnnnnnnnn\n",
      "10432\n",
      "nnnnnnnnnn\n",
      "[1039639, 1048488]\n",
      "nnnnnnnnnnn\n",
      "[1050501, 1054526]\n",
      "nnnnnnnnnnnnnnnnnnnnnnnnnnnn\n",
      "[1056538, 1060967]\n",
      "14\n",
      "New\n",
      "1wnnnnnnnnnnnnwwnnnwwwnnnnnnnnnnnnnnnnnnnnnnnnnnnnnnnwnnnnnnnnnnnnnnnnnnnnnnnnnnnnnnnnnnnnnnnnnnnnnnnnnnn\n",
      "10712\n",
      "nnnnnnnnnnnn\n",
      "[1061370, 1072633]\n",
      "nnn\n",
      "[1078670, 1083499]\n",
      "nnnnnnnnnnnnnnnnnnnnnnnnnnnnnnn\n",
      "[1084304, 1085512]\n",
      "nnnnnnnnnnnnnnnnnnnnnnnnnnnnnnnnnnnnnnnnnnnnnnnnnnn\n",
      "[1086719, 1099197]\n",
      "15\n",
      "New\n",
      "wwwwwwwwwwwnnnnnnnnnnnnnnnnnnnnnnnnnnnnnnnnnnnnnnnnnnnnnnnnnnnnnnnnnnnnnnnnnnnnnnnnnnnn\n",
      "11184\n",
      "nnnnnnnnnnnnnnnnnnnnnnnnnnnnnnnnnnnnnnnnnnnnnnnnnnnnnnnnnnnnnnnnnnnnnnnnnnnn\n",
      "[1099600, 1120125]\n",
      "16\n",
      "New\n",
      "11wnnnwwnnnnwnwwnnnnnnnnnnnnnnnnwwnnnnnnnnnnnnnnnnnnnnnwwww1wwwnnnnnnnnnnnnn1wnnnnnnnnnnnnnn\n",
      "11560\n",
      "nnn\n",
      "[1129788, 1160376]\n",
      "nnnn\n",
      "[1164403, 1165611]\n",
      "nnnnnnnnnnnnnnnn\n",
      "[1166417, 1168027]\n",
      "nnnnnnnnnnnnnnnnnnnnn\n",
      "[1169638, 1176078]\n",
      "nnnnnnnnnnnnn\n",
      "[1176884, 1185336]\n",
      "nnnnnnnnnnnnnn\n",
      "[1188558, 1193792]\n",
      "17\n",
      "New\n",
      "wwwnn22nnnn\n",
      "11944\n",
      "nn22nnnn\n",
      "[1194597, 1200233]\n",
      "18\n",
      "New\n",
      "11nnnnnnnn\n",
      "12016\n",
      "nnnnnnnn\n",
      "[1203049, 1206270]\n",
      "19\n",
      "New\n",
      "wwwnnnwnnnnnnnnwwnnnnnnnnwwnnnwnnnnnnnnn11nnnnnnnnnnnnnnnnwwnnnnnnnnnnnnnnn11nnnnnnn1wnnwwnnnnnnnnnnnnn1wwwwwwwwwwwwwwwwwwwwwnnwnnnnnnnnnnnwnnnnnnnnnnnnnnnnnnnnnnnnnnnnnwwnnnnwnnnnnnnnnnwnnnnnnnnnnnnnnnnnnnnnnn\n",
      "12116\n",
      "nnn\n",
      "[1209891, 1213111]\n",
      "nnnnnnnn\n",
      "[1220357, 1221565]\n",
      "nnnnnnnn\n",
      "[1221967, 1225183]\n",
      "nnn\n",
      "[1225988, 1229209]\n",
      "nnnnnnnnn\n",
      "[1230013, 1231219]\n",
      "nnnnnnnnnnnnnnnn\n",
      "[1231621, 1235247]\n",
      "nnnnnnnnnnnnnnn\n",
      "[1236053, 1242496]\n",
      "nnnnnnn\n",
      "[1243300, 1249332]\n",
      "nnnnnnnnnnnnn\n",
      "[1250139, 1252958]\n",
      "nnnnnnnnnnn\n",
      "[1255374, 1260608]\n",
      "nnnnnnnnnnnnnnnnnnnnnnnnnnnnn\n",
      "[1270670, 1275100]\n",
      "nnnn\n",
      "[1275504, 1287178]\n",
      "nnnnnnnnnn\n",
      "[1287983, 1289595]\n",
      "nnnnnnnnnnnnnnnnnnnnnnn\n",
      "[1289998, 1294022]\n",
      "20\n",
      "New\n",
      "wwwnnnnnnnnnnnnnnnnnnnnnnn\n",
      "12980\n",
      "nnnnnnnnnnnnnnnnnnnnnnn\n",
      "[1294423, 1303681]\n",
      "21\n",
      "New\n",
      "wwwnnnwnnnnnnnnnwwnnnwwwwnnnnnnnnwnnnnnnnnnnnnwwnnnnnnnnnnnnnnnnnnnnnnnnnnnnnnnnnnnnnnnnnnnnnnnnnnnnnnnnnnnnnnnnnnnnnwwnnnnnwnnnnnnnwnnnnnnnnnnnnnnnnnnnnnnnnnnnwnnnnnnnnnnnnnnnnnnnnnnnnnnnnnnnwnnnnnnnnnnnnnnnnnnnnnnnnnnnnnwwnnnnnnnwnnnnnnnnnnnnnnnnnnnn\n",
      "13232\n",
      "nnn\n",
      "[1307304, 1316559]\n",
      "nnnnnnnnn\n",
      "[1332654, 1333862]\n",
      "nnn\n",
      "[1334265, 1337889]\n",
      "nnnnnnnn\n",
      "[1338693, 1339901]\n",
      "nnnnnnnnnnnn\n",
      "[1341511, 1344730]\n",
      "nnnnnnnnnnnnnnnnnnnnnnnnnnnnnnnnnnnnnnnnnnnnnnnnnnnnnnnnnnnnnnnnnnnnn\n",
      "[1345133, 1349960]\n",
      "nnnnn\n",
      "[1350768, 1378527]\n",
      "nnnnnnn\n",
      "[1379331, 1381341]\n",
      "nnnnnnnnnnnnnnnnnnnnnnnnnnn\n",
      "[1381743, 1384561]\n",
      "nnnnnnnnnnnnnnnnnnnnnnnnnnnnnnn\n",
      "[1384965, 1395826]\n",
      "nnnnnnnnnnnnnnnnnnnnnnnnnnnnn\n",
      "[1396227, 1408711]\n",
      "nnnnnnn\n",
      "[1409114, 1420786]\n",
      "nnnnnnnnnnnnnnnnnnnn\n",
      "[1421592, 1424410]\n",
      "22\n",
      "New\n",
      "wwwwwnnnnnnnnnnnnnnnnnwwnnnnnnnnnnnnnnnnnnnnnnnnnnnnnnnnnnnnnnnnnnnnnnnnnnn\n",
      "14300\n",
      "nnnnnnnnnnnnnnnnn\n",
      "[1424812, 1432866]\n",
      "nnnnnnnnnnnnnnnnnnnnnnnnnnnnnnnnnnnnnnnnnnnnnnnnnnn\n",
      "[1440918, 1447763]\n",
      "23\n",
      "New\n",
      "wwwwnnnnnnnnnnnnnnnnnnnnnnnnnwwwnnnnnnnnnnnwwnnnnwnnnnnnnnnnnnnwwwwwnnnnnnnwnnnnnnnnnnnnnnnnnnnnnnnnnn\n",
      "14632\n",
      "nnnnnnnnnnnnnnnnnnnnnnnnn\n",
      "[1448568, 1469098]\n",
      "nnnnnnnnnnn\n",
      "[1473931, 1483993]\n",
      "nnnn\n",
      "[1485200, 1489628]\n",
      "nnnnnnnnnnnnn\n",
      "[1490432, 1492041]\n",
      "nnnnnnn\n",
      "[1492443, 1497671]\n",
      "nnnnnnnnnnnnnnnnnnnnnnnnnn\n",
      "[1499683, 1502503]\n",
      "24\n",
      "New\n",
      "wnnnnnwwnn1wnnnnwwwwwwwwwwwwwwnnnnnwwnnnnnnnnnnnnnnnnnnnnnnnnwnnnnnnnnnnnnnnnnnnnnnnnwwnnnnnnnnnnnnnnnnnnnnnnnnnwnnwnwnnnwnnnnnnnnnnn1wwwwwwwwwwwwwwwwwwwwwwwwwwwwwwwwwwwwwwwwwwwwwwwwwwwwwwwwwwwwwwwwwwwwwwww111wwwwwwwwww1111wwwwwwwwwwwwwwwwwwnnnwnnnnnnnnnnnnnnnnnnnnnwwwnnnnwwnnnnnnnnnnnnnwwnnnwwwwwwwnnnnnnnnnnnnnnwwnnnnnnnnnnnwwwwwwnnnnnnnnwnnnnnnnnnnnnnnnnnnnwnnnnnnnnnnnnnnnnnnwwnnnnnnwwwwwwnnnnnnnnnnnnnnnnnnnnnnnnnnnnnnnnnnnnnnnnwwnnnnnnnnnnnnnnnnnnnnnnnnnnnnnnnnnnnnnnnnnnnn\n",
      "15152\n",
      "nnnnn\n",
      "[1502906, 1513367]\n",
      "nnnn\n",
      "[1525041, 1527055]\n",
      "nnnnn\n",
      "[1529471, 1531081]\n",
      "nnnnnnnnnnnnnnnnnnnnnnnn\n",
      "[1536718, 1538730]\n",
      "nnnnnnnnnnnnnnnnnnnnnnn\n",
      "[1539534, 1549190]\n",
      "nnnnnnnnnnnnnnnnnnnnnnnnn\n",
      "[1549592, 1558848]\n",
      "nnn\n",
      "[1559654, 1569712]\n",
      "nnnnnnnnnnn\n",
      "[1572132, 1573339]\n",
      "nnn\n",
      "[1573742, 1578169]\n",
      "nnnnnnnnnnnnnnnnnnnnn\n",
      "[1621637, 1622846]\n",
      "nnnn\n",
      "[1623247, 1631705]\n",
      "nnnnnnnnnnnnn\n",
      "[1632912, 1634523]\n",
      "nnn\n",
      "[1635328, 1640561]\n",
      "nnnnnnnnnnnnnn\n",
      "[1641366, 1642573]\n",
      "nnnnnnnnnnn\n",
      "[1645393, 1651032]\n",
      "nnnnnnnn\n",
      "[1651838, 1656269]\n",
      "nnnnnnnnnnnnnnnnnnn\n",
      "[1658685, 1661904]\n",
      "nnnnnnnnnnnnnnnnnn\n",
      "[1662308, 1669957]\n",
      "nnnnnn\n",
      "[1670360, 1677605]\n",
      "nnnnnnnnnnnnnnnnnnnnnnnnnnnnnnnnnnnnnnnn\n",
      "[1678411, 1680830]\n",
      "nnnnnnnnnnnnnnnnnnnnnnnnnnnnnnnnnnnnnnnnnnnn\n",
      "[1683246, 1699344]\n",
      "25\n",
      "New\n",
      "wwnnnnnnnnnnnnwnnwwnnnnnwwnnnnnnnnwnwwnnnnnnnnnnnnnnnnnnnnnnnnwwwnnnnnnnwwwnnnnnnnnnnnnnnnnnnnnnnn\n",
      "17164\n",
      "nnnnnnnnnnnn\n",
      "[1700150, 1717866]\n",
      "nnnnn\n",
      "[1727925, 1732757]\n",
      "nnnnnnnn\n",
      "[1734768, 1736781]\n",
      "nnnnnnnnnnnnnnnnnnnnnnnn\n",
      "[1737587, 1740807]\n",
      "nnnnnnn\n",
      "[1742418, 1752077]\n",
      "nnnnnnnnnnnnnnnnnnnnnnn\n",
      "[1753285, 1756105]\n",
      "26\n",
      "New\n",
      "wwwnnnnnnnnnnnnnnnnnnnnnnnnwnnnnnnnnnnnnnnn\n",
      "17588\n",
      "nnnnnnnnnnnnnnnnnnnnnnnn\n",
      "[1757312, 1766569]\n",
      "nnnnnnnnnnnnnnn\n",
      "[1770996, 1780652]\n",
      "27\n",
      "New\n",
      "wwwwwnn1nnnnn2nnnnnnnnnwnnnnnnnwnwnnnnnnnnnnnnwnnnnnnnnnnnnnnnnnnnnnnnnnnnnnnnnnnwnnnnnnnnnnnwnnnnnnnnnnnnnnnnnnnnnnn1wwnnnnnwnnnnnnnnnnnnnnnnnnnwwnnnnnnnnnnnnnnnnnnnnnn\n",
      "17900\n",
      "nnnnn2nnnnnnnnn\n",
      "[1781056, 1787090]\n",
      "nnnnnnn\n",
      "[1804390, 1810427]\n",
      "nnnnnnnnnnnn\n",
      "[1810831, 1813647]\n",
      "nnnnnnnnnnnnnnnnnnnnnnnnnnnnnnnnnn\n",
      "[1814855, 1819685]\n",
      "nnnnnnnnnnn\n",
      "[1820088, 1833774]\n",
      "nnnnnnnnnnnnnnnnnnnnnnn\n",
      "[1834176, 1838603]\n",
      "nnnnn\n",
      "[1839006, 1848261]\n",
      "nnnnnnnnnnnnnnnnnnn\n",
      "[1849469, 1851482]\n",
      "nnnnnnnnnnnnnnnnnnnnnn\n",
      "[1851884, 1859536]\n",
      "28\n",
      "New\n",
      "wnnnnnnnnnnnnnnnnnnnnwnnnnnnnnnnnnnnn\n",
      "18608\n",
      "nnnnnnnnnnnnnnnnnnnn\n",
      "[1860341, 1869197]\n",
      "nnnnnnnnnnnnnnn\n",
      "[1872819, 1880871]\n",
      "29\n",
      "New\n",
      "wwwnnnnnnnnnnnnnnnnnwwnnnnnnnwwnnnnnnnnnwnnnnnnnnnnnnnnnnnnnwnnnnnnnnnnnnnnn\n",
      "18784\n",
      "nnnnnnnnnnnnnnnnn\n",
      "[1881273, 1887311]\n",
      "nnnnnnn\n",
      "[1891335, 1898177]\n",
      "nnnnnnnnn\n",
      "[1898981, 1901800]\n",
      "nnnnnnnnnnnnnnnnnnn\n",
      "[1902604, 1906229]\n",
      "nnnnnnnnnnnnnnn\n",
      "[1906632, 1914281]\n",
      "30\n",
      "New\n",
      "wwnnnnnnnnnnnnnnnwwnnnnnnwwnnnnnnnnnwwnnnnnnnnnnnnn\n",
      "19108\n",
      "nnnnnnnnnnnnnnn\n",
      "[1914685, 1920722]\n",
      "nnnnnn\n",
      "[1923540, 1929578]\n",
      "nnnnnnnnn\n",
      "[1930382, 1932796]\n",
      "nnnnnnnnnnnnn\n",
      "[1933602, 1937224]\n",
      "31\n",
      "New\n",
      "wwnnnnnnnnn\n",
      "19340\n",
      "nnnnnnnnn\n",
      "[1938030, 1943264]\n",
      "32\n",
      "New\n",
      "wwwnnnwwnnnwwwwwwwwwwwwwwwwwwwwwwwwwwwwwwwwwwwwwwwwwwwwwwwwwwwwwwwwwwwwwwwwwwwwwwwwwwwwwwwwwwwwwwwwwwwwwwwwwwwwwwwwww111wwwwwwwwwwwwwwwwwwwwwwww111wwwwwwwwwwwwwwwwwwwwwwwwwwwww111wwwwwwwwwww111wwwwwwwwwwwwwwwwwwww111wwwwwwwwwwwwwwwwwwwwwwwwww111wwwwwwwwwwwwwwwwwwwwwwwwwwwwwwwwwwwwwwwwwwwwwwwwwwwwwwwwwwwwwwwwwwwwwwwwwwwwwwwwwwwwwwwwwwwwwwwwwwwwwwwwwwwwwwwwwwwwwwwwwwwwnnnnnnnnnnnnwwwwwnnnnnnnwwwwwwwwwwwwwwwwwwwwwwwwwwwwwwwwwwwwwwwwwwwwwwwwwwwwwwwwwwwwwwwwwwwwwwwwwwwwwwwwwwwwwwwwwwnnwnnnnnnnnnwnnnnnnnnnnnnnn2nnnnnnnnnnnnnnnnnnnnwwnnnnnnnwwwnnnnnnnnnwwnnnnnnnnnnnnnnnnnnnnnnnnnnnnnnnnn1nnnnwnnnnnnnnnnnnnnn11nnnnnnwnnnnnnnnnnnnnnnnnnnnnnnnn\n",
      "19596\n",
      "nnn\n",
      "[1946881, 1950504]\n",
      "nnn\n",
      "[1973039, 1974246]\n",
      "nnnnnnnnnnnn\n",
      "[1975049, 1976259]\n",
      "nnnnnnn\n",
      "[2120371, 2125200]\n",
      "nnnnnnnnn\n",
      "[2127213, 2130031]\n",
      "nnnnnnnnnnnnnn2nnnnnnnnnnnnnnnnnnnn\n",
      "[2167474, 2171096]\n",
      "nnnnnnn\n",
      "[2171498, 2185587]\n",
      "nnnnnnnnn\n",
      "[2186392, 2189209]\n",
      "nnnnnnnnnnnnnnnnnnnnnnnnnnnnnnnnn\n",
      "[2190417, 2194041]\n",
      "nnnn\n",
      "[2194846, 2208138]\n",
      "nnnnnnnnnnnnnnn\n",
      "[2208540, 2210148]\n",
      "nnnnnn\n",
      "[2210550, 2216593]\n",
      "nnnnnnnnnnnnnnnnnnnnnnnnn\n",
      "[2217397, 2219814]\n",
      "33\n",
      "New\n",
      "wwwwnnnn22nnnnnnnnwwnnnnwnnnnnnnnnnnnnnnnnnnnnnnnn1nnnnnnnnnwnnnnnnnnnnnnnnnnnnnnnnnnnnnnnnnnnwwnnnnnnnnnnnnnnnnnnwwnnnnnnnnn111wwwwnnnnnnnnnnnnnnnnnnnnnnnnnnn\n",
      "22236\n",
      "nnnn22nnnnnnnn\n",
      "[2220215, 2230276]\n",
      "nnnn\n",
      "[2239134, 2244766]\n",
      "nnnnnnnnnnnnnnnnnnnnnnnnn\n",
      "[2245571, 2247184]\n",
      "nnnnnnnnn\n",
      "[2247587, 2257654]\n",
      "nnnnnnnnnnnnnnnnnnnnnnnnnnnnnnnnn\n",
      "[2258056, 2261676]\n",
      "nnnnnnnnnnnnnnnnnn\n",
      "[2262080, 2275366]\n",
      "nnnnnnnnn\n",
      "[2276171, 2283415]\n",
      "nnnnnnnnnnnnnnnnnnnnnnnnnnn\n",
      "[2284219, 2287843]\n",
      "34\n",
      "New\n",
      "wwwwnnnnnnnnnnnnnwwnnnnnnnnnnnnnnnnnnnnnnnnwwwwwwwwwwnnnnnnnnnnnnnnnnnnwwnnnnnnnnnnnnnnnnnnnnnnnnnnnnnnnnnnnnwwnnnnwnnnnnnnnnnnnnnnnnnnn\n",
      "22880\n",
      "nnnnnnnnnnnnn\n",
      "[2290664, 2301533]\n",
      "nnnnnnnnnnnnnnnnnnnnnnnn\n",
      "[2303947, 2309180]\n",
      "nnnnnnnnnnnnnnnnnn\n",
      "[2309984, 2319644]\n",
      "nnnnnnnnnnnnnnnnnnnnnnnnnnnnnnnnnnnn\n",
      "[2323667, 2330918]\n",
      "nnnn\n",
      "[2331723, 2346214]\n",
      "nnnnnnnnnnnnnnnnnnnn\n",
      "[2347020, 2348630]\n",
      "35\n",
      "New\n",
      "wwwnnnnnnnnnnnnnnnnnnnnnnnnnnnnn\n",
      "23448\n",
      "nnnnnnnnnnnnnnnnnnnnnnnnnnnnn\n",
      "[2349034, 2357082]\n",
      "36\n",
      "New\n",
      "wwwwnnnnnnnnwnnnnnnwnnnnnnnwnnnnnwwwwwwwwnnnnnnnnnnnnnnnnnnnnnnnnnnnnnnnnnnnnn\n",
      "23608\n",
      "nnnnnnnn\n",
      "[2360708, 2372380]\n",
      "nnnnnn\n",
      "[2377209, 2380433]\n",
      "nnnnnnn\n",
      "[2380835, 2383248]\n",
      "nnnnn\n",
      "[2383651, 2386469]\n",
      "nnnnnnnnnnnnnnnnnnnnnnnnnnnnnnnnnnnnn\n",
      "[2386871, 2388883]\n",
      "37\n",
      "New\n",
      "wnnnnnnnnnnnwnnnnnnnnnnnnnnn\n",
      "23936\n",
      "nnnnnnnnnnn\n",
      "[2392103, 2407000]\n",
      "nnnnnnnnnnnnnnn\n",
      "[2409011, 2413439]\n",
      "38\n",
      "New\n",
      "wnnnnnnnnnnnnnnnnwwnnnnnnnnnwnnnnnnnnnwnnnnnnnnn\n",
      "24068\n",
      "nnnnnnnnnnnnnnnn\n",
      "[2413842, 2419877]\n",
      "nnnnnnnnn\n",
      "[2422291, 2428726]\n",
      "nnnnnnnnn\n",
      "[2429531, 2433157]\n",
      "nnnnnnnnn\n",
      "[2433560, 2437182]\n",
      "39\n",
      "New\n",
      "wwnnnnnnnwwnnnnnnnnnnnnnnnnnnnnnn\n",
      "24316\n",
      "nnnnnnn\n",
      "[2437584, 2441204]\n",
      "nnnnnnnnnnnnnnnnnnnnnn\n",
      "[2447644, 2450462]\n",
      "40\n",
      "New\n",
      "wwwwwwnnnnnwnnnnnnnnnnnnnnnnnwnnnnnnnnnnnnnnnnnnnnnnwnnnnnnnnnnnnnnnnnnnnnnnnnnnnnnnnnnnnnnnnnwwnnnnnnnnnnnnnnnnnnnnnnwnnnnnnnnnnnnnnwwnnnnnnnnnnnnnnnnnnnnnnnnnnnnnnnnnnnnnnn\n",
      "24556\n",
      "nnnnn\n",
      "[2451267, 2460123]\n",
      "nnnnnnnnnnnnnnnnn\n",
      "[2473409, 2475422]\n",
      "nnnnnnnnnnnnnnnnnnnnnn\n",
      "[2475824, 2482667]\n",
      "nnnnnnnnnnnnnnnnnnnnnnnnnnnnnnnnnnnnnnnnn\n",
      "[2483069, 2491922]\n",
      "nnnnnnnnnnnnnnnnnnnnnn\n",
      "[2492325, 2508828]\n",
      "nnnnnnnnnnnnnn\n",
      "[2509634, 2518491]\n",
      "nnnnnnnnnnnnnnnnnnnnnnnnnnnnnnnnnnnnnnn\n",
      "[2518894, 2524533]\n",
      "41\n",
      "New\n",
      "wnnnnnnnnnnnnnnnnnnnnnn11wnnnnnnnnnnnnnnnnnnwnnwnnnnnnnnnnnnnnnnnn\n",
      "25276\n",
      "nnnnnnnnnnnnnnnnnnnnnn\n",
      "[2525338, 2541036]\n",
      "nnnnnnnnnnnnnnnnnn\n",
      "[2543853, 2552707]\n",
      "nnnnnnnnnnnnnnnnnn\n",
      "[2553913, 2561156]\n",
      "42\n",
      "New\n",
      "wwwwwwnnnnnnnwnnnnnnnnwwwwwwwwwwwwwwwwwwnnnnnnnnnnnnnnnnwwnnnnnnnnnnnnnnnwnnnnnnnnnnnnnnnnnnnnnnnnn1wnnnnnnnnnnnnnnnnnnnnnnnnnnnnnnnnnnnnnnnnnnnwwwnnnnnnnnwwnnnnnnnnnnnnnnnnnnnnnnn\n",
      "25588\n",
      "nnnnnnn\n",
      "[2562768, 2570013]\n",
      "nnnnnnnn\n",
      "[2577257, 2580075]\n",
      "nnnnnnnnnnnnnnnn\n",
      "[2580478, 2583697]\n",
      "nnnnnnnnnnnnnnn\n",
      "[2590951, 2597391]\n",
      "nnnnnnnnnnnnnnnnnnnnnnnnn\n",
      "[2598197, 2604233]\n",
      "nnnnnnnnnnnnnnnnnnnnnnnnnnnnnnnnnnnnnnnnnnn\n",
      "[2604635, 2614694]\n",
      "nnnnnnnn\n",
      "[2615497, 2632803]\n",
      "nnnnnnnnnnnnnnnnnnnnnnn\n",
      "[2634011, 2637231]\n",
      "43\n",
      "New\n",
      "wnnnnnnnnnnnnnn\n",
      "26340\n",
      "nnnnnnnnnnnnnn\n",
      "[2638036, 2647294]\n",
      "44\n",
      "New\n",
      "wwwnnnnnnnnwwnnnnnnnnnnnwwnnnnnnnnnnnnnnnwnnnnnnnnnnnnnnnnnnnnnnwnnnnnnnnnnnnnnnnnnnnnnnnnwwnnnnnnnnnnnnwnnnnnnnnnnnnnwwnnnnnnwwnnnnnnnnnnnnwnnnnnnnnnnnnwwnnnnnnnnnnnnnnnnnnnnnwwnnnnnnnnnnnnnwwwwwwwnnnnwwnnnnnnnnnnnnnnnwnnnnnnnnnnnnnnnn\n",
      "26540\n",
      "nnnnnnnn\n",
      "[2650920, 2656556]\n",
      "nnnnnnnnnnn\n",
      "[2671856, 2675079]\n",
      "nnnnnnnnnnnnnnn\n",
      "[2675885, 2680312]\n",
      "nnnnnnnnnnnnnnnnnnnnnn\n",
      "[2681116, 2687154]\n",
      "nnnnnnnnnnnnnnnnnnnnnnnnn\n",
      "[2687557, 2696413]\n",
      "nnnnnnnnnnnn\n",
      "[2696816, 2706880]\n",
      "nnnnnnnnnnnnn\n",
      "[2707686, 2712517]\n",
      "nnnnnn\n",
      "[2712920, 2718153]\n",
      "nnnnnnnnnnnn\n",
      "[2718959, 2721374]\n",
      "nnnnnnnnnnnn\n",
      "[2722178, 2727008]\n",
      "nnnnnnnnnnnnnnnnnnnnn\n",
      "[2727411, 2732241]\n",
      "nnnnnnnnnnnnn\n",
      "[2733047, 2741504]\n",
      "nnnn\n",
      "[2742308, 2747544]\n",
      "nnnnnnnnnnnnnnn\n",
      "[2750365, 2751975]\n",
      "nnnnnnnnnnnnnnnn\n",
      "[2752780, 2758820]\n",
      "45\n",
      "New\n",
      "wwnnnwnnnnwwnnnnnnnnnnnnwnnnnwwwnnnnnnnnnnnnnwnnnnnnnnnnnnnnnnwwnnnnnnnnn\n",
      "27520\n",
      "nnn\n",
      "[2759223, 2765668]\n",
      "nnnn\n",
      "[2770096, 2771302]\n",
      "nnnnnnnnnnnn\n",
      "[2771705, 2773315]\n",
      "nnnn\n",
      "[2774120, 2778950]\n",
      "nnnnnnnnnnnnn\n",
      "[2779352, 2780960]\n",
      "nnnnnnnnnnnnnnnn\n",
      "[2782169, 2787405]\n",
      "nnnnnnnnn\n",
      "[2787808, 2794245]\n",
      "46\n",
      "New\n",
      "wwwwwwwwwwwwwwwwwwwwwwwwwwwwwwwwwwwwwwwwwwwwwwwww111w111wwwwwwwwwwwnnnwnnnnnnnnnnnnnnnnnnnnnnnnnnnnnnnnnnnwnnnnwwnnwwwnnnnnnnnnnnnnnnnnnnnnnnnnnwwnnwwnnnnnnnnnnnnnnnnnnwwnwwwwnnnnnnnnnnnnnnnnnnnnnnnnn\n",
      "27852\n",
      "nnn\n",
      "[2795051, 2798673]\n",
      "nnnnnnnnnnnnnnnnnnnnnnnnnnnnnnnnnnn\n",
      "[2829670, 2830876]\n",
      "nnnn\n",
      "[2831279, 2845366]\n",
      "nnnnnnnnnnnnnnnnnnnnnnnnnn\n",
      "[2845769, 2847381]\n",
      "nnnnnnnnnnnnnnnnnn\n",
      "[2850203, 2860665]\n",
      "nnnnnnnnnnnnnnnnnnnnnnnnn\n",
      "[2863077, 2870318]\n",
      "47\n",
      "New\n",
      "wwnnnnwwnnnnnnnwwwnnnnnnnnnwnnnnnnnnwwnnnnnnnnnnwnnnwnnnnnnnwnnnnnnnnnnwwnnnnnnnnnnnnnnnnnnnnnnnnnnnnnnnnnnwnnnnnnnnnnnnnnnnnnnnnwwwnnnwwnnnnnnnnnwwwnnnnnnnnnnwwnnnnnnnnnnnwwnnwwnnnnnnnnnnnn\n",
      "28752\n",
      "nnnn\n",
      "[2873133, 2883194]\n",
      "nnnnnnn\n",
      "[2894067, 2895676]\n",
      "nnnnnnnnn\n",
      "[2896482, 2899296]\n",
      "nnnnnnnn\n",
      "[2900501, 2904123]\n",
      "nnnnnnnnnn\n",
      "[2904525, 2907747]\n",
      "nnn\n",
      "[2908552, 2912577]\n",
      "nnnnnnn\n",
      "[2912980, 2914185]\n",
      "nnnnnnnnnn\n",
      "[2914586, 2917402]\n",
      "nnnnnnnnnnnnnnnnnnnnnnnnnnnnnnnnnn\n",
      "[2917805, 2921831]\n",
      "nnnnnnnnnnnnnnnnnnnnn\n",
      "[2922636, 2936326]\n",
      "nnn\n",
      "[2936728, 2945180]\n",
      "nnnnnnnnn\n",
      "[2946385, 2947592]\n",
      "nnnnnnnnnn\n",
      "[2948395, 2952017]\n",
      "nnnnnnnnnnn\n",
      "[2953224, 2957248]\n",
      "nnnnnnnnnnnn\n",
      "[2958053, 2962481]\n",
      "48\n",
      "New\n",
      "wwwwwnnnnnnnnnnnnnnnnnnnnnnnnnn\n",
      "29536\n",
      "nnnnnnnnnnnnnnnnnnnnnnnnnn\n",
      "[2964898, 2969726]\n",
      "49\n",
      "New\n",
      "wwwnnnnnnnnnnnwwnnnnnnnn\n",
      "29696\n",
      "nnnnnnnnnnn\n",
      "[2974156, 2984628]\n",
      "nnnnnnnn\n",
      "[2989458, 2993881]\n",
      "50\n",
      "New\n",
      "wwnnnnnnnnnnnnnwwnnnnnnnnwwnnnnnnnnnnnnnnnn\n",
      "29820\n",
      "nnnnnnnnnnnnn\n",
      "[2994685, 2997901]\n",
      "nnnnnnnn\n",
      "[3001522, 3006757]\n",
      "nnnnnnnnnnnnnnnn\n",
      "[3007564, 3010784]\n",
      "51\n",
      "New\n",
      "wwwwnnnwwnnnnwnnwnnnnnnnnnnnn\n",
      "30028\n",
      "nnn\n",
      "[3011588, 3018032]\n",
      "nnnn\n",
      "[3023259, 3024466]\n",
      "nnnnnnnnnnnn\n",
      "[3025272, 3026883]\n",
      "52\n",
      "New\n",
      "wwnnnnnnnnnnnn\n",
      "30164\n",
      "nnnnnnnnnnnn\n",
      "[3028493, 3033322]\n",
      "53\n",
      "New\n",
      "wwnnwnwnnnnnnnnwnwwnnwnnnnwwwwwwwwwwwwwwwwwwwwwwwwwwwwwwwwwwwwwwwwwwwwwwwwwwwwwwwwwwwwwwwwwwwwwwwwwwwwwwwwwwwwwwwwwwwwwwwwwwwwwwwwwwwwwwwwwwwwwwwwwwwwwwwwwwwwwwwwwwww111wwww111wwwwwwwwwwwwwwwwwwwwwwww111wwwwwwwwwwnnnwwn1nnnnnnnnnnnnnnnnnnnnnwwwwwwwwwwwwwwwwwwwwwwwwwwwwwwwwwwwwwwwwwwwwwwwwwwwwwwwwwwwwwwwwwwwwwwwwwwwwwwwwwwwwwwwwwwwwwwwwwwwwwwwwwwwwwwwwww111wwwwwwwwwwwwwwwwwwwwwwwwwwwwwwwwwwwwwwwwwwwwwwwwwnnnnnnnnn11wwwwwwwwwwwwwwwwwwwwwwwwwwwwwwwwwwwwwwwwwwwwwwwwwwwwwwwwwwwwwwwwwwwwwwwwwwwwwwwwwwwwwwwwwwwwwwwwwwnnnnnnnnnnnnwwwwwwwwnnnwwnnnnnnnnnwnnnnnwnnnnnnnnnnnnnnnnnwwnnwnnnnnnnnnnnwwwwnnnnnnnnnnnnnnnnnnnnnnnnwwnnnnnnnnnnnnnwnnnnnnwwnnnnnnnnnnnnnnwwnnnnnnnnnnnnnnnnnnnnnnnnnwwnnnnnnnnnnnnnnnnnnnnnn\n",
      "30272\n",
      "nnnnnnnn\n",
      "[3036140, 3040974]\n",
      "nnnn\n",
      "[3049021, 3052240]\n",
      "nnn\n",
      "[3055057, 3056666]\n",
      "nnnnnnnnnnnnnnnnnnnnn\n",
      "[3131951, 3133158]\n",
      "nnnnnnnnn\n",
      "[3134766, 3143212]\n",
      "nnnnnnnnnnnn\n",
      "[3210028, 3213652]\n",
      "nnn\n",
      "[3253888, 3258717]\n",
      "nnnnnnnnn\n",
      "[3261941, 3263149]\n",
      "nnnnn\n",
      "[3263954, 3267579]\n",
      "nnnnnnnnnnnnnnnnn\n",
      "[3267982, 3269992]\n",
      "nnnnnnnnnnn\n",
      "[3270393, 3277240]\n",
      "nnnnnnnnnnnnnnnnnnnnnnnn\n",
      "[3279252, 3283683]\n",
      "nnnnnnnnnnnnn\n",
      "[3285295, 3294957]\n",
      "nnnnnn\n",
      "[3295763, 3300999]\n",
      "nnnnnnnnnnnnnn\n",
      "[3301402, 3303817]\n",
      "nnnnnnnnnnnnnnnnnnnnnnnnn\n",
      "[3304623, 3310259]\n",
      "nnnnnnnnnnnnnnnnnnnnnn\n",
      "[3311065, 3321126]\n",
      "54\n",
      "New\n",
      "wwwwwwwnnnnnnnnwwnnnnnnnnnwwnnnnnnnnnnnnnnwwnnnnnnnnnnnnnnnnnnnnnnnnnnnnnnnnnnnnnnnnnnnnnwwnnnnnnnnnnnnnnnnnnnnnwnnnnnnnnnnnnnnnnnnnnnnnnnnnnnnnn\n",
      "33192\n",
      "nnnnnnnn\n",
      "[3321929, 3330785]\n",
      "nnnnnnnnn\n",
      "[3342862, 3346080]\n",
      "nnnnnnnnnnnnnn\n",
      "[3346886, 3350508]\n",
      "nnnnnnnnnnnnnnnnnnnnnnnnnnnnnnnnnnnnnnnnnnnnn\n",
      "[3351314, 3356948]\n",
      "nnnnnnnnnnnnnnnnnnnnn\n",
      "[3357752, 3375867]\n",
      "nnnnnnnnnnnnnnnnnnnnnnnnnnnnnnnn\n",
      "[3376673, 3385126]\n",
      "55\n",
      "New\n",
      "wwwwwnnnwwnnnwwnnnnnnnnwwnnnnnwnwnnnnnnnnnnnnwwnnnnnnnnwwnnnwwnnnnnnnnnnnnnnwnnnnnnnnnnnnnnnnnnnnwwnnnnnnnnnnnnnnnnnnwnnnnnnnnnnnnnnwnnnnnnnnnnnnnnnnnwwnnnnnnnnnnnnnnnnnnnnnnnnnnnnnnnnnnnnnn\n",
      "33924\n",
      "nnn\n",
      "[3385529, 3398415]\n",
      "nnn\n",
      "[3415724, 3416932]\n",
      "nnnnnnnn\n",
      "[3417737, 3418945]\n",
      "nnnnn\n",
      "[3419751, 3422972]\n",
      "nnnnnnnnnnnn\n",
      "[3423777, 3425787]\n",
      "nnnnnnnn\n",
      "[3426996, 3431827]\n",
      "nnn\n",
      "[3432632, 3435854]\n",
      "nnnnnnnnnnnnnn\n",
      "[3436660, 3437867]\n",
      "nnnnnnnnnnnnnnnnnnnn\n",
      "[3438673, 3444308]\n",
      "nnnnnnnnnnnnnnnnnn\n",
      "[3444711, 3452760]\n",
      "nnnnnnnnnnnnnn\n",
      "[3453567, 3460808]\n",
      "nnnnnnnnnnnnnnnnn\n",
      "[3461211, 3466844]\n",
      "nnnnnnnnnnnnnnnnnnnnnnnnnnnnnnnnnnnnnn\n",
      "[3467246, 3474091]\n",
      "56\n",
      "New\n",
      "wnwwnnnnnnnnwnnnnnnnnnnnwwwwnnnnnnnnnnnnnnnnnnnnnwwwwwwwwwwnnnnnwwwnnnwwnnnnnnnnnnnnnnnnnnnnnn\n",
      "34696\n",
      "nnnnnnnn\n",
      "[3474897, 3490189]\n",
      "nnnnnnnnnnn\n",
      "[3493007, 3496227]\n",
      "nnnnnnnnnnnnnnnnnnnnn\n",
      "[3496629, 3501057]\n",
      "nnnnn\n",
      "[3502668, 3511126]\n",
      "nnn\n",
      "[3515151, 3517165]\n",
      "nnnnnnnnnnnnnnnnnnnnnn\n",
      "[3518374, 3519581]\n",
      "57\n",
      "New\n",
      "wwnnnnnnnnnwwwnnnnnnnnnnnnnnnnwnnnnnnnnnnnwnnnnnnnnnwnnnnnnnnnnnnnnnnnnnnnnnnnnnnnnnnnnnnwwnnnnnnnnnnnnnnnnnnnnnnnnn\n",
      "35192\n",
      "nnnnnnnnn\n",
      "[3520386, 3529244]\n",
      "nnnnnnnnnnnnnnnn\n",
      "[3542131, 3545756]\n",
      "nnnnnnnnnnn\n",
      "[3546962, 3553401]\n",
      "nnnnnnnnn\n",
      "[3553805, 3558238]\n",
      "nnnnnnnnnnnnnnnnnnnnnnnnnnnnnnnnnnnn\n",
      "[3558642, 3562268]\n",
      "nnnnnnnnnnnnnnnnnnnnnnnnn\n",
      "[3562670, 3577161]\n",
      "58\n",
      "New\n",
      "wwnnnnnwnnnnnwwnnnnnnnnnnnnnnnwnnnnnnnnnnnnnnnnnnnnnnnnwnwwwnnnnnnnnnnnwwwnnnnnnnnwwwnnnnnnnnnnnnnnnn\n",
      "35676\n",
      "nnnnn\n",
      "[3577965, 3588031]\n",
      "nnnnn\n",
      "[3590849, 3592861]\n",
      "nnnnnnnnnnnnnnn\n",
      "[3593265, 3595275]\n",
      "nnnnnnnnnnnnnnnnnnnnnnnn\n",
      "[3596080, 3602120]\n",
      "nnnnnnnnnnn\n",
      "[3602522, 3612185]\n",
      "nnnnnnnn\n",
      "[3614199, 3618624]\n",
      "nnnnnnnnnnnnnnnn\n",
      "[3619829, 3623047]\n",
      "59\n",
      "New\n",
      "wwwwwwnnnnnnwwwwwwwnnnnnnnnnnnnnnnnnnnnnnnnnnnnnnnnnnnnnnn\n",
      "36104\n",
      "nnnnnn\n",
      "[3624252, 3630690]\n",
      "nnnnnnnnnnnnnnnnnnnnnnnnnnnnnnnnnnnnnnn\n",
      "[3635525, 3637940]\n",
      "60\n",
      "New\n",
      "wwwwwwwwww111nnnnnnnnnnnnnnnwwnnnnnnnnnnnnnnnnnnnnnnnnnnnnnnnnnnnnnnnnnnnnnwwnnnnnnnnnnnnnnnnnnnnnnnnnnwwnnnnnnnnnnnnnnnnnnnnnnnnnnnnnnnnwwwnnnnnnnnnnwwwwnnnnnnwwwwnnnwwnnnnnnnnnnnnnnnwwwwwwwwwnnnnnnnnnnnnnnnnnnnnnnwwwwwwwwwwwwwwwwwwwwwwww111wwwwwwwwwwwwwwwwwwwwwwwwwwwwwwwwwwwwwwwwwwwwwwwwwwwwwwwwwwwwwwwwwwwwwwwwwwwwwwwwwwwwwwwwwwwwwwwwwwwwwwwwwwwwwwwwwwwwwwwwwwwwwwwwwwwwwwwwwwww111wwwwwwwwww111wwwwwwwwwwwwwwwwwwwwwwwwwwwwwwwwwwwwwwwwwwwwwwwwwwwwwwwwwwwwwwwwwwwwwwwwwwwwwwwwwwwwwwwwwwwwwwwwwwwwwwwwwwwwwwwwwwwwwwwwwwwwwwwwwwwwwwwwwwwwwwwwwwwwwwwwwwwwwwwwwwwwwwwwwwwwwwwwwwwwwwwwwwwwwwwwwwwwwwwwwwwwwwwwwwwwwwwwwwwwwwwwwwwwwwwwwwwwwwwwwwwwwwwwwwwwwwwwwwwwwwwnnn11wwwwwwwwwwwwwwwwwwwwwnnnwwnnnnnnnnnnnnnnnnnnnnnnnnnnnnnnnnnnwnnnnnnnnnnnnwwwwwwwwwwwwwn1nnnnnnnnnnnnnnnnnnnnnnnnnwwnnnnnnnnnnnnnnnnnnwwnnnnnnnnnnnnnnnnnnnnnnnnnnnnwn1nnnnnnnnnnnnnnnnnnnnnnwwnnnnwwwwwnnnnnnnnnnnnnnnnnnnwwwnnnnnnnnnnnnnnnnnnnnnn\n",
      "36464\n",
      "nnnnnnnnnnnnnnn\n",
      "[3640759, 3656454]\n",
      "nnnnnnnnnnnnnnnnnnnnnnnnnnnnnnnnnnnnnnnnnnnnn\n",
      "[3674563, 3680600]\n",
      "nnnnnnnnnnnnnnnnnnnnnnnnnn\n",
      "[3681407, 3699528]\n",
      "nnnnnnnnnnnnnnnnnnnnnnnnnnnnnnnn\n",
      "[3700331, 3710800]\n",
      "nnnnnnnnnn\n",
      "[3711605, 3724492]\n",
      "nnnnnn\n",
      "[3725697, 3729723]\n",
      "nnn\n",
      "[3731331, 3733748]\n",
      "nnnnnnnnnnnnnnn\n",
      "[3735360, 3736567]\n",
      "nnnnnnnnnnnnnnnnnnnnnn\n",
      "[3737373, 3743408]\n",
      "nnn\n",
      "[3747031, 3755884]\n",
      "nnn\n",
      "[3935394, 3936600]\n",
      "nnnnnnnnnnnnnnnnnnnnnnnnnnnnnnnnnn\n",
      "[3945859, 3947068]\n",
      "nnnnnnnnnnnn\n",
      "[3947874, 3961545]\n",
      "nnnnnnnnnnnnnnnnnnnnnnnnn\n",
      "[3961949, 3966777]\n",
      "nnnnnnnnnnnnnnnnnn\n",
      "[3972817, 3982883]\n",
      "nnnnnnnnnnnnnnnnnnnnnnnnnnnn\n",
      "[3983688, 3990934]\n",
      "nnnnnnnnnnnnnnnnnnnnnn\n",
      "[3991736, 4003007]\n",
      "nnnn\n",
      "[4004213, 4013068]\n",
      "nnnnnnnnnnnnnnnnnnn\n",
      "[4013873, 4015485]\n",
      "nnnnnnnnnnnnnnnnnnnnnn\n",
      "[4017495, 4025139]\n",
      "61\n",
      "New\n",
      "wwnnnnnwnnnnnnnwnwwnnnnn2nnnnnnnnnnnnnnnnnnnnnnnnwwnnnnnnnnnnnnnnnnnwnnnnnnnnnnnwwwnnnnnnwwnnnnnnnnnnnnn\n",
      "40152\n",
      "nnnnn\n",
      "[4026343, 4035201]\n",
      "nnnnnnn\n",
      "[4041242, 4043253]\n",
      "nnnnn2nnnnnnnnnnnnnnnnnnnnnnnn\n",
      "[4043656, 4046470]\n",
      "nnnnnnnnnnnnnnnnn\n",
      "[4048080, 4060161]\n",
      "nnnnnnnnnnn\n",
      "[4060965, 4067810]\n",
      "nnnnnn\n",
      "[4068213, 4072641]\n",
      "nnnnnnnnnnnnn\n",
      "[4073849, 4076263]\n",
      "62\n",
      "New\n",
      "wwwwnnnnnnnnnnwwnnnnnnnnnnnwwnnnnnnnnnnnnnnwwwnnnnnnnnnwnnnnnnnnnnnnnnnnnnnnnnnnnnnnn\n",
      "40616\n",
      "nnnnnnnnnn\n",
      "[4077068, 4082302]\n",
      "nnnnnnnnnnn\n",
      "[4088745, 4092771]\n",
      "nnnnnnnnnnnnnn\n",
      "[4093576, 4098005]\n",
      "nnnnnnnnn\n",
      "[4098810, 4104444]\n",
      "nnnnnnnnnnnnnnnnnnnnnnnnnnnnn\n",
      "[4105651, 4109273]\n",
      "63\n",
      "New\n",
      "wwnnnnnnnnnnnnnnnnnnnnnnwnnnnnnnnnnnnnnnnnnnnnnnnnnnnnnnnnnwwnnnnnnnnnnnnnnnnnnnnwwwnnnnnnnnnnnnnnnnnnnnnnnnn\n",
      "41036\n",
      "nnnnnnnnnnnnnnnnnnnnnn\n",
      "[4109676, 4121349]\n",
      "nnnnnnnnnnnnnnnnnnnnnnnnnnnnnnnnnn\n",
      "[4130206, 4139058]\n",
      "nnnnnnnnnnnnnnnnnnnn\n",
      "[4139462, 4153160]\n",
      "nnnnnnnnnnnnnnnnnnnnnnnnn\n",
      "[4153965, 4162024]\n",
      "64\n",
      "New\n",
      "wwwnnnnnnnnnnnnnnwwnnnnnnnnnnnnnnnnnnnnnnnnn\n",
      "41488\n",
      "nnnnnnnnnnnnnn\n",
      "[4163233, 4173293]\n",
      "nnnnnnnnnnnnnnnnnnnnnnnnn\n",
      "[4176113, 4181750]\n",
      "65\n",
      "New\n",
      "wwwwnnnnwwnnnnnnnnnnnnnnnnnnnnnnnnnnnnnwwwnnnnnnnnnwwnnnnnnwwnnnwwnnnnnnnnnnnnnnnnnnnnnnnnnnn\n",
      "41744\n",
      "nnnn\n",
      "[4182554, 4192617]\n",
      "nnnnnnnnnnnnnnnnnnnnnnnnnnnnn\n",
      "[4202280, 4203891]\n",
      "nnnnnnnnn\n",
      "[4204697, 4216368]\n",
      "nnnnnn\n",
      "[4217574, 4221197]\n",
      "nnn\n",
      "[4222002, 4224416]\n",
      "nnnnnnnnnnnnnnnnnnnnnnnnnnn\n",
      "[4225223, 4226431]\n"
     ]
    }
   ],
   "source": [
    "from Schema.UsefulFunctions import ElimMA, deltaDynamics, maDynamics, CorrectMirrorAnimals, findPosFromTimestamps,binning\n",
    "\n",
    "InterREMbouts = re.finditer('[r3][w1n2]+[r3]', bfile)\n",
    "\n",
    "DffInterREMAll = []\n",
    "\n",
    "i = 0 \n",
    "\n",
    "for idx, trans in enumerate(InterREMbouts):\n",
    "\n",
    "    i = i + 1\n",
    "\n",
    "    print(i)\n",
    "\n",
    "    DffInterREM = []\n",
    "\n",
    "    Beg = list(trans.span())[0] + 1\n",
    "    End = list(trans.span())[1] - 1\n",
    "\n",
    "    bInBetween = bfile[Beg:End]\n",
    "\n",
    "    print('New')\n",
    "    print(bInBetween)\n",
    "\n",
    "    NremInBetween = re.finditer('[n2]{3,}', bInBetween)\n",
    "\n",
    "\n",
    "    BegDFF = Beg * 4\n",
    "\n",
    "    print(BegDFF)\n",
    "\n",
    "    for idx, trans in enumerate(NremInBetween):\n",
    "\n",
    "        BegNREM = list(trans.span())[0]\n",
    "        EndNREM = list(trans.span())[1]\n",
    "\n",
    "        print(bInBetween[BegNREM:EndNREM])\n",
    "        print([BegDFFNREM,EndDFFNREM])\n",
    "\n",
    "        BegDFFNREM = findPosFromTimestamps(timestamps, BegDFF + (BegNREM*4))\n",
    "        EndDFFNREM = findPosFromTimestamps(timestamps, BegDFF + (EndNREM*4))\n",
    "\n",
    "        DffInterREM.append(dff[BegDFFNREM:EndDFFNREM])\n",
    "\n",
    "    DffInterREM = np.concatenate(DffInterREM)\n",
    "\n",
    "    DffInterREMZscored = ((DffInterREM  - np.mean(DffInterREM)) / np.std(DffInterREM))\n",
    "\n",
    "    DffInterREMZscoredBinned = binning(DffInterREMZscored)\n",
    "\n",
    "    DffInterREMAll.append(DffInterREMZscoredBinned)\n",
    "\n",
    "    DffInterREMAllBinned = np.array(DffInterREMAll)\n"
   ]
  },
  {
   "cell_type": "code",
   "execution_count": 65,
   "id": "08d8c702-f298-46f5-ad90-94ae743c1f9f",
   "metadata": {},
   "outputs": [
    {
     "data": {
      "text/plain": [
       "(31390,)"
      ]
     },
     "execution_count": 65,
     "metadata": {},
     "output_type": "execute_result"
    }
   ],
   "source": [
    " DffInterREM.shape"
   ]
  },
  {
   "cell_type": "code",
   "execution_count": 41,
   "id": "2248a4e9-5fdd-463e-8421-476269916028",
   "metadata": {},
   "outputs": [
    {
     "name": "stdout",
     "output_type": "stream",
     "text": [
      "111wnnnnnnnnnww11nnwnnnnnwwwnnnnnnnnwwnwnnnnnnnwwwwwnnnnwww11111wwwwwwwwwwwwwwwwwwwwwwwwwwwwwwwwwwwwwwwwwwwwwwwwwwwwwwwwwwwwwwwwwwwwwwwwwwwwwwwwwwwwwwwwwwnnnnnnwnnnnnnnnnnnnnnnnnnnnnnnnnnnnwwnnnnnnnnnnnnnnnnnnwwnnnnnnnnnnnnnnnnnnnnnnnnnnnnnnnnnnnnwnnnnnnnnnnnnnnnnnnnnnnnnnnwwnnnnnwwwnnnnnnnnnnnwwnnnnnnnnnnnnnnnnnnnnnnnnnnnnn\n",
      "wwwwwwnnnwwnnnnnnnwnnnnnnnnnnnnnnnnwwnnnnnnnnnnnnnnnnnwwwnnnnnnnnnnnnnnnnnnnnnnnnnnnnnnnnnnnnnwwnnnnnnnnnnnnnnnnwwnnnnnnnnnwwwwnnnnnnnnnwnnnnnnnnnwwwnnwnnnnnnnnnnnnnnnnnnnnnnnnnnnnnnnnnnnnnwnnnwnnnnnnnnnnnnnnn\n",
      "wwnnnnnnnnnnnnnnnnnnnnnnnnnnnnnnnnnnnnnnnnnnnnnn\n",
      "wwwwwwnnnnnnnnnnnnnnwnnnnnnnnnnnnnnnnnnnnnnnnnnnnnnnwwwnnnnnnnnnnnnnnnnnwnnnnnnnnnnnwnwnnnnnnnnnnnnn\n",
      "wwwwnnnnnnwnnnnnnnnnnnnnnnnnnnnnnnnnwwnnnnnnnnnnnnnnnnnwnnnnnnnnnnnnnnn\n",
      "wwwwwnnnnnwww111wwwwwwnnnnnnnnnnnnnwnnnwnnnnnnnnnnnnnnwwwnnnnnnnnnnnnnnwwnnnnnnnnnnnnnnnnnnnnnnwwnnnnnnnnnnnnnnnnnnnnnnnnnnnnnnnnnnn\n",
      "wwwnnnnnnnnnnnnnnnnnnnnnwwwnnnnnnnnnnnwwwwwnnnnnwnnnnnnnnnnnnnnnnn\n",
      "wwwnnnnnn\n",
      "wwwwwwwwwnnwwwnwnnnnwnnnnnnnnnnnnnwnnnnnnnnnnnwnnnnnnnnnnnnnnnnnnnnnnnnnn\n",
      "wwwwwwwnnnnnnnwnnnnnnnnnnwnnnnnnnnnnnnnwnnnnnnnnnnnnnnnnnnnnnnnnnnnnnnwwnnnnnnnnnnnnnnnnnnnnnnnnnnnwnwnnnnnnnnnnnnnnnwwnnnnnnnnnnnnnnnnnnnnnnnnnnnnnn\n",
      "wwnnnnnnnnwwwnnnnnnnnnnwwnnnnnnnnnnnnnnnnwwnnnnnnnnnnnnnnnnnnnnn\n",
      "wwwwwwwwwnnnnnnwnnnnnnnnnnnnnnnnnnnnnnwwnnnnnnnnnnnnnnwwwwwnwwwwwwwwwwwwwwwwwwwwwwwwwwwwwwwwwwwwwwwwwwwwwwwwwwwwwwwwwwwwwwwwwwwwwwwwwwwwwwwwwwwwwwwwwwwwwwwwwwwwwwwwwwwwwwwwwwwwwwwwwwwwwwwwwwwwwwwwwwwwwwwwwwwwwwwwwwwwwwwwwwwwwwwwwwwwwwwwwwwwwwwwwwwwwwwwwwwwwwwwwwwwwwwwwwwwwwwwwwwwwwwwwww111wwwwwwwwwwwwwwwwwwwwwwwwwwwwwwwwww111wwwwwwwwwwwwwwwwwwwwwwwwwwwwwwwwwwwwwwwwwwwnwnwwnnnnnnwwnwwnnnnnnnnnnnnnnnnnwwwnnnnnnnnnnnnnnnwwnnwwnnnnnnnnnnnnnnnnnwwnwnnnnnnnnnnnnnnnnwnnnwnnnnnnnnnnnnnnnnnnnnnn\n",
      "wwnnnnnnnnnnww11wnnnnnnnnnnnwnnnnnnnnnnnnnnnnnnnnnnnnnnnn\n",
      "1wnnnnnnnnnnnnwwnnnwwwnnnnnnnnnnnnnnnnnnnnnnnnnnnnnnnwnnnnnnnnnnnnnnnnnnnnnnnnnnnnnnnnnnnnnnnnnnnnnnnnnnn\n",
      "wwwwwwwwwwwnnnnnnnnnnnnnnnnnnnnnnnnnnnnnnnnnnnnnnnnnnnnnnnnnnnnnnnnnnnnnnnnnnnnnnnnnnnn\n",
      "11wnnnwwnnnnwnwwnnnnnnnnnnnnnnnnwwnnnnnnnnnnnnnnnnnnnnnwwww1wwwnnnnnnnnnnnnn1wnnnnnnnnnnnnnn\n",
      "wwwnn22nnnn\n",
      "11nnnnnnnn\n",
      "wwwnnnwnnnnnnnnwwnnnnnnnnwwnnnwnnnnnnnnn11nnnnnnnnnnnnnnnnwwnnnnnnnnnnnnnnn11nnnnnnn1wnnwwnnnnnnnnnnnnn1wwwwwwwwwwwwwwwwwwwwwnnwnnnnnnnnnnnwnnnnnnnnnnnnnnnnnnnnnnnnnnnnnwwnnnnwnnnnnnnnnnwnnnnnnnnnnnnnnnnnnnnnnn\n",
      "wwwnnnnnnnnnnnnnnnnnnnnnnn\n",
      "wwwnnnwnnnnnnnnnwwnnnwwwwnnnnnnnnwnnnnnnnnnnnnwwnnnnnnnnnnnnnnnnnnnnnnnnnnnnnnnnnnnnnnnnnnnnnnnnnnnnnnnnnnnnnnnnnnnnnwwnnnnnwnnnnnnnwnnnnnnnnnnnnnnnnnnnnnnnnnnnwnnnnnnnnnnnnnnnnnnnnnnnnnnnnnnnwnnnnnnnnnnnnnnnnnnnnnnnnnnnnnwwnnnnnnnwnnnnnnnnnnnnnnnnnnnn\n",
      "wwwwwnnnnnnnnnnnnnnnnnwwnnnnnnnnnnnnnnnnnnnnnnnnnnnnnnnnnnnnnnnnnnnnnnnnnnn\n",
      "wwwwnnnnnnnnnnnnnnnnnnnnnnnnnwwwnnnnnnnnnnnwwnnnnwnnnnnnnnnnnnnwwwwwnnnnnnnwnnnnnnnnnnnnnnnnnnnnnnnnnn\n",
      "wnnnnnwwnn1wnnnnwwwwwwwwwwwwwwnnnnnwwnnnnnnnnnnnnnnnnnnnnnnnnwnnnnnnnnnnnnnnnnnnnnnnnwwnnnnnnnnnnnnnnnnnnnnnnnnnwnnwnwnnnwnnnnnnnnnnn1wwwwwwwwwwwwwwwwwwwwwwwwwwwwwwwwwwwwwwwwwwwwwwwwwwwwwwwwwwwwwwwwwwwwwwww111wwwwwwwwww1111wwwwwwwwwwwwwwwwwwnnnwnnnnnnnnnnnnnnnnnnnnnwwwnnnnwwnnnnnnnnnnnnnwwnnnwwwwwwwnnnnnnnnnnnnnnwwnnnnnnnnnnnwwwwwwnnnnnnnnwnnnnnnnnnnnnnnnnnnnwnnnnnnnnnnnnnnnnnnwwnnnnnnwwwwwwnnnnnnnnnnnnnnnnnnnnnnnnnnnnnnnnnnnnnnnnwwnnnnnnnnnnnnnnnnnnnnnnnnnnnnnnnnnnnnnnnnnnnn\n",
      "wwnnnnnnnnnnnnwnnwwnnnnnwwnnnnnnnnwnwwnnnnnnnnnnnnnnnnnnnnnnnnwwwnnnnnnnwwwnnnnnnnnnnnnnnnnnnnnnnn\n",
      "wwwnnnnnnnnnnnnnnnnnnnnnnnnwnnnnnnnnnnnnnnn\n",
      "wwwwwnn1nnnnn2nnnnnnnnnwnnnnnnnwnwnnnnnnnnnnnnwnnnnnnnnnnnnnnnnnnnnnnnnnnnnnnnnnnwnnnnnnnnnnnwnnnnnnnnnnnnnnnnnnnnnnn1wwnnnnnwnnnnnnnnnnnnnnnnnnnwwnnnnnnnnnnnnnnnnnnnnnn\n",
      "wnnnnnnnnnnnnnnnnnnnnwnnnnnnnnnnnnnnn\n",
      "wwwnnnnnnnnnnnnnnnnnwwnnnnnnnwwnnnnnnnnnwnnnnnnnnnnnnnnnnnnnwnnnnnnnnnnnnnnn\n",
      "wwnnnnnnnnnnnnnnnwwnnnnnnwwnnnnnnnnnwwnnnnnnnnnnnnn\n",
      "wwnnnnnnnnn\n",
      "wwwnnnwwnnnwwwwwwwwwwwwwwwwwwwwwwwwwwwwwwwwwwwwwwwwwwwwwwwwwwwwwwwwwwwwwwwwwwwwwwwwwwwwwwwwwwwwwwwwwwwwwwwwwwwwwwwwww111wwwwwwwwwwwwwwwwwwwwwwww111wwwwwwwwwwwwwwwwwwwwwwwwwwwww111wwwwwwwwwww111wwwwwwwwwwwwwwwwwwww111wwwwwwwwwwwwwwwwwwwwwwwwww111wwwwwwwwwwwwwwwwwwwwwwwwwwwwwwwwwwwwwwwwwwwwwwwwwwwwwwwwwwwwwwwwwwwwwwwwwwwwwwwwwwwwwwwwwwwwwwwwwwwwwwwwwwwwwwwwwwwwwwwwwwwwnnnnnnnnnnnnwwwwwnnnnnnnwwwwwwwwwwwwwwwwwwwwwwwwwwwwwwwwwwwwwwwwwwwwwwwwwwwwwwwwwwwwwwwwwwwwwwwwwwwwwwwwwwwwwwwwwwnnwnnnnnnnnnwnnnnnnnnnnnnnn2nnnnnnnnnnnnnnnnnnnnwwnnnnnnnwwwnnnnnnnnnwwnnnnnnnnnnnnnnnnnnnnnnnnnnnnnnnnn1nnnnwnnnnnnnnnnnnnnn11nnnnnnwnnnnnnnnnnnnnnnnnnnnnnnnn\n",
      "wwwwnnnn22nnnnnnnnwwnnnnwnnnnnnnnnnnnnnnnnnnnnnnnn1nnnnnnnnnwnnnnnnnnnnnnnnnnnnnnnnnnnnnnnnnnnwwnnnnnnnnnnnnnnnnnnwwnnnnnnnnn111wwwwnnnnnnnnnnnnnnnnnnnnnnnnnnn\n",
      "wwwwnnnnnnnnnnnnnwwnnnnnnnnnnnnnnnnnnnnnnnnwwwwwwwwwwnnnnnnnnnnnnnnnnnnwwnnnnnnnnnnnnnnnnnnnnnnnnnnnnnnnnnnnnwwnnnnwnnnnnnnnnnnnnnnnnnnn\n",
      "wwwnnnnnnnnnnnnnnnnnnnnnnnnnnnnn\n",
      "wwwwnnnnnnnnwnnnnnnwnnnnnnnwnnnnnwwwwwwwwnnnnnnnnnnnnnnnnnnnnnnnnnnnnnnnnnnnnn\n",
      "wnnnnnnnnnnnwnnnnnnnnnnnnnnn\n",
      "wnnnnnnnnnnnnnnnnwwnnnnnnnnnwnnnnnnnnnwnnnnnnnnn\n",
      "wwnnnnnnnwwnnnnnnnnnnnnnnnnnnnnnn\n",
      "wwwwwwnnnnnwnnnnnnnnnnnnnnnnnwnnnnnnnnnnnnnnnnnnnnnnwnnnnnnnnnnnnnnnnnnnnnnnnnnnnnnnnnnnnnnnnnwwnnnnnnnnnnnnnnnnnnnnnnwnnnnnnnnnnnnnnwwnnnnnnnnnnnnnnnnnnnnnnnnnnnnnnnnnnnnnnn\n",
      "wnnnnnnnnnnnnnnnnnnnnnn11wnnnnnnnnnnnnnnnnnnwnnwnnnnnnnnnnnnnnnnnn\n",
      "wwwwwwnnnnnnnwnnnnnnnnwwwwwwwwwwwwwwwwwwnnnnnnnnnnnnnnnnwwnnnnnnnnnnnnnnnwnnnnnnnnnnnnnnnnnnnnnnnnn1wnnnnnnnnnnnnnnnnnnnnnnnnnnnnnnnnnnnnnnnnnnnwwwnnnnnnnnwwnnnnnnnnnnnnnnnnnnnnnnn\n",
      "wnnnnnnnnnnnnnn\n",
      "wwwnnnnnnnnwwnnnnnnnnnnnwwnnnnnnnnnnnnnnnwnnnnnnnnnnnnnnnnnnnnnnwnnnnnnnnnnnnnnnnnnnnnnnnnwwnnnnnnnnnnnnwnnnnnnnnnnnnnwwnnnnnnwwnnnnnnnnnnnnwnnnnnnnnnnnnwwnnnnnnnnnnnnnnnnnnnnnwwnnnnnnnnnnnnnwwwwwwwnnnnwwnnnnnnnnnnnnnnnwnnnnnnnnnnnnnnnn\n",
      "wwnnnwnnnnwwnnnnnnnnnnnnwnnnnwwwnnnnnnnnnnnnnwnnnnnnnnnnnnnnnnwwnnnnnnnnn\n",
      "wwwwwwwwwwwwwwwwwwwwwwwwwwwwwwwwwwwwwwwwwwwwwwwww111w111wwwwwwwwwwwnnnwnnnnnnnnnnnnnnnnnnnnnnnnnnnnnnnnnnnwnnnnwwnnwwwnnnnnnnnnnnnnnnnnnnnnnnnnnwwnnwwnnnnnnnnnnnnnnnnnnwwnwwwwnnnnnnnnnnnnnnnnnnnnnnnnn\n",
      "wwnnnnwwnnnnnnnwwwnnnnnnnnnwnnnnnnnnwwnnnnnnnnnnwnnnwnnnnnnnwnnnnnnnnnnwwnnnnnnnnnnnnnnnnnnnnnnnnnnnnnnnnnnwnnnnnnnnnnnnnnnnnnnnnwwwnnnwwnnnnnnnnnwwwnnnnnnnnnnwwnnnnnnnnnnnwwnnwwnnnnnnnnnnnn\n",
      "wwwwwnnnnnnnnnnnnnnnnnnnnnnnnnn\n",
      "wwwnnnnnnnnnnnwwnnnnnnnn\n",
      "wwnnnnnnnnnnnnnwwnnnnnnnnwwnnnnnnnnnnnnnnnn\n",
      "wwwwnnnwwnnnnwnnwnnnnnnnnnnnn\n",
      "wwnnnnnnnnnnnn\n",
      "wwnnwnwnnnnnnnnwnwwnnwnnnnwwwwwwwwwwwwwwwwwwwwwwwwwwwwwwwwwwwwwwwwwwwwwwwwwwwwwwwwwwwwwwwwwwwwwwwwwwwwwwwwwwwwwwwwwwwwwwwwwwwwwwwwwwwwwwwwwwwwwwwwwwwwwwwwwwwwwwwwwwww111wwww111wwwwwwwwwwwwwwwwwwwwwwww111wwwwwwwwwwnnnwwn1nnnnnnnnnnnnnnnnnnnnnwwwwwwwwwwwwwwwwwwwwwwwwwwwwwwwwwwwwwwwwwwwwwwwwwwwwwwwwwwwwwwwwwwwwwwwwwwwwwwwwwwwwwwwwwwwwwwwwwwwwwwwwwwwwwwwwww111wwwwwwwwwwwwwwwwwwwwwwwwwwwwwwwwwwwwwwwwwwwwwwwwwnnnnnnnnn11wwwwwwwwwwwwwwwwwwwwwwwwwwwwwwwwwwwwwwwwwwwwwwwwwwwwwwwwwwwwwwwwwwwwwwwwwwwwwwwwwwwwwwwwwwwwwwwwwwnnnnnnnnnnnnwwwwwwwwnnnwwnnnnnnnnnwnnnnnwnnnnnnnnnnnnnnnnnwwnnwnnnnnnnnnnnwwwwnnnnnnnnnnnnnnnnnnnnnnnnwwnnnnnnnnnnnnnwnnnnnnwwnnnnnnnnnnnnnnwwnnnnnnnnnnnnnnnnnnnnnnnnnwwnnnnnnnnnnnnnnnnnnnnnn\n",
      "wwwwwwwnnnnnnnnwwnnnnnnnnnwwnnnnnnnnnnnnnnwwnnnnnnnnnnnnnnnnnnnnnnnnnnnnnnnnnnnnnnnnnnnnnwwnnnnnnnnnnnnnnnnnnnnnwnnnnnnnnnnnnnnnnnnnnnnnnnnnnnnnn\n",
      "wwwwwnnnwwnnnwwnnnnnnnnwwnnnnnwnwnnnnnnnnnnnnwwnnnnnnnnwwnnnwwnnnnnnnnnnnnnnwnnnnnnnnnnnnnnnnnnnnwwnnnnnnnnnnnnnnnnnnwnnnnnnnnnnnnnnwnnnnnnnnnnnnnnnnnwwnnnnnnnnnnnnnnnnnnnnnnnnnnnnnnnnnnnnnn\n",
      "wnwwnnnnnnnnwnnnnnnnnnnnwwwwnnnnnnnnnnnnnnnnnnnnnwwwwwwwwwwnnnnnwwwnnnwwnnnnnnnnnnnnnnnnnnnnnn\n",
      "wwnnnnnnnnnwwwnnnnnnnnnnnnnnnnwnnnnnnnnnnnwnnnnnnnnnwnnnnnnnnnnnnnnnnnnnnnnnnnnnnnnnnnnnnwwnnnnnnnnnnnnnnnnnnnnnnnnn\n",
      "wwnnnnnwnnnnnwwnnnnnnnnnnnnnnnwnnnnnnnnnnnnnnnnnnnnnnnnwnwwwnnnnnnnnnnnwwwnnnnnnnnwwwnnnnnnnnnnnnnnnn\n",
      "wwwwwwnnnnnnwwwwwwwnnnnnnnnnnnnnnnnnnnnnnnnnnnnnnnnnnnnnnn\n",
      "wwwwwwwwww111nnnnnnnnnnnnnnnwwnnnnnnnnnnnnnnnnnnnnnnnnnnnnnnnnnnnnnnnnnnnnnwwnnnnnnnnnnnnnnnnnnnnnnnnnnwwnnnnnnnnnnnnnnnnnnnnnnnnnnnnnnnnwwwnnnnnnnnnnwwwwnnnnnnwwwwnnnwwnnnnnnnnnnnnnnnwwwwwwwwwnnnnnnnnnnnnnnnnnnnnnnwwwwwwwwwwwwwwwwwwwwwwww111wwwwwwwwwwwwwwwwwwwwwwwwwwwwwwwwwwwwwwwwwwwwwwwwwwwwwwwwwwwwwwwwwwwwwwwwwwwwwwwwwwwwwwwwwwwwwwwwwwwwwwwwwwwwwwwwwwwwwwwwwwwwwwwwwwwwwwwwwwww111wwwwwwwwww111wwwwwwwwwwwwwwwwwwwwwwwwwwwwwwwwwwwwwwwwwwwwwwwwwwwwwwwwwwwwwwwwwwwwwwwwwwwwwwwwwwwwwwwwwwwwwwwwwwwwwwwwwwwwwwwwwwwwwwwwwwwwwwwwwwwwwwwwwwwwwwwwwwwwwwwwwwwwwwwwwwwwwwwwwwwwwwwwwwwwwwwwwwwwwwwwwwwwwwwwwwwwwwwwwwwwwwwwwwwwwwwwwwwwwwwwwwwwwwwwwwwwwwwwwwwwwwwwwwwwwwwnnn11wwwwwwwwwwwwwwwwwwwwwnnnwwnnnnnnnnnnnnnnnnnnnnnnnnnnnnnnnnnnwnnnnnnnnnnnnwwwwwwwwwwwwwn1nnnnnnnnnnnnnnnnnnnnnnnnnwwnnnnnnnnnnnnnnnnnnwwnnnnnnnnnnnnnnnnnnnnnnnnnnnnwn1nnnnnnnnnnnnnnnnnnnnnnwwnnnnwwwwwnnnnnnnnnnnnnnnnnnnwwwnnnnnnnnnnnnnnnnnnnnnn\n",
      "wwnnnnnwnnnnnnnwnwwnnnnn2nnnnnnnnnnnnnnnnnnnnnnnnwwnnnnnnnnnnnnnnnnnwnnnnnnnnnnnwwwnnnnnnwwnnnnnnnnnnnnn\n",
      "wwwwnnnnnnnnnnwwnnnnnnnnnnnwwnnnnnnnnnnnnnnwwwnnnnnnnnnwnnnnnnnnnnnnnnnnnnnnnnnnnnnnn\n",
      "wwnnnnnnnnnnnnnnnnnnnnnnwnnnnnnnnnnnnnnnnnnnnnnnnnnnnnnnnnnwwnnnnnnnnnnnnnnnnnnnnwwwnnnnnnnnnnnnnnnnnnnnnnnnn\n",
      "wwwnnnnnnnnnnnnnnwwnnnnnnnnnnnnnnnnnnnnnnnnn\n",
      "wwwwnnnnwwnnnnnnnnnnnnnnnnnnnnnnnnnnnnnwwwnnnnnnnnnwwnnnnnnwwnnnwwnnnnnnnnnnnnnnnnnnnnnnnnnnn\n"
     ]
    }
   ],
   "source": [
    "for idx, trans in enumerate(InterREMbouts):\n",
    "\n",
    "    DffInterREM = []\n",
    "\n",
    "    Beg = list(trans.span())[0] + 1\n",
    "    End = list(trans.span())[1] - 1\n",
    "\n",
    "    bInBetween = bfile[Beg:End]\n",
    "\n",
    "    print(bInBetween)"
   ]
  },
  {
   "cell_type": "code",
   "execution_count": 44,
   "id": "5510d316-9ec8-49bc-aee2-2a3dbf6fdb03",
   "metadata": {},
   "outputs": [
    {
     "data": {
      "text/plain": [
       "'wwwwnnnnwwnnnnnnnnnnnnnnnnnnnnnnnnnnnnnwwwnnnnnnnnnwwnnnnnnwwnnnwwnnnnnnnnnnnnnnnnnnnnnnnnnnn'"
      ]
     },
     "execution_count": 44,
     "metadata": {},
     "output_type": "execute_result"
    }
   ],
   "source": [
    "bInBetween"
   ]
  },
  {
   "cell_type": "code",
   "execution_count": 45,
   "id": "29abfbd6-6d0e-4354-ab0e-6cc54f979578",
   "metadata": {},
   "outputs": [],
   "source": [
    "NremInBetween = re.finditer('[n2]+', bInBetween)"
   ]
  },
  {
   "cell_type": "code",
   "execution_count": 46,
   "id": "6a12593c-8a76-4ea4-90c1-39b8a8c5c313",
   "metadata": {},
   "outputs": [],
   "source": [
    "\n",
    "NremInBetweenFlag = len(re.findall('[n2]', bInBetween))"
   ]
  },
  {
   "cell_type": "code",
   "execution_count": 47,
   "id": "769928ca-0586-457f-aa2e-760fccf61585",
   "metadata": {},
   "outputs": [
    {
     "data": {
      "text/plain": [
       "78"
      ]
     },
     "execution_count": 47,
     "metadata": {},
     "output_type": "execute_result"
    }
   ],
   "source": [
    "NremInBetweenFlag"
   ]
  },
  {
   "cell_type": "code",
   "execution_count": 50,
   "id": "37175454-d3df-4712-8bc1-b51fb245aaf1",
   "metadata": {},
   "outputs": [
    {
     "name": "stdout",
     "output_type": "stream",
     "text": [
      "nnnn\n",
      "nnnnnnnnnnnnnnnnnnnnnnnnnnnnn\n",
      "nnnnnnnnn\n",
      "nnnnnn\n",
      "nnn\n",
      "nnnnnnnnnnnnnnnnnnnnnnnnnnn\n"
     ]
    }
   ],
   "source": [
    "for idx, trans in enumerate(NremInBetween):\n",
    "\n",
    "        Beg = list(trans.span())[0]\n",
    "        End = list(trans.span())[1]\n",
    "\n",
    "        print(bInBetween[Beg:End])\n",
    "\n"
   ]
  },
  {
   "cell_type": "code",
   "execution_count": 8,
   "id": "d977f9cf-b44e-49dc-a888-2738f13de9d9",
   "metadata": {},
   "outputs": [],
   "source": [
    "import re\n",
    "REMbouts = re.finditer('[r3]{3,}',bKeep)\n",
    "REMSpans = []\n",
    "DffREM  = []\n",
    "DffREMZScored  = []\n",
    "\n",
    "for idx, trans in enumerate(REMbouts):\n",
    "\n",
    "    Beg = list(trans.span())[0]\n",
    "    End = list(trans.span())[1]\n",
    "\n",
    "    BegDFF = findPosFromTimestamps(timestamps, Beg*4)\n",
    "    EndDFF = findPosFromTimestamps(timestamps, End*4)\n",
    "\n",
    "    REMSpans.append([BegDFF,EndDFF])\n",
    "    DffREM.append(dffKeep[BegDFF:EndDFF])\n",
    "    DffREMZScored.append(dffKeepZScored[BegDFF:EndDFF])"
   ]
  },
  {
   "cell_type": "code",
   "execution_count": 14,
   "id": "1c4a082d-441f-45f6-9835-611517ccb23f",
   "metadata": {},
   "outputs": [],
   "source": [
    "dffREM = dffKeep[BegDFF:EndDFF]\n",
    "\n",
    "dffREMZscored = (( dffREM - np.mean( dffREM ))/np.std(dffREM))\n"
   ]
  },
  {
   "cell_type": "code",
   "execution_count": 37,
   "id": "98f82051-a8d3-4b47-b704-a03dfa7d2b2e",
   "metadata": {},
   "outputs": [],
   "source": [
    "lengthPerBin = int(np.ceil(dffREMZscored.shape[0]/5))"
   ]
  },
  {
   "cell_type": "code",
   "execution_count": 51,
   "id": "8e620616-03de-403a-961c-39394b56ecb7",
   "metadata": {},
   "outputs": [
    {
     "data": {
      "text/plain": [
       "[<matplotlib.lines.Line2D at 0x21417944bb0>]"
      ]
     },
     "execution_count": 51,
     "metadata": {},
     "output_type": "execute_result"
    },
    {
     "data": {
      "image/png": "[encoded data removed]",
      "text/plain": [
       "<Figure size 640x480 with 1 Axes>"
      ]
     },
     "metadata": {},
     "output_type": "display_data"
    }
   ],
   "source": [
    "plt.plot(dffREM)\n",
    "plt.plot(dffREMZscored)"
   ]
  },
  {
   "cell_type": "code",
   "execution_count": 52,
   "id": "628336ac-dc0d-4add-9c75-343bd2e44d3a",
   "metadata": {},
   "outputs": [
    {
     "data": {
      "text/plain": [
       "[<matplotlib.lines.Line2D at 0x21418de68b0>]"
      ]
     },
     "execution_count": 52,
     "metadata": {},
     "output_type": "execute_result"
    },
    {
     "data": {
      "image/png": "[encoded data removed]",
      "text/plain": [
       "<Figure size 640x480 with 1 Axes>"
      ]
     },
     "metadata": {},
     "output_type": "display_data"
    }
   ],
   "source": [
    "plt.plot(sBinned)"
   ]
  },
  {
   "cell_type": "code",
   "execution_count": 48,
   "id": "1a5bc1fb-af15-427f-856d-f7105c23284e",
   "metadata": {},
   "outputs": [
    {
     "name": "stdout",
     "output_type": "stream",
     "text": [
      "0 1047\n",
      "1047 2094\n",
      "2094 3141\n",
      "3141 4188\n",
      "4188 5232\n"
     ]
    }
   ],
   "source": [
    "sBinned = []\n",
    "\n",
    "for b in range(nbins):\n",
    "\n",
    "    if ((b+1)*lengthPerBin <= s.shape[0]):\n",
    "\n",
    "        print((b*lengthPerBin),((b+1)*lengthPerBin))\n",
    "    \n",
    "        currentBin = s[(b*lengthPerBin):((b+1)*lengthPerBin)]\n",
    "        sBinned.append(np.mean(currentBin))\n",
    "    \n",
    "    else:\n",
    "        print((b*lengthPerBin), s.shape[0])\n",
    "        currentBin = s[(b*lengthPerBin):]\n",
    "        sBinned.append(np.mean(currentBin))\n",
    "\n",
    "    \n",
    "\n",
    "    "
   ]
  },
  {
   "cell_type": "code",
   "execution_count": 49,
   "id": "3af99264-b7d7-451b-a278-aafc08ab50e2",
   "metadata": {},
   "outputs": [
    {
     "data": {
      "text/plain": [
       "[-0.49997109294952735,\n",
       " 0.7094494009394087,\n",
       " 0.08809075322540275,\n",
       " 0.3678184603648502,\n",
       " -0.6672995546881274]"
      ]
     },
     "execution_count": 49,
     "metadata": {},
     "output_type": "execute_result"
    }
   ],
   "source": [
    "sBinned"
   ]
  },
  {
   "cell_type": "code",
   "execution_count": 29,
   "id": "0f45412e-31b7-4399-91c5-47032c38e4b2",
   "metadata": {},
   "outputs": [
    {
     "data": {
      "text/plain": [
       "[2, 3]"
      ]
     },
     "execution_count": 29,
     "metadata": {},
     "output_type": "execute_result"
    }
   ],
   "source": [
    "A[1:]"
   ]
  },
  {
   "cell_type": "code",
   "execution_count": 42,
   "id": "5438b521-f8ff-469a-b328-e850cdde0579",
   "metadata": {},
   "outputs": [],
   "source": [
    "NREMbouts = re.finditer('[n2]{3,}',bKeep)\n",
    "NREMSpans = []\n",
    "DffNREM = []\n",
    "DffNREMZScored  = []\n",
    "\n",
    "for idx, trans in enumerate(NREMbouts):\n",
    "    Beg = list(trans.span())[0]\n",
    "    End = list(trans.span())[1] - 1\n",
    "\n",
    "    BegDFF = findPosFromTimestamps(timestamps, Beg * 4)\n",
    "    EndDFF = findPosFromTimestamps(timestamps, End * 4)\n",
    "\n",
    "    NREMSpans.append([BegDFF,EndDFF])\n",
    "    DffNREM.append(np.mean(dffKeep[BegDFF:EndDFF]))\n",
    "    DffNREMZScored.append(np.mean(dffKeepZScored[BegDFF:EndDFF]))"
   ]
  },
  {
   "cell_type": "code",
   "execution_count": 44,
   "id": "759f8715-4e70-4a95-8437-d98ed77e9748",
   "metadata": {},
   "outputs": [],
   "source": [
    "Wakebouts = re.finditer('[w1]{4,}',bKeep)\n",
    "WakeSpans = []\n",
    "DffWake = []\n",
    "DffWakeZScored  = []\n",
    "\n",
    "for idx, trans in enumerate(Wakebouts):\n",
    "    Beg = list(trans.span())[0]\n",
    "    End = list(trans.span())[1] - 1\n",
    "\n",
    "    BegDFF = findPosFromTimestamps(timestamps, Beg * 4)\n",
    "    EndDFF = findPosFromTimestamps(timestamps, End * 4)\n",
    "\n",
    "    WakeSpans.append([BegDFF,EndDFF])\n",
    "    DffWake.append(np.mean(dffKeep[BegDFF:EndDFF]))\n",
    "    DffWakeZScored.append(np.mean(dffKeepZScored[BegDFF:EndDFF]))"
   ]
  },
  {
   "cell_type": "code",
   "execution_count": 45,
   "id": "e3be3249-db70-4cf3-be1b-bdbb408e3e29",
   "metadata": {},
   "outputs": [
    {
     "data": {
      "text/plain": [
       "18"
      ]
     },
     "execution_count": 45,
     "metadata": {},
     "output_type": "execute_result"
    }
   ],
   "source": [
    "len(DffWakeZScored)"
   ]
  },
  {
   "cell_type": "code",
   "execution_count": null,
   "id": "f29c5a1d-0814-4f90-8835-a77e60e885df",
   "metadata": {},
   "outputs": [],
   "source": [
    "bKeep[1291]"
   ]
  },
  {
   "cell_type": "code",
   "execution_count": null,
   "id": "6ac779d6-7e0f-42cf-837e-8410216c222d",
   "metadata": {},
   "outputs": [],
   "source": []
  },
  {
   "cell_type": "code",
   "execution_count": 30,
   "id": "6ec11d4e-6901-4c15-9f5b-d457e7f92b91",
   "metadata": {},
   "outputs": [
    {
     "name": "stdout",
     "output_type": "stream",
     "text": [
      "718\n",
      "738\n",
      "1064\n",
      "1082\n",
      "1291\n",
      "1295\n",
      "1343\n",
      "1364\n",
      "1464\n",
      "1467\n",
      "1538\n",
      "1556\n",
      "1688\n",
      "1692\n",
      "1758\n",
      "1765\n",
      "1774\n",
      "1780\n",
      "1853\n",
      "1882\n",
      "2031\n",
      "2045\n",
      "2109\n",
      "2114\n",
      "2605\n",
      "2608\n",
      "2665\n",
      "2678\n"
     ]
    }
   ],
   "source": [
    "for idx, trans in enumerate(REMbouts):\n",
    "\n",
    "    Beg = list(trans.span())[0]\n",
    "    End = list(trans.span())[1] \n",
    "\n",
    "    print(Beg)\n",
    "    print(End)"
   ]
  },
  {
   "cell_type": "code",
   "execution_count": 2,
   "id": "3cf6fe9e-4628-484a-ac7d-e6e5c1284a8e",
   "metadata": {},
   "outputs": [
    {
     "name": "stdout",
     "output_type": "stream",
     "text": [
      "Computing mouse: AMYG01 for session: 2023-11-30\n",
      "Computing the mean DFF for every sleep state during the baseline recordings for the first 3 hours\n",
      "1086719\n",
      "718\n",
      "737\n",
      "1064\n",
      "1081\n",
      "1291\n",
      "1294\n",
      "1343\n",
      "1363\n",
      "1464\n",
      "1466\n",
      "1538\n",
      "1555\n",
      "1688\n",
      "1691\n",
      "1758\n",
      "1764\n",
      "1774\n",
      "1779\n",
      "1853\n",
      "1881\n",
      "2031\n",
      "2044\n",
      "2109\n",
      "2113\n",
      "2605\n",
      "2607\n",
      "2665\n",
      "2677\n",
      "2783\n",
      "2795\n",
      "2883\n",
      "2889\n",
      "2982\n",
      "2985\n"
     ]
    },
    {
     "name": "stderr",
     "output_type": "stream",
     "text": [
      "C:\\ProgramData\\Anaconda3\\lib\\site-packages\\numpy\\core\\fromnumeric.py:3464: RuntimeWarning: Mean of empty slice.\n",
      "  return _methods._mean(a, axis=axis, dtype=dtype,\n",
      "C:\\ProgramData\\Anaconda3\\lib\\site-packages\\numpy\\core\\_methods.py:192: RuntimeWarning: invalid value encountered in scalar divide\n",
      "  ret = ret.dtype.type(ret / rcount)\n"
     ]
    },
    {
     "name": "stdout",
     "output_type": "stream",
     "text": [
      "2997\n",
      "3003\n",
      "3014\n",
      "3028\n",
      "3239\n",
      "3244\n",
      "3271\n",
      "3307\n",
      "3560\n",
      "3574\n",
      "3650\n",
      "3657\n",
      "3760\n",
      "3787\n",
      "4268\n",
      "4290\n",
      "4389\n",
      "4396\n",
      "4440\n",
      "4474\n",
      "4644\n",
      "4651\n",
      "4689\n",
      "4695\n",
      "4772\n",
      "4776\n",
      "4828\n",
      "4834\n",
      "4846\n",
      "4898\n",
      "5541\n",
      "5558\n",
      "5856\n",
      "5861\n",
      "5894\n",
      "5901\n",
      "5980\n",
      "5983\n",
      "6012\n",
      "6016\n",
      "6065\n",
      "6078\n",
      "6112\n",
      "6138\n",
      "6313\n",
      "6318\n",
      "6385\n",
      "6396\n",
      "6577\n",
      "6584\n",
      "6600\n",
      "6634\n",
      "6871\n",
      "6879\n",
      "6953\n",
      "6962\n",
      "7163\n",
      "7187\n",
      "7378\n",
      "7383\n",
      "7415\n",
      "7423\n",
      "7448\n",
      "7454\n",
      "7498\n",
      "7506\n",
      "7536\n",
      "7540\n",
      "7555\n",
      "7567\n",
      "8275\n",
      "8297\n",
      "8443\n",
      "8480\n",
      "8671\n",
      "8673\n",
      "8768\n",
      "8797\n",
      "8914\n",
      "8918\n",
      "9020\n",
      "9025\n",
      "9084\n",
      "9115\n",
      "10025\n",
      "10037\n",
      "10142\n",
      "10153\n",
      "10239\n",
      "10258\n",
      "10368\n",
      "10371\n",
      "10416\n",
      "10435\n",
      "10529\n",
      "10543\n"
     ]
    },
    {
     "ename": "MissingAttributeError",
     "evalue": "Field 'mean_rem_zscored' doesn't have a default value",
     "output_type": "error",
     "traceback": [
      "\u001b[1;31m---------------------------------------------------------------------------\u001b[0m",
      "\u001b[1;31mMissingAttributeError\u001b[0m                     Traceback (most recent call last)",
      "Cell \u001b[1;32mIn[2], line 1\u001b[0m\n\u001b[1;32m----> 1\u001b[0m \u001b[43mlcProj\u001b[49m\u001b[38;5;241;43m.\u001b[39;49m\u001b[43mDFFSleepStates\u001b[49m\u001b[38;5;241;43m.\u001b[39;49m\u001b[43mpopulate\u001b[49m\u001b[43m(\u001b[49m\u001b[43m)\u001b[49m\n",
      "File \u001b[1;32mC:\\ProgramData\\Anaconda3\\lib\\site-packages\\datajoint\\autopopulate.py:230\u001b[0m, in \u001b[0;36mAutoPopulate.populate\u001b[1;34m(self, suppress_errors, return_exception_objects, reserve_jobs, order, limit, max_calls, display_progress, processes, make_kwargs, *restrictions)\u001b[0m\n\u001b[0;32m    226\u001b[0m \u001b[38;5;28;01mif\u001b[39;00m processes \u001b[38;5;241m==\u001b[39m \u001b[38;5;241m1\u001b[39m:\n\u001b[0;32m    227\u001b[0m     \u001b[38;5;28;01mfor\u001b[39;00m key \u001b[38;5;129;01min\u001b[39;00m (\n\u001b[0;32m    228\u001b[0m         tqdm(keys, desc\u001b[38;5;241m=\u001b[39m\u001b[38;5;28mself\u001b[39m\u001b[38;5;241m.\u001b[39m\u001b[38;5;18m__class__\u001b[39m\u001b[38;5;241m.\u001b[39m\u001b[38;5;18m__name__\u001b[39m) \u001b[38;5;28;01mif\u001b[39;00m display_progress \u001b[38;5;28;01melse\u001b[39;00m keys\n\u001b[0;32m    229\u001b[0m     ):\n\u001b[1;32m--> 230\u001b[0m         error \u001b[38;5;241m=\u001b[39m \u001b[38;5;28mself\u001b[39m\u001b[38;5;241m.\u001b[39m_populate1(key, jobs, \u001b[38;5;241m*\u001b[39m\u001b[38;5;241m*\u001b[39mpopulate_kwargs)\n\u001b[0;32m    231\u001b[0m         \u001b[38;5;28;01mif\u001b[39;00m error \u001b[38;5;129;01mis\u001b[39;00m \u001b[38;5;129;01mnot\u001b[39;00m \u001b[38;5;28;01mNone\u001b[39;00m:\n\u001b[0;32m    232\u001b[0m             error_list\u001b[38;5;241m.\u001b[39mappend(error)\n",
      "File \u001b[1;32mC:\\ProgramData\\Anaconda3\\lib\\site-packages\\datajoint\\autopopulate.py:281\u001b[0m, in \u001b[0;36mAutoPopulate._populate1\u001b[1;34m(self, key, jobs, suppress_errors, return_exception_objects, make_kwargs)\u001b[0m\n\u001b[0;32m    279\u001b[0m \u001b[38;5;28mself\u001b[39m\u001b[38;5;241m.\u001b[39m\u001b[38;5;18m__class__\u001b[39m\u001b[38;5;241m.\u001b[39m_allow_insert \u001b[38;5;241m=\u001b[39m \u001b[38;5;28;01mTrue\u001b[39;00m\n\u001b[0;32m    280\u001b[0m \u001b[38;5;28;01mtry\u001b[39;00m:\n\u001b[1;32m--> 281\u001b[0m     make(\u001b[38;5;28mdict\u001b[39m(key), \u001b[38;5;241m*\u001b[39m\u001b[38;5;241m*\u001b[39m(make_kwargs \u001b[38;5;129;01mor\u001b[39;00m {}))\n\u001b[0;32m    282\u001b[0m \u001b[38;5;28;01mexcept\u001b[39;00m (\u001b[38;5;167;01mKeyboardInterrupt\u001b[39;00m, \u001b[38;5;167;01mSystemExit\u001b[39;00m, \u001b[38;5;167;01mException\u001b[39;00m) \u001b[38;5;28;01mas\u001b[39;00m error:\n\u001b[0;32m    283\u001b[0m     \u001b[38;5;28;01mtry\u001b[39;00m:\n",
      "File \u001b[1;32mE:\\aluthi1\\sleep\\D2c\\PROJECT_Georgios\\LC_Proj_Neurons\\Schema\\lcProj.py:308\u001b[0m, in \u001b[0;36mDFFSleepStates._make_tuples\u001b[1;34m(self, key)\u001b[0m\n\u001b[0;32m    303\u001b[0m \u001b[38;5;28;01mdef\u001b[39;00m \u001b[38;5;21m_make_tuples\u001b[39m(\u001b[38;5;28mself\u001b[39m, key):\n\u001b[0;32m    304\u001b[0m     \u001b[38;5;28;01mfrom\u001b[39;00m \u001b[38;5;21;01mSchema\u001b[39;00m\u001b[38;5;21;01m.\u001b[39;00m\u001b[38;5;21;01mAutopopulationFunctionsLCProj\u001b[39;00m \u001b[38;5;28;01mimport\u001b[39;00m (\n\u001b[0;32m    305\u001b[0m         DFFSleepStates_autopopulation,\n\u001b[0;32m    306\u001b[0m     )\n\u001b[1;32m--> 308\u001b[0m     \u001b[43mDFFSleepStates_autopopulation\u001b[49m\u001b[43m(\u001b[49m\u001b[38;5;28;43mself\u001b[39;49m\u001b[43m,\u001b[49m\u001b[43m \u001b[49m\u001b[43mkey\u001b[49m\u001b[43m)\u001b[49m\n",
      "File \u001b[1;32mE:\\aluthi1\\sleep\\D2c\\PROJECT_Georgios\\LC_Proj_Neurons\\Schema\\AutopopulationFunctionsLCProj.py:1963\u001b[0m, in \u001b[0;36mDFFSleepStates_autopopulation\u001b[1;34m(self, key)\u001b[0m\n\u001b[0;32m   1960\u001b[0m key[\u001b[38;5;124m'\u001b[39m\u001b[38;5;124mmean_nrem\u001b[39m\u001b[38;5;124m'\u001b[39m] \u001b[38;5;241m=\u001b[39m np\u001b[38;5;241m.\u001b[39mmean(DffNREM)\n\u001b[0;32m   1961\u001b[0m key[\u001b[38;5;124m'\u001b[39m\u001b[38;5;124mmean_wake\u001b[39m\u001b[38;5;124m'\u001b[39m] \u001b[38;5;241m=\u001b[39m np\u001b[38;5;241m.\u001b[39mmean(DffWake)\n\u001b[1;32m-> 1963\u001b[0m \u001b[38;5;28;43mself\u001b[39;49m\u001b[38;5;241;43m.\u001b[39;49m\u001b[43minsert1\u001b[49m\u001b[43m(\u001b[49m\u001b[43mkey\u001b[49m\u001b[43m)\u001b[49m\n",
      "File \u001b[1;32mC:\\ProgramData\\Anaconda3\\lib\\site-packages\\datajoint\\table.py:334\u001b[0m, in \u001b[0;36mTable.insert1\u001b[1;34m(self, row, **kwargs)\u001b[0m\n\u001b[0;32m    327\u001b[0m \u001b[38;5;28;01mdef\u001b[39;00m \u001b[38;5;21minsert1\u001b[39m(\u001b[38;5;28mself\u001b[39m, row, \u001b[38;5;241m*\u001b[39m\u001b[38;5;241m*\u001b[39mkwargs):\n\u001b[0;32m    328\u001b[0m \u001b[38;5;250m    \u001b[39m\u001b[38;5;124;03m\"\"\"\u001b[39;00m\n\u001b[0;32m    329\u001b[0m \u001b[38;5;124;03m    Insert one data record into the table. For ``kwargs``, see ``insert()``.\u001b[39;00m\n\u001b[0;32m    330\u001b[0m \n\u001b[0;32m    331\u001b[0m \u001b[38;5;124;03m    :param row: a numpy record, a dict-like object, or an ordered sequence to be inserted\u001b[39;00m\n\u001b[0;32m    332\u001b[0m \u001b[38;5;124;03m        as one row.\u001b[39;00m\n\u001b[0;32m    333\u001b[0m \u001b[38;5;124;03m    \"\"\"\u001b[39;00m\n\u001b[1;32m--> 334\u001b[0m     \u001b[38;5;28mself\u001b[39m\u001b[38;5;241m.\u001b[39minsert((row,), \u001b[38;5;241m*\u001b[39m\u001b[38;5;241m*\u001b[39mkwargs)\n",
      "File \u001b[1;32mC:\\ProgramData\\Anaconda3\\lib\\site-packages\\datajoint\\table.py:430\u001b[0m, in \u001b[0;36mTable.insert\u001b[1;34m(self, rows, replace, skip_duplicates, ignore_extra_fields, allow_direct_insert)\u001b[0m\n\u001b[0;32m    414\u001b[0m \u001b[38;5;28;01mtry\u001b[39;00m:\n\u001b[0;32m    415\u001b[0m     query \u001b[38;5;241m=\u001b[39m \u001b[38;5;124m\"\u001b[39m\u001b[38;5;132;01m{command}\u001b[39;00m\u001b[38;5;124m INTO \u001b[39m\u001b[38;5;132;01m{destination}\u001b[39;00m\u001b[38;5;124m(`\u001b[39m\u001b[38;5;132;01m{fields}\u001b[39;00m\u001b[38;5;124m`) VALUES \u001b[39m\u001b[38;5;132;01m{placeholders}\u001b[39;00m\u001b[38;5;132;01m{duplicate}\u001b[39;00m\u001b[38;5;124m\"\u001b[39m\u001b[38;5;241m.\u001b[39mformat(\n\u001b[0;32m    416\u001b[0m         command\u001b[38;5;241m=\u001b[39m\u001b[38;5;124m\"\u001b[39m\u001b[38;5;124mREPLACE\u001b[39m\u001b[38;5;124m\"\u001b[39m \u001b[38;5;28;01mif\u001b[39;00m replace \u001b[38;5;28;01melse\u001b[39;00m \u001b[38;5;124m\"\u001b[39m\u001b[38;5;124mINSERT\u001b[39m\u001b[38;5;124m\"\u001b[39m,\n\u001b[0;32m    417\u001b[0m         destination\u001b[38;5;241m=\u001b[39m\u001b[38;5;28mself\u001b[39m\u001b[38;5;241m.\u001b[39mfrom_clause(),\n\u001b[1;32m   (...)\u001b[0m\n\u001b[0;32m    428\u001b[0m         ),\n\u001b[0;32m    429\u001b[0m     )\n\u001b[1;32m--> 430\u001b[0m     \u001b[38;5;28;43mself\u001b[39;49m\u001b[38;5;241;43m.\u001b[39;49m\u001b[43mconnection\u001b[49m\u001b[38;5;241;43m.\u001b[39;49m\u001b[43mquery\u001b[49m\u001b[43m(\u001b[49m\n\u001b[0;32m    431\u001b[0m \u001b[43m        \u001b[49m\u001b[43mquery\u001b[49m\u001b[43m,\u001b[49m\n\u001b[0;32m    432\u001b[0m \u001b[43m        \u001b[49m\u001b[43margs\u001b[49m\u001b[38;5;241;43m=\u001b[39;49m\u001b[38;5;28;43mlist\u001b[39;49m\u001b[43m(\u001b[49m\n\u001b[0;32m    433\u001b[0m \u001b[43m            \u001b[49m\u001b[43mitertools\u001b[49m\u001b[38;5;241;43m.\u001b[39;49m\u001b[43mchain\u001b[49m\u001b[38;5;241;43m.\u001b[39;49m\u001b[43mfrom_iterable\u001b[49m\u001b[43m(\u001b[49m\n\u001b[0;32m    434\u001b[0m \u001b[43m                \u001b[49m\u001b[43m(\u001b[49m\u001b[43mv\u001b[49m\u001b[43m \u001b[49m\u001b[38;5;28;43;01mfor\u001b[39;49;00m\u001b[43m \u001b[49m\u001b[43mv\u001b[49m\u001b[43m \u001b[49m\u001b[38;5;129;43;01min\u001b[39;49;00m\u001b[43m \u001b[49m\u001b[43mr\u001b[49m\u001b[43m[\u001b[49m\u001b[38;5;124;43m\"\u001b[39;49m\u001b[38;5;124;43mvalues\u001b[39;49m\u001b[38;5;124;43m\"\u001b[39;49m\u001b[43m]\u001b[49m\u001b[43m \u001b[49m\u001b[38;5;28;43;01mif\u001b[39;49;00m\u001b[43m \u001b[49m\u001b[43mv\u001b[49m\u001b[43m \u001b[49m\u001b[38;5;129;43;01mis\u001b[39;49;00m\u001b[43m \u001b[49m\u001b[38;5;129;43;01mnot\u001b[39;49;00m\u001b[43m \u001b[49m\u001b[38;5;28;43;01mNone\u001b[39;49;00m\u001b[43m)\u001b[49m\u001b[43m \u001b[49m\u001b[38;5;28;43;01mfor\u001b[39;49;00m\u001b[43m \u001b[49m\u001b[43mr\u001b[49m\u001b[43m \u001b[49m\u001b[38;5;129;43;01min\u001b[39;49;00m\u001b[43m \u001b[49m\u001b[43mrows\u001b[49m\n\u001b[0;32m    435\u001b[0m \u001b[43m            \u001b[49m\u001b[43m)\u001b[49m\n\u001b[0;32m    436\u001b[0m \u001b[43m        \u001b[49m\u001b[43m)\u001b[49m\u001b[43m,\u001b[49m\n\u001b[0;32m    437\u001b[0m \u001b[43m    \u001b[49m\u001b[43m)\u001b[49m\n\u001b[0;32m    438\u001b[0m \u001b[38;5;28;01mexcept\u001b[39;00m UnknownAttributeError \u001b[38;5;28;01mas\u001b[39;00m err:\n\u001b[0;32m    439\u001b[0m     \u001b[38;5;28;01mraise\u001b[39;00m err\u001b[38;5;241m.\u001b[39msuggest(\n\u001b[0;32m    440\u001b[0m         \u001b[38;5;124m\"\u001b[39m\u001b[38;5;124mTo ignore extra fields in insert, set ignore_extra_fields=True\u001b[39m\u001b[38;5;124m\"\u001b[39m\n\u001b[0;32m    441\u001b[0m     )\n",
      "File \u001b[1;32mC:\\ProgramData\\Anaconda3\\lib\\site-packages\\datajoint\\connection.py:340\u001b[0m, in \u001b[0;36mConnection.query\u001b[1;34m(self, query, args, as_dict, suppress_warnings, reconnect)\u001b[0m\n\u001b[0;32m    338\u001b[0m cursor \u001b[38;5;241m=\u001b[39m \u001b[38;5;28mself\u001b[39m\u001b[38;5;241m.\u001b[39m_conn\u001b[38;5;241m.\u001b[39mcursor(cursor\u001b[38;5;241m=\u001b[39mcursor_class)\n\u001b[0;32m    339\u001b[0m \u001b[38;5;28;01mtry\u001b[39;00m:\n\u001b[1;32m--> 340\u001b[0m     \u001b[38;5;28;43mself\u001b[39;49m\u001b[38;5;241;43m.\u001b[39;49m\u001b[43m_execute_query\u001b[49m\u001b[43m(\u001b[49m\u001b[43mcursor\u001b[49m\u001b[43m,\u001b[49m\u001b[43m \u001b[49m\u001b[43mquery\u001b[49m\u001b[43m,\u001b[49m\u001b[43m \u001b[49m\u001b[43margs\u001b[49m\u001b[43m,\u001b[49m\u001b[43m \u001b[49m\u001b[43msuppress_warnings\u001b[49m\u001b[43m)\u001b[49m\n\u001b[0;32m    341\u001b[0m \u001b[38;5;28;01mexcept\u001b[39;00m errors\u001b[38;5;241m.\u001b[39mLostConnectionError:\n\u001b[0;32m    342\u001b[0m     \u001b[38;5;28;01mif\u001b[39;00m \u001b[38;5;129;01mnot\u001b[39;00m reconnect:\n",
      "File \u001b[1;32mC:\\ProgramData\\Anaconda3\\lib\\site-packages\\datajoint\\connection.py:296\u001b[0m, in \u001b[0;36mConnection._execute_query\u001b[1;34m(cursor, query, args, suppress_warnings)\u001b[0m\n\u001b[0;32m    294\u001b[0m         cursor\u001b[38;5;241m.\u001b[39mexecute(query, args)\n\u001b[0;32m    295\u001b[0m \u001b[38;5;28;01mexcept\u001b[39;00m client\u001b[38;5;241m.\u001b[39merr\u001b[38;5;241m.\u001b[39mError \u001b[38;5;28;01mas\u001b[39;00m err:\n\u001b[1;32m--> 296\u001b[0m     \u001b[38;5;28;01mraise\u001b[39;00m translate_query_error(err, query)\n",
      "\u001b[1;31mMissingAttributeError\u001b[0m: Field 'mean_rem_zscored' doesn't have a default value"
     ]
    }
   ],
   "source": [
    "lcProj.DFFSleepStates.populate()"
   ]
  },
  {
   "cell_type": "code",
   "execution_count": 2,
   "id": "8255c4b6-1944-46ce-bcc7-0a78c3cd65dd",
   "metadata": {},
   "outputs": [
    {
     "name": "stdout",
     "output_type": "stream",
     "text": [
      "****\n",
      "E:\\aluthi1\\sleep\\D2c\\PROJECT_Georgios\\LC_Proj_Neurons\\MiceMetaData\n"
     ]
    },
    {
     "name": "stderr",
     "output_type": "stream",
     "text": [
      "1it [00:00, 19.25it/s]\n"
     ]
    },
    {
     "name": "stdout",
     "output_type": "stream",
     "text": [
      "E:\\aluthi1\\sleep\\D2c\\PROJECT_Georgios\\LC_Proj_Neurons\\MiceMetaData\\MiceLCProj.csv\n",
      "Everything is fine.\n",
      "{'mouse_name': 'AMYG01', 'responsible_experimenter': 'Georgios Foustoukos', 'pyrat_id': 25249, 'genotype': 'C57BL/6J', 'gender': 'f', 'birth_date': '19.08.2023', 'licence': '2401.4', 'dg': 2, 'start_date': '30.11.2023', 'age': 10, 'sacrifice_date': '06.02.2024', 'proj_type': 'Amy', 'filename': 'MiceLCProj.csv'}\n",
      "AMYG01 has been ingested.\n",
      "Everything is fine.\n",
      "{'mouse_name': 'AMYG02', 'responsible_experimenter': 'Georgios Foustoukos', 'pyrat_id': 25533, 'genotype': 'C57BL/6J', 'gender': 'm', 'birth_date': '25.10.2023', 'licence': '2401.4', 'dg': 2, 'start_date': '24.01.2024', 'age': 12, 'sacrifice_date': '11.03.2024', 'proj_type': 'Amy', 'filename': 'MiceLCProj.csv'}\n",
      "AMYG02 has been ingested.\n",
      "Everything is fine.\n",
      "{'mouse_name': 'MHIP03', 'responsible_experimenter': 'Georgios Foustoukos', 'pyrat_id': 24813, 'genotype': 'C57BL/6J', 'gender': 'm', 'birth_date': '02.06.2023', 'licence': '2401.4', 'dg': 2, 'start_date': '23.03.2022', 'age': 11, 'sacrifice_date': '01.05.2022', 'proj_type': 'dCA1', 'filename': 'MiceLCProj.csv'}\n",
      "MHIP03 has been ingested.\n",
      "Everything is fine.\n",
      "{'mouse_name': 'MHIP05', 'responsible_experimenter': 'Georgios Foustoukos', 'pyrat_id': 25516, 'genotype': 'C57BL/6J', 'gender': 'm', 'birth_date': '14.10.2023', 'licence': '2401.4', 'dg': 2, 'start_date': '21.08.2023', 'age': 10, 'sacrifice_date': '11.03.2024', 'proj_type': 'dCA1', 'filename': 'MiceLCProj.csv'}\n",
      "MHIP05 has been ingested.\n",
      "Everything is fine.\n",
      "{'mouse_name': 'MPC05', 'responsible_experimenter': 'Georgios Foustoukos', 'pyrat_id': 24344, 'genotype': 'C57BL/6J', 'gender': 'm', 'birth_date': '25.03.2023', 'licence': '2401.4', 'dg': 2, 'start_date': '23.03.2022', 'age': 11, 'sacrifice_date': '06.02.2024', 'proj_type': 'mPFC', 'filename': 'MiceLCProj.csv'}\n",
      "MPC05 has been ingested.\n",
      "Everything is fine.\n",
      "{'mouse_name': 'MPC06', 'responsible_experimenter': 'Georgios Foustoukos', 'pyrat_id': 25185, 'genotype': 'C57BL/6J', 'gender': 'm', 'birth_date': '05.08.2023', 'licence': '2401.4', 'dg': 2, 'start_date': '30.11.2023', 'age': 10, 'sacrifice_date': '06.02.2024', 'proj_type': 'mPFC', 'filename': 'MiceLCProj.csv'}\n",
      "MPC06 has been ingested.\n",
      "Everything is fine.\n",
      "{'mouse_name': 'MPC08', 'responsible_experimenter': 'Georgios Foustoukos', 'pyrat_id': 25795, 'genotype': 'C57BL/6J', 'gender': 'm', 'birth_date': '19.12.2023', 'licence': '2401.4', 'dg': 2, 'start_date': '24.03.2024', 'age': 13, 'sacrifice_date': 'Ongoing', 'proj_type': 'mPFC', 'filename': 'MiceLCProj.csv'}\n",
      "MPC08 has been ingested.\n",
      "Everything is fine.\n",
      "{'mouse_name': 'THAL01', 'responsible_experimenter': 'Georgios Foustoukos', 'pyrat_id': 24755, 'genotype': 'C57BL/6J', 'gender': 'm', 'birth_date': '20.05.2023', 'licence': '2401.4', 'dg': 2, 'start_date': '28.03.2022', 'age': 12, 'sacrifice_date': '02.06.2024', 'proj_type': 'Thal', 'filename': 'MiceLCProj.csv'}\n",
      "THAL01 has been ingested.\n",
      "Everything is fine.\n",
      "{'mouse_name': 'THAL02', 'responsible_experimenter': 'Georgios Foustoukos', 'pyrat_id': 25248, 'genotype': 'C57BL/6J', 'gender': 'f', 'birth_date': '19.08.2023', 'licence': '2401.4', 'dg': 2, 'start_date': '30.11.2023', 'age': 16, 'sacrifice_date': '17.01.2024', 'proj_type': 'Thal', 'filename': 'MiceLCProj.csv'}\n",
      "THAL02 has been ingested.\n",
      "Everything is fine.\n",
      "{'mouse_name': 'THAL04', 'responsible_experimenter': 'Georgios Foustoukos', 'pyrat_id': 25537, 'genotype': 'C57BL/6J', 'gender': 'f', 'birth_date': '25.10.2023', 'licence': '2401.4', 'dg': 2, 'start_date': '24.02.2024', 'age': 13, 'sacrifice_date': '11.03.2024', 'proj_type': 'Thal', 'filename': 'MiceLCProj.csv'}\n",
      "THAL04 has been ingested.\n",
      "Everything is fine.\n",
      "{'mouse_name': 'THAL06', 'responsible_experimenter': 'Georgios Foustoukos', 'pyrat_id': 25964, 'genotype': 'C57BL/6J', 'gender': 'm', 'birth_date': '14.01.2024', 'licence': '3947a', 'dg': 2, 'start_date': '15.04.2024', 'age': 12, 'sacrifice_date': 'Ongoing', 'proj_type': 'Thal', 'filename': 'MiceLCProj.csv'}\n",
      "THAL06 has been ingested.\n"
     ]
    },
    {
     "name": "stderr",
     "output_type": "stream",
     "text": [
      "  0%|                                                                                           | 0/11 [00:00<?, ?it/s]"
     ]
    },
    {
     "name": "stdout",
     "output_type": "stream",
     "text": [
      "This is a mouse from the LC and fiber photometry data with projection neurons!\n",
      "----------Mouse: AMYG01----------\n",
      "Loading sessions for mouse: AMYG01\n"
     ]
    },
    {
     "name": "stderr",
     "output_type": "stream",
     "text": [
      "  9%|███████▌                                                                           | 1/11 [00:00<00:03,  2.89it/s]"
     ]
    },
    {
     "name": "stdout",
     "output_type": "stream",
     "text": [
      "This is a mouse from the LC and fiber photometry data with projection neurons!\n",
      "----------Mouse: AMYG02----------\n",
      "Loading sessions for mouse: AMYG02\n"
     ]
    },
    {
     "name": "stderr",
     "output_type": "stream",
     "text": [
      " 27%|██████████████████████▋                                                            | 3/11 [00:00<00:02,  3.71it/s]"
     ]
    },
    {
     "name": "stdout",
     "output_type": "stream",
     "text": [
      "This is a mouse from the LC and fiber photometry data with projection neurons!\n",
      "----------Mouse: MHIP03----------\n",
      "Loading sessions for mouse: MHIP03\n",
      "This is a mouse from the LC and fiber photometry data with projection neurons!\n",
      "----------Mouse: MHIP05----------\n",
      "Loading sessions for mouse: MHIP05\n"
     ]
    },
    {
     "name": "stderr",
     "output_type": "stream",
     "text": [
      " 45%|█████████████████████████████████████▋                                             | 5/11 [00:01<00:01,  3.40it/s]"
     ]
    },
    {
     "name": "stdout",
     "output_type": "stream",
     "text": [
      "This is a mouse from the LC and fiber photometry data with projection neurons!\n",
      "----------Mouse: MPC05----------\n",
      "Loading sessions for mouse: MPC05\n",
      "This is a mouse from the LC and fiber photometry data with projection neurons!\n",
      "----------Mouse: MPC06----------\n",
      "Loading sessions for mouse: MPC06\n"
     ]
    },
    {
     "name": "stderr",
     "output_type": "stream",
     "text": [
      " 55%|█████████████████████████████████████████████▎                                     | 6/11 [00:01<00:01,  4.20it/s]"
     ]
    },
    {
     "name": "stdout",
     "output_type": "stream",
     "text": [
      "This is a mouse from the LC and fiber photometry data with projection neurons!\n",
      "----------Mouse: MPC08----------\n",
      "Loading sessions for mouse: MPC08\n",
      "This is a mouse from the LC and fiber photometry data with projection neurons!\n",
      "----------Mouse: THAL01----------\n",
      "Loading sessions for mouse: THAL01\n"
     ]
    },
    {
     "name": "stderr",
     "output_type": "stream",
     "text": [
      " 73%|████████████████████████████████████████████████████████████▎                      | 8/11 [00:02<00:00,  5.22it/s]"
     ]
    },
    {
     "name": "stdout",
     "output_type": "stream",
     "text": [
      "This is a mouse from the LC and fiber photometry data with projection neurons!\n",
      "----------Mouse: THAL02----------\n",
      "Loading sessions for mouse: THAL02\n",
      "This is a mouse from the LC and fiber photometry data with projection neurons!\n",
      "----------Mouse: THAL04----------\n",
      "Loading sessions for mouse: THAL04\n"
     ]
    },
    {
     "name": "stderr",
     "output_type": "stream",
     "text": [
      "100%|██████████████████████████████████████████████████████████████████████████████████| 11/11 [00:02<00:00,  4.45it/s]\n"
     ]
    },
    {
     "name": "stdout",
     "output_type": "stream",
     "text": [
      "This is a mouse from the LC and fiber photometry data with projection neurons!\n",
      "----------Mouse: THAL06----------\n",
      "Loading sessions for mouse: THAL06\n"
     ]
    },
    {
     "name": "stderr",
     "output_type": "stream",
     "text": [
      "WARNING:root:Variable \"/states\" was specified to be loaded but could not be found.\n"
     ]
    },
    {
     "name": "stdout",
     "output_type": "stream",
     "text": [
      "Inserting the hypogram of mouse: AMYG01 for session: 2023-11-30\n",
      "\\\\nasdcsr.unil.ch\\RECHERCHE\\FAC\\FBM\\DNF\\aluthi1\\fbm_move\\D2c\\_PROJECTS\\PROJECT_Georgios\\LC_Proj_Neurons\\Ephys\\AMYG01\\231130_AMYG01_12hBas1_bt.mat contains the following vars:\n",
      "  #refs#\n",
      "  Infos\n",
      "  Infos/Configuration\n",
      "  Infos/Configuration/A1\n",
      "  Infos/Configuration/A2\n",
      "  Infos/Configuration/A3\n",
      "  Infos/Configuration/A4\n",
      "  Infos/FileLen\n",
      "  Infos/Fs\n",
      "  Infos/OriginalName\n",
      "  Infos/RecordingDate\n",
      "  b\n",
      "  bTrans\n",
      "  dff\n",
      "  traceName\n",
      "  traces\n"
     ]
    },
    {
     "name": "stderr",
     "output_type": "stream",
     "text": [
      "WARNING:root:Variable \"/states\" was specified to be loaded but could not be found.\n"
     ]
    },
    {
     "name": "stdout",
     "output_type": "stream",
     "text": [
      "--This file is scored\n",
      "Inserting the hypogram of mouse: AMYG01 for session: 2023-12-11\n",
      "\\\\nasdcsr.unil.ch\\RECHERCHE\\FAC\\FBM\\DNF\\aluthi1\\fbm_move\\D2c\\_PROJECTS\\PROJECT_Georgios\\LC_Proj_Neurons\\Ephys\\AMYG01\\231211_AMYG01_12hBas2_bt.mat contains the following vars:\n",
      "  #refs#\n",
      "  Infos\n",
      "  Infos/Configuration\n",
      "  Infos/Configuration/A1\n",
      "  Infos/Configuration/A2\n",
      "  Infos/FileLen\n",
      "  Infos/Fs\n",
      "  Infos/OriginalName\n",
      "  Infos/RecordingDate\n",
      "  b\n",
      "  bTrans\n",
      "  dff\n",
      "  traceName\n"
     ]
    },
    {
     "name": "stderr",
     "output_type": "stream",
     "text": [
      "WARNING:root:Variable \"/states\" was specified to be loaded but could not be found.\n"
     ]
    },
    {
     "name": "stdout",
     "output_type": "stream",
     "text": [
      "  traces\n",
      "--This file is scored\n",
      "Inserting the hypogram of mouse: AMYG01 for session: 2024-01-08\n",
      "\\\\nasdcsr.unil.ch\\RECHERCHE\\FAC\\FBM\\DNF\\aluthi1\\fbm_move\\D2c\\_PROJECTS\\PROJECT_Georgios\\LC_Proj_Neurons\\Ephys\\AMYG01\\240108_AMYG01_4hSD_bt.mat contains the following vars:\n",
      "  #refs#\n",
      "  Infos\n",
      "  Infos/Configuration\n",
      "  Infos/Configuration/A1\n",
      "  Infos/Configuration/A2\n",
      "  Infos/Configuration/A3\n",
      "  Infos/Configuration/A4\n",
      "  Infos/FileLen\n",
      "  Infos/Fs\n",
      "  Infos/OriginalName\n",
      "  Infos/RecordingDate\n",
      "  b\n",
      "  bTrans\n"
     ]
    },
    {
     "name": "stderr",
     "output_type": "stream",
     "text": [
      "WARNING:root:Variable \"/states\" was specified to be loaded but could not be found.\n"
     ]
    },
    {
     "name": "stdout",
     "output_type": "stream",
     "text": [
      "  dff\n",
      "  traceName\n",
      "  traces\n",
      "--This file is scored\n",
      "Inserting the hypogram of mouse: AMYG01 for session: 2024-01-29\n",
      "\\\\nasdcsr.unil.ch\\RECHERCHE\\FAC\\FBM\\DNF\\aluthi1\\fbm_move\\D2c\\_PROJECTS\\PROJECT_Georgios\\LC_Proj_Neurons\\Ephys\\AMYG01\\240129_AMYG01_4hSSD_bt.mat contains the following vars:\n",
      "  #refs#\n",
      "  Infos\n",
      "  Infos/Configuration\n",
      "  Infos/Configuration/A1\n",
      "  Infos/Configuration/A2\n",
      "  Infos/Configuration/A3\n",
      "  Infos/FileLen\n",
      "  Infos/Fs\n",
      "  Infos/OriginalName\n",
      "  Infos/RecordingDate\n",
      "  b\n",
      "  bTrans\n",
      "  dff\n",
      "  traceName\n"
     ]
    },
    {
     "name": "stderr",
     "output_type": "stream",
     "text": [
      "WARNING:root:Variable \"/states\" was specified to be loaded but could not be found.\n"
     ]
    },
    {
     "name": "stdout",
     "output_type": "stream",
     "text": [
      "  traces\n",
      "--This file is scored\n",
      "Inserting the hypogram of mouse: AMYG02 for session: 2024-01-16\n",
      "\\\\nasdcsr.unil.ch\\RECHERCHE\\FAC\\FBM\\DNF\\aluthi1\\fbm_move\\D2c\\_PROJECTS\\PROJECT_Georgios\\LC_Proj_Neurons\\Ephys\\AMYG02\\240116_AMYG02_12hBas1_bt.mat contains the following vars:\n",
      "  #refs#\n",
      "  Infos\n",
      "  Infos/Configuration\n",
      "  Infos/Configuration/A1\n",
      "  Infos/Configuration/A2\n",
      "  Infos/Configuration/A3\n",
      "  Infos/FileLen\n",
      "  Infos/Fs\n",
      "  Infos/OriginalName\n",
      "  Infos/RecordingDate\n",
      "  b\n",
      "  bTrans\n",
      "  dff\n",
      "  traceName\n",
      "  traces\n"
     ]
    },
    {
     "name": "stderr",
     "output_type": "stream",
     "text": [
      "WARNING:root:Variable \"/states\" was specified to be loaded but could not be found.\n"
     ]
    },
    {
     "name": "stdout",
     "output_type": "stream",
     "text": [
      "--This file is scored\n",
      "Inserting the hypogram of mouse: AMYG02 for session: 2024-01-18\n",
      "\\\\nasdcsr.unil.ch\\RECHERCHE\\FAC\\FBM\\DNF\\aluthi1\\fbm_move\\D2c\\_PROJECTS\\PROJECT_Georgios\\LC_Proj_Neurons\\Ephys\\AMYG02\\240118_AMYG02_12hBas2_bt.mat contains the following vars:\n",
      "  #refs#\n",
      "  Infos\n",
      "  Infos/Configuration\n",
      "  Infos/Configuration/A1\n",
      "  Infos/Configuration/A2\n",
      "  Infos/Configuration/A3\n",
      "  Infos/FileLen\n",
      "  Infos/Fs\n",
      "  Infos/OriginalName\n",
      "  Infos/RecordingDate\n",
      "  b\n",
      "  bTrans\n",
      "  dff\n",
      "  traceName\n",
      "  traces\n"
     ]
    },
    {
     "name": "stderr",
     "output_type": "stream",
     "text": [
      "WARNING:root:Variable \"/states\" was specified to be loaded but could not be found.\n"
     ]
    },
    {
     "name": "stdout",
     "output_type": "stream",
     "text": [
      "--This file is scored\n",
      "Inserting the hypogram of mouse: AMYG02 for session: 2024-02-06\n",
      "\\\\nasdcsr.unil.ch\\RECHERCHE\\FAC\\FBM\\DNF\\aluthi1\\fbm_move\\D2c\\_PROJECTS\\PROJECT_Georgios\\LC_Proj_Neurons\\Ephys\\AMYG02\\240206_AMYG02_12hBas3_bt.mat contains the following vars:\n",
      "  #refs#\n",
      "  Infos\n",
      "  Infos/Configuration\n",
      "  Infos/Configuration/A1\n",
      "  Infos/Configuration/A2\n",
      "  Infos/Configuration/A3\n",
      "  Infos/FileLen\n",
      "  Infos/Fs\n",
      "  Infos/OriginalName\n",
      "  Infos/RecordingDate\n",
      "  b\n",
      "  bTrans\n",
      "  dff\n",
      "  traceName\n",
      "  traces\n"
     ]
    },
    {
     "name": "stderr",
     "output_type": "stream",
     "text": [
      "WARNING:root:Variable \"/states\" was specified to be loaded but could not be found.\n"
     ]
    },
    {
     "name": "stdout",
     "output_type": "stream",
     "text": [
      "--This file is scored\n",
      "Inserting the hypogram of mouse: AMYG02 for session: 2024-02-12\n",
      "\\\\nasdcsr.unil.ch\\RECHERCHE\\FAC\\FBM\\DNF\\aluthi1\\fbm_move\\D2c\\_PROJECTS\\PROJECT_Georgios\\LC_Proj_Neurons\\Ephys\\AMYG02\\240212_AMYG02_4hSD_bt.mat contains the following vars:\n",
      "  #refs#\n",
      "  Infos\n",
      "  Infos/Configuration\n",
      "  Infos/Configuration/A1\n",
      "  Infos/Configuration/A2\n",
      "  Infos/Configuration/A3\n",
      "  Infos/FileLen\n",
      "  Infos/Fs\n",
      "  Infos/OriginalName\n",
      "  Infos/RecordingDate\n",
      "  b\n",
      "  bTrans\n",
      "  dff\n",
      "  traceName\n"
     ]
    },
    {
     "name": "stderr",
     "output_type": "stream",
     "text": [
      "WARNING:root:Variable \"/states\" was specified to be loaded but could not be found.\n"
     ]
    },
    {
     "name": "stdout",
     "output_type": "stream",
     "text": [
      "  traces\n",
      "--This file is scored\n",
      "Inserting the hypogram of mouse: AMYG02 for session: 2024-02-14\n",
      "\\\\nasdcsr.unil.ch\\RECHERCHE\\FAC\\FBM\\DNF\\aluthi1\\fbm_move\\D2c\\_PROJECTS\\PROJECT_Georgios\\LC_Proj_Neurons\\Ephys\\AMYG02\\240214_AMYG02_12hBas4_bt.mat contains the following vars:\n",
      "  #refs#\n",
      "  Infos\n",
      "  Infos/Configuration\n",
      "  Infos/Configuration/A1\n",
      "  Infos/Configuration/A2\n",
      "  Infos/Configuration/A3\n",
      "  Infos/FileLen\n",
      "  Infos/Fs\n",
      "  Infos/OriginalName\n",
      "  Infos/RecordingDate\n",
      "  b\n",
      "  bTrans\n"
     ]
    },
    {
     "name": "stderr",
     "output_type": "stream",
     "text": [
      "WARNING:root:Variable \"/states\" was specified to be loaded but could not be found.\n"
     ]
    },
    {
     "name": "stdout",
     "output_type": "stream",
     "text": [
      "  dff\n",
      "  traceName\n",
      "  traces\n",
      "--This file is scored\n",
      "Inserting the hypogram of mouse: AMYG02 for session: 2024-02-29\n",
      "\\\\nasdcsr.unil.ch\\RECHERCHE\\FAC\\FBM\\DNF\\aluthi1\\fbm_move\\D2c\\_PROJECTS\\PROJECT_Georgios\\LC_Proj_Neurons\\Ephys\\AMYG02\\240229_AMYG02_4hSSD_bt.mat contains the following vars:\n",
      "  #refs#\n",
      "  Infos\n",
      "  Infos/Configuration\n",
      "  Infos/Configuration/A1\n",
      "  Infos/Configuration/A2\n",
      "  Infos/Configuration/A3\n",
      "  Infos/FileLen\n",
      "  Infos/Fs\n",
      "  Infos/OriginalName\n",
      "  Infos/RecordingDate\n",
      "  b\n",
      "  bTrans\n",
      "  dff\n",
      "  traceName\n",
      "  traces\n"
     ]
    },
    {
     "name": "stderr",
     "output_type": "stream",
     "text": [
      "WARNING:root:Variable \"/states\" was specified to be loaded but could not be found.\n"
     ]
    },
    {
     "name": "stdout",
     "output_type": "stream",
     "text": [
      "--This file is scored\n",
      "Inserting the hypogram of mouse: MHIP03 for session: 2023-08-21\n",
      "\\\\nasdcsr.unil.ch\\RECHERCHE\\FAC\\FBM\\DNF\\aluthi1\\fbm_move\\D2c\\_PROJECTS\\PROJECT_Georgios\\LC_Proj_Neurons\\Ephys\\MHIP03\\230821_MHIP03_12hBas1_bt.mat contains the following vars:\n",
      "  #refs#\n",
      "  Infos\n",
      "  Infos/Configuration\n",
      "  Infos/Configuration/A1\n",
      "  Infos/Configuration/A2\n",
      "  Infos/FileLen\n",
      "  Infos/Fs\n",
      "  Infos/OriginalName\n",
      "  Infos/RecordingDate\n",
      "  b\n",
      "  bTrans\n",
      "  dff\n",
      "  traceName\n",
      "  traces\n"
     ]
    },
    {
     "name": "stderr",
     "output_type": "stream",
     "text": [
      "WARNING:root:Variable \"/states\" was specified to be loaded but could not be found.\n"
     ]
    },
    {
     "name": "stdout",
     "output_type": "stream",
     "text": [
      "--This file is scored\n",
      "Inserting the hypogram of mouse: MHIP03 for session: 2023-08-23\n",
      "\\\\nasdcsr.unil.ch\\RECHERCHE\\FAC\\FBM\\DNF\\aluthi1\\fbm_move\\D2c\\_PROJECTS\\PROJECT_Georgios\\LC_Proj_Neurons\\Ephys\\MHIP03\\230823_MHIP03_12hBas2_bt.mat contains the following vars:\n",
      "  #refs#\n",
      "  Infos\n",
      "  Infos/Configuration\n",
      "  Infos/Configuration/A1\n",
      "  Infos/FileLen\n",
      "  Infos/Fs\n",
      "  Infos/OriginalName\n",
      "  Infos/RecordingDate\n",
      "  b\n",
      "  bTrans\n",
      "  dff\n",
      "  traceName\n"
     ]
    },
    {
     "name": "stderr",
     "output_type": "stream",
     "text": [
      "WARNING:root:Variable \"/states\" was specified to be loaded but could not be found.\n"
     ]
    },
    {
     "name": "stdout",
     "output_type": "stream",
     "text": [
      "  traces\n",
      "--This file is scored\n",
      "Inserting the hypogram of mouse: MHIP03 for session: 2023-10-04\n",
      "\\\\nasdcsr.unil.ch\\RECHERCHE\\FAC\\FBM\\DNF\\aluthi1\\fbm_move\\D2c\\_PROJECTS\\PROJECT_Georgios\\LC_Proj_Neurons\\Ephys\\MHIP03\\231004_MHIP03_4hSD_bt.mat contains the following vars:\n",
      "  #refs#\n",
      "  Infos\n",
      "  Infos/Configuration\n",
      "  Infos/Configuration/A1\n",
      "  Infos/Configuration/A2\n",
      "  Infos/FileLen\n",
      "  Infos/Fs\n",
      "  Infos/OriginalName\n",
      "  Infos/RecordingDate\n",
      "  b\n",
      "  bTrans\n",
      "  dff\n",
      "  traceName\n"
     ]
    },
    {
     "name": "stderr",
     "output_type": "stream",
     "text": [
      "WARNING:root:Variable \"/states\" was specified to be loaded but could not be found.\n"
     ]
    },
    {
     "name": "stdout",
     "output_type": "stream",
     "text": [
      "  traces\n",
      "--This file is scored\n",
      "Inserting the hypogram of mouse: MHIP03 for session: 2023-10-11\n",
      "\\\\nasdcsr.unil.ch\\RECHERCHE\\FAC\\FBM\\DNF\\aluthi1\\fbm_move\\D2c\\_PROJECTS\\PROJECT_Georgios\\LC_Proj_Neurons\\Ephys\\MHIP03\\231011_MHIP03_4hSSD_bt.mat contains the following vars:\n",
      "  #refs#\n",
      "  Infos\n",
      "  Infos/Configuration\n",
      "  Infos/Configuration/A1\n",
      "  Infos/Configuration/A2\n",
      "  Infos/FileLen\n",
      "  Infos/Fs\n",
      "  Infos/OriginalName\n",
      "  Infos/RecordingDate\n",
      "  b\n",
      "  bTrans\n",
      "  dff\n",
      "  traceName\n"
     ]
    },
    {
     "name": "stderr",
     "output_type": "stream",
     "text": [
      "WARNING:root:Variable \"/states\" was specified to be loaded but could not be found.\n"
     ]
    },
    {
     "name": "stdout",
     "output_type": "stream",
     "text": [
      "  traces\n",
      "--This file is scored\n",
      "Inserting the hypogram of mouse: MHIP05 for session: 2024-01-16\n",
      "\\\\nasdcsr.unil.ch\\RECHERCHE\\FAC\\FBM\\DNF\\aluthi1\\fbm_move\\D2c\\_PROJECTS\\PROJECT_Georgios\\LC_Proj_Neurons\\Ephys\\MHIP05\\240116_MHIP05_12hBas1_bt.mat contains the following vars:\n",
      "  #refs#\n",
      "  Infos\n",
      "  Infos/Configuration\n",
      "  Infos/Configuration/A1\n",
      "  Infos/Configuration/A2\n",
      "  Infos/Configuration/A3\n",
      "  Infos/FileLen\n",
      "  Infos/Fs\n",
      "  Infos/OriginalName\n",
      "  Infos/RecordingDate\n",
      "  b\n",
      "  bTrans\n",
      "  dff\n",
      "  traceName\n"
     ]
    },
    {
     "name": "stderr",
     "output_type": "stream",
     "text": [
      "WARNING:root:Variable \"/states\" was specified to be loaded but could not be found.\n"
     ]
    },
    {
     "name": "stdout",
     "output_type": "stream",
     "text": [
      "  traces\n",
      "--This file is scored\n",
      "Inserting the hypogram of mouse: MHIP05 for session: 2024-01-18\n",
      "\\\\nasdcsr.unil.ch\\RECHERCHE\\FAC\\FBM\\DNF\\aluthi1\\fbm_move\\D2c\\_PROJECTS\\PROJECT_Georgios\\LC_Proj_Neurons\\Ephys\\MHIP05\\240118_MHIP05_12hBas2_bt.mat contains the following vars:\n",
      "  #refs#\n",
      "  Infos\n",
      "  Infos/Configuration\n",
      "  Infos/Configuration/A1\n",
      "  Infos/Configuration/A2\n",
      "  Infos/Configuration/A3\n",
      "  Infos/FileLen\n",
      "  Infos/Fs\n",
      "  Infos/OriginalName\n",
      "  Infos/RecordingDate\n",
      "  b\n",
      "  bTrans\n"
     ]
    },
    {
     "name": "stderr",
     "output_type": "stream",
     "text": [
      "WARNING:root:Variable \"/states\" was specified to be loaded but could not be found.\n"
     ]
    },
    {
     "name": "stdout",
     "output_type": "stream",
     "text": [
      "  dff\n",
      "  traceName\n",
      "  traces\n",
      "--This file is scored\n",
      "Inserting the hypogram of mouse: MHIP05 for session: 2024-02-06\n",
      "\\\\nasdcsr.unil.ch\\RECHERCHE\\FAC\\FBM\\DNF\\aluthi1\\fbm_move\\D2c\\_PROJECTS\\PROJECT_Georgios\\LC_Proj_Neurons\\Ephys\\MHIP05\\240206_MHIP05_12hBas3_bt.mat contains the following vars:\n",
      "  #refs#\n",
      "  Infos\n",
      "  Infos/Configuration\n",
      "  Infos/Configuration/A1\n",
      "  Infos/Configuration/A2\n",
      "  Infos/Configuration/A3\n",
      "  Infos/FileLen\n",
      "  Infos/Fs\n",
      "  Infos/OriginalName\n",
      "  Infos/RecordingDate\n",
      "  b\n",
      "  bTrans\n",
      "  dff\n",
      "  traceName\n",
      "  traces\n"
     ]
    },
    {
     "name": "stderr",
     "output_type": "stream",
     "text": [
      "WARNING:root:Variable \"/states\" was specified to be loaded but could not be found.\n"
     ]
    },
    {
     "name": "stdout",
     "output_type": "stream",
     "text": [
      "--This file is scored\n",
      "Inserting the hypogram of mouse: MHIP05 for session: 2024-02-08\n",
      "\\\\nasdcsr.unil.ch\\RECHERCHE\\FAC\\FBM\\DNF\\aluthi1\\fbm_move\\D2c\\_PROJECTS\\PROJECT_Georgios\\LC_Proj_Neurons\\Ephys\\MHIP05\\240208_MHIP05_12hBas4_bt.mat contains the following vars:\n",
      "  #refs#\n",
      "  Infos\n",
      "  Infos/Configuration\n",
      "  Infos/Configuration/A1\n",
      "  Infos/Configuration/A2\n",
      "  Infos/Configuration/A3\n",
      "  Infos/FileLen\n",
      "  Infos/Fs\n",
      "  Infos/OriginalName\n",
      "  Infos/RecordingDate\n",
      "  b\n",
      "  bTrans\n",
      "  dff\n",
      "  traceName\n"
     ]
    },
    {
     "name": "stderr",
     "output_type": "stream",
     "text": [
      "WARNING:root:Variable \"/states\" was specified to be loaded but could not be found.\n"
     ]
    },
    {
     "name": "stdout",
     "output_type": "stream",
     "text": [
      "  traces\n",
      "--This file is scored\n",
      "Inserting the hypogram of mouse: MHIP05 for session: 2024-02-12\n",
      "\\\\nasdcsr.unil.ch\\RECHERCHE\\FAC\\FBM\\DNF\\aluthi1\\fbm_move\\D2c\\_PROJECTS\\PROJECT_Georgios\\LC_Proj_Neurons\\Ephys\\MHIP05\\240212_MHIP05_4hSD_bt.mat contains the following vars:\n",
      "  #refs#\n",
      "  Infos\n",
      "  Infos/Configuration\n",
      "  Infos/Configuration/A1\n",
      "  Infos/Configuration/A2\n",
      "  Infos/Configuration/A3\n",
      "  Infos/FileLen\n",
      "  Infos/Fs\n",
      "  Infos/OriginalName\n",
      "  Infos/RecordingDate\n",
      "  b\n",
      "  bTrans\n",
      "  dff\n",
      "  traceName\n"
     ]
    },
    {
     "name": "stderr",
     "output_type": "stream",
     "text": [
      "WARNING:root:Variable \"/states\" was specified to be loaded but could not be found.\n"
     ]
    },
    {
     "name": "stdout",
     "output_type": "stream",
     "text": [
      "  traces\n",
      "--This file is scored\n",
      "Inserting the hypogram of mouse: MHIP05 for session: 2024-02-14\n",
      "\\\\nasdcsr.unil.ch\\RECHERCHE\\FAC\\FBM\\DNF\\aluthi1\\fbm_move\\D2c\\_PROJECTS\\PROJECT_Georgios\\LC_Proj_Neurons\\Ephys\\MHIP05\\240214_MHIP05_12hBas5_bt.mat contains the following vars:\n",
      "  #refs#\n",
      "  Infos\n",
      "  Infos/Configuration\n",
      "  Infos/Configuration/A1\n",
      "  Infos/Configuration/A2\n",
      "  Infos/Configuration/A3\n",
      "  Infos/FileLen\n",
      "  Infos/Fs\n",
      "  Infos/OriginalName\n",
      "  Infos/RecordingDate\n",
      "  b\n",
      "  bTrans\n"
     ]
    },
    {
     "name": "stderr",
     "output_type": "stream",
     "text": [
      "WARNING:root:Variable \"/states\" was specified to be loaded but could not be found.\n"
     ]
    },
    {
     "name": "stdout",
     "output_type": "stream",
     "text": [
      "  dff\n",
      "  traceName\n",
      "  traces\n",
      "--This file is scored\n",
      "Inserting the hypogram of mouse: MHIP05 for session: 2024-02-29\n",
      "\\\\nasdcsr.unil.ch\\RECHERCHE\\FAC\\FBM\\DNF\\aluthi1\\fbm_move\\D2c\\_PROJECTS\\PROJECT_Georgios\\LC_Proj_Neurons\\Ephys\\MHIP05\\240229_MHIP05_4hSSD_bt.mat contains the following vars:\n",
      "  #refs#\n",
      "  Infos\n",
      "  Infos/Configuration\n",
      "  Infos/Configuration/A1\n",
      "  Infos/Configuration/A2\n",
      "  Infos/Configuration/A3\n",
      "  Infos/FileLen\n",
      "  Infos/Fs\n",
      "  Infos/OriginalName\n",
      "  Infos/RecordingDate\n",
      "  b\n",
      "  bTrans\n",
      "  dff\n",
      "  traceName\n"
     ]
    },
    {
     "name": "stderr",
     "output_type": "stream",
     "text": [
      "WARNING:root:Variable \"/states\" was specified to be loaded but could not be found.\n"
     ]
    },
    {
     "name": "stdout",
     "output_type": "stream",
     "text": [
      "  traces\n",
      "--This file is scored\n",
      "Inserting the hypogram of mouse: MPC05 for session: 2023-08-07\n",
      "\\\\nasdcsr.unil.ch\\RECHERCHE\\FAC\\FBM\\DNF\\aluthi1\\fbm_move\\D2c\\_PROJECTS\\PROJECT_Georgios\\LC_Proj_Neurons\\Ephys\\MPC05\\230807_MPC05_12hBas1_bt.mat contains the following vars:\n",
      "  #refs#\n",
      "  Infos\n",
      "  Infos/Configuration\n",
      "  Infos/Configuration/A1\n",
      "  Infos/Configuration/A2\n",
      "  Infos/FileLen\n",
      "  Infos/Fs\n",
      "  Infos/OriginalName\n",
      "  Infos/RecordingDate\n",
      "  b\n",
      "  bTrans\n",
      "  dff\n",
      "  traceName\n"
     ]
    },
    {
     "name": "stderr",
     "output_type": "stream",
     "text": [
      "WARNING:root:Variable \"/states\" was specified to be loaded but could not be found.\n"
     ]
    },
    {
     "name": "stdout",
     "output_type": "stream",
     "text": [
      "  traces\n",
      "--This file is scored\n",
      "Inserting the hypogram of mouse: MPC05 for session: 2023-08-16\n",
      "\\\\nasdcsr.unil.ch\\RECHERCHE\\FAC\\FBM\\DNF\\aluthi1\\fbm_move\\D2c\\_PROJECTS\\PROJECT_Georgios\\LC_Proj_Neurons\\Ephys\\MPC05\\230816_MPC05_12hBas2_bt.mat contains the following vars:\n",
      "  #refs#\n",
      "  Infos\n",
      "  Infos/Configuration\n",
      "  Infos/Configuration/A1\n",
      "  Infos/FileLen\n",
      "  Infos/Fs\n",
      "  Infos/OriginalName\n",
      "  Infos/RecordingDate\n",
      "  b\n",
      "  bTrans\n",
      "  dff\n",
      "  traceName\n"
     ]
    },
    {
     "name": "stderr",
     "output_type": "stream",
     "text": [
      "WARNING:root:Variable \"/states\" was specified to be loaded but could not be found.\n"
     ]
    },
    {
     "name": "stdout",
     "output_type": "stream",
     "text": [
      "  traces\n",
      "--This file is scored\n",
      "Inserting the hypogram of mouse: MPC06 for session: 2023-11-30\n",
      "\\\\nasdcsr.unil.ch\\RECHERCHE\\FAC\\FBM\\DNF\\aluthi1\\fbm_move\\D2c\\_PROJECTS\\PROJECT_Georgios\\LC_Proj_Neurons\\Ephys\\MPC06\\231130_MPC06_12hBas1_bt.mat contains the following vars:\n",
      "  #refs#\n",
      "  Infos\n",
      "  Infos/Configuration\n",
      "  Infos/Configuration/A1\n",
      "  Infos/Configuration/A2\n",
      "  Infos/Configuration/A3\n",
      "  Infos/Configuration/A4\n",
      "  Infos/FileLen\n",
      "  Infos/Fs\n",
      "  Infos/OriginalName\n",
      "  Infos/RecordingDate\n",
      "  b\n",
      "  bTrans\n",
      "  dff\n",
      "  traceName\n"
     ]
    },
    {
     "name": "stderr",
     "output_type": "stream",
     "text": [
      "WARNING:root:Variable \"/states\" was specified to be loaded but could not be found.\n"
     ]
    },
    {
     "name": "stdout",
     "output_type": "stream",
     "text": [
      "  traces\n",
      "--This file is scored\n",
      "Inserting the hypogram of mouse: MPC06 for session: 2023-12-04\n",
      "\\\\nasdcsr.unil.ch\\RECHERCHE\\FAC\\FBM\\DNF\\aluthi1\\fbm_move\\D2c\\_PROJECTS\\PROJECT_Georgios\\LC_Proj_Neurons\\Ephys\\MPC06\\231204_MPC06_12hBas2_bt.mat contains the following vars:\n",
      "  #refs#\n",
      "  Infos\n",
      "  Infos/Configuration\n",
      "  Infos/Configuration/A1\n",
      "  Infos/Configuration/A2\n",
      "  Infos/Configuration/A3\n",
      "  Infos/Configuration/A4\n",
      "  Infos/FileLen\n",
      "  Infos/Fs\n",
      "  Infos/OriginalName\n",
      "  Infos/RecordingDate\n",
      "  b\n",
      "  bTrans\n",
      "  dff\n",
      "  traceName\n",
      "  traces\n"
     ]
    },
    {
     "name": "stderr",
     "output_type": "stream",
     "text": [
      "WARNING:root:Variable \"/states\" was specified to be loaded but could not be found.\n"
     ]
    },
    {
     "name": "stdout",
     "output_type": "stream",
     "text": [
      "--This file is scored\n",
      "Inserting the hypogram of mouse: MPC06 for session: 2024-01-08\n",
      "\\\\nasdcsr.unil.ch\\RECHERCHE\\FAC\\FBM\\DNF\\aluthi1\\fbm_move\\D2c\\_PROJECTS\\PROJECT_Georgios\\LC_Proj_Neurons\\Ephys\\MPC06\\240108_MPC06_4hSD_bt.mat contains the following vars:\n",
      "  #refs#\n",
      "  Infos\n",
      "  Infos/Configuration\n",
      "  Infos/Configuration/A1\n",
      "  Infos/Configuration/A2\n",
      "  Infos/Configuration/A3\n",
      "  Infos/Configuration/A4\n",
      "  Infos/FileLen\n",
      "  Infos/Fs\n",
      "  Infos/OriginalName\n",
      "  Infos/RecordingDate\n",
      "  b\n",
      "  bTrans\n",
      "  dff\n",
      "  traceName\n",
      "  traces\n"
     ]
    },
    {
     "name": "stderr",
     "output_type": "stream",
     "text": [
      "WARNING:root:Variable \"/states\" was specified to be loaded but could not be found.\n"
     ]
    },
    {
     "name": "stdout",
     "output_type": "stream",
     "text": [
      "--This file is scored\n",
      "Inserting the hypogram of mouse: MPC06 for session: 2024-01-29\n",
      "\\\\nasdcsr.unil.ch\\RECHERCHE\\FAC\\FBM\\DNF\\aluthi1\\fbm_move\\D2c\\_PROJECTS\\PROJECT_Georgios\\LC_Proj_Neurons\\Ephys\\MPC06\\240129_MPC06_4hSSD_bt.mat contains the following vars:\n",
      "  #refs#\n",
      "  Infos\n",
      "  Infos/Configuration\n",
      "  Infos/Configuration/A1\n",
      "  Infos/Configuration/A2\n",
      "  Infos/Configuration/A3\n",
      "  Infos/FileLen\n",
      "  Infos/Fs\n",
      "  Infos/OriginalName\n",
      "  Infos/RecordingDate\n",
      "  b\n",
      "  bTrans\n",
      "  dff\n",
      "  traceName\n"
     ]
    },
    {
     "name": "stderr",
     "output_type": "stream",
     "text": [
      "WARNING:root:Variable \"/states\" was specified to be loaded but could not be found.\n"
     ]
    },
    {
     "name": "stdout",
     "output_type": "stream",
     "text": [
      "  traces\n",
      "--This file is scored\n",
      "Inserting the hypogram of mouse: MPC08 for session: 2024-03-25\n",
      "\\\\nasdcsr.unil.ch\\RECHERCHE\\FAC\\FBM\\DNF\\aluthi1\\fbm_move\\D2c\\_PROJECTS\\PROJECT_Georgios\\LC_Proj_Neurons\\Ephys\\MPC08\\240325_MPC08_12hBas1_bt.mat contains the following vars:\n",
      "  #refs#\n",
      "  Infos\n",
      "  Infos/Configuration\n",
      "  Infos/Configuration/A1\n",
      "  Infos/FileLen\n",
      "  Infos/Fs\n",
      "  Infos/OriginalName\n",
      "  Infos/RecordingDate\n",
      "  b\n",
      "  bTrans\n",
      "  dff\n",
      "  traceName\n"
     ]
    },
    {
     "name": "stderr",
     "output_type": "stream",
     "text": [
      "WARNING:root:Variable \"/states\" was specified to be loaded but could not be found.\n"
     ]
    },
    {
     "name": "stdout",
     "output_type": "stream",
     "text": [
      "  traces\n",
      "--This file is scored\n",
      "Inserting the hypogram of mouse: THAL01 for session: 2023-08-11\n",
      "\\\\nasdcsr.unil.ch\\RECHERCHE\\FAC\\FBM\\DNF\\aluthi1\\fbm_move\\D2c\\_PROJECTS\\PROJECT_Georgios\\LC_Proj_Neurons\\Ephys\\THAL01\\230811_THAL01_12hBas1_bt.mat contains the following vars:\n",
      "  #refs#\n",
      "  Infos\n",
      "  Infos/Configuration\n",
      "  Infos/Configuration/A1\n",
      "  Infos/Configuration/A2\n",
      "  Infos/FileLen\n",
      "  Infos/Fs\n",
      "  Infos/OriginalName\n",
      "  Infos/RecordingDate\n",
      "  b\n",
      "  bTrans\n",
      "  dff\n",
      "  traceName\n"
     ]
    },
    {
     "name": "stderr",
     "output_type": "stream",
     "text": [
      "WARNING:root:Variable \"/states\" was specified to be loaded but could not be found.\n"
     ]
    },
    {
     "name": "stdout",
     "output_type": "stream",
     "text": [
      "  traces\n",
      "--This file is scored\n",
      "Inserting the hypogram of mouse: THAL01 for session: 2023-08-18\n",
      "\\\\nasdcsr.unil.ch\\RECHERCHE\\FAC\\FBM\\DNF\\aluthi1\\fbm_move\\D2c\\_PROJECTS\\PROJECT_Georgios\\LC_Proj_Neurons\\Ephys\\THAL01\\230818_THAL01_12hBas2_bt.mat contains the following vars:\n",
      "  #refs#\n",
      "  Infos\n",
      "  Infos/Configuration\n",
      "  Infos/Configuration/A1\n",
      "  Infos/FileLen\n",
      "  Infos/Fs\n",
      "  Infos/OriginalName\n",
      "  Infos/RecordingDate\n",
      "  b\n",
      "  bTrans\n",
      "  dff\n",
      "  traceName\n"
     ]
    },
    {
     "name": "stderr",
     "output_type": "stream",
     "text": [
      "WARNING:root:Variable \"/states\" was specified to be loaded but could not be found.\n"
     ]
    },
    {
     "name": "stdout",
     "output_type": "stream",
     "text": [
      "  traces\n",
      "--This file is scored\n",
      "Inserting the hypogram of mouse: THAL01 for session: 2023-10-04\n",
      "\\\\nasdcsr.unil.ch\\RECHERCHE\\FAC\\FBM\\DNF\\aluthi1\\fbm_move\\D2c\\_PROJECTS\\PROJECT_Georgios\\LC_Proj_Neurons\\Ephys\\THAL01\\231004_THAL01_4hSD_bt.mat contains the following vars:\n",
      "  #refs#\n",
      "  Infos\n",
      "  Infos/Configuration\n",
      "  Infos/Configuration/A1\n",
      "  Infos/Configuration/A2\n",
      "  Infos/FileLen\n",
      "  Infos/Fs\n",
      "  Infos/OriginalName\n",
      "  Infos/RecordingDate\n",
      "  b\n",
      "  bTrans\n",
      "  dff\n",
      "  traceName\n",
      "  traces\n"
     ]
    },
    {
     "name": "stderr",
     "output_type": "stream",
     "text": [
      "WARNING:root:Variable \"/states\" was specified to be loaded but could not be found.\n"
     ]
    },
    {
     "name": "stdout",
     "output_type": "stream",
     "text": [
      "--This file is scored\n",
      "Inserting the hypogram of mouse: THAL01 for session: 2023-10-11\n",
      "\\\\nasdcsr.unil.ch\\RECHERCHE\\FAC\\FBM\\DNF\\aluthi1\\fbm_move\\D2c\\_PROJECTS\\PROJECT_Georgios\\LC_Proj_Neurons\\Ephys\\THAL01\\231011_THAL01_4hSSD_bt.mat contains the following vars:\n",
      "  #refs#\n",
      "  Infos\n",
      "  Infos/Configuration\n",
      "  Infos/Configuration/A1\n",
      "  Infos/Configuration/A2\n",
      "  Infos/FileLen\n",
      "  Infos/Fs\n",
      "  Infos/OriginalName\n",
      "  Infos/RecordingDate\n",
      "  b\n",
      "  bTrans\n",
      "  dff\n",
      "  traceName\n"
     ]
    },
    {
     "name": "stderr",
     "output_type": "stream",
     "text": [
      "WARNING:root:Variable \"/states\" was specified to be loaded but could not be found.\n"
     ]
    },
    {
     "name": "stdout",
     "output_type": "stream",
     "text": [
      "  traces\n",
      "--This file is scored\n",
      "Inserting the hypogram of mouse: THAL02 for session: 2023-11-30\n",
      "\\\\nasdcsr.unil.ch\\RECHERCHE\\FAC\\FBM\\DNF\\aluthi1\\fbm_move\\D2c\\_PROJECTS\\PROJECT_Georgios\\LC_Proj_Neurons\\Ephys\\THAL02\\231130_THAL02_12Bas1_bt.mat contains the following vars:\n",
      "  #refs#\n",
      "  Infos\n",
      "  Infos/Configuration\n",
      "  Infos/Configuration/A1\n",
      "  Infos/Configuration/A2\n",
      "  Infos/Configuration/A3\n",
      "  Infos/Configuration/A4\n",
      "  Infos/FileLen\n",
      "  Infos/Fs\n",
      "  Infos/OriginalName\n",
      "  Infos/RecordingDate\n",
      "  b\n",
      "  bTrans\n"
     ]
    },
    {
     "name": "stderr",
     "output_type": "stream",
     "text": [
      "WARNING:root:Variable \"/states\" was specified to be loaded but could not be found.\n"
     ]
    },
    {
     "name": "stdout",
     "output_type": "stream",
     "text": [
      "  traces\n",
      "--This file is scored\n",
      "Inserting the hypogram of mouse: THAL02 for session: 2023-12-04\n",
      "\\\\nasdcsr.unil.ch\\RECHERCHE\\FAC\\FBM\\DNF\\aluthi1\\fbm_move\\D2c\\_PROJECTS\\PROJECT_Georgios\\LC_Proj_Neurons\\Ephys\\THAL02\\231204_THAL02_12Bas2_bt.mat contains the following vars:\n",
      "  #refs#\n",
      "  Infos\n",
      "  Infos/Configuration\n",
      "  Infos/Configuration/A1\n",
      "  Infos/Configuration/A2\n",
      "  Infos/Configuration/A3\n",
      "  Infos/Configuration/A4\n",
      "  Infos/FileLen\n",
      "  Infos/Fs\n",
      "  Infos/OriginalName\n",
      "  Infos/RecordingDate\n",
      "  b\n",
      "  bTrans\n",
      "  dff\n",
      "  traceName\n"
     ]
    },
    {
     "name": "stderr",
     "output_type": "stream",
     "text": [
      "WARNING:root:Variable \"/states\" was specified to be loaded but could not be found.\n"
     ]
    },
    {
     "name": "stdout",
     "output_type": "stream",
     "text": [
      "  traces\n",
      "--This file is scored\n",
      "Inserting the hypogram of mouse: THAL04 for session: 2024-02-06\n",
      "\\\\nasdcsr.unil.ch\\RECHERCHE\\FAC\\FBM\\DNF\\aluthi1\\fbm_move\\D2c\\_PROJECTS\\PROJECT_Georgios\\LC_Proj_Neurons\\Ephys\\THAL04\\240206_THAL04_12hBas1_bt.mat contains the following vars:\n",
      "  #refs#\n",
      "  Infos\n",
      "  Infos/Configuration\n",
      "  Infos/Configuration/A1\n",
      "  Infos/Configuration/A2\n",
      "  Infos/Configuration/A3\n",
      "  Infos/FileLen\n",
      "  Infos/Fs\n",
      "  Infos/OriginalName\n",
      "  Infos/RecordingDate\n",
      "  b\n",
      "  bTrans\n",
      "  dff\n",
      "  traceName\n"
     ]
    },
    {
     "name": "stderr",
     "output_type": "stream",
     "text": [
      "WARNING:root:Variable \"/states\" was specified to be loaded but could not be found.\n"
     ]
    },
    {
     "name": "stdout",
     "output_type": "stream",
     "text": [
      "  traces\n",
      "--This file is scored\n",
      "Inserting the hypogram of mouse: THAL04 for session: 2024-02-12\n",
      "\\\\nasdcsr.unil.ch\\RECHERCHE\\FAC\\FBM\\DNF\\aluthi1\\fbm_move\\D2c\\_PROJECTS\\PROJECT_Georgios\\LC_Proj_Neurons\\Ephys\\THAL04\\240212_THAL04_4hSD_bt.mat contains the following vars:\n",
      "  #refs#\n",
      "  Infos\n",
      "  Infos/Configuration\n",
      "  Infos/Configuration/A1\n",
      "  Infos/Configuration/A2\n",
      "  Infos/Configuration/A3\n",
      "  Infos/FileLen\n",
      "  Infos/Fs\n",
      "  Infos/OriginalName\n",
      "  Infos/RecordingDate\n",
      "  b\n",
      "  bTrans\n",
      "  dff\n",
      "  traceName\n"
     ]
    },
    {
     "name": "stderr",
     "output_type": "stream",
     "text": [
      "WARNING:root:Variable \"/states\" was specified to be loaded but could not be found.\n"
     ]
    },
    {
     "name": "stdout",
     "output_type": "stream",
     "text": [
      "  traces\n",
      "--This file is scored\n",
      "Inserting the hypogram of mouse: THAL04 for session: 2024-02-14\n",
      "\\\\nasdcsr.unil.ch\\RECHERCHE\\FAC\\FBM\\DNF\\aluthi1\\fbm_move\\D2c\\_PROJECTS\\PROJECT_Georgios\\LC_Proj_Neurons\\Ephys\\THAL04\\240214_THAL04_12hBas2_bt.mat contains the following vars:\n",
      "  #refs#\n",
      "  Infos\n",
      "  Infos/Configuration\n",
      "  Infos/Configuration/A1\n",
      "  Infos/Configuration/A2\n",
      "  Infos/Configuration/A3\n",
      "  Infos/FileLen\n",
      "  Infos/Fs\n",
      "  Infos/OriginalName\n",
      "  Infos/RecordingDate\n",
      "  b\n",
      "  bTrans\n"
     ]
    },
    {
     "name": "stderr",
     "output_type": "stream",
     "text": [
      "WARNING:root:Variable \"/states\" was specified to be loaded but could not be found.\n"
     ]
    },
    {
     "name": "stdout",
     "output_type": "stream",
     "text": [
      "  dff\n",
      "  traceName\n",
      "  traces\n",
      "--This file is scored\n",
      "Inserting the hypogram of mouse: THAL04 for session: 2024-02-29\n",
      "\\\\nasdcsr.unil.ch\\RECHERCHE\\FAC\\FBM\\DNF\\aluthi1\\fbm_move\\D2c\\_PROJECTS\\PROJECT_Georgios\\LC_Proj_Neurons\\Ephys\\THAL04\\240229_THAL04_4hSSD_bt.mat contains the following vars:\n",
      "  #refs#\n",
      "  Infos\n",
      "  Infos/Configuration\n",
      "  Infos/Configuration/A1\n",
      "  Infos/Configuration/A2\n",
      "  Infos/Configuration/A3\n",
      "  Infos/FileLen\n",
      "  Infos/Fs\n",
      "  Infos/OriginalName\n",
      "  Infos/RecordingDate\n",
      "  b\n",
      "  bTrans\n"
     ]
    },
    {
     "name": "stderr",
     "output_type": "stream",
     "text": [
      "WARNING:root:Variable \"/states\" was specified to be loaded but could not be found.\n"
     ]
    },
    {
     "name": "stdout",
     "output_type": "stream",
     "text": [
      "  dff\n",
      "  traceName\n",
      "  traces\n",
      "--This file is scored\n",
      "Inserting the hypogram of mouse: THAL06 for session: 2024-04-15\n",
      "\\\\nasdcsr.unil.ch\\RECHERCHE\\FAC\\FBM\\DNF\\aluthi1\\fbm_move\\D2c\\_PROJECTS\\PROJECT_Georgios\\LC_Proj_Neurons\\Ephys\\THAL06\\240415_THAL06_12hBas1_bt.mat contains the following vars:\n",
      "  #refs#\n",
      "  Infos\n",
      "  Infos/Configuration\n",
      "  Infos/Configuration/A1\n",
      "  Infos/Configuration/A2\n",
      "  Infos/Configuration/A3\n",
      "  Infos/FileLen\n",
      "  Infos/Fs\n",
      "  Infos/OriginalName\n",
      "  Infos/RecordingDate\n",
      "  b\n",
      "  bTrans\n",
      "  dff\n",
      "  traceName\n",
      "  traces\n",
      "--This file is scored\n"
     ]
    }
   ],
   "source": [
    "lcProj.Person.insert1(['GF','gfoustou','Georgios Foustoukos'],skip_duplicates = True)\n",
    "lcProj.WindowCalculationDFFStates.insert([[3],[6]],skip_duplicates = True)\n",
    "lcProj.Rig.insert([['Neurobau1.26','Neurobau1 room 26'],['Neurobau1.32','Neurobau1 room 32']],skip_duplicates = True)\n",
    "inject_mice_csv_batch()\n",
    "inject_sessions()\n",
    "lcProj.Hypnogram.populate()"
   ]
  },
  {
   "cell_type": "code",
   "execution_count": 2,
   "id": "6f6d7d9f-d288-420f-9ba5-69ee43910bfb",
   "metadata": {},
   "outputs": [
    {
     "name": "stdout",
     "output_type": "stream",
     "text": [
      "Inserting the DFF of mouse: THAL02 for session: 2023-11-30\n",
      "Inserting the DFF of mouse: THAL02 for session: 2023-12-04\n",
      "Inserting the DFF of mouse: THAL04 for session: 2024-02-06\n",
      "Inserting the DFF of mouse: THAL04 for session: 2024-02-12\n",
      "Inserting the DFF of mouse: THAL04 for session: 2024-02-14\n",
      "Inserting the DFF of mouse: THAL04 for session: 2024-02-29\n",
      "Inserting the DFF of mouse: THAL06 for session: 2024-04-15\n"
     ]
    }
   ],
   "source": [
    "lcProj.FibDFF.populate()"
   ]
  },
  {
   "cell_type": "code",
   "execution_count": 3,
   "id": "0c2400b2-d1ef-43c9-bc08-d6b0df108f71",
   "metadata": {},
   "outputs": [],
   "source": [
    "dff = (lcProj.FibDFF & 'mouse_name = \"THAL06\"').fetch1('dff')\n",
    "time = (lcProj.FibDFF & 'mouse_name = \"THAL06\"').fetch1('timestamps')"
   ]
  },
  {
   "cell_type": "code",
   "execution_count": 2,
   "id": "3473c14e-4f9d-41dd-8f75-1a275fd4e0cc",
   "metadata": {},
   "outputs": [],
   "source": [
    "from Schema.UsefulFunctions import ElimMA, deltaDynamics, maDynamics, CorrectMirrorAnimals, findPosFromTimestamps"
   ]
  },
  {
   "cell_type": "code",
   "execution_count": 24,
   "id": "43732f89-c0b1-487e-a9c1-6dbc0358140d",
   "metadata": {},
   "outputs": [],
   "source": [
    "bfile = 'wrrrwwwwww'"
   ]
  },
  {
   "cell_type": "code",
   "execution_count": 25,
   "id": "5474ae34-7344-4025-bf57-af5b334751d3",
   "metadata": {},
   "outputs": [],
   "source": [
    "REMbouts = re.finditer('[r3]{3,}',bfile)\n"
   ]
  },
  {
   "cell_type": "code",
   "execution_count": 26,
   "id": "3b72503c-3a67-4768-8613-fc86ca613bd8",
   "metadata": {},
   "outputs": [
    {
     "name": "stdout",
     "output_type": "stream",
     "text": [
      "1\n",
      "3\n"
     ]
    }
   ],
   "source": [
    "for idx, trans in enumerate(REMbouts):\n",
    "    Beg = list(trans.span())[0]\n",
    "    End = list(trans.span())[1] - 1\n",
    "\n",
    "    print(Beg)\n",
    "    print(End)"
   ]
  },
  {
   "cell_type": "code",
   "execution_count": 17,
   "id": "a8c39832-b134-41e0-ac62-fc327d7d5d22",
   "metadata": {},
   "outputs": [],
   "source": [
    "BegDFF = findPosFromTimestamps(time, Beg*4)\n",
    "EndDFF = findPosFromTimestamps(time, End*4)\n"
   ]
  },
  {
   "cell_type": "code",
   "execution_count": 18,
   "id": "fbce22d5-75f2-480f-bea0-04b3cff07dd4",
   "metadata": {},
   "outputs": [
    {
     "data": {
      "text/plain": [
       "235"
      ]
     },
     "execution_count": 18,
     "metadata": {},
     "output_type": "execute_result"
    }
   ],
   "source": [
    "BegDFF"
   ]
  },
  {
   "cell_type": "code",
   "execution_count": 19,
   "id": "57c86902-8dfe-4261-b728-ad482423b4cf",
   "metadata": {},
   "outputs": [
    {
     "data": {
      "text/plain": [
       "4.000521"
      ]
     },
     "execution_count": 19,
     "metadata": {},
     "output_type": "execute_result"
    }
   ],
   "source": [
    "time[235]"
   ]
  },
  {
   "cell_type": "code",
   "execution_count": 22,
   "id": "c558975d-6acb-4e26-bc3c-bc129bf76508",
   "metadata": {},
   "outputs": [
    {
     "data": {
      "text/plain": [
       "15.985721"
      ]
     },
     "execution_count": 22,
     "metadata": {},
     "output_type": "execute_result"
    }
   ],
   "source": [
    "time[EndDFF-1]"
   ]
  },
  {
   "cell_type": "code",
   "execution_count": 23,
   "id": "ff263744-cc9d-4e28-8ccd-fb1c92c4e669",
   "metadata": {},
   "outputs": [
    {
     "data": {
      "text/plain": [
       "[235, 958]"
      ]
     },
     "execution_count": 23,
     "metadata": {},
     "output_type": "execute_result"
    }
   ],
   "source": [
    "[BegDFF,EndDFF]"
   ]
  },
  {
   "cell_type": "code",
   "execution_count": 32,
   "id": "ad2ecdb3-612e-438c-8451-b7c5c4bdfa1f",
   "metadata": {},
   "outputs": [],
   "source": [
    "import mat73\n",
    "\n",
    "key = {'mouse_name':\"MHIP03\",\n",
    "       'session_date':\"2023-08-21\"}"
   ]
  },
  {
   "cell_type": "code",
   "execution_count": 34,
   "id": "187a1fe0-3398-4649-a393-24a5a90cb963",
   "metadata": {},
   "outputs": [],
   "source": [
    "\n",
    "key = {'mouse_name':\"AMYG01\",\n",
    "       'session_date':\"2023-11-30\"}"
   ]
  },
  {
   "cell_type": "code",
   "execution_count": 35,
   "id": "56181b01-9ee7-4ed5-969c-a8d853104482",
   "metadata": {},
   "outputs": [],
   "source": [
    "fileToRead = (lcProj.Session & key).fetch1('file_name')"
   ]
  },
  {
   "cell_type": "code",
   "execution_count": 36,
   "id": "302a1305-bd86-4be1-8234-77495944410a",
   "metadata": {},
   "outputs": [],
   "source": [
    "fileToRead = (lcProj.Session & key).fetch1('file_name')\n",
    "fileDff = mat73.loadmat(fileToRead, only_include='dff')"
   ]
  },
  {
   "cell_type": "code",
   "execution_count": 3,
   "id": "187c5212-76b5-4ede-b584-d09de3767a91",
   "metadata": {},
   "outputs": [
    {
     "data": {
      "text/html": [
       "\n",
       "    \n",
       "    <style type=\"text/css\">\n",
       "        .Relation{\n",
       "            border-collapse:collapse;\n",
       "        }\n",
       "        .Relation th{\n",
       "            background: #A0A0A0; color: #ffffff; padding:4px; border:#f0e0e0 1px solid;\n",
       "            font-weight: normal; font-family: monospace; font-size: 100%;\n",
       "        }\n",
       "        .Relation td{\n",
       "            padding:4px; border:#f0e0e0 1px solid; font-size:100%;\n",
       "        }\n",
       "        .Relation tr:nth-child(odd){\n",
       "            background: #ffffff;\n",
       "        }\n",
       "        .Relation tr:nth-child(even){\n",
       "            background: #f3f1ff;\n",
       "        }\n",
       "        /* Tooltip container */\n",
       "        .djtooltip {\n",
       "        }\n",
       "        /* Tooltip text */\n",
       "        .djtooltip .djtooltiptext {\n",
       "            visibility: hidden;\n",
       "            width: 120px;\n",
       "            background-color: black;\n",
       "            color: #fff;\n",
       "            text-align: center;\n",
       "            padding: 5px 0;\n",
       "            border-radius: 6px;\n",
       "            /* Position the tooltip text - see examples below! */\n",
       "            position: absolute;\n",
       "            z-index: 1;\n",
       "        }\n",
       "        #primary {\n",
       "            font-weight: bold;\n",
       "            color: black;\n",
       "        }\n",
       "        #nonprimary {\n",
       "            font-weight: normal;\n",
       "            color: white;\n",
       "        }\n",
       "\n",
       "        /* Show the tooltip text when you mouse over the tooltip container */\n",
       "        .djtooltip:hover .djtooltiptext {\n",
       "            visibility: visible;\n",
       "        }\n",
       "    </style>\n",
       "    \n",
       "    <b>Mouse details as being imported by slims</b>\n",
       "        <div style=\"max-height:1000px;max-width:1500px;overflow:auto;\">\n",
       "        <table border=\"1\" class=\"Relation\">\n",
       "            <thead> <tr style=\"text-align: right;\"> <th> <div class=\"djtooltip\">\n",
       "                            <p id=\"primary\">mouse_name</p>\n",
       "                            <span class=\"djtooltiptext\">unique mouse name</span>\n",
       "                        </div></th><th><div class=\"djtooltip\">\n",
       "                            <p id=\"nonprimary\">responsible_experimenter</p>\n",
       "                            <span class=\"djtooltiptext\">person responsible for this mouse</span>\n",
       "                        </div></th><th><div class=\"djtooltip\">\n",
       "                            <p id=\"nonprimary\">pyrat_id</p>\n",
       "                            <span class=\"djtooltiptext\">mouse id as in Pyrat</span>\n",
       "                        </div></th><th><div class=\"djtooltip\">\n",
       "                            <p id=\"nonprimary\">genotype</p>\n",
       "                            <span class=\"djtooltiptext\">mouse strain as in Pyrat</span>\n",
       "                        </div></th><th><div class=\"djtooltip\">\n",
       "                            <p id=\"nonprimary\">gender</p>\n",
       "                            <span class=\"djtooltiptext\">mouse gender as in Pyrat</span>\n",
       "                        </div></th><th><div class=\"djtooltip\">\n",
       "                            <p id=\"nonprimary\">birth_date</p>\n",
       "                            <span class=\"djtooltiptext\">date of birth of the mouse as in Pyrat</span>\n",
       "                        </div></th><th><div class=\"djtooltip\">\n",
       "                            <p id=\"nonprimary\">licence</p>\n",
       "                            <span class=\"djtooltiptext\">licence number of the experiment</span>\n",
       "                        </div></th><th><div class=\"djtooltip\">\n",
       "                            <p id=\"nonprimary\">dg</p>\n",
       "                            <span class=\"djtooltiptext\">degree of severity according to animal licence</span>\n",
       "                        </div></th><th><div class=\"djtooltip\">\n",
       "                            <p id=\"nonprimary\">start_date</p>\n",
       "                            <span class=\"djtooltiptext\">start date of the experiment</span>\n",
       "                        </div></th><th><div class=\"djtooltip\">\n",
       "                            <p id=\"nonprimary\">age</p>\n",
       "                            <span class=\"djtooltiptext\">age of the animal the time of the experiment</span>\n",
       "                        </div></th><th><div class=\"djtooltip\">\n",
       "                            <p id=\"nonprimary\">sacrifice_date</p>\n",
       "                            <span class=\"djtooltiptext\">sacrifice date of the animal</span>\n",
       "                        </div></th><th><div class=\"djtooltip\">\n",
       "                            <p id=\"nonprimary\">filename</p>\n",
       "                            <span class=\"djtooltiptext\">the name of the file from which the data were injected</span>\n",
       "                        </div></th><th><div class=\"djtooltip\">\n",
       "                            <p id=\"nonprimary\">proj_type</p>\n",
       "                            <span class=\"djtooltiptext\">LC projection neuron type measured for this mouse</span>\n",
       "                        </div> </th> </tr> </thead>\n",
       "            <tbody> <tr> <td>MHIP06</td>\n",
       "<td>Georgios Foustoukos</td>\n",
       "<td>25963</td>\n",
       "<td>C57BL/6J</td>\n",
       "<td>m</td>\n",
       "<td>14.01.2024</td>\n",
       "<td>2401.4</td>\n",
       "<td>2.0</td>\n",
       "<td>17.04.2024</td>\n",
       "<td>Ongoing</td>\n",
       "<td>dCA1</td>\n",
       "<td>MiceLCProj.csv</td>\n",
       "<td>NoData</td> </tr> </tbody>\n",
       "        </table>\n",
       "        \n",
       "        <p>Total: 1</p></div>\n",
       "        "
      ],
      "text/plain": [
       "*mouse_name    responsible_ex pyrat_id     genotype     gender     birth_date     licence     dg      start_date     age         sacrifice_date filename       proj_type    \n",
       "+------------+ +------------+ +----------+ +----------+ +--------+ +------------+ +---------+ +-----+ +------------+ +---------+ +------------+ +------------+ +-----------+\n",
       "MHIP06         Georgios Foust 25963        C57BL/6J     m          14.01.2024     2401.4      2.0     17.04.2024     Ongoing     dCA1           MiceLCProj.csv NoData       \n",
       " (Total: 1)"
      ]
     },
     "execution_count": 3,
     "metadata": {},
     "output_type": "execute_result"
    }
   ],
   "source": [
    "lcProj.Mouse & 'mouse_name = \"MHIP06\"'"
   ]
  },
  {
   "cell_type": "code",
   "execution_count": 39,
   "id": "0067b25d-39a2-4063-a9d2-0e04f0c4a140",
   "metadata": {},
   "outputs": [],
   "source": [
    "dffSamples = fileDff['dff'][1,:]"
   ]
  },
  {
   "cell_type": "code",
   "execution_count": 40,
   "id": "c3414e0f-a048-4dc4-86be-f5c54e0756ad",
   "metadata": {},
   "outputs": [
    {
     "data": {
      "text/plain": [
       "(4347097,)"
      ]
     },
     "execution_count": 40,
     "metadata": {},
     "output_type": "execute_result"
    }
   ],
   "source": [
    "dffSamples.shape"
   ]
  },
  {
   "cell_type": "code",
   "execution_count": 29,
   "id": "10165d9f-6536-4035-b2ed-2739cd3860ed",
   "metadata": {},
   "outputs": [],
   "source": [
    "timestamps = np.transpose(np.arange(0,12,1/36000))\n"
   ]
  },
  {
   "cell_type": "code",
   "execution_count": 31,
   "id": "7c6f4277-c878-40f5-b8a7-580980887fc8",
   "metadata": {},
   "outputs": [
    {
     "data": {
      "text/plain": [
       "(432000,)"
      ]
     },
     "execution_count": 31,
     "metadata": {},
     "output_type": "execute_result"
    }
   ],
   "source": [
    "timestamps.shape"
   ]
  },
  {
   "cell_type": "code",
   "execution_count": 2,
   "id": "e7a62718-78ee-45d0-9bd3-42e1477c9770",
   "metadata": {
    "tags": []
   },
   "outputs": [
    {
     "name": "stdout",
     "output_type": "stream",
     "text": [
      "****\n",
      "E:\\aluthi1\\sleep\\D2c\\PROJECT_Georgios\\LC_Proj_Neurons\\MiceMetaData\n"
     ]
    },
    {
     "name": "stderr",
     "output_type": "stream",
     "text": [
      "1it [00:00, 30.19it/s]\n"
     ]
    },
    {
     "name": "stdout",
     "output_type": "stream",
     "text": [
      "E:\\aluthi1\\sleep\\D2c\\PROJECT_Georgios\\LC_Proj_Neurons\\MiceMetaData\\MiceLCProj.csv\n",
      "Everything is fine.\n",
      "{'mouse_name': 'AMYG01', 'responsible_experimenter': 'Georgios Foustoukos', 'pyrat_id': 25249, 'genotype': 'C57BL/6J', 'gender': 'f', 'birth_date': '19.08.2023', 'licence': '2401.4', 'dg': 2, 'start_date': '30.11.2023', 'age': 10, 'sacrifice_date': '06.02.2024', 'proj_type': 'Amy', 'filename': 'MiceLCProj.csv'}\n",
      "AMYG01 has been ingested.\n",
      "Everything is fine.\n",
      "{'mouse_name': 'AMYG02', 'responsible_experimenter': 'Georgios Foustoukos', 'pyrat_id': 25533, 'genotype': 'C57BL/6J', 'gender': 'm', 'birth_date': '25.10.2023', 'licence': '2401.4', 'dg': 2, 'start_date': '24.01.2024', 'age': 12, 'sacrifice_date': '11.03.2024', 'proj_type': 'Amy', 'filename': 'MiceLCProj.csv'}\n",
      "AMYG02 has been ingested.\n",
      "Everything is fine.\n",
      "{'mouse_name': 'MHIP03', 'responsible_experimenter': 'Georgios Foustoukos', 'pyrat_id': 24813, 'genotype': 'C57BL/6J', 'gender': 'm', 'birth_date': '02.06.2023', 'licence': '2401.4', 'dg': 2, 'start_date': '23.03.2022', 'age': 11, 'sacrifice_date': '01.05.2022', 'proj_type': 'dCA1', 'filename': 'MiceLCProj.csv'}\n",
      "MHIP03 has been ingested.\n",
      "Everything is fine.\n",
      "{'mouse_name': 'MHIP05', 'responsible_experimenter': 'Georgios Foustoukos', 'pyrat_id': 25516, 'genotype': 'C57BL/6J', 'gender': 'm', 'birth_date': '14.10.2023', 'licence': '2401.4', 'dg': 2, 'start_date': '21.08.2023', 'age': 10, 'sacrifice_date': '11.03.2024', 'proj_type': 'dCA1', 'filename': 'MiceLCProj.csv'}\n",
      "MHIP05 has been ingested.\n",
      "Everything is fine.\n",
      "{'mouse_name': 'MHIP06', 'responsible_experimenter': 'Georgios Foustoukos', 'pyrat_id': 25963, 'genotype': 'C57BL/6J', 'gender': 'm', 'birth_date': '14.01.2024', 'licence': '2401.4', 'dg': 2, 'start_date': '17.04.2024', 'age': 12, 'sacrifice_date': 'Ongoing', 'proj_type': 'dCA1', 'filename': 'MiceLCProj.csv'}\n",
      "MHIP06 has been ingested.\n",
      "Everything is fine.\n",
      "{'mouse_name': 'MPC05', 'responsible_experimenter': 'Georgios Foustoukos', 'pyrat_id': 24344, 'genotype': 'C57BL/6J', 'gender': 'm', 'birth_date': '25.03.2023', 'licence': '2401.4', 'dg': 2, 'start_date': '23.03.2022', 'age': 11, 'sacrifice_date': '06.02.2024', 'proj_type': 'mPFC', 'filename': 'MiceLCProj.csv'}\n",
      "MPC05 has been ingested.\n",
      "Everything is fine.\n",
      "{'mouse_name': 'MPC06', 'responsible_experimenter': 'Georgios Foustoukos', 'pyrat_id': 25185, 'genotype': 'C57BL/6J', 'gender': 'm', 'birth_date': '05.08.2023', 'licence': '2401.4', 'dg': 2, 'start_date': '30.11.2023', 'age': 10, 'sacrifice_date': '06.02.2024', 'proj_type': 'mPFC', 'filename': 'MiceLCProj.csv'}\n",
      "MPC06 has been ingested.\n",
      "Everything is fine.\n",
      "{'mouse_name': 'THAL01', 'responsible_experimenter': 'Georgios Foustoukos', 'pyrat_id': 24755, 'genotype': 'C57BL/6J', 'gender': 'm', 'birth_date': '20.05.2023', 'licence': '2401.4', 'dg': 2, 'start_date': '28.03.2022', 'age': 12, 'sacrifice_date': '02.06.2024', 'proj_type': 'Thal', 'filename': 'MiceLCProj.csv'}\n",
      "THAL01 has been ingested.\n",
      "Everything is fine.\n",
      "{'mouse_name': 'THAL02', 'responsible_experimenter': 'Georgios Foustoukos', 'pyrat_id': 25248, 'genotype': 'C57BL/6J', 'gender': 'f', 'birth_date': '19.08.2023', 'licence': '2401.4', 'dg': 2, 'start_date': '30.11.2023', 'age': 16, 'sacrifice_date': '17.01.2024', 'proj_type': 'Thal', 'filename': 'MiceLCProj.csv'}\n",
      "THAL02 has been ingested.\n",
      "Everything is fine.\n",
      "{'mouse_name': 'THAL04', 'responsible_experimenter': 'Georgios Foustoukos', 'pyrat_id': 25537, 'genotype': 'C57BL/6J', 'gender': 'f', 'birth_date': '25.10.2023', 'licence': '2401.4', 'dg': 2, 'start_date': '24.02.2024', 'age': 13, 'sacrifice_date': '11.03.2024', 'proj_type': 'Thal', 'filename': 'MiceLCProj.csv'}\n",
      "THAL04 has been ingested.\n",
      "Everything is fine.\n",
      "{'mouse_name': 'THAL06', 'responsible_experimenter': 'Georgios Foustoukos', 'pyrat_id': 25964, 'genotype': 'C57BL/6J', 'gender': 'm', 'birth_date': '14.01.2024', 'licence': '3947a', 'dg': 2, 'start_date': '15.04.2024', 'age': 12, 'sacrifice_date': 'Ongoing', 'proj_type': 'Thal', 'filename': 'MiceLCProj.csv'}\n",
      "THAL06 has been ingested.\n"
     ]
    },
    {
     "name": "stderr",
     "output_type": "stream",
     "text": [
      " 45%|█████████████████████▊                          | 5/11 [00:00<00:00, 45.64it/s]"
     ]
    },
    {
     "name": "stdout",
     "output_type": "stream",
     "text": [
      "This is a mouse from the LC and fiber photometry data with projection neurons!\n",
      "----------Mouse: AMYG01----------\n",
      "Loading sessions for mouse: AMYG01\n",
      "This is a mouse from the LC and fiber photometry data with projection neurons!\n",
      "----------Mouse: AMYG02----------\n",
      "Loading sessions for mouse: AMYG02\n",
      "This is a mouse from the LC and fiber photometry data with projection neurons!\n",
      "----------Mouse: MHIP03----------\n",
      "Loading sessions for mouse: MHIP03\n",
      "This is a mouse from the LC and fiber photometry data with projection neurons!\n",
      "----------Mouse: MHIP05----------\n",
      "Loading sessions for mouse: MHIP05\n",
      "This is a mouse from the LC and fiber photometry data with projection neurons!\n",
      "----------Mouse: MHIP06----------\n",
      "Loading sessions for mouse: MHIP06\n",
      "This is a mouse from the LC and fiber photometry data with projection neurons!\n",
      "----------Mouse: MPC05----------\n",
      "Loading sessions for mouse: MPC05\n",
      "This is a mouse from the LC and fiber photometry data with projection neurons!\n",
      "----------Mouse: MPC06----------\n",
      "Loading sessions for mouse: MPC06\n",
      "This is a mouse from the LC and fiber photometry data with projection neurons!\n",
      "----------Mouse: THAL01----------\n",
      "Loading sessions for mouse: THAL01\n",
      "This is a mouse from the LC and fiber photometry data with projection neurons!\n",
      "----------Mouse: THAL02----------\n",
      "Loading sessions for mouse: THAL02\n"
     ]
    },
    {
     "name": "stderr",
     "output_type": "stream",
     "text": [
      "100%|███████████████████████████████████████████████| 11/11 [00:00<00:00, 55.31it/s]"
     ]
    },
    {
     "name": "stdout",
     "output_type": "stream",
     "text": [
      "This is a mouse from the LC and fiber photometry data with projection neurons!\n",
      "----------Mouse: THAL04----------\n",
      "Loading sessions for mouse: THAL04\n",
      "This is a mouse from the LC and fiber photometry data with projection neurons!\n",
      "----------Mouse: THAL06----------\n",
      "Loading sessions for mouse: THAL06\n"
     ]
    },
    {
     "name": "stderr",
     "output_type": "stream",
     "text": [
      "\n",
      "WARNING:root:Variable \"/states\" was specified to be loaded but could not be found.\n"
     ]
    },
    {
     "name": "stdout",
     "output_type": "stream",
     "text": [
      "Inserting the hypogram of mouse: MHIP06 for session: 2024-04-17\n",
      "\\\\nasdcsr.unil.ch\\RECHERCHE\\FAC\\FBM\\DNF\\aluthi1\\fbm_move\\D2c\\_PROJECTS\\PROJECT_Georgios\\LC_Proj_Neurons\\Ephys\\MHIP06\\240417_MHIP06_bt.mat contains the following vars:\n",
      "  #refs#\n",
      "  Infos\n",
      "  Infos/Configuration\n",
      "  Infos/Configuration/A1\n",
      "  Infos/Configuration/A2\n",
      "  Infos/FileLen\n",
      "  Infos/Fs\n",
      "  Infos/OriginalName\n",
      "  Infos/RecordingDate\n",
      "  b\n",
      "  bTrans\n",
      "  dff\n",
      "  traceName\n",
      "  traces\n",
      "--This file is scored\n",
      "Inserting the DFF of mouse: MHIP06 for session: 2024-04-17\n",
      "Computing mouse: MHIP06 for session: 2024-04-17\n",
      "Computing the mean DFF for every sleep state during the baseline recordings for the first 3 hours\n",
      "Computing mouse: MHIP06 for session: 2024-04-17\n",
      "Computing the mean DFF for every sleep state during the baseline recordings for the first 6 hours\n"
     ]
    }
   ],
   "source": [
    "lcProj.Person.insert1(['GF','gfoustou','Georgios Foustoukos'],skip_duplicates = True)\n",
    "lcProj.WindowCalculationDFFStates.insert([[3],[6]],skip_duplicates = True)\n",
    "lcProj.Rig.insert([['Neurobau1.26','Neurobau1 room 26'],['Neurobau1.32','Neurobau1 room 32']],skip_duplicates = True)\n",
    "inject_mice_csv_batch()\n",
    "inject_sessions()\n",
    "lcProj.Hypnogram.populate()\n",
    "lcProj.FibDFF.populate()\n",
    "lcProj.DFFSleepStates.populate()"
   ]
  },
  {
   "cell_type": "code",
   "execution_count": null,
   "id": "0ac2bf23-0cd8-42b1-a159-a1c0aeb5b591",
   "metadata": {},
   "outputs": [],
   "source": []
  }
 ],
 "metadata": {
  "kernelspec": {
   "display_name": "Python 3 (ipykernel)",
   "language": "python",
   "name": "python3"
  },
  "language_info": {
   "codemirror_mode": {
    "name": "ipython",
    "version": 3
   },
   "file_extension": ".py",
   "mimetype": "text/x-python",
   "name": "python",
   "nbconvert_exporter": "python",
   "pygments_lexer": "ipython3",
   "version": "3.9.18"
  },
  "toc-autonumbering": true,
  "toc-showcode": true
 },
 "nbformat": 4,
 "nbformat_minor": 5
}
