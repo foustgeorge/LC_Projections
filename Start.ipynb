{
 "cells": [
  {
   "cell_type": "code",
   "execution_count": 1,
   "id": "9a400240-b128-43e0-9ee7-94862b8f5a6a",
   "metadata": {},
   "outputs": [
    {
     "name": "stderr",
     "output_type": "stream",
     "text": [
      "[2023-10-11 15:00:40,114][INFO]: Connecting root@130.223.197.5:3305\n",
      "[2023-10-11 15:00:40,161][INFO]: Connected root@130.223.197.5:3305\n"
     ]
    }
   ],
   "source": [
    "import datajoint as dj\n",
    "\n",
    "import numpy as np\n",
    "dj.config[\"enable_python_native_blobs\"] = True\n",
    "dj.config['database.host'] = '130.223.197.5:3305' \n",
    "#dj.config['database.host'] = '127.0.0.1:3305' \n",
    "dj.config['database.user'] = 'root'\n",
    "dj.config['database.password'] = 'dbD9pzum@RifRaf'\n",
    "ConnMessage=dj.conn()\n",
    "\n",
    "import matplotlib.pyplot as plt\n",
    "from numpy.lib.stride_tricks import sliding_window_view\n",
    "from Schema import lcProj\n",
    "from Schema.mouse_inject_lc_proj import inject_mice_csv_batch, inject_sessions\n",
    "all_schemas=dj.list_schemas()"
   ]
  },
  {
   "cell_type": "code",
   "execution_count": 2,
   "id": "657d3d77-4c4c-4fba-83a6-b0ea991bac1d",
   "metadata": {},
   "outputs": [
    {
     "data": {
      "text/html": [
       "\n",
       "    \n",
       "    <style type=\"text/css\">\n",
       "        .Relation{\n",
       "            border-collapse:collapse;\n",
       "        }\n",
       "        .Relation th{\n",
       "            background: #A0A0A0; color: #ffffff; padding:4px; border:#f0e0e0 1px solid;\n",
       "            font-weight: normal; font-family: monospace; font-size: 100%;\n",
       "        }\n",
       "        .Relation td{\n",
       "            padding:4px; border:#f0e0e0 1px solid; font-size:100%;\n",
       "        }\n",
       "        .Relation tr:nth-child(odd){\n",
       "            background: #ffffff;\n",
       "        }\n",
       "        .Relation tr:nth-child(even){\n",
       "            background: #f3f1ff;\n",
       "        }\n",
       "        /* Tooltip container */\n",
       "        .djtooltip {\n",
       "        }\n",
       "        /* Tooltip text */\n",
       "        .djtooltip .djtooltiptext {\n",
       "            visibility: hidden;\n",
       "            width: 120px;\n",
       "            background-color: black;\n",
       "            color: #fff;\n",
       "            text-align: center;\n",
       "            padding: 5px 0;\n",
       "            border-radius: 6px;\n",
       "            /* Position the tooltip text - see examples below! */\n",
       "            position: absolute;\n",
       "            z-index: 1;\n",
       "        }\n",
       "        #primary {\n",
       "            font-weight: bold;\n",
       "            color: black;\n",
       "        }\n",
       "        #nonprimary {\n",
       "            font-weight: normal;\n",
       "            color: white;\n",
       "        }\n",
       "\n",
       "        /* Show the tooltip text when you mouse over the tooltip container */\n",
       "        .djtooltip:hover .djtooltiptext {\n",
       "            visibility: visible;\n",
       "        }\n",
       "    </style>\n",
       "    \n",
       "    <b>Experimental of baseline fiber photometry</b>\n",
       "        <div style=\"max-height:1000px;max-width:1500px;overflow:auto;\">\n",
       "        <table border=\"1\" class=\"Relation\">\n",
       "            <thead> <tr style=\"text-align: right;\"> <th> <div class=\"djtooltip\">\n",
       "                            <p id=\"primary\">mouse_name</p>\n",
       "                            <span class=\"djtooltiptext\">unique mouse name</span>\n",
       "                        </div></th><th><div class=\"djtooltip\">\n",
       "                            <p id=\"primary\">session_date</p>\n",
       "                            <span class=\"djtooltiptext\"></span>\n",
       "                        </div></th><th><div class=\"djtooltip\">\n",
       "                            <p id=\"primary\">session_time</p>\n",
       "                            <span class=\"djtooltiptext\"></span>\n",
       "                        </div></th><th><div class=\"djtooltip\">\n",
       "                            <p id=\"nonprimary\">session_type</p>\n",
       "                            <span class=\"djtooltiptext\"></span>\n",
       "                        </div></th><th><div class=\"djtooltip\">\n",
       "                            <p id=\"nonprimary\">baseline_duration</p>\n",
       "                            <span class=\"djtooltiptext\"></span>\n",
       "                        </div> </th> </tr> </thead>\n",
       "            <tbody> <tr> <td>MHIP03</td>\n",
       "<td>2023-08-21</td>\n",
       "<td>08:49:43</td>\n",
       "<td>Baseline Session</td>\n",
       "<td>12h</td></tr><tr><td>MHIP03</td>\n",
       "<td>2023-08-23</td>\n",
       "<td>08:46:52</td>\n",
       "<td>Baseline Session</td>\n",
       "<td>12h</td></tr><tr><td>MPC05</td>\n",
       "<td>2023-08-07</td>\n",
       "<td>09:03:09</td>\n",
       "<td>Baseline Session</td>\n",
       "<td>12h</td></tr><tr><td>MPC05</td>\n",
       "<td>2023-08-16</td>\n",
       "<td>09:07:43</td>\n",
       "<td>Baseline Session</td>\n",
       "<td>12h</td></tr><tr><td>THAL01</td>\n",
       "<td>2023-08-11</td>\n",
       "<td>08:26:59</td>\n",
       "<td>Baseline Session</td>\n",
       "<td>12h</td></tr><tr><td>THAL01</td>\n",
       "<td>2023-08-18</td>\n",
       "<td>08:34:51</td>\n",
       "<td>Baseline Session</td>\n",
       "<td>12h</td> </tr> </tbody>\n",
       "        </table>\n",
       "        \n",
       "        <p>Total: 6</p></div>\n",
       "        "
      ],
      "text/plain": [
       "*mouse_name    *session_date  *session_time  session_type   baseline_durat\n",
       "+------------+ +------------+ +------------+ +------------+ +------------+\n",
       "MHIP03         2023-08-21     08:49:43       Baseline Sessi 12h           \n",
       "MHIP03         2023-08-23     08:46:52       Baseline Sessi 12h           \n",
       "MPC05          2023-08-07     09:03:09       Baseline Sessi 12h           \n",
       "MPC05          2023-08-16     09:07:43       Baseline Sessi 12h           \n",
       "THAL01         2023-08-11     08:26:59       Baseline Sessi 12h           \n",
       "THAL01         2023-08-18     08:34:51       Baseline Sessi 12h           \n",
       " (Total: 6)"
      ]
     },
     "execution_count": 2,
     "metadata": {},
     "output_type": "execute_result"
    }
   ],
   "source": [
    "lcProj.BaselineSession()"
   ]
  },
  {
   "cell_type": "code",
   "execution_count": 2,
   "id": "38801456-f95d-441e-9790-e47f492880c6",
   "metadata": {},
   "outputs": [],
   "source": [
    "bfile = (lcProj.Hypnogram & 'mouse_name = \"MHIP03\"' & 'session_date = \"2023-08-21\"').fetch1('bfile')\n",
    "dff= (lcProj.FibDFF & 'mouse_name = \"MHIP03\"' & 'session_date = \"2023-08-21\"').fetch1('dff')"
   ]
  },
  {
   "cell_type": "code",
   "execution_count": 25,
   "id": "8ba77202-1f31-4bb4-bf8c-356ab62ffa7e",
   "metadata": {},
   "outputs": [],
   "source": [
    "import re\n",
    "\n",
    "bfileDFFMatched= ''\n",
    "\n",
    "for i, b in enumerate(bfile):\n",
    "\n",
    "    bfileDFFMatched = bfileDFFMatched + b*4*10\n",
    " \n",
    "REMbouts = re.finditer('[r3]{120,}',bfileDFFMatched)\n",
    "REMSpans = []\n",
    "\n",
    "for idx, trans in enumerate(REMbouts):\n",
    "\n",
    "    Beg = list(trans.span())[0]\n",
    "    End = list(trans.span())[1]    \n",
    "    REMSpans.append([Beg,End])\n",
    "\n",
    "dffZScored = ((dff - np.mean(dff))/np.std(dff))[0:-12]"
   ]
  },
  {
   "cell_type": "code",
   "execution_count": 11,
   "id": "511fae29-cf61-4298-b645-e4d21165b355",
   "metadata": {},
   "outputs": [
    {
     "data": {
      "text/plain": [
       "array([[6, 7, 8],\n",
       "       [7, 8, 6]])"
      ]
     },
     "execution_count": 11,
     "metadata": {},
     "output_type": "execute_result"
    }
   ],
   "source": [
    " A =[[1, 2, 3,], [2,3,1]]\n",
    "\n",
    "B = np.array([5,6,7,8])\n",
    "\n",
    "B[A]\n"
   ]
  },
  {
   "cell_type": "code",
   "execution_count": 28,
   "id": "df422a11-a8cf-4763-9954-fc8573c87e26",
   "metadata": {},
   "outputs": [],
   "source": [
    "import re\n",
    "bKeep = 'wwwwrrrrrnnnnrrrrwwwwnnnnnrrrrr'\n",
    "\n",
    "REMbouts = re.finditer('[r3]{4,}',bKeep)\n",
    "REMSpans = []\n",
    "\n",
    "for idx, trans in enumerate(REMbouts):\n",
    "    Beg = list(trans.span())[0]\n",
    "    End = list(trans.span())[1]\n",
    "    REMSpans.append(list(range(Beg,End)))\n",
    "\n",
    "\n",
    "NREMbouts = re.finditer('[n2]{4,}',bKeep)\n",
    "NREMSpans = []\n",
    "\n",
    "for idx, trans in enumerate(NREMbouts):\n",
    "    Beg = list(trans.span())[0]\n",
    "    End = list(trans.span())[1]\n",
    "    NREMSpans.append(list(range(Beg,End)))\n",
    "\n",
    "Wakebouts = re.finditer('[w1]{4,}',bKeep)\n",
    "WakeSpans = []\n",
    "\n",
    "for idx, trans in enumerate(Wakebouts):\n",
    "    Beg = list(trans.span())[0]\n",
    "    End = list(trans.span())[1]\n",
    "    WakeSpans.append(list(range(Beg,End)))\n",
    "\n"
   ]
  },
  {
   "cell_type": "code",
   "execution_count": 29,
   "id": "d153bb83-e112-4aa7-a40f-4f45565bf308",
   "metadata": {},
   "outputs": [
    {
     "name": "stdout",
     "output_type": "stream",
     "text": [
      "[[4, 5, 6, 7, 8], [13, 14, 15, 16], [26, 27, 28, 29, 30]]\n",
      "[[9, 10, 11, 12], [21, 22, 23, 24, 25]]\n",
      "[[0, 1, 2, 3], [17, 18, 19, 20]]\n"
     ]
    }
   ],
   "source": [
    " print(REMSpans)\n",
    " print(NREMSpans)\n",
    " print(WakeSpans)\n"
   ]
  },
  {
   "cell_type": "code",
   "execution_count": 35,
   "id": "5c01fe5e-5dc8-4256-85bc-dab1a01a74c5",
   "metadata": {},
   "outputs": [],
   "source": [
    "B = np.array([1,1,1,1,3,3,3,3,3,2,2,2,3,3,3,3,2,2,2,2,3,3,3,3])"
   ]
  },
  {
   "cell_type": "code",
   "execution_count": 37,
   "id": "9c806aab-b2a8-4697-bb6a-b87b6bfec287",
   "metadata": {},
   "outputs": [
    {
     "ename": "ValueError",
     "evalue": "setting an array element with a sequence. The requested array has an inhomogeneous shape after 1 dimensions. The detected shape was (3,) + inhomogeneous part.",
     "output_type": "error",
     "traceback": [
      "\u001b[1;31m---------------------------------------------------------------------------\u001b[0m",
      "\u001b[1;31mValueError\u001b[0m                                Traceback (most recent call last)",
      "Cell \u001b[1;32mIn[37], line 1\u001b[0m\n\u001b[1;32m----> 1\u001b[0m \u001b[43mnp\u001b[49m\u001b[38;5;241;43m.\u001b[39;49m\u001b[43mtake\u001b[49m\u001b[43m(\u001b[49m\u001b[43mB\u001b[49m\u001b[43m,\u001b[49m\u001b[43mREMSpans\u001b[49m\u001b[43m)\u001b[49m\n",
      "File \u001b[1;32m<__array_function__ internals>:200\u001b[0m, in \u001b[0;36mtake\u001b[1;34m(*args, **kwargs)\u001b[0m\n",
      "File \u001b[1;32mC:\\ProgramData\\Anaconda3\\lib\\site-packages\\numpy\\core\\fromnumeric.py:190\u001b[0m, in \u001b[0;36mtake\u001b[1;34m(a, indices, axis, out, mode)\u001b[0m\n\u001b[0;32m     93\u001b[0m \u001b[38;5;129m@array_function_dispatch\u001b[39m(_take_dispatcher)\n\u001b[0;32m     94\u001b[0m \u001b[38;5;28;01mdef\u001b[39;00m \u001b[38;5;21mtake\u001b[39m(a, indices, axis\u001b[38;5;241m=\u001b[39m\u001b[38;5;28;01mNone\u001b[39;00m, out\u001b[38;5;241m=\u001b[39m\u001b[38;5;28;01mNone\u001b[39;00m, mode\u001b[38;5;241m=\u001b[39m\u001b[38;5;124m'\u001b[39m\u001b[38;5;124mraise\u001b[39m\u001b[38;5;124m'\u001b[39m):\n\u001b[0;32m     95\u001b[0m \u001b[38;5;250m    \u001b[39m\u001b[38;5;124;03m\"\"\"\u001b[39;00m\n\u001b[0;32m     96\u001b[0m \u001b[38;5;124;03m    Take elements from an array along an axis.\u001b[39;00m\n\u001b[0;32m     97\u001b[0m \n\u001b[1;32m   (...)\u001b[0m\n\u001b[0;32m    188\u001b[0m \u001b[38;5;124;03m           [5, 7]])\u001b[39;00m\n\u001b[0;32m    189\u001b[0m \u001b[38;5;124;03m    \"\"\"\u001b[39;00m\n\u001b[1;32m--> 190\u001b[0m     \u001b[38;5;28;01mreturn\u001b[39;00m \u001b[43m_wrapfunc\u001b[49m\u001b[43m(\u001b[49m\u001b[43ma\u001b[49m\u001b[43m,\u001b[49m\u001b[43m \u001b[49m\u001b[38;5;124;43m'\u001b[39;49m\u001b[38;5;124;43mtake\u001b[39;49m\u001b[38;5;124;43m'\u001b[39;49m\u001b[43m,\u001b[49m\u001b[43m \u001b[49m\u001b[43mindices\u001b[49m\u001b[43m,\u001b[49m\u001b[43m \u001b[49m\u001b[43maxis\u001b[49m\u001b[38;5;241;43m=\u001b[39;49m\u001b[43maxis\u001b[49m\u001b[43m,\u001b[49m\u001b[43m \u001b[49m\u001b[43mout\u001b[49m\u001b[38;5;241;43m=\u001b[39;49m\u001b[43mout\u001b[49m\u001b[43m,\u001b[49m\u001b[43m \u001b[49m\u001b[43mmode\u001b[49m\u001b[38;5;241;43m=\u001b[39;49m\u001b[43mmode\u001b[49m\u001b[43m)\u001b[49m\n",
      "File \u001b[1;32mC:\\ProgramData\\Anaconda3\\lib\\site-packages\\numpy\\core\\fromnumeric.py:54\u001b[0m, in \u001b[0;36m_wrapfunc\u001b[1;34m(obj, method, *args, **kwds)\u001b[0m\n\u001b[0;32m     52\u001b[0m bound \u001b[38;5;241m=\u001b[39m \u001b[38;5;28mgetattr\u001b[39m(obj, method, \u001b[38;5;28;01mNone\u001b[39;00m)\n\u001b[0;32m     53\u001b[0m \u001b[38;5;28;01mif\u001b[39;00m bound \u001b[38;5;129;01mis\u001b[39;00m \u001b[38;5;28;01mNone\u001b[39;00m:\n\u001b[1;32m---> 54\u001b[0m     \u001b[38;5;28;01mreturn\u001b[39;00m _wrapit(obj, method, \u001b[38;5;241m*\u001b[39margs, \u001b[38;5;241m*\u001b[39m\u001b[38;5;241m*\u001b[39mkwds)\n\u001b[0;32m     56\u001b[0m \u001b[38;5;28;01mtry\u001b[39;00m:\n\u001b[0;32m     57\u001b[0m     \u001b[38;5;28;01mreturn\u001b[39;00m bound(\u001b[38;5;241m*\u001b[39margs, \u001b[38;5;241m*\u001b[39m\u001b[38;5;241m*\u001b[39mkwds)\n",
      "File \u001b[1;32mC:\\ProgramData\\Anaconda3\\lib\\site-packages\\numpy\\core\\fromnumeric.py:43\u001b[0m, in \u001b[0;36m_wrapit\u001b[1;34m(obj, method, *args, **kwds)\u001b[0m\n\u001b[0;32m     41\u001b[0m \u001b[38;5;28;01mexcept\u001b[39;00m \u001b[38;5;167;01mAttributeError\u001b[39;00m:\n\u001b[0;32m     42\u001b[0m     wrap \u001b[38;5;241m=\u001b[39m \u001b[38;5;28;01mNone\u001b[39;00m\n\u001b[1;32m---> 43\u001b[0m result \u001b[38;5;241m=\u001b[39m \u001b[38;5;28mgetattr\u001b[39m(asarray(obj), method)(\u001b[38;5;241m*\u001b[39margs, \u001b[38;5;241m*\u001b[39m\u001b[38;5;241m*\u001b[39mkwds)\n\u001b[0;32m     44\u001b[0m \u001b[38;5;28;01mif\u001b[39;00m wrap:\n\u001b[0;32m     45\u001b[0m     \u001b[38;5;28;01mif\u001b[39;00m \u001b[38;5;129;01mnot\u001b[39;00m \u001b[38;5;28misinstance\u001b[39m(result, mu\u001b[38;5;241m.\u001b[39mndarray):\n",
      "\u001b[1;31mValueError\u001b[0m: setting an array element with a sequence. The requested array has an inhomogeneous shape after 1 dimensions. The detected shape was (3,) + inhomogeneous part."
     ]
    }
   ],
   "source": [
    "np.take(B,REMSpans)"
   ]
  },
  {
   "cell_type": "code",
   "execution_count": 23,
   "id": "4fae8019-4149-42e0-b75e-728062a2d335",
   "metadata": {},
   "outputs": [
    {
     "data": {
      "text/plain": [
       "array([[3, 3, 3, 3, 3]])"
      ]
     },
     "execution_count": 23,
     "metadata": {},
     "output_type": "execute_result"
    }
   ],
   "source": [
    "B[REMSpans]"
   ]
  },
  {
   "cell_type": "code",
   "execution_count": 2,
   "id": "abebe49b-659f-42b1-9d18-97a8386261b8",
   "metadata": {},
   "outputs": [
    {
     "data": {
      "text/html": [
       "\n",
       "    \n",
       "    <style type=\"text/css\">\n",
       "        .Relation{\n",
       "            border-collapse:collapse;\n",
       "        }\n",
       "        .Relation th{\n",
       "            background: #A0A0A0; color: #ffffff; padding:4px; border:#f0e0e0 1px solid;\n",
       "            font-weight: normal; font-family: monospace; font-size: 100%;\n",
       "        }\n",
       "        .Relation td{\n",
       "            padding:4px; border:#f0e0e0 1px solid; font-size:100%;\n",
       "        }\n",
       "        .Relation tr:nth-child(odd){\n",
       "            background: #ffffff;\n",
       "        }\n",
       "        .Relation tr:nth-child(even){\n",
       "            background: #f3f1ff;\n",
       "        }\n",
       "        /* Tooltip container */\n",
       "        .djtooltip {\n",
       "        }\n",
       "        /* Tooltip text */\n",
       "        .djtooltip .djtooltiptext {\n",
       "            visibility: hidden;\n",
       "            width: 120px;\n",
       "            background-color: black;\n",
       "            color: #fff;\n",
       "            text-align: center;\n",
       "            padding: 5px 0;\n",
       "            border-radius: 6px;\n",
       "            /* Position the tooltip text - see examples below! */\n",
       "            position: absolute;\n",
       "            z-index: 1;\n",
       "        }\n",
       "        #primary {\n",
       "            font-weight: bold;\n",
       "            color: black;\n",
       "        }\n",
       "        #nonprimary {\n",
       "            font-weight: normal;\n",
       "            color: white;\n",
       "        }\n",
       "\n",
       "        /* Show the tooltip text when you mouse over the tooltip container */\n",
       "        .djtooltip:hover .djtooltiptext {\n",
       "            visibility: visible;\n",
       "        }\n",
       "    </style>\n",
       "    \n",
       "    <b>Insertion of the hypnograms in the datajoint from the scored files</b>\n",
       "        <div style=\"max-height:1000px;max-width:1500px;overflow:auto;\">\n",
       "        <table border=\"1\" class=\"Relation\">\n",
       "            <thead> <tr style=\"text-align: right;\"> <th> <div class=\"djtooltip\">\n",
       "                            <p id=\"primary\">mouse_name</p>\n",
       "                            <span class=\"djtooltiptext\">unique mouse name</span>\n",
       "                        </div></th><th><div class=\"djtooltip\">\n",
       "                            <p id=\"primary\">session_date</p>\n",
       "                            <span class=\"djtooltiptext\"></span>\n",
       "                        </div></th><th><div class=\"djtooltip\">\n",
       "                            <p id=\"primary\">session_time</p>\n",
       "                            <span class=\"djtooltiptext\"></span>\n",
       "                        </div></th><th><div class=\"djtooltip\">\n",
       "                            <p id=\"nonprimary\">hypnos_states</p>\n",
       "                            <span class=\"djtooltiptext\"></span>\n",
       "                        </div></th><th><div class=\"djtooltip\">\n",
       "                            <p id=\"nonprimary\">hypnos_states_to_plot</p>\n",
       "                            <span class=\"djtooltiptext\"></span>\n",
       "                        </div></th><th><div class=\"djtooltip\">\n",
       "                            <p id=\"nonprimary\">bfile</p>\n",
       "                            <span class=\"djtooltiptext\"></span>\n",
       "                        </div></th><th><div class=\"djtooltip\">\n",
       "                            <p id=\"nonprimary\">bfile_to_plot</p>\n",
       "                            <span class=\"djtooltiptext\"></span>\n",
       "                        </div> </th> </tr> </thead>\n",
       "            <tbody> <tr> <td>MHIP03</td>\n",
       "<td>2023-08-21</td>\n",
       "<td>08:49:43</td>\n",
       "<td>=BLOB=</td>\n",
       "<td>=BLOB=</td>\n",
       "<td>=BLOB=</td>\n",
       "<td>=BLOB=</td></tr><tr><td>MHIP03</td>\n",
       "<td>2023-08-23</td>\n",
       "<td>08:46:52</td>\n",
       "<td>=BLOB=</td>\n",
       "<td>=BLOB=</td>\n",
       "<td>=BLOB=</td>\n",
       "<td>=BLOB=</td></tr><tr><td>MHIP03</td>\n",
       "<td>2023-10-04</td>\n",
       "<td>09:12:44</td>\n",
       "<td>=BLOB=</td>\n",
       "<td>=BLOB=</td>\n",
       "<td>=BLOB=</td>\n",
       "<td>=BLOB=</td></tr><tr><td>MPC05</td>\n",
       "<td>2023-08-07</td>\n",
       "<td>09:03:09</td>\n",
       "<td>=BLOB=</td>\n",
       "<td>=BLOB=</td>\n",
       "<td>=BLOB=</td>\n",
       "<td>=BLOB=</td></tr><tr><td>MPC05</td>\n",
       "<td>2023-08-16</td>\n",
       "<td>09:07:43</td>\n",
       "<td>=BLOB=</td>\n",
       "<td>=BLOB=</td>\n",
       "<td>=BLOB=</td>\n",
       "<td>=BLOB=</td></tr><tr><td>THAL01</td>\n",
       "<td>2023-08-11</td>\n",
       "<td>08:26:59</td>\n",
       "<td>=BLOB=</td>\n",
       "<td>=BLOB=</td>\n",
       "<td>=BLOB=</td>\n",
       "<td>=BLOB=</td></tr><tr><td>THAL01</td>\n",
       "<td>2023-08-18</td>\n",
       "<td>08:34:51</td>\n",
       "<td>=BLOB=</td>\n",
       "<td>=BLOB=</td>\n",
       "<td>=BLOB=</td>\n",
       "<td>=BLOB=</td></tr><tr><td>THAL01</td>\n",
       "<td>2023-10-04</td>\n",
       "<td>09:12:44</td>\n",
       "<td>=BLOB=</td>\n",
       "<td>=BLOB=</td>\n",
       "<td>=BLOB=</td>\n",
       "<td>=BLOB=</td> </tr> </tbody>\n",
       "        </table>\n",
       "        \n",
       "        <p>Total: 8</p></div>\n",
       "        "
      ],
      "text/plain": [
       "*mouse_name    *session_date  *session_time  hypnos_sta hypnos_sta bfile      bfile_to_p\n",
       "+------------+ +------------+ +------------+ +--------+ +--------+ +--------+ +--------+\n",
       "MHIP03         2023-08-21     08:49:43       =BLOB=     =BLOB=     =BLOB=     =BLOB=    \n",
       "MHIP03         2023-08-23     08:46:52       =BLOB=     =BLOB=     =BLOB=     =BLOB=    \n",
       "MHIP03         2023-10-04     09:12:44       =BLOB=     =BLOB=     =BLOB=     =BLOB=    \n",
       "MPC05          2023-08-07     09:03:09       =BLOB=     =BLOB=     =BLOB=     =BLOB=    \n",
       "MPC05          2023-08-16     09:07:43       =BLOB=     =BLOB=     =BLOB=     =BLOB=    \n",
       "THAL01         2023-08-11     08:26:59       =BLOB=     =BLOB=     =BLOB=     =BLOB=    \n",
       "THAL01         2023-08-18     08:34:51       =BLOB=     =BLOB=     =BLOB=     =BLOB=    \n",
       "THAL01         2023-10-04     09:12:44       =BLOB=     =BLOB=     =BLOB=     =BLOB=    \n",
       " (Total: 8)"
      ]
     },
     "execution_count": 2,
     "metadata": {},
     "output_type": "execute_result"
    }
   ],
   "source": [
    "TransTOanalyse = re.finditer('[r3]{120,}',bfileNETimes)\n",
    "TransSpans = []"
   ]
  }
 ],
 "metadata": {
  "kernelspec": {
   "display_name": "Python 3 (ipykernel)",
   "language": "python",
   "name": "python3"
  },
  "language_info": {
   "codemirror_mode": {
    "name": "ipython",
    "version": 3
   },
   "file_extension": ".py",
   "mimetype": "text/x-python",
   "name": "python",
   "nbconvert_exporter": "python",
   "pygments_lexer": "ipython3",
   "version": "3.9.18"
  }
 },
 "nbformat": 4,
 "nbformat_minor": 5
}
